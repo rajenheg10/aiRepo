{
  "cells": [
    {
      "cell_type": "markdown",
      "metadata": {
        "id": "view-in-github",
        "colab_type": "text"
      },
      "source": [
        "<a href=\"https://colab.research.google.com/github/rajenheg10/aiRepo/blob/main/stock_prediction.ipynb\" target=\"_parent\"><img src=\"https://colab.research.google.com/assets/colab-badge.svg\" alt=\"Open In Colab\"/></a>"
      ]
    },
    {
      "source": [
        "# IMPORTANT: RUN THIS CELL IN ORDER TO IMPORT YOUR KAGGLE DATA SOURCES,\n",
        "# THEN FEEL FREE TO DELETE THIS CELL.\n",
        "# NOTE: THIS NOTEBOOK ENVIRONMENT DIFFERS FROM KAGGLE'S PYTHON\n",
        "# ENVIRONMENT SO THERE MAY BE MISSING LIBRARIES USED BY YOUR\n",
        "# NOTEBOOK.\n",
        "import kagglehub\n",
        "shreenidhihipparagi_google_stock_prediction_path = kagglehub.dataset_download('shreenidhihipparagi/google-stock-prediction')\n",
        "thebendu_stock_predictor_keras_default_1_path = kagglehub.model_download('thebendu/stock-predictor/Keras/default/1')\n",
        "\n",
        "print('Data source import complete.')\n"
      ],
      "metadata": {
        "id": "4usupgZQAdAQ",
        "outputId": "b23c1232-7c74-4d05-c574-312649ab9bf2",
        "colab": {
          "base_uri": "https://localhost:8080/",
          "height": 188,
          "referenced_widgets": [
            "6dcbcfa63be94dd5bd8523d711f6ba2c",
            "afd8cf0f86da41cda2348426befe7296",
            "150c01f0c11b47a2a91985092e79457a",
            "702416f39be8476e84d9cfacb981e8b7",
            "7f5cf1a47a064f2f847546bd82ec913e",
            "29a06679755843e3bfbfc473c054ffc3",
            "e87b5e3625f345ff9d730f18f4138460",
            "2c7f5513981c4e9fa7913bb1b43f683c",
            "503a7fe1fc4a4803ab8dbaaf3ab2283a",
            "cfd24e2ae3be4e1f82bd8f1bf8570d6c",
            "9a7a44106a78470b9da57bb34e703263"
          ]
        }
      },
      "cell_type": "code",
      "outputs": [
        {
          "output_type": "stream",
          "name": "stdout",
          "text": [
            "Downloading from https://www.kaggle.com/api/v1/datasets/download/shreenidhihipparagi/google-stock-prediction?dataset_version_number=2...\n"
          ]
        },
        {
          "output_type": "stream",
          "name": "stderr",
          "text": [
            "100%|██████████| 29.3k/29.3k [00:00<00:00, 19.6MB/s]"
          ]
        },
        {
          "output_type": "stream",
          "name": "stdout",
          "text": [
            "Extracting files...\n"
          ]
        },
        {
          "output_type": "stream",
          "name": "stderr",
          "text": [
            "\n"
          ]
        },
        {
          "output_type": "display_data",
          "data": {
            "text/plain": [
              "Downloading 1 files:   0%|          | 0/1 [00:00<?, ?it/s]"
            ],
            "application/vnd.jupyter.widget-view+json": {
              "version_major": 2,
              "version_minor": 0,
              "model_id": "6dcbcfa63be94dd5bd8523d711f6ba2c"
            }
          },
          "metadata": {}
        },
        {
          "output_type": "stream",
          "name": "stdout",
          "text": [
            "Downloading from https://www.kaggle.com/api/v1/models/thebendu/stock-predictor/Keras/default/1/download/stock_pediction-49-0.00.weights.h5...\n"
          ]
        },
        {
          "output_type": "stream",
          "name": "stderr",
          "text": [
            "\n",
            "  0%|          | 0.00/999k [00:00<?, ?B/s]\u001b[A\n",
            "100%|██████████| 999k/999k [00:00<00:00, 2.48MB/s]"
          ]
        },
        {
          "output_type": "stream",
          "name": "stdout",
          "text": [
            "Data source import complete.\n"
          ]
        },
        {
          "output_type": "stream",
          "name": "stderr",
          "text": [
            "\n"
          ]
        }
      ],
      "execution_count": 1,
      "id": "4usupgZQAdAQ"
    },
    {
      "cell_type": "code",
      "execution_count": 2,
      "id": "95bdf0ec",
      "metadata": {
        "execution": {
          "iopub.execute_input": "2024-12-04T03:08:47.003871Z",
          "iopub.status.busy": "2024-12-04T03:08:47.003295Z",
          "iopub.status.idle": "2024-12-04T03:08:47.390108Z",
          "shell.execute_reply": "2024-12-04T03:08:47.389073Z"
        },
        "id": "95bdf0ec",
        "outputId": "67c03246-73f9-44be-e7a5-1d58da999e26",
        "papermill": {
          "duration": 0.407393,
          "end_time": "2024-12-04T03:08:47.392441",
          "exception": false,
          "start_time": "2024-12-04T03:08:46.985048",
          "status": "completed"
        },
        "tags": [],
        "colab": {
          "base_uri": "https://localhost:8080/"
        }
      },
      "outputs": [
        {
          "output_type": "stream",
          "name": "stdout",
          "text": [
            "Path to dataset files: /kaggle/input/google-stock-prediction\n"
          ]
        }
      ],
      "source": [
        "import kagglehub\n",
        "\n",
        "# Download latest version\n",
        "path = kagglehub.dataset_download(\"shreenidhihipparagi/google-stock-prediction\")\n",
        "print(\"Path to dataset files:\", path)"
      ]
    },
    {
      "cell_type": "code",
      "execution_count": 3,
      "id": "36144483",
      "metadata": {
        "execution": {
          "iopub.execute_input": "2024-12-04T03:08:47.422092Z",
          "iopub.status.busy": "2024-12-04T03:08:47.421042Z",
          "iopub.status.idle": "2024-12-04T03:08:49.922041Z",
          "shell.execute_reply": "2024-12-04T03:08:49.920898Z"
        },
        "id": "36144483",
        "papermill": {
          "duration": 2.518731,
          "end_time": "2024-12-04T03:08:49.924972",
          "exception": false,
          "start_time": "2024-12-04T03:08:47.406241",
          "status": "completed"
        },
        "tags": []
      },
      "outputs": [],
      "source": [
        "import pandas as pd\n",
        "import numpy as np\n",
        "import matplotlib.pyplot as plt\n",
        "import seaborn as sns"
      ]
    },
    {
      "cell_type": "code",
      "execution_count": 4,
      "id": "b069bb05",
      "metadata": {
        "execution": {
          "iopub.execute_input": "2024-12-04T03:08:49.954234Z",
          "iopub.status.busy": "2024-12-04T03:08:49.953662Z",
          "iopub.status.idle": "2024-12-04T03:08:50.003603Z",
          "shell.execute_reply": "2024-12-04T03:08:50.002293Z"
        },
        "id": "b069bb05",
        "outputId": "73ec6029-2c61-4d2f-e208-8879097e246c",
        "papermill": {
          "duration": 0.066953,
          "end_time": "2024-12-04T03:08:50.00596",
          "exception": false,
          "start_time": "2024-12-04T03:08:49.939007",
          "status": "completed"
        },
        "tags": [],
        "colab": {
          "base_uri": "https://localhost:8080/",
          "height": 313
        }
      },
      "outputs": [
        {
          "output_type": "execute_result",
          "data": {
            "text/plain": [
              "     symbol                       date    close      high        low     open  \\\n",
              "1253   GOOG  2021-06-07 00:00:00+00:00  2466.09  2468.000  2441.0725  2451.32   \n",
              "1254   GOOG  2021-06-08 00:00:00+00:00  2482.85  2494.495  2468.2400  2479.90   \n",
              "1255   GOOG  2021-06-09 00:00:00+00:00  2491.40  2505.000  2487.3300  2499.50   \n",
              "1256   GOOG  2021-06-10 00:00:00+00:00  2521.60  2523.260  2494.0000  2494.01   \n",
              "1257   GOOG  2021-06-11 00:00:00+00:00  2513.93  2526.990  2498.2900  2524.92   \n",
              "\n",
              "       volume  adjClose   adjHigh     adjLow  adjOpen  adjVolume  divCash  \\\n",
              "1253  1192453   2466.09  2468.000  2441.0725  2451.32    1192453      0.0   \n",
              "1254  1253253   2482.85  2494.495  2468.2400  2479.90    1253253      0.0   \n",
              "1255  1006337   2491.40  2505.000  2487.3300  2499.50    1006337      0.0   \n",
              "1256  1561733   2521.60  2523.260  2494.0000  2494.01    1561733      0.0   \n",
              "1257  1262309   2513.93  2526.990  2498.2900  2524.92    1262309      0.0   \n",
              "\n",
              "      splitFactor  \n",
              "1253          1.0  \n",
              "1254          1.0  \n",
              "1255          1.0  \n",
              "1256          1.0  \n",
              "1257          1.0  "
            ],
            "text/html": [
              "\n",
              "  <div id=\"df-ff3a1d82-f9b3-472e-bc43-21784298acfa\" class=\"colab-df-container\">\n",
              "    <div>\n",
              "<style scoped>\n",
              "    .dataframe tbody tr th:only-of-type {\n",
              "        vertical-align: middle;\n",
              "    }\n",
              "\n",
              "    .dataframe tbody tr th {\n",
              "        vertical-align: top;\n",
              "    }\n",
              "\n",
              "    .dataframe thead th {\n",
              "        text-align: right;\n",
              "    }\n",
              "</style>\n",
              "<table border=\"1\" class=\"dataframe\">\n",
              "  <thead>\n",
              "    <tr style=\"text-align: right;\">\n",
              "      <th></th>\n",
              "      <th>symbol</th>\n",
              "      <th>date</th>\n",
              "      <th>close</th>\n",
              "      <th>high</th>\n",
              "      <th>low</th>\n",
              "      <th>open</th>\n",
              "      <th>volume</th>\n",
              "      <th>adjClose</th>\n",
              "      <th>adjHigh</th>\n",
              "      <th>adjLow</th>\n",
              "      <th>adjOpen</th>\n",
              "      <th>adjVolume</th>\n",
              "      <th>divCash</th>\n",
              "      <th>splitFactor</th>\n",
              "    </tr>\n",
              "  </thead>\n",
              "  <tbody>\n",
              "    <tr>\n",
              "      <th>1253</th>\n",
              "      <td>GOOG</td>\n",
              "      <td>2021-06-07 00:00:00+00:00</td>\n",
              "      <td>2466.09</td>\n",
              "      <td>2468.000</td>\n",
              "      <td>2441.0725</td>\n",
              "      <td>2451.32</td>\n",
              "      <td>1192453</td>\n",
              "      <td>2466.09</td>\n",
              "      <td>2468.000</td>\n",
              "      <td>2441.0725</td>\n",
              "      <td>2451.32</td>\n",
              "      <td>1192453</td>\n",
              "      <td>0.0</td>\n",
              "      <td>1.0</td>\n",
              "    </tr>\n",
              "    <tr>\n",
              "      <th>1254</th>\n",
              "      <td>GOOG</td>\n",
              "      <td>2021-06-08 00:00:00+00:00</td>\n",
              "      <td>2482.85</td>\n",
              "      <td>2494.495</td>\n",
              "      <td>2468.2400</td>\n",
              "      <td>2479.90</td>\n",
              "      <td>1253253</td>\n",
              "      <td>2482.85</td>\n",
              "      <td>2494.495</td>\n",
              "      <td>2468.2400</td>\n",
              "      <td>2479.90</td>\n",
              "      <td>1253253</td>\n",
              "      <td>0.0</td>\n",
              "      <td>1.0</td>\n",
              "    </tr>\n",
              "    <tr>\n",
              "      <th>1255</th>\n",
              "      <td>GOOG</td>\n",
              "      <td>2021-06-09 00:00:00+00:00</td>\n",
              "      <td>2491.40</td>\n",
              "      <td>2505.000</td>\n",
              "      <td>2487.3300</td>\n",
              "      <td>2499.50</td>\n",
              "      <td>1006337</td>\n",
              "      <td>2491.40</td>\n",
              "      <td>2505.000</td>\n",
              "      <td>2487.3300</td>\n",
              "      <td>2499.50</td>\n",
              "      <td>1006337</td>\n",
              "      <td>0.0</td>\n",
              "      <td>1.0</td>\n",
              "    </tr>\n",
              "    <tr>\n",
              "      <th>1256</th>\n",
              "      <td>GOOG</td>\n",
              "      <td>2021-06-10 00:00:00+00:00</td>\n",
              "      <td>2521.60</td>\n",
              "      <td>2523.260</td>\n",
              "      <td>2494.0000</td>\n",
              "      <td>2494.01</td>\n",
              "      <td>1561733</td>\n",
              "      <td>2521.60</td>\n",
              "      <td>2523.260</td>\n",
              "      <td>2494.0000</td>\n",
              "      <td>2494.01</td>\n",
              "      <td>1561733</td>\n",
              "      <td>0.0</td>\n",
              "      <td>1.0</td>\n",
              "    </tr>\n",
              "    <tr>\n",
              "      <th>1257</th>\n",
              "      <td>GOOG</td>\n",
              "      <td>2021-06-11 00:00:00+00:00</td>\n",
              "      <td>2513.93</td>\n",
              "      <td>2526.990</td>\n",
              "      <td>2498.2900</td>\n",
              "      <td>2524.92</td>\n",
              "      <td>1262309</td>\n",
              "      <td>2513.93</td>\n",
              "      <td>2526.990</td>\n",
              "      <td>2498.2900</td>\n",
              "      <td>2524.92</td>\n",
              "      <td>1262309</td>\n",
              "      <td>0.0</td>\n",
              "      <td>1.0</td>\n",
              "    </tr>\n",
              "  </tbody>\n",
              "</table>\n",
              "</div>\n",
              "    <div class=\"colab-df-buttons\">\n",
              "\n",
              "  <div class=\"colab-df-container\">\n",
              "    <button class=\"colab-df-convert\" onclick=\"convertToInteractive('df-ff3a1d82-f9b3-472e-bc43-21784298acfa')\"\n",
              "            title=\"Convert this dataframe to an interactive table.\"\n",
              "            style=\"display:none;\">\n",
              "\n",
              "  <svg xmlns=\"http://www.w3.org/2000/svg\" height=\"24px\" viewBox=\"0 -960 960 960\">\n",
              "    <path d=\"M120-120v-720h720v720H120Zm60-500h600v-160H180v160Zm220 220h160v-160H400v160Zm0 220h160v-160H400v160ZM180-400h160v-160H180v160Zm440 0h160v-160H620v160ZM180-180h160v-160H180v160Zm440 0h160v-160H620v160Z\"/>\n",
              "  </svg>\n",
              "    </button>\n",
              "\n",
              "  <style>\n",
              "    .colab-df-container {\n",
              "      display:flex;\n",
              "      gap: 12px;\n",
              "    }\n",
              "\n",
              "    .colab-df-convert {\n",
              "      background-color: #E8F0FE;\n",
              "      border: none;\n",
              "      border-radius: 50%;\n",
              "      cursor: pointer;\n",
              "      display: none;\n",
              "      fill: #1967D2;\n",
              "      height: 32px;\n",
              "      padding: 0 0 0 0;\n",
              "      width: 32px;\n",
              "    }\n",
              "\n",
              "    .colab-df-convert:hover {\n",
              "      background-color: #E2EBFA;\n",
              "      box-shadow: 0px 1px 2px rgba(60, 64, 67, 0.3), 0px 1px 3px 1px rgba(60, 64, 67, 0.15);\n",
              "      fill: #174EA6;\n",
              "    }\n",
              "\n",
              "    .colab-df-buttons div {\n",
              "      margin-bottom: 4px;\n",
              "    }\n",
              "\n",
              "    [theme=dark] .colab-df-convert {\n",
              "      background-color: #3B4455;\n",
              "      fill: #D2E3FC;\n",
              "    }\n",
              "\n",
              "    [theme=dark] .colab-df-convert:hover {\n",
              "      background-color: #434B5C;\n",
              "      box-shadow: 0px 1px 3px 1px rgba(0, 0, 0, 0.15);\n",
              "      filter: drop-shadow(0px 1px 2px rgba(0, 0, 0, 0.3));\n",
              "      fill: #FFFFFF;\n",
              "    }\n",
              "  </style>\n",
              "\n",
              "    <script>\n",
              "      const buttonEl =\n",
              "        document.querySelector('#df-ff3a1d82-f9b3-472e-bc43-21784298acfa button.colab-df-convert');\n",
              "      buttonEl.style.display =\n",
              "        google.colab.kernel.accessAllowed ? 'block' : 'none';\n",
              "\n",
              "      async function convertToInteractive(key) {\n",
              "        const element = document.querySelector('#df-ff3a1d82-f9b3-472e-bc43-21784298acfa');\n",
              "        const dataTable =\n",
              "          await google.colab.kernel.invokeFunction('convertToInteractive',\n",
              "                                                    [key], {});\n",
              "        if (!dataTable) return;\n",
              "\n",
              "        const docLinkHtml = 'Like what you see? Visit the ' +\n",
              "          '<a target=\"_blank\" href=https://colab.research.google.com/notebooks/data_table.ipynb>data table notebook</a>'\n",
              "          + ' to learn more about interactive tables.';\n",
              "        element.innerHTML = '';\n",
              "        dataTable['output_type'] = 'display_data';\n",
              "        await google.colab.output.renderOutput(dataTable, element);\n",
              "        const docLink = document.createElement('div');\n",
              "        docLink.innerHTML = docLinkHtml;\n",
              "        element.appendChild(docLink);\n",
              "      }\n",
              "    </script>\n",
              "  </div>\n",
              "\n",
              "\n",
              "    <div id=\"df-a8e7cfae-9fe4-4bd6-859d-7796c5c0f9df\">\n",
              "      <button class=\"colab-df-quickchart\" onclick=\"quickchart('df-a8e7cfae-9fe4-4bd6-859d-7796c5c0f9df')\"\n",
              "                title=\"Suggest charts\"\n",
              "                style=\"display:none;\">\n",
              "\n",
              "<svg xmlns=\"http://www.w3.org/2000/svg\" height=\"24px\"viewBox=\"0 0 24 24\"\n",
              "     width=\"24px\">\n",
              "    <g>\n",
              "        <path d=\"M19 3H5c-1.1 0-2 .9-2 2v14c0 1.1.9 2 2 2h14c1.1 0 2-.9 2-2V5c0-1.1-.9-2-2-2zM9 17H7v-7h2v7zm4 0h-2V7h2v10zm4 0h-2v-4h2v4z\"/>\n",
              "    </g>\n",
              "</svg>\n",
              "      </button>\n",
              "\n",
              "<style>\n",
              "  .colab-df-quickchart {\n",
              "      --bg-color: #E8F0FE;\n",
              "      --fill-color: #1967D2;\n",
              "      --hover-bg-color: #E2EBFA;\n",
              "      --hover-fill-color: #174EA6;\n",
              "      --disabled-fill-color: #AAA;\n",
              "      --disabled-bg-color: #DDD;\n",
              "  }\n",
              "\n",
              "  [theme=dark] .colab-df-quickchart {\n",
              "      --bg-color: #3B4455;\n",
              "      --fill-color: #D2E3FC;\n",
              "      --hover-bg-color: #434B5C;\n",
              "      --hover-fill-color: #FFFFFF;\n",
              "      --disabled-bg-color: #3B4455;\n",
              "      --disabled-fill-color: #666;\n",
              "  }\n",
              "\n",
              "  .colab-df-quickchart {\n",
              "    background-color: var(--bg-color);\n",
              "    border: none;\n",
              "    border-radius: 50%;\n",
              "    cursor: pointer;\n",
              "    display: none;\n",
              "    fill: var(--fill-color);\n",
              "    height: 32px;\n",
              "    padding: 0;\n",
              "    width: 32px;\n",
              "  }\n",
              "\n",
              "  .colab-df-quickchart:hover {\n",
              "    background-color: var(--hover-bg-color);\n",
              "    box-shadow: 0 1px 2px rgba(60, 64, 67, 0.3), 0 1px 3px 1px rgba(60, 64, 67, 0.15);\n",
              "    fill: var(--button-hover-fill-color);\n",
              "  }\n",
              "\n",
              "  .colab-df-quickchart-complete:disabled,\n",
              "  .colab-df-quickchart-complete:disabled:hover {\n",
              "    background-color: var(--disabled-bg-color);\n",
              "    fill: var(--disabled-fill-color);\n",
              "    box-shadow: none;\n",
              "  }\n",
              "\n",
              "  .colab-df-spinner {\n",
              "    border: 2px solid var(--fill-color);\n",
              "    border-color: transparent;\n",
              "    border-bottom-color: var(--fill-color);\n",
              "    animation:\n",
              "      spin 1s steps(1) infinite;\n",
              "  }\n",
              "\n",
              "  @keyframes spin {\n",
              "    0% {\n",
              "      border-color: transparent;\n",
              "      border-bottom-color: var(--fill-color);\n",
              "      border-left-color: var(--fill-color);\n",
              "    }\n",
              "    20% {\n",
              "      border-color: transparent;\n",
              "      border-left-color: var(--fill-color);\n",
              "      border-top-color: var(--fill-color);\n",
              "    }\n",
              "    30% {\n",
              "      border-color: transparent;\n",
              "      border-left-color: var(--fill-color);\n",
              "      border-top-color: var(--fill-color);\n",
              "      border-right-color: var(--fill-color);\n",
              "    }\n",
              "    40% {\n",
              "      border-color: transparent;\n",
              "      border-right-color: var(--fill-color);\n",
              "      border-top-color: var(--fill-color);\n",
              "    }\n",
              "    60% {\n",
              "      border-color: transparent;\n",
              "      border-right-color: var(--fill-color);\n",
              "    }\n",
              "    80% {\n",
              "      border-color: transparent;\n",
              "      border-right-color: var(--fill-color);\n",
              "      border-bottom-color: var(--fill-color);\n",
              "    }\n",
              "    90% {\n",
              "      border-color: transparent;\n",
              "      border-bottom-color: var(--fill-color);\n",
              "    }\n",
              "  }\n",
              "</style>\n",
              "\n",
              "      <script>\n",
              "        async function quickchart(key) {\n",
              "          const quickchartButtonEl =\n",
              "            document.querySelector('#' + key + ' button');\n",
              "          quickchartButtonEl.disabled = true;  // To prevent multiple clicks.\n",
              "          quickchartButtonEl.classList.add('colab-df-spinner');\n",
              "          try {\n",
              "            const charts = await google.colab.kernel.invokeFunction(\n",
              "                'suggestCharts', [key], {});\n",
              "          } catch (error) {\n",
              "            console.error('Error during call to suggestCharts:', error);\n",
              "          }\n",
              "          quickchartButtonEl.classList.remove('colab-df-spinner');\n",
              "          quickchartButtonEl.classList.add('colab-df-quickchart-complete');\n",
              "        }\n",
              "        (() => {\n",
              "          let quickchartButtonEl =\n",
              "            document.querySelector('#df-a8e7cfae-9fe4-4bd6-859d-7796c5c0f9df button');\n",
              "          quickchartButtonEl.style.display =\n",
              "            google.colab.kernel.accessAllowed ? 'block' : 'none';\n",
              "        })();\n",
              "      </script>\n",
              "    </div>\n",
              "\n",
              "    </div>\n",
              "  </div>\n"
            ],
            "application/vnd.google.colaboratory.intrinsic+json": {
              "type": "dataframe",
              "repr_error": "0"
            }
          },
          "metadata": {},
          "execution_count": 4
        }
      ],
      "source": [
        "data = pd.read_csv(\"/kaggle/input/google-stock-prediction/GOOG.csv\")\n",
        "data.tail()"
      ]
    },
    {
      "cell_type": "code",
      "execution_count": 5,
      "id": "d000d38b",
      "metadata": {
        "execution": {
          "iopub.execute_input": "2024-12-04T03:08:50.03577Z",
          "iopub.status.busy": "2024-12-04T03:08:50.035297Z",
          "iopub.status.idle": "2024-12-04T03:08:50.042924Z",
          "shell.execute_reply": "2024-12-04T03:08:50.041649Z"
        },
        "id": "d000d38b",
        "outputId": "f0c2c1cd-617d-4d0e-a55d-7874e3008d3d",
        "papermill": {
          "duration": 0.025291,
          "end_time": "2024-12-04T03:08:50.04505",
          "exception": false,
          "start_time": "2024-12-04T03:08:50.019759",
          "status": "completed"
        },
        "tags": [],
        "colab": {
          "base_uri": "https://localhost:8080/"
        }
      },
      "outputs": [
        {
          "output_type": "execute_result",
          "data": {
            "text/plain": [
              "(1258, 14)"
            ]
          },
          "metadata": {},
          "execution_count": 5
        }
      ],
      "source": [
        "data.shape"
      ]
    },
    {
      "cell_type": "code",
      "execution_count": 6,
      "id": "65957678",
      "metadata": {
        "execution": {
          "iopub.execute_input": "2024-12-04T03:08:50.073562Z",
          "iopub.status.busy": "2024-12-04T03:08:50.073167Z",
          "iopub.status.idle": "2024-12-04T03:08:50.116369Z",
          "shell.execute_reply": "2024-12-04T03:08:50.115131Z"
        },
        "id": "65957678",
        "outputId": "6368bc4e-828f-45d8-943c-95320eb35170",
        "papermill": {
          "duration": 0.06024,
          "end_time": "2024-12-04T03:08:50.118849",
          "exception": false,
          "start_time": "2024-12-04T03:08:50.058609",
          "status": "completed"
        },
        "tags": [],
        "colab": {
          "base_uri": "https://localhost:8080/",
          "height": 320
        }
      },
      "outputs": [
        {
          "output_type": "execute_result",
          "data": {
            "text/plain": [
              "             close         high          low         open        volume  \\\n",
              "count  1258.000000  1258.000000  1258.000000  1258.000000  1.258000e+03   \n",
              "mean   1216.317067  1227.430934  1204.176430  1215.260779  1.601590e+06   \n",
              "std     383.333358   387.570872   378.777094   382.446995  6.960172e+05   \n",
              "min     668.260000   672.300000   663.284000   671.000000  3.467530e+05   \n",
              "25%     960.802500   968.757500   952.182500   959.005000  1.173522e+06   \n",
              "50%    1132.460000  1143.935000  1117.915000  1131.150000  1.412588e+06   \n",
              "75%    1360.595000  1374.345000  1348.557500  1361.075000  1.812156e+06   \n",
              "max    2521.600000  2526.990000  2498.290000  2524.920000  6.207027e+06   \n",
              "\n",
              "          adjClose      adjHigh       adjLow      adjOpen     adjVolume  \\\n",
              "count  1258.000000  1258.000000  1258.000000  1258.000000  1.258000e+03   \n",
              "mean   1216.317067  1227.430936  1204.176436  1215.260779  1.601590e+06   \n",
              "std     383.333358   387.570873   378.777099   382.446995  6.960172e+05   \n",
              "min     668.260000   672.300000   663.284000   671.000000  3.467530e+05   \n",
              "25%     960.802500   968.757500   952.182500   959.005000  1.173522e+06   \n",
              "50%    1132.460000  1143.935000  1117.915000  1131.150000  1.412588e+06   \n",
              "75%    1360.595000  1374.345000  1348.557500  1361.075000  1.812156e+06   \n",
              "max    2521.600000  2526.990000  2498.290000  2524.920000  6.207027e+06   \n",
              "\n",
              "       divCash  splitFactor  \n",
              "count   1258.0       1258.0  \n",
              "mean       0.0          1.0  \n",
              "std        0.0          0.0  \n",
              "min        0.0          1.0  \n",
              "25%        0.0          1.0  \n",
              "50%        0.0          1.0  \n",
              "75%        0.0          1.0  \n",
              "max        0.0          1.0  "
            ],
            "text/html": [
              "\n",
              "  <div id=\"df-b5cd3ec2-c0ff-47a3-a929-add6e1683623\" class=\"colab-df-container\">\n",
              "    <div>\n",
              "<style scoped>\n",
              "    .dataframe tbody tr th:only-of-type {\n",
              "        vertical-align: middle;\n",
              "    }\n",
              "\n",
              "    .dataframe tbody tr th {\n",
              "        vertical-align: top;\n",
              "    }\n",
              "\n",
              "    .dataframe thead th {\n",
              "        text-align: right;\n",
              "    }\n",
              "</style>\n",
              "<table border=\"1\" class=\"dataframe\">\n",
              "  <thead>\n",
              "    <tr style=\"text-align: right;\">\n",
              "      <th></th>\n",
              "      <th>close</th>\n",
              "      <th>high</th>\n",
              "      <th>low</th>\n",
              "      <th>open</th>\n",
              "      <th>volume</th>\n",
              "      <th>adjClose</th>\n",
              "      <th>adjHigh</th>\n",
              "      <th>adjLow</th>\n",
              "      <th>adjOpen</th>\n",
              "      <th>adjVolume</th>\n",
              "      <th>divCash</th>\n",
              "      <th>splitFactor</th>\n",
              "    </tr>\n",
              "  </thead>\n",
              "  <tbody>\n",
              "    <tr>\n",
              "      <th>count</th>\n",
              "      <td>1258.000000</td>\n",
              "      <td>1258.000000</td>\n",
              "      <td>1258.000000</td>\n",
              "      <td>1258.000000</td>\n",
              "      <td>1.258000e+03</td>\n",
              "      <td>1258.000000</td>\n",
              "      <td>1258.000000</td>\n",
              "      <td>1258.000000</td>\n",
              "      <td>1258.000000</td>\n",
              "      <td>1.258000e+03</td>\n",
              "      <td>1258.0</td>\n",
              "      <td>1258.0</td>\n",
              "    </tr>\n",
              "    <tr>\n",
              "      <th>mean</th>\n",
              "      <td>1216.317067</td>\n",
              "      <td>1227.430934</td>\n",
              "      <td>1204.176430</td>\n",
              "      <td>1215.260779</td>\n",
              "      <td>1.601590e+06</td>\n",
              "      <td>1216.317067</td>\n",
              "      <td>1227.430936</td>\n",
              "      <td>1204.176436</td>\n",
              "      <td>1215.260779</td>\n",
              "      <td>1.601590e+06</td>\n",
              "      <td>0.0</td>\n",
              "      <td>1.0</td>\n",
              "    </tr>\n",
              "    <tr>\n",
              "      <th>std</th>\n",
              "      <td>383.333358</td>\n",
              "      <td>387.570872</td>\n",
              "      <td>378.777094</td>\n",
              "      <td>382.446995</td>\n",
              "      <td>6.960172e+05</td>\n",
              "      <td>383.333358</td>\n",
              "      <td>387.570873</td>\n",
              "      <td>378.777099</td>\n",
              "      <td>382.446995</td>\n",
              "      <td>6.960172e+05</td>\n",
              "      <td>0.0</td>\n",
              "      <td>0.0</td>\n",
              "    </tr>\n",
              "    <tr>\n",
              "      <th>min</th>\n",
              "      <td>668.260000</td>\n",
              "      <td>672.300000</td>\n",
              "      <td>663.284000</td>\n",
              "      <td>671.000000</td>\n",
              "      <td>3.467530e+05</td>\n",
              "      <td>668.260000</td>\n",
              "      <td>672.300000</td>\n",
              "      <td>663.284000</td>\n",
              "      <td>671.000000</td>\n",
              "      <td>3.467530e+05</td>\n",
              "      <td>0.0</td>\n",
              "      <td>1.0</td>\n",
              "    </tr>\n",
              "    <tr>\n",
              "      <th>25%</th>\n",
              "      <td>960.802500</td>\n",
              "      <td>968.757500</td>\n",
              "      <td>952.182500</td>\n",
              "      <td>959.005000</td>\n",
              "      <td>1.173522e+06</td>\n",
              "      <td>960.802500</td>\n",
              "      <td>968.757500</td>\n",
              "      <td>952.182500</td>\n",
              "      <td>959.005000</td>\n",
              "      <td>1.173522e+06</td>\n",
              "      <td>0.0</td>\n",
              "      <td>1.0</td>\n",
              "    </tr>\n",
              "    <tr>\n",
              "      <th>50%</th>\n",
              "      <td>1132.460000</td>\n",
              "      <td>1143.935000</td>\n",
              "      <td>1117.915000</td>\n",
              "      <td>1131.150000</td>\n",
              "      <td>1.412588e+06</td>\n",
              "      <td>1132.460000</td>\n",
              "      <td>1143.935000</td>\n",
              "      <td>1117.915000</td>\n",
              "      <td>1131.150000</td>\n",
              "      <td>1.412588e+06</td>\n",
              "      <td>0.0</td>\n",
              "      <td>1.0</td>\n",
              "    </tr>\n",
              "    <tr>\n",
              "      <th>75%</th>\n",
              "      <td>1360.595000</td>\n",
              "      <td>1374.345000</td>\n",
              "      <td>1348.557500</td>\n",
              "      <td>1361.075000</td>\n",
              "      <td>1.812156e+06</td>\n",
              "      <td>1360.595000</td>\n",
              "      <td>1374.345000</td>\n",
              "      <td>1348.557500</td>\n",
              "      <td>1361.075000</td>\n",
              "      <td>1.812156e+06</td>\n",
              "      <td>0.0</td>\n",
              "      <td>1.0</td>\n",
              "    </tr>\n",
              "    <tr>\n",
              "      <th>max</th>\n",
              "      <td>2521.600000</td>\n",
              "      <td>2526.990000</td>\n",
              "      <td>2498.290000</td>\n",
              "      <td>2524.920000</td>\n",
              "      <td>6.207027e+06</td>\n",
              "      <td>2521.600000</td>\n",
              "      <td>2526.990000</td>\n",
              "      <td>2498.290000</td>\n",
              "      <td>2524.920000</td>\n",
              "      <td>6.207027e+06</td>\n",
              "      <td>0.0</td>\n",
              "      <td>1.0</td>\n",
              "    </tr>\n",
              "  </tbody>\n",
              "</table>\n",
              "</div>\n",
              "    <div class=\"colab-df-buttons\">\n",
              "\n",
              "  <div class=\"colab-df-container\">\n",
              "    <button class=\"colab-df-convert\" onclick=\"convertToInteractive('df-b5cd3ec2-c0ff-47a3-a929-add6e1683623')\"\n",
              "            title=\"Convert this dataframe to an interactive table.\"\n",
              "            style=\"display:none;\">\n",
              "\n",
              "  <svg xmlns=\"http://www.w3.org/2000/svg\" height=\"24px\" viewBox=\"0 -960 960 960\">\n",
              "    <path d=\"M120-120v-720h720v720H120Zm60-500h600v-160H180v160Zm220 220h160v-160H400v160Zm0 220h160v-160H400v160ZM180-400h160v-160H180v160Zm440 0h160v-160H620v160ZM180-180h160v-160H180v160Zm440 0h160v-160H620v160Z\"/>\n",
              "  </svg>\n",
              "    </button>\n",
              "\n",
              "  <style>\n",
              "    .colab-df-container {\n",
              "      display:flex;\n",
              "      gap: 12px;\n",
              "    }\n",
              "\n",
              "    .colab-df-convert {\n",
              "      background-color: #E8F0FE;\n",
              "      border: none;\n",
              "      border-radius: 50%;\n",
              "      cursor: pointer;\n",
              "      display: none;\n",
              "      fill: #1967D2;\n",
              "      height: 32px;\n",
              "      padding: 0 0 0 0;\n",
              "      width: 32px;\n",
              "    }\n",
              "\n",
              "    .colab-df-convert:hover {\n",
              "      background-color: #E2EBFA;\n",
              "      box-shadow: 0px 1px 2px rgba(60, 64, 67, 0.3), 0px 1px 3px 1px rgba(60, 64, 67, 0.15);\n",
              "      fill: #174EA6;\n",
              "    }\n",
              "\n",
              "    .colab-df-buttons div {\n",
              "      margin-bottom: 4px;\n",
              "    }\n",
              "\n",
              "    [theme=dark] .colab-df-convert {\n",
              "      background-color: #3B4455;\n",
              "      fill: #D2E3FC;\n",
              "    }\n",
              "\n",
              "    [theme=dark] .colab-df-convert:hover {\n",
              "      background-color: #434B5C;\n",
              "      box-shadow: 0px 1px 3px 1px rgba(0, 0, 0, 0.15);\n",
              "      filter: drop-shadow(0px 1px 2px rgba(0, 0, 0, 0.3));\n",
              "      fill: #FFFFFF;\n",
              "    }\n",
              "  </style>\n",
              "\n",
              "    <script>\n",
              "      const buttonEl =\n",
              "        document.querySelector('#df-b5cd3ec2-c0ff-47a3-a929-add6e1683623 button.colab-df-convert');\n",
              "      buttonEl.style.display =\n",
              "        google.colab.kernel.accessAllowed ? 'block' : 'none';\n",
              "\n",
              "      async function convertToInteractive(key) {\n",
              "        const element = document.querySelector('#df-b5cd3ec2-c0ff-47a3-a929-add6e1683623');\n",
              "        const dataTable =\n",
              "          await google.colab.kernel.invokeFunction('convertToInteractive',\n",
              "                                                    [key], {});\n",
              "        if (!dataTable) return;\n",
              "\n",
              "        const docLinkHtml = 'Like what you see? Visit the ' +\n",
              "          '<a target=\"_blank\" href=https://colab.research.google.com/notebooks/data_table.ipynb>data table notebook</a>'\n",
              "          + ' to learn more about interactive tables.';\n",
              "        element.innerHTML = '';\n",
              "        dataTable['output_type'] = 'display_data';\n",
              "        await google.colab.output.renderOutput(dataTable, element);\n",
              "        const docLink = document.createElement('div');\n",
              "        docLink.innerHTML = docLinkHtml;\n",
              "        element.appendChild(docLink);\n",
              "      }\n",
              "    </script>\n",
              "  </div>\n",
              "\n",
              "\n",
              "    <div id=\"df-83875954-d876-4eb3-8412-f411d21f6957\">\n",
              "      <button class=\"colab-df-quickchart\" onclick=\"quickchart('df-83875954-d876-4eb3-8412-f411d21f6957')\"\n",
              "                title=\"Suggest charts\"\n",
              "                style=\"display:none;\">\n",
              "\n",
              "<svg xmlns=\"http://www.w3.org/2000/svg\" height=\"24px\"viewBox=\"0 0 24 24\"\n",
              "     width=\"24px\">\n",
              "    <g>\n",
              "        <path d=\"M19 3H5c-1.1 0-2 .9-2 2v14c0 1.1.9 2 2 2h14c1.1 0 2-.9 2-2V5c0-1.1-.9-2-2-2zM9 17H7v-7h2v7zm4 0h-2V7h2v10zm4 0h-2v-4h2v4z\"/>\n",
              "    </g>\n",
              "</svg>\n",
              "      </button>\n",
              "\n",
              "<style>\n",
              "  .colab-df-quickchart {\n",
              "      --bg-color: #E8F0FE;\n",
              "      --fill-color: #1967D2;\n",
              "      --hover-bg-color: #E2EBFA;\n",
              "      --hover-fill-color: #174EA6;\n",
              "      --disabled-fill-color: #AAA;\n",
              "      --disabled-bg-color: #DDD;\n",
              "  }\n",
              "\n",
              "  [theme=dark] .colab-df-quickchart {\n",
              "      --bg-color: #3B4455;\n",
              "      --fill-color: #D2E3FC;\n",
              "      --hover-bg-color: #434B5C;\n",
              "      --hover-fill-color: #FFFFFF;\n",
              "      --disabled-bg-color: #3B4455;\n",
              "      --disabled-fill-color: #666;\n",
              "  }\n",
              "\n",
              "  .colab-df-quickchart {\n",
              "    background-color: var(--bg-color);\n",
              "    border: none;\n",
              "    border-radius: 50%;\n",
              "    cursor: pointer;\n",
              "    display: none;\n",
              "    fill: var(--fill-color);\n",
              "    height: 32px;\n",
              "    padding: 0;\n",
              "    width: 32px;\n",
              "  }\n",
              "\n",
              "  .colab-df-quickchart:hover {\n",
              "    background-color: var(--hover-bg-color);\n",
              "    box-shadow: 0 1px 2px rgba(60, 64, 67, 0.3), 0 1px 3px 1px rgba(60, 64, 67, 0.15);\n",
              "    fill: var(--button-hover-fill-color);\n",
              "  }\n",
              "\n",
              "  .colab-df-quickchart-complete:disabled,\n",
              "  .colab-df-quickchart-complete:disabled:hover {\n",
              "    background-color: var(--disabled-bg-color);\n",
              "    fill: var(--disabled-fill-color);\n",
              "    box-shadow: none;\n",
              "  }\n",
              "\n",
              "  .colab-df-spinner {\n",
              "    border: 2px solid var(--fill-color);\n",
              "    border-color: transparent;\n",
              "    border-bottom-color: var(--fill-color);\n",
              "    animation:\n",
              "      spin 1s steps(1) infinite;\n",
              "  }\n",
              "\n",
              "  @keyframes spin {\n",
              "    0% {\n",
              "      border-color: transparent;\n",
              "      border-bottom-color: var(--fill-color);\n",
              "      border-left-color: var(--fill-color);\n",
              "    }\n",
              "    20% {\n",
              "      border-color: transparent;\n",
              "      border-left-color: var(--fill-color);\n",
              "      border-top-color: var(--fill-color);\n",
              "    }\n",
              "    30% {\n",
              "      border-color: transparent;\n",
              "      border-left-color: var(--fill-color);\n",
              "      border-top-color: var(--fill-color);\n",
              "      border-right-color: var(--fill-color);\n",
              "    }\n",
              "    40% {\n",
              "      border-color: transparent;\n",
              "      border-right-color: var(--fill-color);\n",
              "      border-top-color: var(--fill-color);\n",
              "    }\n",
              "    60% {\n",
              "      border-color: transparent;\n",
              "      border-right-color: var(--fill-color);\n",
              "    }\n",
              "    80% {\n",
              "      border-color: transparent;\n",
              "      border-right-color: var(--fill-color);\n",
              "      border-bottom-color: var(--fill-color);\n",
              "    }\n",
              "    90% {\n",
              "      border-color: transparent;\n",
              "      border-bottom-color: var(--fill-color);\n",
              "    }\n",
              "  }\n",
              "</style>\n",
              "\n",
              "      <script>\n",
              "        async function quickchart(key) {\n",
              "          const quickchartButtonEl =\n",
              "            document.querySelector('#' + key + ' button');\n",
              "          quickchartButtonEl.disabled = true;  // To prevent multiple clicks.\n",
              "          quickchartButtonEl.classList.add('colab-df-spinner');\n",
              "          try {\n",
              "            const charts = await google.colab.kernel.invokeFunction(\n",
              "                'suggestCharts', [key], {});\n",
              "          } catch (error) {\n",
              "            console.error('Error during call to suggestCharts:', error);\n",
              "          }\n",
              "          quickchartButtonEl.classList.remove('colab-df-spinner');\n",
              "          quickchartButtonEl.classList.add('colab-df-quickchart-complete');\n",
              "        }\n",
              "        (() => {\n",
              "          let quickchartButtonEl =\n",
              "            document.querySelector('#df-83875954-d876-4eb3-8412-f411d21f6957 button');\n",
              "          quickchartButtonEl.style.display =\n",
              "            google.colab.kernel.accessAllowed ? 'block' : 'none';\n",
              "        })();\n",
              "      </script>\n",
              "    </div>\n",
              "\n",
              "    </div>\n",
              "  </div>\n"
            ],
            "application/vnd.google.colaboratory.intrinsic+json": {
              "type": "dataframe",
              "summary": "{\n  \"name\": \"data\",\n  \"rows\": 8,\n  \"fields\": [\n    {\n      \"column\": \"close\",\n      \"properties\": {\n        \"dtype\": \"number\",\n        \"std\": 630.9064287324015,\n        \"min\": 383.3333577269818,\n        \"max\": 2521.6,\n        \"num_unique_values\": 8,\n        \"samples\": [\n          1216.317066772655,\n          1132.46,\n          1258.0\n        ],\n        \"semantic_type\": \"\",\n        \"description\": \"\"\n      }\n    },\n    {\n      \"column\": \"high\",\n      \"properties\": {\n        \"dtype\": \"number\",\n        \"std\": 631.3628217367498,\n        \"min\": 387.5708716702876,\n        \"max\": 2526.99,\n        \"num_unique_values\": 8,\n        \"samples\": [\n          1227.4309342607314,\n          1143.935,\n          1258.0\n        ],\n        \"semantic_type\": \"\",\n        \"description\": \"\"\n      }\n    },\n    {\n      \"column\": \"low\",\n      \"properties\": {\n        \"dtype\": \"number\",\n        \"std\": 625.3722689115905,\n        \"min\": 378.77709382064285,\n        \"max\": 2498.29,\n        \"num_unique_values\": 8,\n        \"samples\": [\n          1204.1764298887122,\n          1117.915,\n          1258.0\n        ],\n        \"semantic_type\": \"\",\n        \"description\": \"\"\n      }\n    },\n    {\n      \"column\": \"open\",\n      \"properties\": {\n        \"dtype\": \"number\",\n        \"std\": 631.8711786663821,\n        \"min\": 382.4469952385127,\n        \"max\": 2524.92,\n        \"num_unique_values\": 8,\n        \"samples\": [\n          1215.2607787758348,\n          1131.15,\n          1258.0\n        ],\n        \"semantic_type\": \"\",\n        \"description\": \"\"\n      }\n    },\n    {\n      \"column\": \"volume\",\n      \"properties\": {\n        \"dtype\": \"number\",\n        \"std\": 1942203.8737096183,\n        \"min\": 1258.0,\n        \"max\": 6207027.0,\n        \"num_unique_values\": 8,\n        \"samples\": [\n          1601590.0914149443,\n          1412588.5,\n          1258.0\n        ],\n        \"semantic_type\": \"\",\n        \"description\": \"\"\n      }\n    },\n    {\n      \"column\": \"adjClose\",\n      \"properties\": {\n        \"dtype\": \"number\",\n        \"std\": 630.9064287324015,\n        \"min\": 383.3333577269818,\n        \"max\": 2521.6,\n        \"num_unique_values\": 8,\n        \"samples\": [\n          1216.317066772655,\n          1132.46,\n          1258.0\n        ],\n        \"semantic_type\": \"\",\n        \"description\": \"\"\n      }\n    },\n    {\n      \"column\": \"adjHigh\",\n      \"properties\": {\n        \"dtype\": \"number\",\n        \"std\": 631.3628214861925,\n        \"min\": 387.5708731059068,\n        \"max\": 2526.99,\n        \"num_unique_values\": 8,\n        \"samples\": [\n          1227.4309358505566,\n          1143.935,\n          1258.0\n        ],\n        \"semantic_type\": \"\",\n        \"description\": \"\"\n      }\n    },\n    {\n      \"column\": \"adjLow\",\n      \"properties\": {\n        \"dtype\": \"number\",\n        \"std\": 625.3722680598645,\n        \"min\": 378.7770986990594,\n        \"max\": 2498.29,\n        \"num_unique_values\": 8,\n        \"samples\": [\n          1204.1764362480126,\n          1117.915,\n          1258.0\n        ],\n        \"semantic_type\": \"\",\n        \"description\": \"\"\n      }\n    },\n    {\n      \"column\": \"adjOpen\",\n      \"properties\": {\n        \"dtype\": \"number\",\n        \"std\": 631.8711786663821,\n        \"min\": 382.4469952385127,\n        \"max\": 2524.92,\n        \"num_unique_values\": 8,\n        \"samples\": [\n          1215.2607787758348,\n          1131.15,\n          1258.0\n        ],\n        \"semantic_type\": \"\",\n        \"description\": \"\"\n      }\n    },\n    {\n      \"column\": \"adjVolume\",\n      \"properties\": {\n        \"dtype\": \"number\",\n        \"std\": 1942203.8737096183,\n        \"min\": 1258.0,\n        \"max\": 6207027.0,\n        \"num_unique_values\": 8,\n        \"samples\": [\n          1601590.0914149443,\n          1412588.5,\n          1258.0\n        ],\n        \"semantic_type\": \"\",\n        \"description\": \"\"\n      }\n    },\n    {\n      \"column\": \"divCash\",\n      \"properties\": {\n        \"dtype\": \"number\",\n        \"std\": 444.7701653663384,\n        \"min\": 0.0,\n        \"max\": 1258.0,\n        \"num_unique_values\": 2,\n        \"samples\": [\n          0.0,\n          1258.0\n        ],\n        \"semantic_type\": \"\",\n        \"description\": \"\"\n      }\n    },\n    {\n      \"column\": \"splitFactor\",\n      \"properties\": {\n        \"dtype\": \"number\",\n        \"std\": 444.46725735102564,\n        \"min\": 0.0,\n        \"max\": 1258.0,\n        \"num_unique_values\": 3,\n        \"samples\": [\n          1258.0,\n          1.0\n        ],\n        \"semantic_type\": \"\",\n        \"description\": \"\"\n      }\n    }\n  ]\n}"
            }
          },
          "metadata": {},
          "execution_count": 6
        }
      ],
      "source": [
        "data.describe()"
      ]
    },
    {
      "cell_type": "code",
      "execution_count": 7,
      "id": "afb1c4f7",
      "metadata": {
        "execution": {
          "iopub.execute_input": "2024-12-04T03:08:50.149106Z",
          "iopub.status.busy": "2024-12-04T03:08:50.148722Z",
          "iopub.status.idle": "2024-12-04T03:08:50.177539Z",
          "shell.execute_reply": "2024-12-04T03:08:50.176185Z"
        },
        "id": "afb1c4f7",
        "outputId": "3efec027-7ee2-404c-c7e9-9a6101056d3e",
        "papermill": {
          "duration": 0.0471,
          "end_time": "2024-12-04T03:08:50.180276",
          "exception": false,
          "start_time": "2024-12-04T03:08:50.133176",
          "status": "completed"
        },
        "tags": [],
        "colab": {
          "base_uri": "https://localhost:8080/"
        }
      },
      "outputs": [
        {
          "output_type": "stream",
          "name": "stdout",
          "text": [
            "<class 'pandas.core.frame.DataFrame'>\n",
            "RangeIndex: 1258 entries, 0 to 1257\n",
            "Data columns (total 14 columns):\n",
            " #   Column       Non-Null Count  Dtype  \n",
            "---  ------       --------------  -----  \n",
            " 0   symbol       1258 non-null   object \n",
            " 1   date         1258 non-null   object \n",
            " 2   close        1258 non-null   float64\n",
            " 3   high         1258 non-null   float64\n",
            " 4   low          1258 non-null   float64\n",
            " 5   open         1258 non-null   float64\n",
            " 6   volume       1258 non-null   int64  \n",
            " 7   adjClose     1258 non-null   float64\n",
            " 8   adjHigh      1258 non-null   float64\n",
            " 9   adjLow       1258 non-null   float64\n",
            " 10  adjOpen      1258 non-null   float64\n",
            " 11  adjVolume    1258 non-null   int64  \n",
            " 12  divCash      1258 non-null   float64\n",
            " 13  splitFactor  1258 non-null   float64\n",
            "dtypes: float64(10), int64(2), object(2)\n",
            "memory usage: 137.7+ KB\n"
          ]
        }
      ],
      "source": [
        "data.info()"
      ]
    },
    {
      "cell_type": "code",
      "execution_count": 8,
      "id": "f574c713",
      "metadata": {
        "execution": {
          "iopub.execute_input": "2024-12-04T03:08:50.21109Z",
          "iopub.status.busy": "2024-12-04T03:08:50.210684Z",
          "iopub.status.idle": "2024-12-04T03:08:50.224436Z",
          "shell.execute_reply": "2024-12-04T03:08:50.223381Z"
        },
        "id": "f574c713",
        "papermill": {
          "duration": 0.031768,
          "end_time": "2024-12-04T03:08:50.226969",
          "exception": false,
          "start_time": "2024-12-04T03:08:50.195201",
          "status": "completed"
        },
        "tags": []
      },
      "outputs": [],
      "source": [
        "data['date'] = pd.to_datetime(data['date'])"
      ]
    },
    {
      "cell_type": "code",
      "execution_count": 9,
      "id": "0251aed3",
      "metadata": {
        "execution": {
          "iopub.execute_input": "2024-12-04T03:08:50.257915Z",
          "iopub.status.busy": "2024-12-04T03:08:50.2575Z",
          "iopub.status.idle": "2024-12-04T03:08:50.267466Z",
          "shell.execute_reply": "2024-12-04T03:08:50.266218Z"
        },
        "id": "0251aed3",
        "papermill": {
          "duration": 0.028322,
          "end_time": "2024-12-04T03:08:50.269615",
          "exception": false,
          "start_time": "2024-12-04T03:08:50.241293",
          "status": "completed"
        },
        "tags": []
      },
      "outputs": [],
      "source": [
        "year1 = data[data['date'] > '2019-01-01']"
      ]
    },
    {
      "cell_type": "code",
      "execution_count": 10,
      "id": "af474ae1",
      "metadata": {
        "execution": {
          "iopub.execute_input": "2024-12-04T03:08:50.299262Z",
          "iopub.status.busy": "2024-12-04T03:08:50.298818Z",
          "iopub.status.idle": "2024-12-04T03:08:50.306274Z",
          "shell.execute_reply": "2024-12-04T03:08:50.305034Z"
        },
        "id": "af474ae1",
        "outputId": "0b02763d-6ba0-4ae1-d047-cd3ddad62231",
        "papermill": {
          "duration": 0.02487,
          "end_time": "2024-12-04T03:08:50.308354",
          "exception": false,
          "start_time": "2024-12-04T03:08:50.283484",
          "status": "completed"
        },
        "tags": [],
        "colab": {
          "base_uri": "https://localhost:8080/"
        }
      },
      "outputs": [
        {
          "output_type": "execute_result",
          "data": {
            "text/plain": [
              "(616, 14)"
            ]
          },
          "metadata": {},
          "execution_count": 10
        }
      ],
      "source": [
        "year1.shape"
      ]
    },
    {
      "cell_type": "code",
      "execution_count": 11,
      "id": "e67cb02c",
      "metadata": {
        "execution": {
          "iopub.execute_input": "2024-12-04T03:08:50.337951Z",
          "iopub.status.busy": "2024-12-04T03:08:50.337535Z",
          "iopub.status.idle": "2024-12-04T03:08:50.766001Z",
          "shell.execute_reply": "2024-12-04T03:08:50.764685Z"
        },
        "id": "e67cb02c",
        "outputId": "c4b62cc1-d8a7-4f5a-a2ce-37a80e96ed67",
        "papermill": {
          "duration": 0.446192,
          "end_time": "2024-12-04T03:08:50.768445",
          "exception": false,
          "start_time": "2024-12-04T03:08:50.322253",
          "status": "completed"
        },
        "tags": [],
        "colab": {
          "base_uri": "https://localhost:8080/",
          "height": 536
        }
      },
      "outputs": [
        {
          "output_type": "display_data",
          "data": {
            "text/plain": [
              "<Figure size 1200x600 with 1 Axes>"
            ],
            "image/png": "[encoded data removed]"
          },
          "metadata": {}
        }
      ],
      "source": [
        "plt.figure(figsize=(12, 6))\n",
        "sns.lineplot(data['close'], label='original')\n",
        "sns.lineplot(data['close'].rolling(100).mean(), label='100')\n",
        "sns.lineplot(data['close'].rolling(200).mean(), label='200')\n",
        "plt.xticks(rotation = 25)\n",
        "plt.show()"
      ]
    },
    {
      "cell_type": "markdown",
      "id": "af2d9d1a",
      "metadata": {
        "id": "af2d9d1a",
        "papermill": {
          "duration": 0.01478,
          "end_time": "2024-12-04T03:08:50.798303",
          "exception": false,
          "start_time": "2024-12-04T03:08:50.783523",
          "status": "completed"
        },
        "tags": []
      },
      "source": [
        "## Test train split"
      ]
    },
    {
      "cell_type": "code",
      "execution_count": 12,
      "id": "79899903",
      "metadata": {
        "execution": {
          "iopub.execute_input": "2024-12-04T03:08:50.830926Z",
          "iopub.status.busy": "2024-12-04T03:08:50.830469Z",
          "iopub.status.idle": "2024-12-04T03:08:50.840209Z",
          "shell.execute_reply": "2024-12-04T03:08:50.838965Z"
        },
        "id": "79899903",
        "outputId": "4f861af7-ee69-4c47-bd32-86e6df563c5e",
        "papermill": {
          "duration": 0.028812,
          "end_time": "2024-12-04T03:08:50.842543",
          "exception": false,
          "start_time": "2024-12-04T03:08:50.813731",
          "status": "completed"
        },
        "tags": [],
        "colab": {
          "base_uri": "https://localhost:8080/"
        }
      },
      "outputs": [
        {
          "output_type": "execute_result",
          "data": {
            "text/plain": [
              "((754, 14), (251, 14), (253, 14))"
            ]
          },
          "metadata": {},
          "execution_count": 12
        }
      ],
      "source": [
        "tn = len(data)*3//5\n",
        "vn = len(data)//5\n",
        "train_df = data.iloc[:tn]\n",
        "test_df = data.iloc[tn:tn+vn]\n",
        "val_df = data.iloc[tn+vn:]\n",
        "train_df.shape, test_df.shape, val_df.shape"
      ]
    },
    {
      "cell_type": "code",
      "execution_count": 13,
      "id": "329f2525",
      "metadata": {
        "execution": {
          "iopub.execute_input": "2024-12-04T03:08:50.876724Z",
          "iopub.status.busy": "2024-12-04T03:08:50.875618Z",
          "iopub.status.idle": "2024-12-04T03:08:51.046859Z",
          "shell.execute_reply": "2024-12-04T03:08:51.045791Z"
        },
        "id": "329f2525",
        "papermill": {
          "duration": 0.191643,
          "end_time": "2024-12-04T03:08:51.049668",
          "exception": false,
          "start_time": "2024-12-04T03:08:50.858025",
          "status": "completed"
        },
        "tags": []
      },
      "outputs": [],
      "source": [
        "from sklearn.preprocessing import MinMaxScaler"
      ]
    },
    {
      "cell_type": "code",
      "execution_count": 14,
      "id": "3518cb1f",
      "metadata": {
        "execution": {
          "iopub.execute_input": "2024-12-04T03:08:51.083889Z",
          "iopub.status.busy": "2024-12-04T03:08:51.083433Z",
          "iopub.status.idle": "2024-12-04T03:08:51.095933Z",
          "shell.execute_reply": "2024-12-04T03:08:51.094799Z"
        },
        "id": "3518cb1f",
        "outputId": "8e60bc90-e1f3-44b6-ba47-3e0a2f442603",
        "papermill": {
          "duration": 0.032164,
          "end_time": "2024-12-04T03:08:51.098188",
          "exception": false,
          "start_time": "2024-12-04T03:08:51.066024",
          "status": "completed"
        },
        "tags": [],
        "colab": {
          "base_uri": "https://localhost:8080/",
          "height": 80
        }
      },
      "outputs": [
        {
          "output_type": "execute_result",
          "data": {
            "text/plain": [
              "MinMaxScaler()"
            ],
            "text/html": [
              "<style>#sk-container-id-1 {\n",
              "  /* Definition of color scheme common for light and dark mode */\n",
              "  --sklearn-color-text: #000;\n",
              "  --sklearn-color-text-muted: #666;\n",
              "  --sklearn-color-line: gray;\n",
              "  /* Definition of color scheme for unfitted estimators */\n",
              "  --sklearn-color-unfitted-level-0: #fff5e6;\n",
              "  --sklearn-color-unfitted-level-1: #f6e4d2;\n",
              "  --sklearn-color-unfitted-level-2: #ffe0b3;\n",
              "  --sklearn-color-unfitted-level-3: chocolate;\n",
              "  /* Definition of color scheme for fitted estimators */\n",
              "  --sklearn-color-fitted-level-0: #f0f8ff;\n",
              "  --sklearn-color-fitted-level-1: #d4ebff;\n",
              "  --sklearn-color-fitted-level-2: #b3dbfd;\n",
              "  --sklearn-color-fitted-level-3: cornflowerblue;\n",
              "\n",
              "  /* Specific color for light theme */\n",
              "  --sklearn-color-text-on-default-background: var(--sg-text-color, var(--theme-code-foreground, var(--jp-content-font-color1, black)));\n",
              "  --sklearn-color-background: var(--sg-background-color, var(--theme-background, var(--jp-layout-color0, white)));\n",
              "  --sklearn-color-border-box: var(--sg-text-color, var(--theme-code-foreground, var(--jp-content-font-color1, black)));\n",
              "  --sklearn-color-icon: #696969;\n",
              "\n",
              "  @media (prefers-color-scheme: dark) {\n",
              "    /* Redefinition of color scheme for dark theme */\n",
              "    --sklearn-color-text-on-default-background: var(--sg-text-color, var(--theme-code-foreground, var(--jp-content-font-color1, white)));\n",
              "    --sklearn-color-background: var(--sg-background-color, var(--theme-background, var(--jp-layout-color0, #111)));\n",
              "    --sklearn-color-border-box: var(--sg-text-color, var(--theme-code-foreground, var(--jp-content-font-color1, white)));\n",
              "    --sklearn-color-icon: #878787;\n",
              "  }\n",
              "}\n",
              "\n",
              "#sk-container-id-1 {\n",
              "  color: var(--sklearn-color-text);\n",
              "}\n",
              "\n",
              "#sk-container-id-1 pre {\n",
              "  padding: 0;\n",
              "}\n",
              "\n",
              "#sk-container-id-1 input.sk-hidden--visually {\n",
              "  border: 0;\n",
              "  clip: rect(1px 1px 1px 1px);\n",
              "  clip: rect(1px, 1px, 1px, 1px);\n",
              "  height: 1px;\n",
              "  margin: -1px;\n",
              "  overflow: hidden;\n",
              "  padding: 0;\n",
              "  position: absolute;\n",
              "  width: 1px;\n",
              "}\n",
              "\n",
              "#sk-container-id-1 div.sk-dashed-wrapped {\n",
              "  border: 1px dashed var(--sklearn-color-line);\n",
              "  margin: 0 0.4em 0.5em 0.4em;\n",
              "  box-sizing: border-box;\n",
              "  padding-bottom: 0.4em;\n",
              "  background-color: var(--sklearn-color-background);\n",
              "}\n",
              "\n",
              "#sk-container-id-1 div.sk-container {\n",
              "  /* jupyter's `normalize.less` sets `[hidden] { display: none; }`\n",
              "     but bootstrap.min.css set `[hidden] { display: none !important; }`\n",
              "     so we also need the `!important` here to be able to override the\n",
              "     default hidden behavior on the sphinx rendered scikit-learn.org.\n",
              "     See: https://github.com/scikit-learn/scikit-learn/issues/21755 */\n",
              "  display: inline-block !important;\n",
              "  position: relative;\n",
              "}\n",
              "\n",
              "#sk-container-id-1 div.sk-text-repr-fallback {\n",
              "  display: none;\n",
              "}\n",
              "\n",
              "div.sk-parallel-item,\n",
              "div.sk-serial,\n",
              "div.sk-item {\n",
              "  /* draw centered vertical line to link estimators */\n",
              "  background-image: linear-gradient(var(--sklearn-color-text-on-default-background), var(--sklearn-color-text-on-default-background));\n",
              "  background-size: 2px 100%;\n",
              "  background-repeat: no-repeat;\n",
              "  background-position: center center;\n",
              "}\n",
              "\n",
              "/* Parallel-specific style estimator block */\n",
              "\n",
              "#sk-container-id-1 div.sk-parallel-item::after {\n",
              "  content: \"\";\n",
              "  width: 100%;\n",
              "  border-bottom: 2px solid var(--sklearn-color-text-on-default-background);\n",
              "  flex-grow: 1;\n",
              "}\n",
              "\n",
              "#sk-container-id-1 div.sk-parallel {\n",
              "  display: flex;\n",
              "  align-items: stretch;\n",
              "  justify-content: center;\n",
              "  background-color: var(--sklearn-color-background);\n",
              "  position: relative;\n",
              "}\n",
              "\n",
              "#sk-container-id-1 div.sk-parallel-item {\n",
              "  display: flex;\n",
              "  flex-direction: column;\n",
              "}\n",
              "\n",
              "#sk-container-id-1 div.sk-parallel-item:first-child::after {\n",
              "  align-self: flex-end;\n",
              "  width: 50%;\n",
              "}\n",
              "\n",
              "#sk-container-id-1 div.sk-parallel-item:last-child::after {\n",
              "  align-self: flex-start;\n",
              "  width: 50%;\n",
              "}\n",
              "\n",
              "#sk-container-id-1 div.sk-parallel-item:only-child::after {\n",
              "  width: 0;\n",
              "}\n",
              "\n",
              "/* Serial-specific style estimator block */\n",
              "\n",
              "#sk-container-id-1 div.sk-serial {\n",
              "  display: flex;\n",
              "  flex-direction: column;\n",
              "  align-items: center;\n",
              "  background-color: var(--sklearn-color-background);\n",
              "  padding-right: 1em;\n",
              "  padding-left: 1em;\n",
              "}\n",
              "\n",
              "\n",
              "/* Toggleable style: style used for estimator/Pipeline/ColumnTransformer box that is\n",
              "clickable and can be expanded/collapsed.\n",
              "- Pipeline and ColumnTransformer use this feature and define the default style\n",
              "- Estimators will overwrite some part of the style using the `sk-estimator` class\n",
              "*/\n",
              "\n",
              "/* Pipeline and ColumnTransformer style (default) */\n",
              "\n",
              "#sk-container-id-1 div.sk-toggleable {\n",
              "  /* Default theme specific background. It is overwritten whether we have a\n",
              "  specific estimator or a Pipeline/ColumnTransformer */\n",
              "  background-color: var(--sklearn-color-background);\n",
              "}\n",
              "\n",
              "/* Toggleable label */\n",
              "#sk-container-id-1 label.sk-toggleable__label {\n",
              "  cursor: pointer;\n",
              "  display: flex;\n",
              "  width: 100%;\n",
              "  margin-bottom: 0;\n",
              "  padding: 0.5em;\n",
              "  box-sizing: border-box;\n",
              "  text-align: center;\n",
              "  align-items: start;\n",
              "  justify-content: space-between;\n",
              "  gap: 0.5em;\n",
              "}\n",
              "\n",
              "#sk-container-id-1 label.sk-toggleable__label .caption {\n",
              "  font-size: 0.6rem;\n",
              "  font-weight: lighter;\n",
              "  color: var(--sklearn-color-text-muted);\n",
              "}\n",
              "\n",
              "#sk-container-id-1 label.sk-toggleable__label-arrow:before {\n",
              "  /* Arrow on the left of the label */\n",
              "  content: \"▸\";\n",
              "  float: left;\n",
              "  margin-right: 0.25em;\n",
              "  color: var(--sklearn-color-icon);\n",
              "}\n",
              "\n",
              "#sk-container-id-1 label.sk-toggleable__label-arrow:hover:before {\n",
              "  color: var(--sklearn-color-text);\n",
              "}\n",
              "\n",
              "/* Toggleable content - dropdown */\n",
              "\n",
              "#sk-container-id-1 div.sk-toggleable__content {\n",
              "  max-height: 0;\n",
              "  max-width: 0;\n",
              "  overflow: hidden;\n",
              "  text-align: left;\n",
              "  /* unfitted */\n",
              "  background-color: var(--sklearn-color-unfitted-level-0);\n",
              "}\n",
              "\n",
              "#sk-container-id-1 div.sk-toggleable__content.fitted {\n",
              "  /* fitted */\n",
              "  background-color: var(--sklearn-color-fitted-level-0);\n",
              "}\n",
              "\n",
              "#sk-container-id-1 div.sk-toggleable__content pre {\n",
              "  margin: 0.2em;\n",
              "  border-radius: 0.25em;\n",
              "  color: var(--sklearn-color-text);\n",
              "  /* unfitted */\n",
              "  background-color: var(--sklearn-color-unfitted-level-0);\n",
              "}\n",
              "\n",
              "#sk-container-id-1 div.sk-toggleable__content.fitted pre {\n",
              "  /* unfitted */\n",
              "  background-color: var(--sklearn-color-fitted-level-0);\n",
              "}\n",
              "\n",
              "#sk-container-id-1 input.sk-toggleable__control:checked~div.sk-toggleable__content {\n",
              "  /* Expand drop-down */\n",
              "  max-height: 200px;\n",
              "  max-width: 100%;\n",
              "  overflow: auto;\n",
              "}\n",
              "\n",
              "#sk-container-id-1 input.sk-toggleable__control:checked~label.sk-toggleable__label-arrow:before {\n",
              "  content: \"▾\";\n",
              "}\n",
              "\n",
              "/* Pipeline/ColumnTransformer-specific style */\n",
              "\n",
              "#sk-container-id-1 div.sk-label input.sk-toggleable__control:checked~label.sk-toggleable__label {\n",
              "  color: var(--sklearn-color-text);\n",
              "  background-color: var(--sklearn-color-unfitted-level-2);\n",
              "}\n",
              "\n",
              "#sk-container-id-1 div.sk-label.fitted input.sk-toggleable__control:checked~label.sk-toggleable__label {\n",
              "  background-color: var(--sklearn-color-fitted-level-2);\n",
              "}\n",
              "\n",
              "/* Estimator-specific style */\n",
              "\n",
              "/* Colorize estimator box */\n",
              "#sk-container-id-1 div.sk-estimator input.sk-toggleable__control:checked~label.sk-toggleable__label {\n",
              "  /* unfitted */\n",
              "  background-color: var(--sklearn-color-unfitted-level-2);\n",
              "}\n",
              "\n",
              "#sk-container-id-1 div.sk-estimator.fitted input.sk-toggleable__control:checked~label.sk-toggleable__label {\n",
              "  /* fitted */\n",
              "  background-color: var(--sklearn-color-fitted-level-2);\n",
              "}\n",
              "\n",
              "#sk-container-id-1 div.sk-label label.sk-toggleable__label,\n",
              "#sk-container-id-1 div.sk-label label {\n",
              "  /* The background is the default theme color */\n",
              "  color: var(--sklearn-color-text-on-default-background);\n",
              "}\n",
              "\n",
              "/* On hover, darken the color of the background */\n",
              "#sk-container-id-1 div.sk-label:hover label.sk-toggleable__label {\n",
              "  color: var(--sklearn-color-text);\n",
              "  background-color: var(--sklearn-color-unfitted-level-2);\n",
              "}\n",
              "\n",
              "/* Label box, darken color on hover, fitted */\n",
              "#sk-container-id-1 div.sk-label.fitted:hover label.sk-toggleable__label.fitted {\n",
              "  color: var(--sklearn-color-text);\n",
              "  background-color: var(--sklearn-color-fitted-level-2);\n",
              "}\n",
              "\n",
              "/* Estimator label */\n",
              "\n",
              "#sk-container-id-1 div.sk-label label {\n",
              "  font-family: monospace;\n",
              "  font-weight: bold;\n",
              "  display: inline-block;\n",
              "  line-height: 1.2em;\n",
              "}\n",
              "\n",
              "#sk-container-id-1 div.sk-label-container {\n",
              "  text-align: center;\n",
              "}\n",
              "\n",
              "/* Estimator-specific */\n",
              "#sk-container-id-1 div.sk-estimator {\n",
              "  font-family: monospace;\n",
              "  border: 1px dotted var(--sklearn-color-border-box);\n",
              "  border-radius: 0.25em;\n",
              "  box-sizing: border-box;\n",
              "  margin-bottom: 0.5em;\n",
              "  /* unfitted */\n",
              "  background-color: var(--sklearn-color-unfitted-level-0);\n",
              "}\n",
              "\n",
              "#sk-container-id-1 div.sk-estimator.fitted {\n",
              "  /* fitted */\n",
              "  background-color: var(--sklearn-color-fitted-level-0);\n",
              "}\n",
              "\n",
              "/* on hover */\n",
              "#sk-container-id-1 div.sk-estimator:hover {\n",
              "  /* unfitted */\n",
              "  background-color: var(--sklearn-color-unfitted-level-2);\n",
              "}\n",
              "\n",
              "#sk-container-id-1 div.sk-estimator.fitted:hover {\n",
              "  /* fitted */\n",
              "  background-color: var(--sklearn-color-fitted-level-2);\n",
              "}\n",
              "\n",
              "/* Specification for estimator info (e.g. \"i\" and \"?\") */\n",
              "\n",
              "/* Common style for \"i\" and \"?\" */\n",
              "\n",
              ".sk-estimator-doc-link,\n",
              "a:link.sk-estimator-doc-link,\n",
              "a:visited.sk-estimator-doc-link {\n",
              "  float: right;\n",
              "  font-size: smaller;\n",
              "  line-height: 1em;\n",
              "  font-family: monospace;\n",
              "  background-color: var(--sklearn-color-background);\n",
              "  border-radius: 1em;\n",
              "  height: 1em;\n",
              "  width: 1em;\n",
              "  text-decoration: none !important;\n",
              "  margin-left: 0.5em;\n",
              "  text-align: center;\n",
              "  /* unfitted */\n",
              "  border: var(--sklearn-color-unfitted-level-1) 1pt solid;\n",
              "  color: var(--sklearn-color-unfitted-level-1);\n",
              "}\n",
              "\n",
              ".sk-estimator-doc-link.fitted,\n",
              "a:link.sk-estimator-doc-link.fitted,\n",
              "a:visited.sk-estimator-doc-link.fitted {\n",
              "  /* fitted */\n",
              "  border: var(--sklearn-color-fitted-level-1) 1pt solid;\n",
              "  color: var(--sklearn-color-fitted-level-1);\n",
              "}\n",
              "\n",
              "/* On hover */\n",
              "div.sk-estimator:hover .sk-estimator-doc-link:hover,\n",
              ".sk-estimator-doc-link:hover,\n",
              "div.sk-label-container:hover .sk-estimator-doc-link:hover,\n",
              ".sk-estimator-doc-link:hover {\n",
              "  /* unfitted */\n",
              "  background-color: var(--sklearn-color-unfitted-level-3);\n",
              "  color: var(--sklearn-color-background);\n",
              "  text-decoration: none;\n",
              "}\n",
              "\n",
              "div.sk-estimator.fitted:hover .sk-estimator-doc-link.fitted:hover,\n",
              ".sk-estimator-doc-link.fitted:hover,\n",
              "div.sk-label-container:hover .sk-estimator-doc-link.fitted:hover,\n",
              ".sk-estimator-doc-link.fitted:hover {\n",
              "  /* fitted */\n",
              "  background-color: var(--sklearn-color-fitted-level-3);\n",
              "  color: var(--sklearn-color-background);\n",
              "  text-decoration: none;\n",
              "}\n",
              "\n",
              "/* Span, style for the box shown on hovering the info icon */\n",
              ".sk-estimator-doc-link span {\n",
              "  display: none;\n",
              "  z-index: 9999;\n",
              "  position: relative;\n",
              "  font-weight: normal;\n",
              "  right: .2ex;\n",
              "  padding: .5ex;\n",
              "  margin: .5ex;\n",
              "  width: min-content;\n",
              "  min-width: 20ex;\n",
              "  max-width: 50ex;\n",
              "  color: var(--sklearn-color-text);\n",
              "  box-shadow: 2pt 2pt 4pt #999;\n",
              "  /* unfitted */\n",
              "  background: var(--sklearn-color-unfitted-level-0);\n",
              "  border: .5pt solid var(--sklearn-color-unfitted-level-3);\n",
              "}\n",
              "\n",
              ".sk-estimator-doc-link.fitted span {\n",
              "  /* fitted */\n",
              "  background: var(--sklearn-color-fitted-level-0);\n",
              "  border: var(--sklearn-color-fitted-level-3);\n",
              "}\n",
              "\n",
              ".sk-estimator-doc-link:hover span {\n",
              "  display: block;\n",
              "}\n",
              "\n",
              "/* \"?\"-specific style due to the `<a>` HTML tag */\n",
              "\n",
              "#sk-container-id-1 a.estimator_doc_link {\n",
              "  float: right;\n",
              "  font-size: 1rem;\n",
              "  line-height: 1em;\n",
              "  font-family: monospace;\n",
              "  background-color: var(--sklearn-color-background);\n",
              "  border-radius: 1rem;\n",
              "  height: 1rem;\n",
              "  width: 1rem;\n",
              "  text-decoration: none;\n",
              "  /* unfitted */\n",
              "  color: var(--sklearn-color-unfitted-level-1);\n",
              "  border: var(--sklearn-color-unfitted-level-1) 1pt solid;\n",
              "}\n",
              "\n",
              "#sk-container-id-1 a.estimator_doc_link.fitted {\n",
              "  /* fitted */\n",
              "  border: var(--sklearn-color-fitted-level-1) 1pt solid;\n",
              "  color: var(--sklearn-color-fitted-level-1);\n",
              "}\n",
              "\n",
              "/* On hover */\n",
              "#sk-container-id-1 a.estimator_doc_link:hover {\n",
              "  /* unfitted */\n",
              "  background-color: var(--sklearn-color-unfitted-level-3);\n",
              "  color: var(--sklearn-color-background);\n",
              "  text-decoration: none;\n",
              "}\n",
              "\n",
              "#sk-container-id-1 a.estimator_doc_link.fitted:hover {\n",
              "  /* fitted */\n",
              "  background-color: var(--sklearn-color-fitted-level-3);\n",
              "}\n",
              "</style><div id=\"sk-container-id-1\" class=\"sk-top-container\"><div class=\"sk-text-repr-fallback\"><pre>MinMaxScaler()</pre><b>In a Jupyter environment, please rerun this cell to show the HTML representation or trust the notebook. <br />On GitHub, the HTML representation is unable to render, please try loading this page with nbviewer.org.</b></div><div class=\"sk-container\" hidden><div class=\"sk-item\"><div class=\"sk-estimator fitted sk-toggleable\"><input class=\"sk-toggleable__control sk-hidden--visually\" id=\"sk-estimator-id-1\" type=\"checkbox\" checked><label for=\"sk-estimator-id-1\" class=\"sk-toggleable__label fitted sk-toggleable__label-arrow\"><div><div>MinMaxScaler</div></div><div><a class=\"sk-estimator-doc-link fitted\" rel=\"noreferrer\" target=\"_blank\" href=\"https://scikit-learn.org/1.6/modules/generated/sklearn.preprocessing.MinMaxScaler.html\">?<span>Documentation for MinMaxScaler</span></a><span class=\"sk-estimator-doc-link fitted\">i<span>Fitted</span></span></div></label><div class=\"sk-toggleable__content fitted\"><pre>MinMaxScaler()</pre></div> </div></div></div></div>"
            ]
          },
          "metadata": {},
          "execution_count": 14
        }
      ],
      "source": [
        "scaler = MinMaxScaler(feature_range=(0,1))\n",
        "scaler.fit(data[['close']].values)"
      ]
    },
    {
      "cell_type": "code",
      "execution_count": 15,
      "id": "7d717619",
      "metadata": {
        "execution": {
          "iopub.execute_input": "2024-12-04T03:08:51.133538Z",
          "iopub.status.busy": "2024-12-04T03:08:51.13252Z",
          "iopub.status.idle": "2024-12-04T03:08:51.14166Z",
          "shell.execute_reply": "2024-12-04T03:08:51.14055Z"
        },
        "id": "7d717619",
        "papermill": {
          "duration": 0.029393,
          "end_time": "2024-12-04T03:08:51.143738",
          "exception": false,
          "start_time": "2024-12-04T03:08:51.114345",
          "status": "completed"
        },
        "tags": []
      },
      "outputs": [],
      "source": [
        "train_close = scaler.transform(train_df[['close']].values)\n",
        "test_close = scaler.transform(test_df[['close']].values)\n",
        "val_close = scaler.transform(val_df[['close']].values)"
      ]
    },
    {
      "cell_type": "code",
      "execution_count": 16,
      "id": "9e1ab858",
      "metadata": {
        "execution": {
          "iopub.execute_input": "2024-12-04T03:08:51.177784Z",
          "iopub.status.busy": "2024-12-04T03:08:51.177396Z",
          "iopub.status.idle": "2024-12-04T03:08:51.184809Z",
          "shell.execute_reply": "2024-12-04T03:08:51.183675Z"
        },
        "id": "9e1ab858",
        "outputId": "0f2d33a3-4d6b-4f1c-9a86-f32c48ebb1d3",
        "papermill": {
          "duration": 0.027054,
          "end_time": "2024-12-04T03:08:51.18698",
          "exception": false,
          "start_time": "2024-12-04T03:08:51.159926",
          "status": "completed"
        },
        "tags": [],
        "colab": {
          "base_uri": "https://localhost:8080/"
        }
      },
      "outputs": [
        {
          "output_type": "execute_result",
          "data": {
            "text/plain": [
              "array([[0.02698372],\n",
              "       [0.02733443],\n",
              "       [0.02271575],\n",
              "       [0.01265823],\n",
              "       [0.01373196]])"
            ]
          },
          "metadata": {},
          "execution_count": 16
        }
      ],
      "source": [
        "train_close[:5]"
      ]
    },
    {
      "cell_type": "code",
      "execution_count": 17,
      "id": "b3bb033b",
      "metadata": {
        "execution": {
          "iopub.execute_input": "2024-12-04T03:08:51.22094Z",
          "iopub.status.busy": "2024-12-04T03:08:51.220553Z",
          "iopub.status.idle": "2024-12-04T03:08:51.226842Z",
          "shell.execute_reply": "2024-12-04T03:08:51.225605Z"
        },
        "id": "b3bb033b",
        "papermill": {
          "duration": 0.026195,
          "end_time": "2024-12-04T03:08:51.22927",
          "exception": false,
          "start_time": "2024-12-04T03:08:51.203075",
          "status": "completed"
        },
        "tags": []
      },
      "outputs": [],
      "source": [
        "def get_x_y(values: np.array, size=100):\n",
        "  X = []\n",
        "  y = []\n",
        "  for i in range(size, len(values)):\n",
        "    X.append(values[i - size: i])\n",
        "    y.append(values[i, 0])\n",
        "  return np.array(X), np.array(y)"
      ]
    },
    {
      "cell_type": "code",
      "execution_count": 18,
      "id": "0460b86e",
      "metadata": {
        "execution": {
          "iopub.execute_input": "2024-12-04T03:08:51.263952Z",
          "iopub.status.busy": "2024-12-04T03:08:51.26357Z",
          "iopub.status.idle": "2024-12-04T03:08:51.271045Z",
          "shell.execute_reply": "2024-12-04T03:08:51.270091Z"
        },
        "id": "0460b86e",
        "papermill": {
          "duration": 0.02736,
          "end_time": "2024-12-04T03:08:51.273471",
          "exception": false,
          "start_time": "2024-12-04T03:08:51.246111",
          "status": "completed"
        },
        "tags": []
      },
      "outputs": [],
      "source": [
        "size = 100\n",
        "X_train, y_train = get_x_y(train_close, size)\n",
        "X_test, y_test = get_x_y(test_close, size)\n",
        "X_val, y_val = get_x_y(val_close, size)"
      ]
    },
    {
      "cell_type": "code",
      "execution_count": 19,
      "id": "cd298d5b",
      "metadata": {
        "execution": {
          "iopub.execute_input": "2024-12-04T03:08:51.308087Z",
          "iopub.status.busy": "2024-12-04T03:08:51.307699Z",
          "iopub.status.idle": "2024-12-04T03:08:51.314937Z",
          "shell.execute_reply": "2024-12-04T03:08:51.313784Z"
        },
        "id": "cd298d5b",
        "outputId": "0e6ffb4b-af37-43cf-d278-352ce9213f7c",
        "papermill": {
          "duration": 0.027018,
          "end_time": "2024-12-04T03:08:51.31702",
          "exception": false,
          "start_time": "2024-12-04T03:08:51.290002",
          "status": "completed"
        },
        "tags": [],
        "colab": {
          "base_uri": "https://localhost:8080/"
        }
      },
      "outputs": [
        {
          "output_type": "execute_result",
          "data": {
            "text/plain": [
              "((654, 100, 1), (654,))"
            ]
          },
          "metadata": {},
          "execution_count": 19
        }
      ],
      "source": [
        "X_train.shape, y_train.shape"
      ]
    },
    {
      "cell_type": "markdown",
      "id": "34b4f00a",
      "metadata": {
        "id": "34b4f00a",
        "papermill": {
          "duration": 0.015629,
          "end_time": "2024-12-04T03:08:51.348689",
          "exception": false,
          "start_time": "2024-12-04T03:08:51.33306",
          "status": "completed"
        },
        "tags": []
      },
      "source": [
        "## Model Training"
      ]
    },
    {
      "cell_type": "code",
      "execution_count": 20,
      "id": "ed2d8379",
      "metadata": {
        "execution": {
          "iopub.execute_input": "2024-12-04T03:08:51.38327Z",
          "iopub.status.busy": "2024-12-04T03:08:51.382348Z",
          "iopub.status.idle": "2024-12-04T03:09:05.378346Z",
          "shell.execute_reply": "2024-12-04T03:09:05.377042Z"
        },
        "id": "ed2d8379",
        "papermill": {
          "duration": 14.016304,
          "end_time": "2024-12-04T03:09:05.380987",
          "exception": false,
          "start_time": "2024-12-04T03:08:51.364683",
          "status": "completed"
        },
        "tags": []
      },
      "outputs": [],
      "source": [
        "import tensorflow.keras as keras\n",
        "import tensorflow.keras.layers as layers\n",
        "import tensorflow.keras.optimizers as optimizers\n",
        "import tensorflow.keras.losses as losses\n",
        "\n",
        "import tensorflow.keras.models as models"
      ]
    },
    {
      "cell_type": "code",
      "execution_count": 21,
      "id": "7be96eff",
      "metadata": {
        "execution": {
          "iopub.execute_input": "2024-12-04T03:09:05.415511Z",
          "iopub.status.busy": "2024-12-04T03:09:05.414637Z",
          "iopub.status.idle": "2024-12-04T03:09:05.610425Z",
          "shell.execute_reply": "2024-12-04T03:09:05.609245Z"
        },
        "id": "7be96eff",
        "papermill": {
          "duration": 0.216199,
          "end_time": "2024-12-04T03:09:05.613453",
          "exception": false,
          "start_time": "2024-12-04T03:09:05.397254",
          "status": "completed"
        },
        "tags": []
      },
      "outputs": [],
      "source": [
        "model = models.Sequential(\n",
        "    [\n",
        "        keras.Input(shape=(X_train.shape[1], 1)),\n",
        "\n",
        "        layers.LSTM(units=50, activation='relu', return_sequences=True),\n",
        "        layers.Dropout(0.5),\n",
        "\n",
        "        layers.LSTM(units=60, activation='relu', return_sequences=True),\n",
        "        layers.Dropout(0.5),\n",
        "\n",
        "        layers.LSTM(units=80, activation='relu', return_sequences=True),\n",
        "        layers.Dropout(0.5),\n",
        "\n",
        "        layers.LSTM(units=120, activation='relu'),\n",
        "        layers.Dropout(0.5),\n",
        "\n",
        "        layers.Dense(units=1)\n",
        "    ]\n",
        ")"
      ]
    },
    {
      "cell_type": "code",
      "execution_count": 22,
      "id": "ec8bde76",
      "metadata": {
        "execution": {
          "iopub.execute_input": "2024-12-04T03:09:05.648911Z",
          "iopub.status.busy": "2024-12-04T03:09:05.648441Z",
          "iopub.status.idle": "2024-12-04T03:09:05.676009Z",
          "shell.execute_reply": "2024-12-04T03:09:05.674807Z"
        },
        "id": "ec8bde76",
        "outputId": "a410f02d-1f91-4fad-85e7-5a11abef8ff3",
        "papermill": {
          "duration": 0.048029,
          "end_time": "2024-12-04T03:09:05.678673",
          "exception": false,
          "start_time": "2024-12-04T03:09:05.630644",
          "status": "completed"
        },
        "tags": [],
        "colab": {
          "base_uri": "https://localhost:8080/",
          "height": 417
        }
      },
      "outputs": [
        {
          "output_type": "display_data",
          "data": {
            "text/plain": [
              "\u001b[1mModel: \"sequential\"\u001b[0m\n"
            ],
            "text/html": [
              "<pre style=\"white-space:pre;overflow-x:auto;line-height:normal;font-family:Menlo,'DejaVu Sans Mono',consolas,'Courier New',monospace\"><span style=\"font-weight: bold\">Model: \"sequential\"</span>\n",
              "</pre>\n"
            ]
          },
          "metadata": {}
        },
        {
          "output_type": "display_data",
          "data": {
            "text/plain": [
              "┏━━━━━━━━━━━━━━━━━━━━━━━━━━━━━━━━━┳━━━━━━━━━━━━━━━━━━━━━━━━┳━━━━━━━━━━━━━━━┓\n",
              "┃\u001b[1m \u001b[0m\u001b[1mLayer (type)                   \u001b[0m\u001b[1m \u001b[0m┃\u001b[1m \u001b[0m\u001b[1mOutput Shape          \u001b[0m\u001b[1m \u001b[0m┃\u001b[1m \u001b[0m\u001b[1m      Param #\u001b[0m\u001b[1m \u001b[0m┃\n",
              "┡━━━━━━━━━━━━━━━━━━━━━━━━━━━━━━━━━╇━━━━━━━━━━━━━━━━━━━━━━━━╇━━━━━━━━━━━━━━━┩\n",
              "│ lstm (\u001b[38;5;33mLSTM\u001b[0m)                     │ (\u001b[38;5;45mNone\u001b[0m, \u001b[38;5;34m100\u001b[0m, \u001b[38;5;34m50\u001b[0m)        │        \u001b[38;5;34m10,400\u001b[0m │\n",
              "├─────────────────────────────────┼────────────────────────┼───────────────┤\n",
              "│ dropout (\u001b[38;5;33mDropout\u001b[0m)               │ (\u001b[38;5;45mNone\u001b[0m, \u001b[38;5;34m100\u001b[0m, \u001b[38;5;34m50\u001b[0m)        │             \u001b[38;5;34m0\u001b[0m │\n",
              "├─────────────────────────────────┼────────────────────────┼───────────────┤\n",
              "│ lstm_1 (\u001b[38;5;33mLSTM\u001b[0m)                   │ (\u001b[38;5;45mNone\u001b[0m, \u001b[38;5;34m100\u001b[0m, \u001b[38;5;34m60\u001b[0m)        │        \u001b[38;5;34m26,640\u001b[0m │\n",
              "├─────────────────────────────────┼────────────────────────┼───────────────┤\n",
              "│ dropout_1 (\u001b[38;5;33mDropout\u001b[0m)             │ (\u001b[38;5;45mNone\u001b[0m, \u001b[38;5;34m100\u001b[0m, \u001b[38;5;34m60\u001b[0m)        │             \u001b[38;5;34m0\u001b[0m │\n",
              "├─────────────────────────────────┼────────────────────────┼───────────────┤\n",
              "│ lstm_2 (\u001b[38;5;33mLSTM\u001b[0m)                   │ (\u001b[38;5;45mNone\u001b[0m, \u001b[38;5;34m100\u001b[0m, \u001b[38;5;34m80\u001b[0m)        │        \u001b[38;5;34m45,120\u001b[0m │\n",
              "├─────────────────────────────────┼────────────────────────┼───────────────┤\n",
              "│ dropout_2 (\u001b[38;5;33mDropout\u001b[0m)             │ (\u001b[38;5;45mNone\u001b[0m, \u001b[38;5;34m100\u001b[0m, \u001b[38;5;34m80\u001b[0m)        │             \u001b[38;5;34m0\u001b[0m │\n",
              "├─────────────────────────────────┼────────────────────────┼───────────────┤\n",
              "│ lstm_3 (\u001b[38;5;33mLSTM\u001b[0m)                   │ (\u001b[38;5;45mNone\u001b[0m, \u001b[38;5;34m120\u001b[0m)            │        \u001b[38;5;34m96,480\u001b[0m │\n",
              "├─────────────────────────────────┼────────────────────────┼───────────────┤\n",
              "│ dropout_3 (\u001b[38;5;33mDropout\u001b[0m)             │ (\u001b[38;5;45mNone\u001b[0m, \u001b[38;5;34m120\u001b[0m)            │             \u001b[38;5;34m0\u001b[0m │\n",
              "├─────────────────────────────────┼────────────────────────┼───────────────┤\n",
              "│ dense (\u001b[38;5;33mDense\u001b[0m)                   │ (\u001b[38;5;45mNone\u001b[0m, \u001b[38;5;34m1\u001b[0m)              │           \u001b[38;5;34m121\u001b[0m │\n",
              "└─────────────────────────────────┴────────────────────────┴───────────────┘\n"
            ],
            "text/html": [
              "<pre style=\"white-space:pre;overflow-x:auto;line-height:normal;font-family:Menlo,'DejaVu Sans Mono',consolas,'Courier New',monospace\">┏━━━━━━━━━━━━━━━━━━━━━━━━━━━━━━━━━┳━━━━━━━━━━━━━━━━━━━━━━━━┳━━━━━━━━━━━━━━━┓\n",
              "┃<span style=\"font-weight: bold\"> Layer (type)                    </span>┃<span style=\"font-weight: bold\"> Output Shape           </span>┃<span style=\"font-weight: bold\">       Param # </span>┃\n",
              "┡━━━━━━━━━━━━━━━━━━━━━━━━━━━━━━━━━╇━━━━━━━━━━━━━━━━━━━━━━━━╇━━━━━━━━━━━━━━━┩\n",
              "│ lstm (<span style=\"color: #0087ff; text-decoration-color: #0087ff\">LSTM</span>)                     │ (<span style=\"color: #00d7ff; text-decoration-color: #00d7ff\">None</span>, <span style=\"color: #00af00; text-decoration-color: #00af00\">100</span>, <span style=\"color: #00af00; text-decoration-color: #00af00\">50</span>)        │        <span style=\"color: #00af00; text-decoration-color: #00af00\">10,400</span> │\n",
              "├─────────────────────────────────┼────────────────────────┼───────────────┤\n",
              "│ dropout (<span style=\"color: #0087ff; text-decoration-color: #0087ff\">Dropout</span>)               │ (<span style=\"color: #00d7ff; text-decoration-color: #00d7ff\">None</span>, <span style=\"color: #00af00; text-decoration-color: #00af00\">100</span>, <span style=\"color: #00af00; text-decoration-color: #00af00\">50</span>)        │             <span style=\"color: #00af00; text-decoration-color: #00af00\">0</span> │\n",
              "├─────────────────────────────────┼────────────────────────┼───────────────┤\n",
              "│ lstm_1 (<span style=\"color: #0087ff; text-decoration-color: #0087ff\">LSTM</span>)                   │ (<span style=\"color: #00d7ff; text-decoration-color: #00d7ff\">None</span>, <span style=\"color: #00af00; text-decoration-color: #00af00\">100</span>, <span style=\"color: #00af00; text-decoration-color: #00af00\">60</span>)        │        <span style=\"color: #00af00; text-decoration-color: #00af00\">26,640</span> │\n",
              "├─────────────────────────────────┼────────────────────────┼───────────────┤\n",
              "│ dropout_1 (<span style=\"color: #0087ff; text-decoration-color: #0087ff\">Dropout</span>)             │ (<span style=\"color: #00d7ff; text-decoration-color: #00d7ff\">None</span>, <span style=\"color: #00af00; text-decoration-color: #00af00\">100</span>, <span style=\"color: #00af00; text-decoration-color: #00af00\">60</span>)        │             <span style=\"color: #00af00; text-decoration-color: #00af00\">0</span> │\n",
              "├─────────────────────────────────┼────────────────────────┼───────────────┤\n",
              "│ lstm_2 (<span style=\"color: #0087ff; text-decoration-color: #0087ff\">LSTM</span>)                   │ (<span style=\"color: #00d7ff; text-decoration-color: #00d7ff\">None</span>, <span style=\"color: #00af00; text-decoration-color: #00af00\">100</span>, <span style=\"color: #00af00; text-decoration-color: #00af00\">80</span>)        │        <span style=\"color: #00af00; text-decoration-color: #00af00\">45,120</span> │\n",
              "├─────────────────────────────────┼────────────────────────┼───────────────┤\n",
              "│ dropout_2 (<span style=\"color: #0087ff; text-decoration-color: #0087ff\">Dropout</span>)             │ (<span style=\"color: #00d7ff; text-decoration-color: #00d7ff\">None</span>, <span style=\"color: #00af00; text-decoration-color: #00af00\">100</span>, <span style=\"color: #00af00; text-decoration-color: #00af00\">80</span>)        │             <span style=\"color: #00af00; text-decoration-color: #00af00\">0</span> │\n",
              "├─────────────────────────────────┼────────────────────────┼───────────────┤\n",
              "│ lstm_3 (<span style=\"color: #0087ff; text-decoration-color: #0087ff\">LSTM</span>)                   │ (<span style=\"color: #00d7ff; text-decoration-color: #00d7ff\">None</span>, <span style=\"color: #00af00; text-decoration-color: #00af00\">120</span>)            │        <span style=\"color: #00af00; text-decoration-color: #00af00\">96,480</span> │\n",
              "├─────────────────────────────────┼────────────────────────┼───────────────┤\n",
              "│ dropout_3 (<span style=\"color: #0087ff; text-decoration-color: #0087ff\">Dropout</span>)             │ (<span style=\"color: #00d7ff; text-decoration-color: #00d7ff\">None</span>, <span style=\"color: #00af00; text-decoration-color: #00af00\">120</span>)            │             <span style=\"color: #00af00; text-decoration-color: #00af00\">0</span> │\n",
              "├─────────────────────────────────┼────────────────────────┼───────────────┤\n",
              "│ dense (<span style=\"color: #0087ff; text-decoration-color: #0087ff\">Dense</span>)                   │ (<span style=\"color: #00d7ff; text-decoration-color: #00d7ff\">None</span>, <span style=\"color: #00af00; text-decoration-color: #00af00\">1</span>)              │           <span style=\"color: #00af00; text-decoration-color: #00af00\">121</span> │\n",
              "└─────────────────────────────────┴────────────────────────┴───────────────┘\n",
              "</pre>\n"
            ]
          },
          "metadata": {}
        },
        {
          "output_type": "display_data",
          "data": {
            "text/plain": [
              "\u001b[1m Total params: \u001b[0m\u001b[38;5;34m178,761\u001b[0m (698.29 KB)\n"
            ],
            "text/html": [
              "<pre style=\"white-space:pre;overflow-x:auto;line-height:normal;font-family:Menlo,'DejaVu Sans Mono',consolas,'Courier New',monospace\"><span style=\"font-weight: bold\"> Total params: </span><span style=\"color: #00af00; text-decoration-color: #00af00\">178,761</span> (698.29 KB)\n",
              "</pre>\n"
            ]
          },
          "metadata": {}
        },
        {
          "output_type": "display_data",
          "data": {
            "text/plain": [
              "\u001b[1m Trainable params: \u001b[0m\u001b[38;5;34m178,761\u001b[0m (698.29 KB)\n"
            ],
            "text/html": [
              "<pre style=\"white-space:pre;overflow-x:auto;line-height:normal;font-family:Menlo,'DejaVu Sans Mono',consolas,'Courier New',monospace\"><span style=\"font-weight: bold\"> Trainable params: </span><span style=\"color: #00af00; text-decoration-color: #00af00\">178,761</span> (698.29 KB)\n",
              "</pre>\n"
            ]
          },
          "metadata": {}
        },
        {
          "output_type": "display_data",
          "data": {
            "text/plain": [
              "\u001b[1m Non-trainable params: \u001b[0m\u001b[38;5;34m0\u001b[0m (0.00 B)\n"
            ],
            "text/html": [
              "<pre style=\"white-space:pre;overflow-x:auto;line-height:normal;font-family:Menlo,'DejaVu Sans Mono',consolas,'Courier New',monospace\"><span style=\"font-weight: bold\"> Non-trainable params: </span><span style=\"color: #00af00; text-decoration-color: #00af00\">0</span> (0.00 B)\n",
              "</pre>\n"
            ]
          },
          "metadata": {}
        }
      ],
      "source": [
        "model.summary()"
      ]
    },
    {
      "cell_type": "code",
      "execution_count": 23,
      "id": "21f8fe47",
      "metadata": {
        "execution": {
          "iopub.execute_input": "2024-12-04T03:09:05.715967Z",
          "iopub.status.busy": "2024-12-04T03:09:05.715587Z",
          "iopub.status.idle": "2024-12-04T03:09:05.723229Z",
          "shell.execute_reply": "2024-12-04T03:09:05.721681Z"
        },
        "id": "21f8fe47",
        "papermill": {
          "duration": 0.029508,
          "end_time": "2024-12-04T03:09:05.725734",
          "exception": false,
          "start_time": "2024-12-04T03:09:05.696226",
          "status": "completed"
        },
        "tags": []
      },
      "outputs": [],
      "source": [
        "def min_i(data):\n",
        "  min_val, min_index = np.inf,  0\n",
        "  for i in range(100):\n",
        "    if min_val > data[i]:\n",
        "      min_val = data[i]\n",
        "      min_index = i\n",
        "  return min_index, min_val\n",
        "\n",
        "\n",
        "\n",
        "def plot_multiples(histories, metric_name: str, title: str = None):\n",
        "  if title is None:\n",
        "    title = metric_name\n",
        "  for d in histories.keys():\n",
        "    h = histories[d]\n",
        "    sns.lineplot(h.history[metric_name], label=str(d))\n",
        "    plt.title(title)\n",
        "  plt.show()"
      ]
    },
    {
      "cell_type": "markdown",
      "id": "ad26d961",
      "metadata": {
        "id": "ad26d961",
        "papermill": {
          "duration": 0.016276,
          "end_time": "2024-12-04T03:09:05.760842",
          "exception": false,
          "start_time": "2024-12-04T03:09:05.744566",
          "status": "completed"
        },
        "tags": []
      },
      "source": [
        "## Parameter optimization"
      ]
    },
    {
      "cell_type": "markdown",
      "id": "e3be7c3a",
      "metadata": {
        "id": "e3be7c3a",
        "papermill": {
          "duration": 0.015764,
          "end_time": "2024-12-04T03:09:05.792963",
          "exception": false,
          "start_time": "2024-12-04T03:09:05.777199",
          "status": "completed"
        },
        "tags": []
      },
      "source": [
        "### Dropout rate"
      ]
    },
    {
      "cell_type": "code",
      "execution_count": 24,
      "id": "d2dcd86a",
      "metadata": {
        "execution": {
          "iopub.execute_input": "2024-12-04T03:09:05.827704Z",
          "iopub.status.busy": "2024-12-04T03:09:05.827243Z",
          "iopub.status.idle": "2024-12-04T03:09:05.832974Z",
          "shell.execute_reply": "2024-12-04T03:09:05.83182Z"
        },
        "id": "d2dcd86a",
        "papermill": {
          "duration": 0.026025,
          "end_time": "2024-12-04T03:09:05.835274",
          "exception": false,
          "start_time": "2024-12-04T03:09:05.809249",
          "status": "completed"
        },
        "tags": []
      },
      "outputs": [],
      "source": [
        "import tqdm"
      ]
    },
    {
      "cell_type": "code",
      "execution_count": 25,
      "id": "d691497a",
      "metadata": {
        "execution": {
          "iopub.execute_input": "2024-12-04T03:09:05.870465Z",
          "iopub.status.busy": "2024-12-04T03:09:05.869999Z",
          "iopub.status.idle": "2024-12-04T03:09:05.877865Z",
          "shell.execute_reply": "2024-12-04T03:09:05.876755Z"
        },
        "id": "d691497a",
        "papermill": {
          "duration": 0.028089,
          "end_time": "2024-12-04T03:09:05.879961",
          "exception": false,
          "start_time": "2024-12-04T03:09:05.851872",
          "status": "completed"
        },
        "tags": []
      },
      "outputs": [],
      "source": [
        "def create_model(lstms: list[int] = [50, 60, 80], dropout_rate=0.2) -> models.Sequential:\n",
        "\n",
        "  model = models.Sequential()\n",
        "\n",
        "  model.add(keras.Input(shape=(X_train.shape[1], 1)))\n",
        "\n",
        "\n",
        "  for i in range(len(lstms) - 1):\n",
        "\n",
        "    u = lstms[i]\n",
        "\n",
        "    model.add(layers.LSTM(units=u, activation='relu', return_sequences=True))\n",
        "\n",
        "    model.add(layers.Dropout(dropout_rate))\n",
        "\n",
        "\n",
        "  model.add(layers.LSTM(units=lstms[-1], activation='relu'))\n",
        "\n",
        "  model.add(layers.Dropout(dropout_rate))\n",
        "\n",
        "\n",
        "  model.add(layers.Dense(units=1))\n",
        "\n",
        "\n",
        "  return model"
      ]
    },
    {
      "cell_type": "code",
      "execution_count": 26,
      "id": "30e24c0f",
      "metadata": {
        "execution": {
          "iopub.execute_input": "2024-12-04T03:09:05.915165Z",
          "iopub.status.busy": "2024-12-04T03:09:05.914726Z",
          "iopub.status.idle": "2024-12-04T03:09:05.921816Z",
          "shell.execute_reply": "2024-12-04T03:09:05.920634Z"
        },
        "id": "30e24c0f",
        "papermill": {
          "duration": 0.027444,
          "end_time": "2024-12-04T03:09:05.923939",
          "exception": false,
          "start_time": "2024-12-04T03:09:05.896495",
          "status": "completed"
        },
        "tags": []
      },
      "outputs": [],
      "source": [
        "def dropout_parameter_tuning(dropouts: list, epochs=20):\n",
        "\n",
        "  histories = {}\n",
        "\n",
        "  for d in tqdm.tqdm(dropouts, total=len(dropouts)):\n",
        "\n",
        "    model = create_model(dropout_rate=d)\n",
        "\n",
        "    model.compile(optimizer=optimizers.Adam(), loss=losses.MeanSquaredError(), metrics=[losses.MeanAbsoluteError()])\n",
        "\n",
        "    history = model.fit(X_train, y_train, epochs=epochs, validation_data=(X_test, y_test))\n",
        "\n",
        "    histories[d] = history\n",
        "\n",
        "\n",
        "\n",
        "  return histories"
      ]
    },
    {
      "cell_type": "code",
      "execution_count": null,
      "id": "fce5cd4c",
      "metadata": {
        "execution": {
          "iopub.execute_input": "2024-12-04T03:09:05.958798Z",
          "iopub.status.busy": "2024-12-04T03:09:05.958369Z",
          "iopub.status.idle": "2024-12-04T03:12:54.887302Z",
          "shell.execute_reply": "2024-12-04T03:12:54.88585Z"
        },
        "id": "fce5cd4c",
        "outputId": "f8bdaee0-e23c-4289-b92d-278bb98fc554",
        "papermill": {
          "duration": 228.949506,
          "end_time": "2024-12-04T03:12:54.889911",
          "exception": false,
          "start_time": "2024-12-04T03:09:05.940405",
          "status": "completed"
        },
        "tags": [],
        "colab": {
          "base_uri": "https://localhost:8080/"
        }
      },
      "outputs": [
        {
          "output_type": "stream",
          "name": "stderr",
          "text": [
            "\r  0%|          | 0/3 [00:00<?, ?it/s]"
          ]
        },
        {
          "output_type": "stream",
          "name": "stdout",
          "text": [
            "Epoch 1/20\n"
          ]
        }
      ],
      "source": [
        "hists = dropout_parameter_tuning([0.2, 0.5, 0.8])"
      ]
    },
    {
      "cell_type": "code",
      "execution_count": null,
      "id": "f201e1e5",
      "metadata": {
        "execution": {
          "iopub.execute_input": "2024-12-04T03:12:55.077195Z",
          "iopub.status.busy": "2024-12-04T03:12:55.076644Z",
          "iopub.status.idle": "2024-12-04T03:12:55.44503Z",
          "shell.execute_reply": "2024-12-04T03:12:55.443872Z"
        },
        "id": "f201e1e5",
        "papermill": {
          "duration": 0.464257,
          "end_time": "2024-12-04T03:12:55.447214",
          "exception": false,
          "start_time": "2024-12-04T03:12:54.982957",
          "status": "completed"
        },
        "tags": []
      },
      "outputs": [],
      "source": [
        "plot_multiples(hists, 'loss', 'Traning Losses')"
      ]
    },
    {
      "cell_type": "code",
      "execution_count": null,
      "id": "b6518b5a",
      "metadata": {
        "execution": {
          "iopub.execute_input": "2024-12-04T03:12:55.634303Z",
          "iopub.status.busy": "2024-12-04T03:12:55.633831Z",
          "iopub.status.idle": "2024-12-04T03:12:55.969824Z",
          "shell.execute_reply": "2024-12-04T03:12:55.968603Z"
        },
        "id": "b6518b5a",
        "papermill": {
          "duration": 0.432745,
          "end_time": "2024-12-04T03:12:55.972279",
          "exception": false,
          "start_time": "2024-12-04T03:12:55.539534",
          "status": "completed"
        },
        "tags": []
      },
      "outputs": [],
      "source": [
        "plot_multiples(hists, 'val_loss', 'Traning Losses')"
      ]
    },
    {
      "cell_type": "code",
      "execution_count": null,
      "id": "d14b2421",
      "metadata": {
        "execution": {
          "iopub.execute_input": "2024-12-04T03:12:56.171202Z",
          "iopub.status.busy": "2024-12-04T03:12:56.170813Z",
          "iopub.status.idle": "2024-12-04T03:12:56.518164Z",
          "shell.execute_reply": "2024-12-04T03:12:56.516906Z"
        },
        "id": "d14b2421",
        "papermill": {
          "duration": 0.448778,
          "end_time": "2024-12-04T03:12:56.520325",
          "exception": false,
          "start_time": "2024-12-04T03:12:56.071547",
          "status": "completed"
        },
        "tags": []
      },
      "outputs": [],
      "source": [
        "plot_multiples(hists, 'mean_absolute_error', 'Train MAE')"
      ]
    },
    {
      "cell_type": "code",
      "execution_count": null,
      "id": "7190f845",
      "metadata": {
        "execution": {
          "iopub.execute_input": "2024-12-04T03:12:56.715654Z",
          "iopub.status.busy": "2024-12-04T03:12:56.714277Z",
          "iopub.status.idle": "2024-12-04T03:12:57.067503Z",
          "shell.execute_reply": "2024-12-04T03:12:57.066379Z"
        },
        "id": "7190f845",
        "papermill": {
          "duration": 0.454425,
          "end_time": "2024-12-04T03:12:57.069647",
          "exception": false,
          "start_time": "2024-12-04T03:12:56.615222",
          "status": "completed"
        },
        "tags": []
      },
      "outputs": [],
      "source": [
        "plot_multiples(hists, 'val_mean_absolute_error', 'Val MAE')"
      ]
    },
    {
      "cell_type": "code",
      "execution_count": null,
      "id": "759e717b",
      "metadata": {
        "execution": {
          "iopub.execute_input": "2024-12-04T03:12:57.264775Z",
          "iopub.status.busy": "2024-12-04T03:12:57.2643Z",
          "iopub.status.idle": "2024-12-04T03:12:57.269588Z",
          "shell.execute_reply": "2024-12-04T03:12:57.268357Z"
        },
        "id": "759e717b",
        "papermill": {
          "duration": 0.105191,
          "end_time": "2024-12-04T03:12:57.271957",
          "exception": false,
          "start_time": "2024-12-04T03:12:57.166766",
          "status": "completed"
        },
        "tags": []
      },
      "outputs": [],
      "source": [
        "dropout_rate = 0.2"
      ]
    },
    {
      "cell_type": "markdown",
      "id": "2c27fc0d",
      "metadata": {
        "id": "2c27fc0d",
        "papermill": {
          "duration": 0.09434,
          "end_time": "2024-12-04T03:12:57.461254",
          "exception": false,
          "start_time": "2024-12-04T03:12:57.366914",
          "status": "completed"
        },
        "tags": []
      },
      "source": [
        "### Learning rate"
      ]
    },
    {
      "cell_type": "code",
      "execution_count": null,
      "id": "36f3a631",
      "metadata": {
        "execution": {
          "iopub.execute_input": "2024-12-04T03:12:57.659092Z",
          "iopub.status.busy": "2024-12-04T03:12:57.658318Z",
          "iopub.status.idle": "2024-12-04T03:12:57.66607Z",
          "shell.execute_reply": "2024-12-04T03:12:57.665036Z"
        },
        "id": "36f3a631",
        "papermill": {
          "duration": 0.109785,
          "end_time": "2024-12-04T03:12:57.668657",
          "exception": false,
          "start_time": "2024-12-04T03:12:57.558872",
          "status": "completed"
        },
        "tags": []
      },
      "outputs": [],
      "source": [
        "def learning_rates_tuning(learning_rates: list, epochs=20):\n",
        "\n",
        "  histories = {}\n",
        "\n",
        "  for l in tqdm.tqdm(learning_rates, total=len(learning_rates)):\n",
        "\n",
        "    model = create_model(dropout_rate=dropout_rate)\n",
        "\n",
        "    model.compile(optimizer=optimizers.Adam(l), loss=losses.MeanSquaredError(), metrics=[losses.MeanAbsoluteError()])\n",
        "\n",
        "    history = model.fit(X_train, y_train, epochs=epochs, validation_data=(X_test, y_test))\n",
        "\n",
        "    histories[l] = history\n",
        "\n",
        "\n",
        "\n",
        "  return histories"
      ]
    },
    {
      "cell_type": "code",
      "execution_count": null,
      "id": "1dabd594",
      "metadata": {
        "execution": {
          "iopub.execute_input": "2024-12-04T03:12:57.862954Z",
          "iopub.status.busy": "2024-12-04T03:12:57.862596Z",
          "iopub.status.idle": "2024-12-04T03:12:57.868357Z",
          "shell.execute_reply": "2024-12-04T03:12:57.867178Z"
        },
        "id": "1dabd594",
        "papermill": {
          "duration": 0.106024,
          "end_time": "2024-12-04T03:12:57.8707",
          "exception": false,
          "start_time": "2024-12-04T03:12:57.764676",
          "status": "completed"
        },
        "tags": []
      },
      "outputs": [],
      "source": [
        "learning_rates = [0.0005, 0.001, 0.01, 0.1, 1.0, 5.0]"
      ]
    },
    {
      "cell_type": "code",
      "execution_count": null,
      "id": "8b741788",
      "metadata": {
        "execution": {
          "iopub.execute_input": "2024-12-04T03:12:58.066398Z",
          "iopub.status.busy": "2024-12-04T03:12:58.065977Z",
          "iopub.status.idle": "2024-12-04T03:20:29.86194Z",
          "shell.execute_reply": "2024-12-04T03:20:29.860488Z"
        },
        "id": "8b741788",
        "papermill": {
          "duration": 451.896176,
          "end_time": "2024-12-04T03:20:29.864449",
          "exception": false,
          "start_time": "2024-12-04T03:12:57.968273",
          "status": "completed"
        },
        "tags": []
      },
      "outputs": [],
      "source": [
        "lr_hists = learning_rates_tuning(learning_rates)"
      ]
    },
    {
      "cell_type": "code",
      "execution_count": null,
      "id": "3f95baac",
      "metadata": {
        "execution": {
          "iopub.execute_input": "2024-12-04T03:20:30.390531Z",
          "iopub.status.busy": "2024-12-04T03:20:30.390038Z",
          "iopub.status.idle": "2024-12-04T03:20:30.734265Z",
          "shell.execute_reply": "2024-12-04T03:20:30.732825Z"
        },
        "id": "3f95baac",
        "papermill": {
          "duration": 0.613462,
          "end_time": "2024-12-04T03:20:30.736672",
          "exception": false,
          "start_time": "2024-12-04T03:20:30.12321",
          "status": "completed"
        },
        "tags": []
      },
      "outputs": [],
      "source": [
        "plt.ylim((0.00,0.0025))\n",
        "\n",
        "plot_multiples(lr_hists, 'loss', 'Traning Losses')"
      ]
    },
    {
      "cell_type": "code",
      "execution_count": null,
      "id": "e7f02df1",
      "metadata": {
        "execution": {
          "iopub.execute_input": "2024-12-04T03:20:31.260658Z",
          "iopub.status.busy": "2024-12-04T03:20:31.25983Z",
          "iopub.status.idle": "2024-12-04T03:20:31.643737Z",
          "shell.execute_reply": "2024-12-04T03:20:31.642672Z"
        },
        "id": "e7f02df1",
        "papermill": {
          "duration": 0.647585,
          "end_time": "2024-12-04T03:20:31.646016",
          "exception": false,
          "start_time": "2024-12-04T03:20:30.998431",
          "status": "completed"
        },
        "tags": []
      },
      "outputs": [],
      "source": [
        "plt.ylim((0.00,0.0125))\n",
        "\n",
        "plot_multiples(lr_hists, 'val_loss', 'Val Losses')"
      ]
    },
    {
      "cell_type": "code",
      "execution_count": null,
      "id": "17ec02fe",
      "metadata": {
        "execution": {
          "iopub.execute_input": "2024-12-04T03:20:32.229027Z",
          "iopub.status.busy": "2024-12-04T03:20:32.22861Z",
          "iopub.status.idle": "2024-12-04T03:20:32.584903Z",
          "shell.execute_reply": "2024-12-04T03:20:32.583642Z"
        },
        "id": "17ec02fe",
        "papermill": {
          "duration": 0.619109,
          "end_time": "2024-12-04T03:20:32.587325",
          "exception": false,
          "start_time": "2024-12-04T03:20:31.968216",
          "status": "completed"
        },
        "tags": []
      },
      "outputs": [],
      "source": [
        "plt.ylim((0.015,0.03))\n",
        "\n",
        "plot_multiples(lr_hists, 'mean_absolute_error', 'Train MAE')"
      ]
    },
    {
      "cell_type": "code",
      "execution_count": null,
      "id": "66a652c7",
      "metadata": {
        "execution": {
          "iopub.execute_input": "2024-12-04T03:20:33.161711Z",
          "iopub.status.busy": "2024-12-04T03:20:33.161324Z",
          "iopub.status.idle": "2024-12-04T03:20:33.525219Z",
          "shell.execute_reply": "2024-12-04T03:20:33.523919Z"
        },
        "id": "66a652c7",
        "papermill": {
          "duration": 0.652422,
          "end_time": "2024-12-04T03:20:33.527646",
          "exception": false,
          "start_time": "2024-12-04T03:20:32.875224",
          "status": "completed"
        },
        "tags": []
      },
      "outputs": [],
      "source": [
        "plt.ylim((0.04,0.10))\n",
        "\n",
        "plot_multiples(lr_hists, 'val_mean_absolute_error', 'Val MAE')"
      ]
    },
    {
      "cell_type": "code",
      "execution_count": null,
      "id": "3199f564",
      "metadata": {
        "execution": {
          "iopub.execute_input": "2024-12-04T03:20:34.059551Z",
          "iopub.status.busy": "2024-12-04T03:20:34.059112Z",
          "iopub.status.idle": "2024-12-04T03:20:34.064956Z",
          "shell.execute_reply": "2024-12-04T03:20:34.063556Z"
        },
        "id": "3199f564",
        "papermill": {
          "duration": 0.273818,
          "end_time": "2024-12-04T03:20:34.067274",
          "exception": false,
          "start_time": "2024-12-04T03:20:33.793456",
          "status": "completed"
        },
        "tags": []
      },
      "outputs": [],
      "source": [
        "learning_rate = 0.001"
      ]
    },
    {
      "cell_type": "markdown",
      "id": "ebacbb18",
      "metadata": {
        "id": "ebacbb18",
        "papermill": {
          "duration": 0.260337,
          "end_time": "2024-12-04T03:20:34.675619",
          "exception": false,
          "start_time": "2024-12-04T03:20:34.415282",
          "status": "completed"
        },
        "tags": []
      },
      "source": [
        "## Model Training"
      ]
    },
    {
      "cell_type": "code",
      "execution_count": null,
      "id": "5707085b",
      "metadata": {
        "execution": {
          "iopub.execute_input": "2024-12-04T03:20:35.207226Z",
          "iopub.status.busy": "2024-12-04T03:20:35.206659Z",
          "iopub.status.idle": "2024-12-04T03:20:35.212425Z",
          "shell.execute_reply": "2024-12-04T03:20:35.211013Z"
        },
        "id": "5707085b",
        "papermill": {
          "duration": 0.274585,
          "end_time": "2024-12-04T03:20:35.214955",
          "exception": false,
          "start_time": "2024-12-04T03:20:34.94037",
          "status": "completed"
        },
        "tags": []
      },
      "outputs": [],
      "source": [
        "from tensorflow.keras import callbacks"
      ]
    },
    {
      "cell_type": "code",
      "execution_count": null,
      "id": "e8032b5e",
      "metadata": {
        "execution": {
          "iopub.execute_input": "2024-12-04T03:20:35.833291Z",
          "iopub.status.busy": "2024-12-04T03:20:35.832011Z",
          "iopub.status.idle": "2024-12-04T03:20:35.838226Z",
          "shell.execute_reply": "2024-12-04T03:20:35.836966Z"
        },
        "id": "e8032b5e",
        "papermill": {
          "duration": 0.356396,
          "end_time": "2024-12-04T03:20:35.840484",
          "exception": false,
          "start_time": "2024-12-04T03:20:35.484088",
          "status": "completed"
        },
        "tags": []
      },
      "outputs": [],
      "source": [
        "checkpoints = callbacks.ModelCheckpoint(\"model/stock_pediction-{epoch:02d}-{val_loss:.2f}.weights.h5\",\n",
        "\n",
        "                                        monitor='val_mean_absolute_error',\n",
        "\n",
        "                                        mode='min',\n",
        "\n",
        "                                        save_best_only=True,\n",
        "\n",
        "                                        save_weights_only=True)"
      ]
    },
    {
      "cell_type": "code",
      "execution_count": null,
      "id": "8d2d34a5",
      "metadata": {
        "execution": {
          "iopub.execute_input": "2024-12-04T03:20:36.367929Z",
          "iopub.status.busy": "2024-12-04T03:20:36.366775Z",
          "iopub.status.idle": "2024-12-04T03:23:41.03182Z",
          "shell.execute_reply": "2024-12-04T03:23:41.03057Z"
        },
        "id": "8d2d34a5",
        "papermill": {
          "duration": 184.932571,
          "end_time": "2024-12-04T03:23:41.034526",
          "exception": false,
          "start_time": "2024-12-04T03:20:36.101955",
          "status": "completed"
        },
        "tags": []
      },
      "outputs": [],
      "source": [
        "model = create_model(dropout_rate=dropout_rate)\n",
        "\n",
        "model.compile(optimizer=optimizers.Adam(learning_rate), loss=losses.MeanSquaredError(), metrics=[losses.MeanAbsoluteError()])\n",
        "\n",
        "history = model.fit(X_train, y_train, epochs=50, validation_data=(X_test, y_test), callbacks=[checkpoints])"
      ]
    },
    {
      "cell_type": "code",
      "execution_count": null,
      "id": "1f355f73",
      "metadata": {
        "execution": {
          "iopub.execute_input": "2024-12-04T03:23:41.777407Z",
          "iopub.status.busy": "2024-12-04T03:23:41.776186Z",
          "iopub.status.idle": "2024-12-04T03:23:42.047839Z",
          "shell.execute_reply": "2024-12-04T03:23:42.046456Z"
        },
        "id": "1f355f73",
        "papermill": {
          "duration": 0.694132,
          "end_time": "2024-12-04T03:23:42.050275",
          "exception": false,
          "start_time": "2024-12-04T03:23:41.356143",
          "status": "completed"
        },
        "tags": []
      },
      "outputs": [],
      "source": [
        "plt.ylim(0.00, 0.01)\n",
        "\n",
        "sns.lineplot(history.history['loss'], label=\"Traning\")\n",
        "\n",
        "sns.lineplot(history.history['val_loss'], label=\"Test\")\n",
        "\n",
        "plt.show()"
      ]
    },
    {
      "cell_type": "code",
      "execution_count": null,
      "id": "cff20558",
      "metadata": {
        "execution": {
          "iopub.execute_input": "2024-12-04T03:23:42.725103Z",
          "iopub.status.busy": "2024-12-04T03:23:42.724709Z",
          "iopub.status.idle": "2024-12-04T03:23:43.014113Z",
          "shell.execute_reply": "2024-12-04T03:23:43.013013Z"
        },
        "id": "cff20558",
        "papermill": {
          "duration": 0.63284,
          "end_time": "2024-12-04T03:23:43.016518",
          "exception": false,
          "start_time": "2024-12-04T03:23:42.383678",
          "status": "completed"
        },
        "tags": []
      },
      "outputs": [],
      "source": [
        "plt.ylim(0.00, 0.1)\n",
        "\n",
        "sns.lineplot(history.history['mean_absolute_error'], label=\"Traning\")\n",
        "\n",
        "sns.lineplot(history.history['val_mean_absolute_error'], label=\"Test\")\n",
        "\n",
        "plt.show()"
      ]
    },
    {
      "cell_type": "code",
      "execution_count": null,
      "id": "c6dcf635",
      "metadata": {
        "execution": {
          "iopub.execute_input": "2024-12-04T03:23:43.690944Z",
          "iopub.status.busy": "2024-12-04T03:23:43.690546Z",
          "iopub.status.idle": "2024-12-04T03:23:43.698749Z",
          "shell.execute_reply": "2024-12-04T03:23:43.697527Z"
        },
        "id": "c6dcf635",
        "papermill": {
          "duration": 0.344127,
          "end_time": "2024-12-04T03:23:43.701038",
          "exception": false,
          "start_time": "2024-12-04T03:23:43.356911",
          "status": "completed"
        },
        "tags": []
      },
      "outputs": [],
      "source": [
        "min_val, min_index = np.inf,  0\n",
        "\n",
        "for i in range(50):\n",
        "\n",
        "  if min_val > history.history[\"val_mean_absolute_error\"][i]:\n",
        "\n",
        "    min_val = history.history[\"val_mean_absolute_error\"][i]\n",
        "\n",
        "    min_index = i\n",
        "\n",
        "min_index, min_val"
      ]
    },
    {
      "cell_type": "markdown",
      "id": "f577a867",
      "metadata": {
        "id": "f577a867",
        "papermill": {
          "duration": 0.318795,
          "end_time": "2024-12-04T03:23:44.407689",
          "exception": false,
          "start_time": "2024-12-04T03:23:44.088894",
          "status": "completed"
        },
        "tags": []
      },
      "source": [
        "## Predictions"
      ]
    },
    {
      "cell_type": "code",
      "execution_count": null,
      "id": "a1548c91",
      "metadata": {
        "execution": {
          "iopub.execute_input": "2024-12-04T03:23:45.047507Z",
          "iopub.status.busy": "2024-12-04T03:23:45.046248Z",
          "iopub.status.idle": "2024-12-04T03:23:45.219886Z",
          "shell.execute_reply": "2024-12-04T03:23:45.218671Z"
        },
        "id": "a1548c91",
        "papermill": {
          "duration": 0.498587,
          "end_time": "2024-12-04T03:23:45.222807",
          "exception": false,
          "start_time": "2024-12-04T03:23:44.72422",
          "status": "completed"
        },
        "tags": []
      },
      "outputs": [],
      "source": [
        "stock_model = create_model(dropout_rate=dropout_rate)\n",
        "stock_model.load_weights(\"/kaggle/input/stock-predictor/keras/default/1/stock_pediction-49-0.00.weights.h5\")"
      ]
    },
    {
      "cell_type": "code",
      "execution_count": null,
      "id": "c19cedda",
      "metadata": {
        "execution": {
          "iopub.execute_input": "2024-12-04T03:23:45.945975Z",
          "iopub.status.busy": "2024-12-04T03:23:45.945524Z",
          "iopub.status.idle": "2024-12-04T03:23:47.111475Z",
          "shell.execute_reply": "2024-12-04T03:23:47.110334Z"
        },
        "id": "c19cedda",
        "papermill": {
          "duration": 1.553922,
          "end_time": "2024-12-04T03:23:47.113772",
          "exception": false,
          "start_time": "2024-12-04T03:23:45.55985",
          "status": "completed"
        },
        "tags": []
      },
      "outputs": [],
      "source": [
        "y_preds = stock_model.predict(X_val)\n",
        "y_preds.shape"
      ]
    },
    {
      "cell_type": "code",
      "execution_count": null,
      "id": "d9631f4d",
      "metadata": {
        "execution": {
          "iopub.execute_input": "2024-12-04T03:23:47.772164Z",
          "iopub.status.busy": "2024-12-04T03:23:47.770939Z",
          "iopub.status.idle": "2024-12-04T03:23:47.779874Z",
          "shell.execute_reply": "2024-12-04T03:23:47.778633Z"
        },
        "id": "d9631f4d",
        "papermill": {
          "duration": 0.345338,
          "end_time": "2024-12-04T03:23:47.782619",
          "exception": false,
          "start_time": "2024-12-04T03:23:47.437281",
          "status": "completed"
        },
        "tags": []
      },
      "outputs": [],
      "source": [
        "pred_prices = scaler.inverse_transform(y_preds).reshape(-1)\n",
        "actaul_prices = val_df['close'].values\n",
        "pred_prices.shape, X_val.shape, actaul_prices.shape"
      ]
    },
    {
      "cell_type": "code",
      "execution_count": null,
      "id": "13558444",
      "metadata": {
        "execution": {
          "iopub.execute_input": "2024-12-04T03:23:48.487426Z",
          "iopub.status.busy": "2024-12-04T03:23:48.486947Z",
          "iopub.status.idle": "2024-12-04T03:23:48.493203Z",
          "shell.execute_reply": "2024-12-04T03:23:48.491824Z"
        },
        "id": "13558444",
        "papermill": {
          "duration": 0.390269,
          "end_time": "2024-12-04T03:23:48.4956",
          "exception": false,
          "start_time": "2024-12-04T03:23:48.105331",
          "status": "completed"
        },
        "tags": []
      },
      "outputs": [],
      "source": [
        "d = np.array(list(zip(actaul_prices, pred_prices)))"
      ]
    },
    {
      "cell_type": "code",
      "execution_count": null,
      "id": "6c5f7f9c",
      "metadata": {
        "execution": {
          "iopub.execute_input": "2024-12-04T03:23:49.146895Z",
          "iopub.status.busy": "2024-12-04T03:23:49.145817Z",
          "iopub.status.idle": "2024-12-04T03:23:49.363754Z",
          "shell.execute_reply": "2024-12-04T03:23:49.362165Z"
        },
        "id": "6c5f7f9c",
        "papermill": {
          "duration": 0.54173,
          "end_time": "2024-12-04T03:23:49.366429",
          "exception": false,
          "start_time": "2024-12-04T03:23:48.824699",
          "status": "completed"
        },
        "tags": []
      },
      "outputs": [],
      "source": [
        "window_size = X_val.shape[1] + 1\n",
        "sns.lineplot(x=range(actaul_prices.shape[0]), y=actaul_prices, label=\"Original\")\n",
        "sns.lineplot(x=range(window_size + 1, window_size + X_val.shape[0] + 1), y=pred_prices, label=\"Prediction\")\n",
        "plt.show()"
      ]
    },
    {
      "cell_type": "markdown",
      "id": "13e40962",
      "metadata": {
        "id": "13e40962",
        "papermill": {
          "duration": 0.331835,
          "end_time": "2024-12-04T03:23:50.035438",
          "exception": false,
          "start_time": "2024-12-04T03:23:49.703603",
          "status": "completed"
        },
        "tags": []
      },
      "source": [
        "## Evaluate"
      ]
    },
    {
      "cell_type": "code",
      "execution_count": null,
      "id": "b88ceef0",
      "metadata": {
        "execution": {
          "iopub.execute_input": "2024-12-04T03:23:50.7966Z",
          "iopub.status.busy": "2024-12-04T03:23:50.795438Z",
          "iopub.status.idle": "2024-12-04T03:23:50.90841Z",
          "shell.execute_reply": "2024-12-04T03:23:50.907156Z"
        },
        "id": "b88ceef0",
        "papermill": {
          "duration": 0.539229,
          "end_time": "2024-12-04T03:23:50.910906",
          "exception": false,
          "start_time": "2024-12-04T03:23:50.371677",
          "status": "completed"
        },
        "tags": []
      },
      "outputs": [],
      "source": [
        "import sklearn\n",
        "from sklearn.metrics import mean_absolute_error, r2_score"
      ]
    },
    {
      "cell_type": "code",
      "execution_count": null,
      "id": "e76ce44a",
      "metadata": {
        "execution": {
          "iopub.execute_input": "2024-12-04T03:23:51.557875Z",
          "iopub.status.busy": "2024-12-04T03:23:51.557458Z",
          "iopub.status.idle": "2024-12-04T03:23:51.566303Z",
          "shell.execute_reply": "2024-12-04T03:23:51.564938Z"
        },
        "id": "e76ce44a",
        "papermill": {
          "duration": 0.335573,
          "end_time": "2024-12-04T03:23:51.569014",
          "exception": false,
          "start_time": "2024-12-04T03:23:51.233441",
          "status": "completed"
        },
        "tags": []
      },
      "outputs": [],
      "source": [
        "org_prices = scaler.inverse_transform(y_val.reshape(len(y_val), 1)).reshape(-1)\n",
        "mae = mean_absolute_error(org_prices, pred_prices)\n",
        "maep = (mae / np.mean(org_prices)) * 100\n",
        "print(maep)"
      ]
    },
    {
      "cell_type": "code",
      "execution_count": null,
      "id": "0db74196",
      "metadata": {
        "execution": {
          "iopub.execute_input": "2024-12-04T03:23:52.309002Z",
          "iopub.status.busy": "2024-12-04T03:23:52.308605Z",
          "iopub.status.idle": "2024-12-04T03:23:52.316607Z",
          "shell.execute_reply": "2024-12-04T03:23:52.315347Z"
        },
        "id": "0db74196",
        "papermill": {
          "duration": 0.408622,
          "end_time": "2024-12-04T03:23:52.319363",
          "exception": false,
          "start_time": "2024-12-04T03:23:51.910741",
          "status": "completed"
        },
        "tags": []
      },
      "outputs": [],
      "source": [
        "r2_score(org_prices, pred_prices)"
      ]
    },
    {
      "cell_type": "code",
      "execution_count": null,
      "id": "1cc205b0",
      "metadata": {
        "execution": {
          "iopub.execute_input": "2024-12-04T03:23:53.009588Z",
          "iopub.status.busy": "2024-12-04T03:23:53.009042Z",
          "iopub.status.idle": "2024-12-04T03:23:53.017135Z",
          "shell.execute_reply": "2024-12-04T03:23:53.015955Z"
        },
        "id": "1cc205b0",
        "papermill": {
          "duration": 0.381261,
          "end_time": "2024-12-04T03:23:53.019288",
          "exception": false,
          "start_time": "2024-12-04T03:23:52.638027",
          "status": "completed"
        },
        "tags": []
      },
      "outputs": [],
      "source": [
        "org_prices.shape, pred_prices.shape"
      ]
    },
    {
      "cell_type": "code",
      "execution_count": null,
      "id": "d46c6f56",
      "metadata": {
        "execution": {
          "iopub.execute_input": "2024-12-04T03:23:53.718915Z",
          "iopub.status.busy": "2024-12-04T03:23:53.718452Z",
          "iopub.status.idle": "2024-12-04T03:23:53.920508Z",
          "shell.execute_reply": "2024-12-04T03:23:53.919034Z"
        },
        "id": "d46c6f56",
        "papermill": {
          "duration": 0.583998,
          "end_time": "2024-12-04T03:23:53.923183",
          "exception": false,
          "start_time": "2024-12-04T03:23:53.339185",
          "status": "completed"
        },
        "tags": []
      },
      "outputs": [],
      "source": [
        "sns.scatterplot(x=org_prices, y=pred_prices)\n",
        "sns.lineplot(x=[min(org_prices), max(org_prices)], y=[min(pred_prices), max(pred_prices)], )\n",
        "plt.show()"
      ]
    }
  ],
  "metadata": {
    "colab": {
      "provenance": [],
      "name": "stock-prediction",
      "include_colab_link": true
    },
    "kaggle": {
      "accelerator": "none",
      "dataSources": [
        {
          "datasetId": 1266890,
          "sourceId": 2329928,
          "sourceType": "datasetVersion"
        },
        {
          "isSourceIdPinned": true,
          "modelId": 182338,
          "modelInstanceId": 159961,
          "sourceId": 187633,
          "sourceType": "modelInstanceVersion"
        }
      ],
      "dockerImageVersionId": 30804,
      "isGpuEnabled": false,
      "isInternetEnabled": true,
      "language": "python",
      "sourceType": "notebook"
    },
    "kernelspec": {
      "display_name": "Python 3",
      "language": "python",
      "name": "python3"
    },
    "language_info": {
      "codemirror_mode": {
        "name": "ipython",
        "version": 3
      },
      "file_extension": ".py",
      "mimetype": "text/x-python",
      "name": "python",
      "nbconvert_exporter": "python",
      "pygments_lexer": "ipython3",
      "version": "3.10.14"
    },
    "papermill": {
      "default_parameters": {},
      "duration": 913.559669,
      "end_time": "2024-12-04T03:23:57.704704",
      "environment_variables": {},
      "exception": null,
      "input_path": "__notebook__.ipynb",
      "output_path": "__notebook__.ipynb",
      "parameters": {},
      "start_time": "2024-12-04T03:08:44.145035",
      "version": "2.6.0"
    },
    "widgets": {
      "application/vnd.jupyter.widget-state+json": {
        "6dcbcfa63be94dd5bd8523d711f6ba2c": {
          "model_module": "@jupyter-widgets/controls",
          "model_name": "HBoxModel",
          "model_module_version": "1.5.0",
          "state": {
            "_dom_classes": [],
            "_model_module": "@jupyter-widgets/controls",
            "_model_module_version": "1.5.0",
            "_model_name": "HBoxModel",
            "_view_count": null,
            "_view_module": "@jupyter-widgets/controls",
            "_view_module_version": "1.5.0",
            "_view_name": "HBoxView",
            "box_style": "",
            "children": [
              "IPY_MODEL_afd8cf0f86da41cda2348426befe7296",
              "IPY_MODEL_150c01f0c11b47a2a91985092e79457a",
              "IPY_MODEL_702416f39be8476e84d9cfacb981e8b7"
            ],
            "layout": "IPY_MODEL_7f5cf1a47a064f2f847546bd82ec913e"
          }
        },
        "afd8cf0f86da41cda2348426befe7296": {
          "model_module": "@jupyter-widgets/controls",
          "model_name": "HTMLModel",
          "model_module_version": "1.5.0",
          "state": {
            "_dom_classes": [],
            "_model_module": "@jupyter-widgets/controls",
            "_model_module_version": "1.5.0",
            "_model_name": "HTMLModel",
            "_view_count": null,
            "_view_module": "@jupyter-widgets/controls",
            "_view_module_version": "1.5.0",
            "_view_name": "HTMLView",
            "description": "",
            "description_tooltip": null,
            "layout": "IPY_MODEL_29a06679755843e3bfbfc473c054ffc3",
            "placeholder": "​",
            "style": "IPY_MODEL_e87b5e3625f345ff9d730f18f4138460",
            "value": "Downloading 1 files: 100%"
          }
        },
        "150c01f0c11b47a2a91985092e79457a": {
          "model_module": "@jupyter-widgets/controls",
          "model_name": "FloatProgressModel",
          "model_module_version": "1.5.0",
          "state": {
            "_dom_classes": [],
            "_model_module": "@jupyter-widgets/controls",
            "_model_module_version": "1.5.0",
            "_model_name": "FloatProgressModel",
            "_view_count": null,
            "_view_module": "@jupyter-widgets/controls",
            "_view_module_version": "1.5.0",
            "_view_name": "ProgressView",
            "bar_style": "success",
            "description": "",
            "description_tooltip": null,
            "layout": "IPY_MODEL_2c7f5513981c4e9fa7913bb1b43f683c",
            "max": 1,
            "min": 0,
            "orientation": "horizontal",
            "style": "IPY_MODEL_503a7fe1fc4a4803ab8dbaaf3ab2283a",
            "value": 1
          }
        },
        "702416f39be8476e84d9cfacb981e8b7": {
          "model_module": "@jupyter-widgets/controls",
          "model_name": "HTMLModel",
          "model_module_version": "1.5.0",
          "state": {
            "_dom_classes": [],
            "_model_module": "@jupyter-widgets/controls",
            "_model_module_version": "1.5.0",
            "_model_name": "HTMLModel",
            "_view_count": null,
            "_view_module": "@jupyter-widgets/controls",
            "_view_module_version": "1.5.0",
            "_view_name": "HTMLView",
            "description": "",
            "description_tooltip": null,
            "layout": "IPY_MODEL_cfd24e2ae3be4e1f82bd8f1bf8570d6c",
            "placeholder": "​",
            "style": "IPY_MODEL_9a7a44106a78470b9da57bb34e703263",
            "value": " 1/1 [00:01&lt;00:00,  1.38s/it]"
          }
        },
        "7f5cf1a47a064f2f847546bd82ec913e": {
          "model_module": "@jupyter-widgets/base",
          "model_name": "LayoutModel",
          "model_module_version": "1.2.0",
          "state": {
            "_model_module": "@jupyter-widgets/base",
            "_model_module_version": "1.2.0",
            "_model_name": "LayoutModel",
            "_view_count": null,
            "_view_module": "@jupyter-widgets/base",
            "_view_module_version": "1.2.0",
            "_view_name": "LayoutView",
            "align_content": null,
            "align_items": null,
            "align_self": null,
            "border": null,
            "bottom": null,
            "display": null,
            "flex": null,
            "flex_flow": null,
            "grid_area": null,
            "grid_auto_columns": null,
            "grid_auto_flow": null,
            "grid_auto_rows": null,
            "grid_column": null,
            "grid_gap": null,
            "grid_row": null,
            "grid_template_areas": null,
            "grid_template_columns": null,
            "grid_template_rows": null,
            "height": null,
            "justify_content": null,
            "justify_items": null,
            "left": null,
            "margin": null,
            "max_height": null,
            "max_width": null,
            "min_height": null,
            "min_width": null,
            "object_fit": null,
            "object_position": null,
            "order": null,
            "overflow": null,
            "overflow_x": null,
            "overflow_y": null,
            "padding": null,
            "right": null,
            "top": null,
            "visibility": null,
            "width": null
          }
        },
        "29a06679755843e3bfbfc473c054ffc3": {
          "model_module": "@jupyter-widgets/base",
          "model_name": "LayoutModel",
          "model_module_version": "1.2.0",
          "state": {
            "_model_module": "@jupyter-widgets/base",
            "_model_module_version": "1.2.0",
            "_model_name": "LayoutModel",
            "_view_count": null,
            "_view_module": "@jupyter-widgets/base",
            "_view_module_version": "1.2.0",
            "_view_name": "LayoutView",
            "align_content": null,
            "align_items": null,
            "align_self": null,
            "border": null,
            "bottom": null,
            "display": null,
            "flex": null,
            "flex_flow": null,
            "grid_area": null,
            "grid_auto_columns": null,
            "grid_auto_flow": null,
            "grid_auto_rows": null,
            "grid_column": null,
            "grid_gap": null,
            "grid_row": null,
            "grid_template_areas": null,
            "grid_template_columns": null,
            "grid_template_rows": null,
            "height": null,
            "justify_content": null,
            "justify_items": null,
            "left": null,
            "margin": null,
            "max_height": null,
            "max_width": null,
            "min_height": null,
            "min_width": null,
            "object_fit": null,
            "object_position": null,
            "order": null,
            "overflow": null,
            "overflow_x": null,
            "overflow_y": null,
            "padding": null,
            "right": null,
            "top": null,
            "visibility": null,
            "width": null
          }
        },
        "e87b5e3625f345ff9d730f18f4138460": {
          "model_module": "@jupyter-widgets/controls",
          "model_name": "DescriptionStyleModel",
          "model_module_version": "1.5.0",
          "state": {
            "_model_module": "@jupyter-widgets/controls",
            "_model_module_version": "1.5.0",
            "_model_name": "DescriptionStyleModel",
            "_view_count": null,
            "_view_module": "@jupyter-widgets/base",
            "_view_module_version": "1.2.0",
            "_view_name": "StyleView",
            "description_width": ""
          }
        },
        "2c7f5513981c4e9fa7913bb1b43f683c": {
          "model_module": "@jupyter-widgets/base",
          "model_name": "LayoutModel",
          "model_module_version": "1.2.0",
          "state": {
            "_model_module": "@jupyter-widgets/base",
            "_model_module_version": "1.2.0",
            "_model_name": "LayoutModel",
            "_view_count": null,
            "_view_module": "@jupyter-widgets/base",
            "_view_module_version": "1.2.0",
            "_view_name": "LayoutView",
            "align_content": null,
            "align_items": null,
            "align_self": null,
            "border": null,
            "bottom": null,
            "display": null,
            "flex": null,
            "flex_flow": null,
            "grid_area": null,
            "grid_auto_columns": null,
            "grid_auto_flow": null,
            "grid_auto_rows": null,
            "grid_column": null,
            "grid_gap": null,
            "grid_row": null,
            "grid_template_areas": null,
            "grid_template_columns": null,
            "grid_template_rows": null,
            "height": null,
            "justify_content": null,
            "justify_items": null,
            "left": null,
            "margin": null,
            "max_height": null,
            "max_width": null,
            "min_height": null,
            "min_width": null,
            "object_fit": null,
            "object_position": null,
            "order": null,
            "overflow": null,
            "overflow_x": null,
            "overflow_y": null,
            "padding": null,
            "right": null,
            "top": null,
            "visibility": null,
            "width": null
          }
        },
        "503a7fe1fc4a4803ab8dbaaf3ab2283a": {
          "model_module": "@jupyter-widgets/controls",
          "model_name": "ProgressStyleModel",
          "model_module_version": "1.5.0",
          "state": {
            "_model_module": "@jupyter-widgets/controls",
            "_model_module_version": "1.5.0",
            "_model_name": "ProgressStyleModel",
            "_view_count": null,
            "_view_module": "@jupyter-widgets/base",
            "_view_module_version": "1.2.0",
            "_view_name": "StyleView",
            "bar_color": null,
            "description_width": ""
          }
        },
        "cfd24e2ae3be4e1f82bd8f1bf8570d6c": {
          "model_module": "@jupyter-widgets/base",
          "model_name": "LayoutModel",
          "model_module_version": "1.2.0",
          "state": {
            "_model_module": "@jupyter-widgets/base",
            "_model_module_version": "1.2.0",
            "_model_name": "LayoutModel",
            "_view_count": null,
            "_view_module": "@jupyter-widgets/base",
            "_view_module_version": "1.2.0",
            "_view_name": "LayoutView",
            "align_content": null,
            "align_items": null,
            "align_self": null,
            "border": null,
            "bottom": null,
            "display": null,
            "flex": null,
            "flex_flow": null,
            "grid_area": null,
            "grid_auto_columns": null,
            "grid_auto_flow": null,
            "grid_auto_rows": null,
            "grid_column": null,
            "grid_gap": null,
            "grid_row": null,
            "grid_template_areas": null,
            "grid_template_columns": null,
            "grid_template_rows": null,
            "height": null,
            "justify_content": null,
            "justify_items": null,
            "left": null,
            "margin": null,
            "max_height": null,
            "max_width": null,
            "min_height": null,
            "min_width": null,
            "object_fit": null,
            "object_position": null,
            "order": null,
            "overflow": null,
            "overflow_x": null,
            "overflow_y": null,
            "padding": null,
            "right": null,
            "top": null,
            "visibility": null,
            "width": null
          }
        },
        "9a7a44106a78470b9da57bb34e703263": {
          "model_module": "@jupyter-widgets/controls",
          "model_name": "DescriptionStyleModel",
          "model_module_version": "1.5.0",
          "state": {
            "_model_module": "@jupyter-widgets/controls",
            "_model_module_version": "1.5.0",
            "_model_name": "DescriptionStyleModel",
            "_view_count": null,
            "_view_module": "@jupyter-widgets/base",
            "_view_module_version": "1.2.0",
            "_view_name": "StyleView",
            "description_width": ""
          }
        }
      }
    }
  },
  "nbformat": 4,
  "nbformat_minor": 5
}