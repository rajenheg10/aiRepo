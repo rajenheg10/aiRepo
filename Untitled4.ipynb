{
  "nbformat": 4,
  "nbformat_minor": 0,
  "metadata": {
    "colab": {
      "provenance": [],
      "authorship_tag": "ABX9TyMDwcDSzx8TQ2tSEimUnGNY",
      "include_colab_link": true
    },
    "kernelspec": {
      "name": "python3",
      "display_name": "Python 3"
    },
    "language_info": {
      "name": "python"
    }
  },
  "cells": [
    {
      "cell_type": "markdown",
      "metadata": {
        "id": "view-in-github",
        "colab_type": "text"
      },
      "source": [
        "<a href=\"https://colab.research.google.com/github/rajenheg10/aiRepo/blob/main/Untitled4.ipynb\" target=\"_parent\"><img src=\"https://colab.research.google.com/assets/colab-badge.svg\" alt=\"Open In Colab\"/></a>"
      ]
    },
    {
      "cell_type": "code",
      "execution_count": 1,
      "metadata": {
        "colab": {
          "base_uri": "https://localhost:8080/"
        },
        "id": "oMq58yebvupb",
        "outputId": "4f7722cd-e11a-41c4-e9ed-05ea25deb336"
      },
      "outputs": [
        {
          "output_type": "stream",
          "name": "stdout",
          "text": [
            "Processing MMM...\n",
            "YF.download() has changed argument auto_adjust default to True\n"
          ]
        },
        {
          "output_type": "stream",
          "name": "stderr",
          "text": [
            "\r[*********************100%***********************]  1 of 1 completed\n"
          ]
        },
        {
          "output_type": "stream",
          "name": "stdout",
          "text": [
            "\n",
            "Daily Return Stats for MMM:\n",
            "count    3772.000000\n",
            "mean        0.000393\n",
            "std         0.014636\n",
            "min        -0.129450\n",
            "25%        -0.005927\n",
            "50%         0.000540\n",
            "75%         0.007340\n",
            "max         0.229906\n",
            "Name: Daily Return, dtype: float64\n",
            "\n",
            "============================================================\n",
            "\n",
            "Processing AOS...\n"
          ]
        },
        {
          "output_type": "stream",
          "name": "stderr",
          "text": [
            "\r[*********************100%***********************]  1 of 1 completed\n"
          ]
        },
        {
          "output_type": "stream",
          "name": "stdout",
          "text": [
            "\n",
            "Daily Return Stats for AOS:\n",
            "count    3772.000000\n",
            "mean        0.000795\n",
            "std         0.017220\n",
            "min        -0.093908\n",
            "25%        -0.008057\n",
            "50%         0.000955\n",
            "75%         0.009650\n",
            "max         0.136669\n",
            "Name: Daily Return, dtype: float64\n",
            "\n",
            "============================================================\n",
            "\n",
            "Processing ABT...\n"
          ]
        },
        {
          "output_type": "stream",
          "name": "stderr",
          "text": [
            "\r[*********************100%***********************]  1 of 1 completed\n"
          ]
        },
        {
          "output_type": "stream",
          "name": "stdout",
          "text": [
            "\n",
            "Daily Return Stats for ABT:\n",
            "count    3772.000000\n",
            "mean        0.000567\n",
            "std         0.013507\n",
            "min        -0.097857\n",
            "25%        -0.006053\n",
            "50%         0.000595\n",
            "75%         0.007639\n",
            "max         0.109360\n",
            "Name: Daily Return, dtype: float64\n",
            "\n",
            "============================================================\n",
            "\n",
            "Processing ABBV...\n"
          ]
        },
        {
          "output_type": "stream",
          "name": "stderr",
          "text": [
            "\r[*********************100%***********************]  1 of 1 completed\n"
          ]
        },
        {
          "output_type": "stream",
          "name": "stdout",
          "text": [
            "\n",
            "Daily Return Stats for ABBV:\n",
            "count    3018.000000\n",
            "mean        0.000834\n",
            "std         0.016599\n",
            "min        -0.162524\n",
            "25%        -0.006970\n",
            "50%         0.001301\n",
            "75%         0.009025\n",
            "max         0.137673\n",
            "Name: Daily Return, dtype: float64\n",
            "\n",
            "============================================================\n",
            "\n",
            "Processing ACN...\n"
          ]
        },
        {
          "output_type": "stream",
          "name": "stderr",
          "text": [
            "\r[*********************100%***********************]  1 of 1 completed\n"
          ]
        },
        {
          "output_type": "stream",
          "name": "stdout",
          "text": [
            "\n",
            "Daily Return Stats for ACN:\n",
            "count    3772.000000\n",
            "mean        0.000754\n",
            "std         0.015284\n",
            "min        -0.103815\n",
            "25%        -0.006436\n",
            "50%         0.001075\n",
            "75%         0.008170\n",
            "max         0.128573\n",
            "Name: Daily Return, dtype: float64\n",
            "\n",
            "============================================================\n",
            "\n",
            "Processing ADBE...\n"
          ]
        },
        {
          "output_type": "stream",
          "name": "stderr",
          "text": [
            "\r[*********************100%***********************]  1 of 1 completed\n"
          ]
        },
        {
          "output_type": "stream",
          "name": "stdout",
          "text": [
            "\n",
            "Daily Return Stats for ADBE:\n",
            "count    3772.000000\n",
            "mean        0.000865\n",
            "std         0.020204\n",
            "min        -0.190346\n",
            "25%        -0.008138\n",
            "50%         0.001019\n",
            "75%         0.010775\n",
            "max         0.177193\n",
            "Name: Daily Return, dtype: float64\n",
            "\n",
            "============================================================\n",
            "\n",
            "Processing AMD...\n"
          ]
        },
        {
          "output_type": "stream",
          "name": "stderr",
          "text": [
            "\r[*********************100%***********************]  1 of 1 completed\n"
          ]
        },
        {
          "output_type": "stream",
          "name": "stdout",
          "text": [
            "\n",
            "Daily Return Stats for AMD:\n",
            "count    3772.000000\n",
            "mean        0.001281\n",
            "std         0.035129\n",
            "min        -0.242291\n",
            "25%        -0.016778\n",
            "50%         0.000000\n",
            "75%         0.018563\n",
            "max         0.522901\n",
            "Name: Daily Return, dtype: float64\n",
            "\n",
            "============================================================\n",
            "\n",
            "Processing AES...\n"
          ]
        },
        {
          "output_type": "stream",
          "name": "stderr",
          "text": [
            "\r[*********************100%***********************]  1 of 1 completed\n"
          ]
        },
        {
          "output_type": "stream",
          "name": "stdout",
          "text": [
            "\n",
            "Daily Return Stats for AES:\n",
            "count    3772.000000\n",
            "mean        0.000282\n",
            "std         0.020054\n",
            "min        -0.173010\n",
            "25%        -0.009679\n",
            "50%         0.000771\n",
            "75%         0.010727\n",
            "max         0.149581\n",
            "Name: Daily Return, dtype: float64\n",
            "\n",
            "============================================================\n",
            "\n",
            "Processing AFL...\n"
          ]
        },
        {
          "output_type": "stream",
          "name": "stderr",
          "text": [
            "\r[*********************100%***********************]  1 of 1 completed\n"
          ]
        },
        {
          "output_type": "stream",
          "name": "stdout",
          "text": [
            "\n",
            "Daily Return Stats for AFL:\n",
            "count    3772.000000\n",
            "mean        0.000626\n",
            "std         0.016748\n",
            "min        -0.164313\n",
            "25%        -0.006405\n",
            "50%         0.001005\n",
            "75%         0.007851\n",
            "max         0.261766\n",
            "Name: Daily Return, dtype: float64\n",
            "\n",
            "============================================================\n",
            "\n",
            "Processing A...\n"
          ]
        },
        {
          "output_type": "stream",
          "name": "stderr",
          "text": [
            "\r[*********************100%***********************]  1 of 1 completed\n"
          ]
        },
        {
          "output_type": "stream",
          "name": "stdout",
          "text": [
            "\n",
            "Daily Return Stats for A:\n",
            "count    3772.000000\n",
            "mean        0.000666\n",
            "std         0.017975\n",
            "min        -0.110139\n",
            "25%        -0.007949\n",
            "50%         0.000848\n",
            "75%         0.010161\n",
            "max         0.117630\n",
            "Name: Daily Return, dtype: float64\n",
            "\n",
            "============================================================\n",
            "\n",
            "Processing APD...\n"
          ]
        },
        {
          "output_type": "stream",
          "name": "stderr",
          "text": [
            "\r[*********************100%***********************]  1 of 1 completed\n"
          ]
        },
        {
          "output_type": "stream",
          "name": "stdout",
          "text": [
            "\n",
            "Daily Return Stats for APD:\n",
            "count    3772.000000\n",
            "mean        0.000566\n",
            "std         0.015244\n",
            "min        -0.155518\n",
            "25%        -0.006464\n",
            "50%         0.000749\n",
            "75%         0.008002\n",
            "max         0.137233\n",
            "Name: Daily Return, dtype: float64\n",
            "\n",
            "============================================================\n",
            "\n",
            "Processing ABNB...\n"
          ]
        },
        {
          "output_type": "stream",
          "name": "stderr",
          "text": [
            "\r[*********************100%***********************]  1 of 1 completed\n"
          ]
        },
        {
          "output_type": "stream",
          "name": "stdout",
          "text": [
            "\n",
            "Daily Return Stats for ABNB:\n",
            "count    1018.000000\n",
            "mean        0.000384\n",
            "std         0.030866\n",
            "min        -0.134250\n",
            "25%        -0.016552\n",
            "50%         0.000037\n",
            "75%         0.016197\n",
            "max         0.133532\n",
            "Name: Daily Return, dtype: float64\n",
            "\n",
            "============================================================\n",
            "\n",
            "Processing AKAM...\n"
          ]
        },
        {
          "output_type": "stream",
          "name": "stderr",
          "text": [
            "\r[*********************100%***********************]  1 of 1 completed\n"
          ]
        },
        {
          "output_type": "stream",
          "name": "stdout",
          "text": [
            "\n",
            "Daily Return Stats for AKAM:\n",
            "count    3772.000000\n",
            "mean        0.000590\n",
            "std         0.022129\n",
            "min        -0.191316\n",
            "25%        -0.008638\n",
            "50%         0.000988\n",
            "75%         0.010196\n",
            "max         0.240354\n",
            "Name: Daily Return, dtype: float64\n",
            "\n",
            "============================================================\n",
            "\n",
            "Processing ALB...\n"
          ]
        },
        {
          "output_type": "stream",
          "name": "stderr",
          "text": [
            "\r[*********************100%***********************]  1 of 1 completed\n"
          ]
        },
        {
          "output_type": "stream",
          "name": "stdout",
          "text": [
            "\n",
            "Daily Return Stats for ALB:\n",
            "count    3772.000000\n",
            "mean        0.000594\n",
            "std         0.025302\n",
            "min        -0.199106\n",
            "25%        -0.010985\n",
            "50%         0.001056\n",
            "75%         0.012967\n",
            "max         0.137381\n",
            "Name: Daily Return, dtype: float64\n",
            "\n",
            "============================================================\n",
            "\n",
            "Processing ARE...\n"
          ]
        },
        {
          "output_type": "stream",
          "name": "stderr",
          "text": [
            "\r[*********************100%***********************]  1 of 1 completed\n"
          ]
        },
        {
          "output_type": "stream",
          "name": "stdout",
          "text": [
            "\n",
            "Daily Return Stats for ARE:\n",
            "count    3772.000000\n",
            "mean        0.000363\n",
            "std         0.015843\n",
            "min        -0.172127\n",
            "25%        -0.007025\n",
            "50%         0.000663\n",
            "75%         0.008282\n",
            "max         0.126958\n",
            "Name: Daily Return, dtype: float64\n",
            "\n",
            "============================================================\n",
            "\n",
            "Processing ALGN...\n"
          ]
        },
        {
          "output_type": "stream",
          "name": "stderr",
          "text": [
            "\r[*********************100%***********************]  1 of 1 completed\n"
          ]
        },
        {
          "output_type": "stream",
          "name": "stdout",
          "text": [
            "\n",
            "Daily Return Stats for ALGN:\n",
            "count    3772.000000\n",
            "mean        0.001051\n",
            "std         0.028815\n",
            "min        -0.269879\n",
            "25%        -0.012073\n",
            "50%         0.000629\n",
            "75%         0.014404\n",
            "max         0.349662\n",
            "Name: Daily Return, dtype: float64\n",
            "\n",
            "============================================================\n",
            "\n",
            "Processing ALLE...\n"
          ]
        },
        {
          "output_type": "stream",
          "name": "stderr",
          "text": [
            "\r[*********************100%***********************]  1 of 1 completed\n"
          ]
        },
        {
          "output_type": "stream",
          "name": "stdout",
          "text": [
            "\n",
            "Daily Return Stats for ALLE:\n",
            "count    2796.000000\n",
            "mean        0.000530\n",
            "std         0.016268\n",
            "min        -0.123599\n",
            "25%        -0.007719\n",
            "50%         0.000885\n",
            "75%         0.009161\n",
            "max         0.124345\n",
            "Name: Daily Return, dtype: float64\n",
            "\n",
            "============================================================\n",
            "\n",
            "Processing LNT...\n"
          ]
        },
        {
          "output_type": "stream",
          "name": "stderr",
          "text": [
            "\r[*********************100%***********************]  1 of 1 completed\n"
          ]
        },
        {
          "output_type": "stream",
          "name": "stdout",
          "text": [
            "\n",
            "Daily Return Stats for LNT:\n",
            "count    3772.000000\n",
            "mean        0.000579\n",
            "std         0.012572\n",
            "min        -0.096158\n",
            "25%        -0.005830\n",
            "50%         0.000909\n",
            "75%         0.007469\n",
            "max         0.101135\n",
            "Name: Daily Return, dtype: float64\n",
            "\n",
            "============================================================\n",
            "\n",
            "Processing ALL...\n"
          ]
        },
        {
          "output_type": "stream",
          "name": "stderr",
          "text": [
            "\r[*********************100%***********************]  1 of 1 completed\n"
          ]
        },
        {
          "output_type": "stream",
          "name": "stdout",
          "text": [
            "\n",
            "Daily Return Stats for ALL:\n",
            "count    3772.000000\n",
            "mean        0.000689\n",
            "std         0.014726\n",
            "min        -0.140891\n",
            "25%        -0.006105\n",
            "50%         0.000756\n",
            "75%         0.007746\n",
            "max         0.107041\n",
            "Name: Daily Return, dtype: float64\n",
            "\n",
            "============================================================\n",
            "\n",
            "Processing GOOGL...\n"
          ]
        },
        {
          "output_type": "stream",
          "name": "stderr",
          "text": [
            "\r[*********************100%***********************]  1 of 1 completed\n"
          ]
        },
        {
          "output_type": "stream",
          "name": "stdout",
          "text": [
            "\n",
            "Daily Return Stats for GOOGL:\n",
            "count    3772.000000\n",
            "mean        0.000812\n",
            "std         0.017218\n",
            "min        -0.116341\n",
            "25%        -0.007357\n",
            "50%         0.000861\n",
            "75%         0.009261\n",
            "max         0.162584\n",
            "Name: Daily Return, dtype: float64\n",
            "\n",
            "============================================================\n",
            "\n",
            "Processing GOOG...\n"
          ]
        },
        {
          "output_type": "stream",
          "name": "stderr",
          "text": [
            "\r[*********************100%***********************]  1 of 1 completed\n"
          ]
        },
        {
          "output_type": "stream",
          "name": "stdout",
          "text": [
            "\n",
            "Daily Return Stats for GOOG:\n",
            "count    3772.000000\n",
            "mean        0.000815\n",
            "std         0.017230\n",
            "min        -0.111008\n",
            "25%        -0.007177\n",
            "50%         0.000812\n",
            "75%         0.009206\n",
            "max         0.160524\n",
            "Name: Daily Return, dtype: float64\n",
            "\n",
            "============================================================\n",
            "\n",
            "Processing MO...\n"
          ]
        },
        {
          "output_type": "stream",
          "name": "stderr",
          "text": [
            "\r[*********************100%***********************]  1 of 1 completed\n"
          ]
        },
        {
          "output_type": "stream",
          "name": "stdout",
          "text": [
            "\n",
            "Daily Return Stats for MO:\n",
            "count    3772.000000\n",
            "mean        0.000581\n",
            "std         0.012755\n",
            "min        -0.100296\n",
            "25%        -0.005288\n",
            "50%         0.001010\n",
            "75%         0.007281\n",
            "max         0.100220\n",
            "Name: Daily Return, dtype: float64\n",
            "\n",
            "============================================================\n",
            "\n",
            "Processing AMZN...\n"
          ]
        },
        {
          "output_type": "stream",
          "name": "stderr",
          "text": [
            "\r[*********************100%***********************]  1 of 1 completed\n"
          ]
        },
        {
          "output_type": "stream",
          "name": "stdout",
          "text": [
            "\n",
            "Daily Return Stats for AMZN:\n",
            "count    3772.000000\n",
            "mean        0.001140\n",
            "std         0.020616\n",
            "min        -0.140494\n",
            "25%        -0.009032\n",
            "50%         0.000949\n",
            "75%         0.011909\n",
            "max         0.157457\n",
            "Name: Daily Return, dtype: float64\n",
            "\n",
            "============================================================\n",
            "\n",
            "Processing AMCR...\n"
          ]
        },
        {
          "output_type": "stream",
          "name": "stderr",
          "text": [
            "\r[*********************100%***********************]  1 of 1 completed\n"
          ]
        },
        {
          "output_type": "stream",
          "name": "stdout",
          "text": [
            "\n",
            "Daily Return Stats for AMCR:\n",
            "count    3176.000000\n",
            "mean        0.000332\n",
            "std         0.015556\n",
            "min        -0.161452\n",
            "25%        -0.000943\n",
            "50%         0.000000\n",
            "75%         0.002431\n",
            "max         0.203448\n",
            "Name: Daily Return, dtype: float64\n",
            "\n",
            "============================================================\n",
            "\n",
            "Processing AEE...\n"
          ]
        },
        {
          "output_type": "stream",
          "name": "stderr",
          "text": [
            "\r[*********************100%***********************]  1 of 1 completed\n"
          ]
        },
        {
          "output_type": "stream",
          "name": "stdout",
          "text": [
            "\n",
            "Daily Return Stats for AEE:\n",
            "count    3772.000000\n",
            "mean        0.000543\n",
            "std         0.013074\n",
            "min        -0.133946\n",
            "25%        -0.006177\n",
            "50%         0.000677\n",
            "75%         0.007640\n",
            "max         0.178014\n",
            "Name: Daily Return, dtype: float64\n",
            "\n",
            "============================================================\n",
            "\n",
            "Processing AEP...\n"
          ]
        },
        {
          "output_type": "stream",
          "name": "stderr",
          "text": [
            "\r[*********************100%***********************]  1 of 1 completed\n"
          ]
        },
        {
          "output_type": "stream",
          "name": "stdout",
          "text": [
            "\n",
            "Daily Return Stats for AEP:\n",
            "count    3772.000000\n",
            "mean        0.000486\n",
            "std         0.012230\n",
            "min        -0.115827\n",
            "25%        -0.005490\n",
            "50%         0.000903\n",
            "75%         0.007015\n",
            "max         0.116826\n",
            "Name: Daily Return, dtype: float64\n",
            "\n",
            "============================================================\n",
            "\n",
            "Processing AXP...\n"
          ]
        },
        {
          "output_type": "stream",
          "name": "stderr",
          "text": [
            "\r[*********************100%***********************]  1 of 1 completed\n"
          ]
        },
        {
          "output_type": "stream",
          "name": "stdout",
          "text": [
            "\n",
            "Daily Return Stats for AXP:\n",
            "count    3772.000000\n",
            "mean        0.000749\n",
            "std         0.018251\n",
            "min        -0.148187\n",
            "25%        -0.007043\n",
            "50%         0.000773\n",
            "75%         0.009274\n",
            "max         0.218823\n",
            "Name: Daily Return, dtype: float64\n",
            "\n",
            "============================================================\n",
            "\n",
            "Processing AIG...\n"
          ]
        },
        {
          "output_type": "stream",
          "name": "stderr",
          "text": [
            "\r[*********************100%***********************]  1 of 1 completed\n"
          ]
        },
        {
          "output_type": "stream",
          "name": "stdout",
          "text": [
            "\n",
            "Daily Return Stats for AIG:\n",
            "count    3772.000000\n",
            "mean        0.000585\n",
            "std         0.021495\n",
            "min        -0.208449\n",
            "25%        -0.008512\n",
            "50%         0.000708\n",
            "75%         0.009857\n",
            "max         0.188083\n",
            "Name: Daily Return, dtype: float64\n",
            "\n",
            "============================================================\n",
            "\n",
            "Processing AMT...\n"
          ]
        },
        {
          "output_type": "stream",
          "name": "stderr",
          "text": [
            "\r[*********************100%***********************]  1 of 1 completed\n"
          ]
        },
        {
          "output_type": "stream",
          "name": "stdout",
          "text": [
            "\n",
            "Daily Return Stats for AMT:\n",
            "count    3772.000000\n",
            "mean        0.000570\n",
            "std         0.015275\n",
            "min        -0.151638\n",
            "25%        -0.007137\n",
            "50%         0.000735\n",
            "75%         0.008468\n",
            "max         0.122219\n",
            "Name: Daily Return, dtype: float64\n",
            "\n",
            "============================================================\n",
            "\n",
            "Processing AWK...\n"
          ]
        },
        {
          "output_type": "stream",
          "name": "stderr",
          "text": [
            "\r[*********************100%***********************]  1 of 1 completed\n"
          ]
        },
        {
          "output_type": "stream",
          "name": "stdout",
          "text": [
            "\n",
            "Daily Return Stats for AWK:\n",
            "count    3772.000000\n",
            "mean        0.000633\n",
            "std         0.013479\n",
            "min        -0.125347\n",
            "25%        -0.006132\n",
            "50%         0.001011\n",
            "75%         0.007812\n",
            "max         0.165727\n",
            "Name: Daily Return, dtype: float64\n",
            "\n",
            "============================================================\n",
            "\n",
            "Processing AMP...\n"
          ]
        },
        {
          "output_type": "stream",
          "name": "stderr",
          "text": [
            "\r[*********************100%***********************]  1 of 1 completed\n"
          ]
        },
        {
          "output_type": "stream",
          "name": "stdout",
          "text": [
            "\n",
            "Daily Return Stats for AMP:\n",
            "count    3772.000000\n",
            "mean        0.000985\n",
            "std         0.020616\n",
            "min        -0.238221\n",
            "25%        -0.008275\n",
            "50%         0.001079\n",
            "75%         0.010873\n",
            "max         0.226358\n",
            "Name: Daily Return, dtype: float64\n",
            "\n",
            "============================================================\n",
            "\n",
            "Processing AME...\n"
          ]
        },
        {
          "output_type": "stream",
          "name": "stderr",
          "text": [
            "\r[*********************100%***********************]  1 of 1 completed\n"
          ]
        },
        {
          "output_type": "stream",
          "name": "stdout",
          "text": [
            "\n",
            "Daily Return Stats for AME:\n",
            "count    3772.000000\n",
            "mean        0.000769\n",
            "std         0.015372\n",
            "min        -0.161662\n",
            "25%        -0.006449\n",
            "50%         0.000956\n",
            "75%         0.008352\n",
            "max         0.167153\n",
            "Name: Daily Return, dtype: float64\n",
            "\n",
            "============================================================\n",
            "\n",
            "Processing AMGN...\n"
          ]
        },
        {
          "output_type": "stream",
          "name": "stderr",
          "text": [
            "\r[*********************100%***********************]  1 of 1 completed\n"
          ]
        },
        {
          "output_type": "stream",
          "name": "stdout",
          "text": [
            "\n",
            "Daily Return Stats for AMGN:\n",
            "count    3772.000000\n",
            "mean        0.000607\n",
            "std         0.015232\n",
            "min        -0.095846\n",
            "25%        -0.007239\n",
            "50%         0.000317\n",
            "75%         0.008461\n",
            "max         0.118180\n",
            "Name: Daily Return, dtype: float64\n",
            "\n",
            "============================================================\n",
            "\n",
            "Processing APH...\n"
          ]
        },
        {
          "output_type": "stream",
          "name": "stderr",
          "text": [
            "\r[*********************100%***********************]  1 of 1 completed\n"
          ]
        },
        {
          "output_type": "stream",
          "name": "stdout",
          "text": [
            "\n",
            "Daily Return Stats for APH:\n",
            "count    3772.000000\n",
            "mean        0.000818\n",
            "std         0.015741\n",
            "min        -0.138752\n",
            "25%        -0.006455\n",
            "50%         0.000919\n",
            "75%         0.008490\n",
            "max         0.147586\n",
            "Name: Daily Return, dtype: float64\n",
            "\n",
            "============================================================\n",
            "\n",
            "Processing ADI...\n"
          ]
        },
        {
          "output_type": "stream",
          "name": "stderr",
          "text": [
            "\r[*********************100%***********************]  1 of 1 completed\n"
          ]
        },
        {
          "output_type": "stream",
          "name": "stdout",
          "text": [
            "\n",
            "Daily Return Stats for ADI:\n",
            "count    3772.000000\n",
            "mean        0.000768\n",
            "std         0.018411\n",
            "min        -0.166149\n",
            "25%        -0.008520\n",
            "50%         0.000848\n",
            "75%         0.010191\n",
            "max         0.146978\n",
            "Name: Daily Return, dtype: float64\n",
            "\n",
            "============================================================\n",
            "\n",
            "Processing ANSS...\n"
          ]
        },
        {
          "output_type": "stream",
          "name": "stderr",
          "text": [
            "\r[*********************100%***********************]  1 of 1 completed\n"
          ]
        },
        {
          "output_type": "stream",
          "name": "stdout",
          "text": [
            "\n",
            "Daily Return Stats for ANSS:\n",
            "count    3772.000000\n",
            "mean        0.000697\n",
            "std         0.017959\n",
            "min        -0.123481\n",
            "25%        -0.007906\n",
            "50%         0.001062\n",
            "75%         0.009547\n",
            "max         0.180829\n",
            "Name: Daily Return, dtype: float64\n",
            "\n",
            "============================================================\n",
            "\n",
            "Processing AON...\n"
          ]
        },
        {
          "output_type": "stream",
          "name": "stderr",
          "text": [
            "\r[*********************100%***********************]  1 of 1 completed\n"
          ]
        },
        {
          "output_type": "stream",
          "name": "stdout",
          "text": [
            "\n",
            "Daily Return Stats for AON:\n",
            "count    3772.000000\n",
            "mean        0.000733\n",
            "std         0.013797\n",
            "min        -0.167031\n",
            "25%        -0.005478\n",
            "50%         0.000984\n",
            "75%         0.007418\n",
            "max         0.141325\n",
            "Name: Daily Return, dtype: float64\n",
            "\n",
            "============================================================\n",
            "\n",
            "Processing APA...\n"
          ]
        },
        {
          "output_type": "stream",
          "name": "stderr",
          "text": [
            "\r[*********************100%***********************]  1 of 1 completed\n"
          ]
        },
        {
          "output_type": "stream",
          "name": "stdout",
          "text": [
            "\n",
            "Daily Return Stats for APA:\n",
            "count    3772.000000\n",
            "mean        0.000177\n",
            "std         0.031557\n",
            "min        -0.538648\n",
            "25%        -0.014081\n",
            "50%         0.000236\n",
            "75%         0.013836\n",
            "max         0.294664\n",
            "Name: Daily Return, dtype: float64\n",
            "\n",
            "============================================================\n",
            "\n",
            "Processing APO...\n"
          ]
        },
        {
          "output_type": "stream",
          "name": "stderr",
          "text": [
            "\r[*********************100%***********************]  1 of 1 completed\n"
          ]
        },
        {
          "output_type": "stream",
          "name": "stdout",
          "text": [
            "\n",
            "Daily Return Stats for APO:\n",
            "count    3460.000000\n",
            "mean        0.001160\n",
            "std         0.022473\n",
            "min        -0.159012\n",
            "25%        -0.009861\n",
            "50%         0.001407\n",
            "75%         0.012721\n",
            "max         0.262373\n",
            "Name: Daily Return, dtype: float64\n",
            "\n",
            "============================================================\n",
            "\n",
            "Processing AAPL...\n"
          ]
        },
        {
          "output_type": "stream",
          "name": "stderr",
          "text": [
            "\r[*********************100%***********************]  1 of 1 completed\n"
          ]
        },
        {
          "output_type": "stream",
          "name": "stdout",
          "text": [
            "\n",
            "Daily Return Stats for AAPL:\n",
            "count    3772.000000\n",
            "mean        0.001127\n",
            "std         0.017554\n",
            "min        -0.128647\n",
            "25%        -0.007401\n",
            "50%         0.001004\n",
            "75%         0.010356\n",
            "max         0.119808\n",
            "Name: Daily Return, dtype: float64\n",
            "\n",
            "============================================================\n",
            "\n",
            "Processing AMAT...\n"
          ]
        },
        {
          "output_type": "stream",
          "name": "stderr",
          "text": [
            "\r[*********************100%***********************]  1 of 1 completed\n"
          ]
        },
        {
          "output_type": "stream",
          "name": "stdout",
          "text": [
            "\n",
            "Daily Return Stats for AMAT:\n",
            "count    3772.000000\n",
            "mean        0.000979\n",
            "std         0.023052\n",
            "min        -0.203577\n",
            "25%        -0.010792\n",
            "50%         0.000819\n",
            "75%         0.013209\n",
            "max         0.138122\n",
            "Name: Daily Return, dtype: float64\n",
            "\n",
            "============================================================\n",
            "\n",
            "Processing APTV...\n"
          ]
        },
        {
          "output_type": "stream",
          "name": "stderr",
          "text": [
            "\r[*********************100%***********************]  1 of 1 completed\n"
          ]
        },
        {
          "output_type": "stream",
          "name": "stdout",
          "text": [
            "\n",
            "Daily Return Stats for APTV:\n",
            "count    3298.000000\n",
            "mean        0.000668\n",
            "std         0.023129\n",
            "min        -0.305527\n",
            "25%        -0.009855\n",
            "50%         0.000938\n",
            "75%         0.012015\n",
            "max         0.209538\n",
            "Name: Daily Return, dtype: float64\n",
            "\n",
            "============================================================\n",
            "\n",
            "Processing ACGL...\n"
          ]
        },
        {
          "output_type": "stream",
          "name": "stderr",
          "text": [
            "\r[*********************100%***********************]  1 of 1 completed\n"
          ]
        },
        {
          "output_type": "stream",
          "name": "stdout",
          "text": [
            "\n",
            "Daily Return Stats for ACGL:\n",
            "count    3772.000000\n",
            "mean        0.000773\n",
            "std         0.014956\n",
            "min        -0.168752\n",
            "25%        -0.005701\n",
            "50%         0.000990\n",
            "75%         0.007526\n",
            "max         0.153577\n",
            "Name: Daily Return, dtype: float64\n",
            "\n",
            "============================================================\n",
            "\n",
            "Processing ADM...\n"
          ]
        },
        {
          "output_type": "stream",
          "name": "stderr",
          "text": [
            "\r[*********************100%***********************]  1 of 1 completed\n"
          ]
        },
        {
          "output_type": "stream",
          "name": "stdout",
          "text": [
            "\n",
            "Daily Return Stats for ADM:\n",
            "count    3772.000000\n",
            "mean        0.000363\n",
            "std         0.016324\n",
            "min        -0.241971\n",
            "25%        -0.007361\n",
            "50%         0.000824\n",
            "75%         0.008956\n",
            "max         0.102695\n",
            "Name: Daily Return, dtype: float64\n",
            "\n",
            "============================================================\n",
            "\n",
            "Processing ANET...\n"
          ]
        },
        {
          "output_type": "stream",
          "name": "stderr",
          "text": [
            "\r[*********************100%***********************]  1 of 1 completed\n"
          ]
        },
        {
          "output_type": "stream",
          "name": "stdout",
          "text": [
            "\n",
            "Daily Return Stats for ANET:\n",
            "count    2659.000000\n",
            "mean        0.001685\n",
            "std         0.027442\n",
            "min        -0.242344\n",
            "25%        -0.011223\n",
            "50%         0.001812\n",
            "75%         0.014432\n",
            "max         0.218144\n",
            "Name: Daily Return, dtype: float64\n",
            "\n",
            "============================================================\n",
            "\n",
            "Processing AJG...\n"
          ]
        },
        {
          "output_type": "stream",
          "name": "stderr",
          "text": [
            "\r[*********************100%***********************]  1 of 1 completed\n"
          ]
        },
        {
          "output_type": "stream",
          "name": "stdout",
          "text": [
            "\n",
            "Daily Return Stats for AJG:\n",
            "count    3772.000000\n",
            "mean        0.000861\n",
            "std         0.012816\n",
            "min        -0.152352\n",
            "25%        -0.005299\n",
            "50%         0.001107\n",
            "75%         0.007294\n",
            "max         0.132327\n",
            "Name: Daily Return, dtype: float64\n",
            "\n",
            "============================================================\n",
            "\n",
            "Processing AIZ...\n"
          ]
        },
        {
          "output_type": "stream",
          "name": "stderr",
          "text": [
            "\r[*********************100%***********************]  1 of 1 completed\n"
          ]
        },
        {
          "output_type": "stream",
          "name": "stdout",
          "text": [
            "\n",
            "Daily Return Stats for AIZ:\n",
            "count    3772.000000\n",
            "mean        0.000728\n",
            "std         0.016173\n",
            "min        -0.197360\n",
            "25%        -0.006844\n",
            "50%         0.001031\n",
            "75%         0.008878\n",
            "max         0.141484\n",
            "Name: Daily Return, dtype: float64\n",
            "\n",
            "============================================================\n",
            "\n",
            "Processing T...\n"
          ]
        },
        {
          "output_type": "stream",
          "name": "stderr",
          "text": [
            "\r[*********************100%***********************]  1 of 1 completed\n"
          ]
        },
        {
          "output_type": "stream",
          "name": "stdout",
          "text": [
            "\n",
            "Daily Return Stats for T:\n",
            "count    3772.000000\n",
            "mean        0.000390\n",
            "std         0.012945\n",
            "min        -0.104061\n",
            "25%        -0.005915\n",
            "50%         0.000723\n",
            "75%         0.006835\n",
            "max         0.100224\n",
            "Name: Daily Return, dtype: float64\n",
            "\n",
            "============================================================\n",
            "\n",
            "Processing ATO...\n"
          ]
        },
        {
          "output_type": "stream",
          "name": "stderr",
          "text": [
            "\r[*********************100%***********************]  1 of 1 completed\n"
          ]
        },
        {
          "output_type": "stream",
          "name": "stdout",
          "text": [
            "\n",
            "Daily Return Stats for ATO:\n",
            "count    3772.000000\n",
            "mean        0.000609\n",
            "std         0.012859\n",
            "min        -0.124962\n",
            "25%        -0.005739\n",
            "50%         0.000915\n",
            "75%         0.007410\n",
            "max         0.153822\n",
            "Name: Daily Return, dtype: float64\n",
            "\n",
            "============================================================\n",
            "\n",
            "Processing ADSK...\n"
          ]
        },
        {
          "output_type": "stream",
          "name": "stderr",
          "text": [
            "\r[*********************100%***********************]  1 of 1 completed\n"
          ]
        },
        {
          "output_type": "stream",
          "name": "stdout",
          "text": [
            "\n",
            "Daily Return Stats for ADSK:\n",
            "count    3772.000000\n",
            "mean        0.000907\n",
            "std         0.022640\n",
            "min        -0.158599\n",
            "25%        -0.009995\n",
            "50%         0.001091\n",
            "75%         0.012394\n",
            "max         0.161985\n",
            "Name: Daily Return, dtype: float64\n",
            "\n",
            "============================================================\n",
            "\n",
            "Processing ADP...\n"
          ]
        },
        {
          "output_type": "stream",
          "name": "stderr",
          "text": [
            "\r[*********************100%***********************]  1 of 1 completed\n"
          ]
        },
        {
          "output_type": "stream",
          "name": "stdout",
          "text": [
            "\n",
            "Daily Return Stats for ADP:\n",
            "count    3772.000000\n",
            "mean        0.000734\n",
            "std         0.013705\n",
            "min        -0.152526\n",
            "25%        -0.005313\n",
            "50%         0.000926\n",
            "75%         0.007655\n",
            "max         0.118036\n",
            "Name: Daily Return, dtype: float64\n",
            "\n",
            "============================================================\n",
            "\n",
            "Processing AZO...\n"
          ]
        },
        {
          "output_type": "stream",
          "name": "stderr",
          "text": [
            "\r[*********************100%***********************]  1 of 1 completed\n"
          ]
        },
        {
          "output_type": "stream",
          "name": "stdout",
          "text": [
            "\n",
            "Daily Return Stats for AZO:\n",
            "count    3772.000000\n",
            "mean        0.000905\n",
            "std         0.014673\n",
            "min        -0.159371\n",
            "25%        -0.006301\n",
            "50%         0.000782\n",
            "75%         0.008395\n",
            "max         0.117820\n",
            "Name: Daily Return, dtype: float64\n",
            "\n",
            "============================================================\n",
            "\n",
            "Processing AVB...\n"
          ]
        },
        {
          "output_type": "stream",
          "name": "stderr",
          "text": [
            "\r[*********************100%***********************]  1 of 1 completed\n"
          ]
        },
        {
          "output_type": "stream",
          "name": "stdout",
          "text": [
            "\n",
            "Daily Return Stats for AVB:\n",
            "count    3772.000000\n",
            "mean        0.000506\n",
            "std         0.015104\n",
            "min        -0.153707\n",
            "25%        -0.007110\n",
            "50%         0.000898\n",
            "75%         0.008253\n",
            "max         0.113146\n",
            "Name: Daily Return, dtype: float64\n",
            "\n",
            "============================================================\n",
            "\n",
            "Processing AVY...\n"
          ]
        },
        {
          "output_type": "stream",
          "name": "stderr",
          "text": [
            "\r[*********************100%***********************]  1 of 1 completed\n"
          ]
        },
        {
          "output_type": "stream",
          "name": "stdout",
          "text": [
            "\n",
            "Daily Return Stats for AVY:\n",
            "count    3772.000000\n",
            "mean        0.000663\n",
            "std         0.017043\n",
            "min        -0.146719\n",
            "25%        -0.007477\n",
            "50%         0.000782\n",
            "75%         0.008844\n",
            "max         0.228698\n",
            "Name: Daily Return, dtype: float64\n",
            "\n",
            "============================================================\n",
            "\n",
            "Processing AXON...\n"
          ]
        },
        {
          "output_type": "stream",
          "name": "stderr",
          "text": [
            "\r[*********************100%***********************]  1 of 1 completed\n"
          ]
        },
        {
          "output_type": "stream",
          "name": "stdout",
          "text": [
            "\n",
            "Daily Return Stats for AXON:\n",
            "count    3772.000000\n",
            "mean        0.001761\n",
            "std         0.030935\n",
            "min        -0.196740\n",
            "25%        -0.013081\n",
            "50%         0.001003\n",
            "75%         0.015240\n",
            "max         0.286784\n",
            "Name: Daily Return, dtype: float64\n",
            "\n",
            "============================================================\n",
            "\n",
            "Processing BKR...\n"
          ]
        },
        {
          "output_type": "stream",
          "name": "stderr",
          "text": [
            "\r[*********************100%***********************]  1 of 1 completed\n"
          ]
        },
        {
          "output_type": "stream",
          "name": "stdout",
          "text": [
            "\n",
            "Daily Return Stats for BKR:\n",
            "count    3772.000000\n",
            "mean        0.000461\n",
            "std         0.023936\n",
            "min        -0.222637\n",
            "25%        -0.012050\n",
            "50%         0.000212\n",
            "75%         0.012980\n",
            "max         0.205788\n",
            "Name: Daily Return, dtype: float64\n",
            "\n",
            "============================================================\n",
            "\n",
            "Processing BALL...\n"
          ]
        },
        {
          "output_type": "stream",
          "name": "stderr",
          "text": [
            "\r[*********************100%***********************]  1 of 1 completed\n"
          ]
        },
        {
          "output_type": "stream",
          "name": "stdout",
          "text": [
            "\n",
            "Daily Return Stats for BALL:\n",
            "count    3772.000000\n",
            "mean        0.000545\n",
            "std         0.016017\n",
            "min        -0.185826\n",
            "25%        -0.007152\n",
            "50%         0.000690\n",
            "75%         0.008397\n",
            "max         0.133946\n",
            "Name: Daily Return, dtype: float64\n",
            "\n",
            "============================================================\n",
            "\n",
            "Processing BAC...\n"
          ]
        },
        {
          "output_type": "stream",
          "name": "stderr",
          "text": [
            "\r[*********************100%***********************]  1 of 1 completed\n"
          ]
        },
        {
          "output_type": "stream",
          "name": "stdout",
          "text": [
            "\n",
            "Daily Return Stats for BAC:\n",
            "count    3772.000000\n",
            "mean        0.000558\n",
            "std         0.021174\n",
            "min        -0.203183\n",
            "25%        -0.009897\n",
            "50%         0.000336\n",
            "75%         0.010751\n",
            "max         0.177962\n",
            "Name: Daily Return, dtype: float64\n",
            "\n",
            "============================================================\n",
            "\n",
            "Processing BAX...\n"
          ]
        },
        {
          "output_type": "stream",
          "name": "stderr",
          "text": [
            "\r[*********************100%***********************]  1 of 1 completed\n"
          ]
        },
        {
          "output_type": "stream",
          "name": "stdout",
          "text": [
            "\n",
            "Daily Return Stats for BAX:\n",
            "count    3772.000000\n",
            "mean        0.000164\n",
            "std         0.014892\n",
            "min        -0.132655\n",
            "25%        -0.006489\n",
            "50%         0.000602\n",
            "75%         0.007745\n",
            "max         0.124912\n",
            "Name: Daily Return, dtype: float64\n",
            "\n",
            "============================================================\n",
            "\n",
            "Processing BDX...\n"
          ]
        },
        {
          "output_type": "stream",
          "name": "stderr",
          "text": [
            "\r[*********************100%***********************]  1 of 1 completed\n"
          ]
        },
        {
          "output_type": "stream",
          "name": "stdout",
          "text": [
            "\n",
            "Daily Return Stats for BDX:\n",
            "count    3772.000000\n",
            "mean        0.000436\n",
            "std         0.012783\n",
            "min        -0.117976\n",
            "25%        -0.005940\n",
            "50%         0.000773\n",
            "75%         0.007196\n",
            "max         0.113740\n",
            "Name: Daily Return, dtype: float64\n",
            "\n",
            "============================================================\n",
            "\n",
            "Processing BRK.B...\n"
          ]
        },
        {
          "output_type": "stream",
          "name": "stderr",
          "text": [
            "\r[*********************100%***********************]  1 of 1 completed\n",
            "ERROR:yfinance:\n",
            "1 Failed download:\n",
            "ERROR:yfinance:['BRK.B']: YFTzMissingError('possibly delisted; no timezone found')\n"
          ]
        },
        {
          "output_type": "stream",
          "name": "stdout",
          "text": [
            "No data for BRK.B, skipping.\n",
            "\n",
            "Processing BBY...\n"
          ]
        },
        {
          "output_type": "stream",
          "name": "stderr",
          "text": [
            "\r[*********************100%***********************]  1 of 1 completed\n"
          ]
        },
        {
          "output_type": "stream",
          "name": "stdout",
          "text": [
            "\n",
            "Daily Return Stats for BBY:\n",
            "count    3772.000000\n",
            "mean        0.000627\n",
            "std         0.024445\n",
            "min        -0.285867\n",
            "25%        -0.011054\n",
            "50%         0.000800\n",
            "75%         0.013175\n",
            "max         0.214796\n",
            "Name: Daily Return, dtype: float64\n",
            "\n",
            "============================================================\n",
            "\n",
            "Processing TECH...\n"
          ]
        },
        {
          "output_type": "stream",
          "name": "stderr",
          "text": [
            "\r[*********************100%***********************]  1 of 1 completed\n"
          ]
        },
        {
          "output_type": "stream",
          "name": "stdout",
          "text": [
            "\n",
            "Daily Return Stats for TECH:\n",
            "count    3772.000000\n",
            "mean        0.000573\n",
            "std         0.017420\n",
            "min        -0.102717\n",
            "25%        -0.007917\n",
            "50%         0.000648\n",
            "75%         0.008990\n",
            "max         0.162158\n",
            "Name: Daily Return, dtype: float64\n",
            "\n",
            "============================================================\n",
            "\n",
            "Processing BIIB...\n"
          ]
        },
        {
          "output_type": "stream",
          "name": "stderr",
          "text": [
            "\r[*********************100%***********************]  1 of 1 completed\n"
          ]
        },
        {
          "output_type": "stream",
          "name": "stdout",
          "text": [
            "\n",
            "Daily Return Stats for BIIB:\n",
            "count    3772.000000\n",
            "mean        0.000558\n",
            "std         0.024324\n",
            "min        -0.292305\n",
            "25%        -0.009580\n",
            "50%         0.000083\n",
            "75%         0.010142\n",
            "max         0.439739\n",
            "Name: Daily Return, dtype: float64\n",
            "\n",
            "============================================================\n",
            "\n",
            "Processing BLK...\n"
          ]
        },
        {
          "output_type": "stream",
          "name": "stderr",
          "text": [
            "\r[*********************100%***********************]  1 of 1 completed\n"
          ]
        },
        {
          "output_type": "stream",
          "name": "stdout",
          "text": [
            "\n",
            "Daily Return Stats for BLK:\n",
            "count    3772.000000\n",
            "mean        0.000640\n",
            "std         0.017319\n",
            "min        -0.136546\n",
            "25%        -0.007860\n",
            "50%         0.000735\n",
            "75%         0.009431\n",
            "max         0.135240\n",
            "Name: Daily Return, dtype: float64\n",
            "\n",
            "============================================================\n",
            "\n",
            "Processing BX...\n"
          ]
        },
        {
          "output_type": "stream",
          "name": "stderr",
          "text": [
            "\r[*********************100%***********************]  1 of 1 completed\n"
          ]
        },
        {
          "output_type": "stream",
          "name": "stdout",
          "text": [
            "\n",
            "Daily Return Stats for BX:\n",
            "count    3772.000000\n",
            "mean        0.001067\n",
            "std         0.021926\n",
            "min        -0.153960\n",
            "25%        -0.009975\n",
            "50%         0.001101\n",
            "75%         0.012119\n",
            "max         0.166251\n",
            "Name: Daily Return, dtype: float64\n",
            "\n",
            "============================================================\n",
            "\n",
            "Processing BK...\n"
          ]
        },
        {
          "output_type": "stream",
          "name": "stderr",
          "text": [
            "\r[*********************100%***********************]  1 of 1 completed\n"
          ]
        },
        {
          "output_type": "stream",
          "name": "stdout",
          "text": [
            "\n",
            "Daily Return Stats for BK:\n",
            "count    3772.000000\n",
            "mean        0.000502\n",
            "std         0.017024\n",
            "min        -0.145034\n",
            "25%        -0.007676\n",
            "50%         0.000733\n",
            "75%         0.009282\n",
            "max         0.156165\n",
            "Name: Daily Return, dtype: float64\n",
            "\n",
            "============================================================\n",
            "\n",
            "Processing BA...\n"
          ]
        },
        {
          "output_type": "stream",
          "name": "stderr",
          "text": [
            "\r[*********************100%***********************]  1 of 1 completed\n"
          ]
        },
        {
          "output_type": "stream",
          "name": "stdout",
          "text": [
            "\n",
            "Daily Return Stats for BA:\n",
            "count    3772.000000\n",
            "mean        0.000624\n",
            "std         0.022541\n",
            "min        -0.238484\n",
            "25%        -0.009199\n",
            "50%         0.000673\n",
            "75%         0.010455\n",
            "max         0.243186\n",
            "Name: Daily Return, dtype: float64\n",
            "\n",
            "============================================================\n",
            "\n",
            "Processing BKNG...\n"
          ]
        },
        {
          "output_type": "stream",
          "name": "stderr",
          "text": [
            "\r[*********************100%***********************]  1 of 1 completed\n"
          ]
        },
        {
          "output_type": "stream",
          "name": "stdout",
          "text": [
            "\n",
            "Daily Return Stats for BKNG:\n",
            "count    3772.000000\n",
            "mean        0.001040\n",
            "std         0.020751\n",
            "min        -0.172815\n",
            "25%        -0.008840\n",
            "50%         0.000901\n",
            "75%         0.010832\n",
            "max         0.219491\n",
            "Name: Daily Return, dtype: float64\n",
            "\n",
            "============================================================\n",
            "\n",
            "Processing BSX...\n"
          ]
        },
        {
          "output_type": "stream",
          "name": "stderr",
          "text": [
            "\r[*********************100%***********************]  1 of 1 completed\n"
          ]
        },
        {
          "output_type": "stream",
          "name": "stdout",
          "text": [
            "\n",
            "Daily Return Stats for BSX:\n",
            "count    3772.000000\n",
            "mean        0.000770\n",
            "std         0.017891\n",
            "min        -0.147850\n",
            "25%        -0.008146\n",
            "50%         0.000566\n",
            "75%         0.009644\n",
            "max         0.126951\n",
            "Name: Daily Return, dtype: float64\n",
            "\n",
            "============================================================\n",
            "\n",
            "Processing BMY...\n"
          ]
        },
        {
          "output_type": "stream",
          "name": "stderr",
          "text": [
            "\r[*********************100%***********************]  1 of 1 completed\n"
          ]
        },
        {
          "output_type": "stream",
          "name": "stdout",
          "text": [
            "\n",
            "Daily Return Stats for BMY:\n",
            "count    3772.000000\n",
            "mean        0.000447\n",
            "std         0.014656\n",
            "min        -0.159851\n",
            "25%        -0.006972\n",
            "50%         0.000606\n",
            "75%         0.007582\n",
            "max         0.114425\n",
            "Name: Daily Return, dtype: float64\n",
            "\n",
            "============================================================\n",
            "\n",
            "Processing AVGO...\n"
          ]
        },
        {
          "output_type": "stream",
          "name": "stderr",
          "text": [
            "\r[*********************100%***********************]  1 of 1 completed\n"
          ]
        },
        {
          "output_type": "stream",
          "name": "stdout",
          "text": [
            "\n",
            "Daily Return Stats for AVGO:\n",
            "count    3772.000000\n",
            "mean        0.001639\n",
            "std         0.023171\n",
            "min        -0.199129\n",
            "25%        -0.010388\n",
            "50%         0.001427\n",
            "75%         0.013013\n",
            "max         0.244326\n",
            "Name: Daily Return, dtype: float64\n",
            "\n",
            "============================================================\n",
            "\n",
            "Processing BR...\n"
          ]
        },
        {
          "output_type": "stream",
          "name": "stderr",
          "text": [
            "\r[*********************100%***********************]  1 of 1 completed\n"
          ]
        },
        {
          "output_type": "stream",
          "name": "stdout",
          "text": [
            "\n",
            "Daily Return Stats for BR:\n",
            "count    3772.000000\n",
            "mean        0.000790\n",
            "std         0.014016\n",
            "min        -0.097015\n",
            "25%        -0.006177\n",
            "50%         0.000774\n",
            "75%         0.008214\n",
            "max         0.125445\n",
            "Name: Daily Return, dtype: float64\n",
            "\n",
            "============================================================\n",
            "\n",
            "Processing BRO...\n"
          ]
        },
        {
          "output_type": "stream",
          "name": "stderr",
          "text": [
            "[*********************100%***********************]  1 of 1 completed\n",
            "[*********************100%***********************]  1 of 1 completed\n",
            "ERROR:yfinance:\n",
            "1 Failed download:\n",
            "ERROR:yfinance:['BF.B']: YFPricesMissingError('possibly delisted; no price data found  (1d 2010-01-01 -> 2024-12-31)')\n"
          ]
        },
        {
          "output_type": "stream",
          "name": "stdout",
          "text": [
            "\n",
            "Daily Return Stats for BRO:\n",
            "count    3772.000000\n",
            "mean        0.000782\n",
            "std         0.013694\n",
            "min        -0.126506\n",
            "25%        -0.005650\n",
            "50%         0.000919\n",
            "75%         0.007545\n",
            "max         0.122552\n",
            "Name: Daily Return, dtype: float64\n",
            "\n",
            "============================================================\n",
            "\n",
            "Processing BF.B...\n",
            "No data for BF.B, skipping.\n",
            "\n",
            "Processing BLDR...\n"
          ]
        },
        {
          "output_type": "stream",
          "name": "stderr",
          "text": [
            "\r[*********************100%***********************]  1 of 1 completed\n"
          ]
        },
        {
          "output_type": "stream",
          "name": "stdout",
          "text": [
            "\n",
            "Daily Return Stats for BLDR:\n",
            "count    3772.000000\n",
            "mean        0.001553\n",
            "std         0.034859\n",
            "min        -0.232704\n",
            "25%        -0.015598\n",
            "50%         0.001306\n",
            "75%         0.017490\n",
            "max         0.676812\n",
            "Name: Daily Return, dtype: float64\n",
            "\n",
            "============================================================\n",
            "\n",
            "Processing BG...\n"
          ]
        },
        {
          "output_type": "stream",
          "name": "stderr",
          "text": [
            "\r[*********************100%***********************]  1 of 1 completed\n"
          ]
        },
        {
          "output_type": "stream",
          "name": "stdout",
          "text": [
            "\n",
            "Daily Return Stats for BG:\n",
            "count    3772.000000\n",
            "mean        0.000308\n",
            "std         0.018216\n",
            "min        -0.182098\n",
            "25%        -0.008397\n",
            "50%         0.000444\n",
            "75%         0.009229\n",
            "max         0.165977\n",
            "Name: Daily Return, dtype: float64\n",
            "\n",
            "============================================================\n",
            "\n",
            "Processing BXP...\n"
          ]
        },
        {
          "output_type": "stream",
          "name": "stderr",
          "text": [
            "\r[*********************100%***********************]  1 of 1 completed\n"
          ]
        },
        {
          "output_type": "stream",
          "name": "stdout",
          "text": [
            "\n",
            "Daily Return Stats for BXP:\n",
            "count    3772.000000\n",
            "mean        0.000330\n",
            "std         0.017897\n",
            "min        -0.171963\n",
            "25%        -0.008206\n",
            "50%         0.000566\n",
            "75%         0.009093\n",
            "max         0.209236\n",
            "Name: Daily Return, dtype: float64\n",
            "\n",
            "============================================================\n",
            "\n",
            "Processing CHRW...\n"
          ]
        },
        {
          "output_type": "stream",
          "name": "stderr",
          "text": [
            "\r[*********************100%***********************]  1 of 1 completed\n"
          ]
        },
        {
          "output_type": "stream",
          "name": "stdout",
          "text": [
            "\n",
            "Daily Return Stats for CHRW:\n",
            "count    3772.000000\n",
            "mean        0.000368\n",
            "std         0.015930\n",
            "min        -0.148475\n",
            "25%        -0.007094\n",
            "50%         0.000818\n",
            "75%         0.008418\n",
            "max         0.147782\n",
            "Name: Daily Return, dtype: float64\n",
            "\n",
            "============================================================\n",
            "\n",
            "Processing CDNS...\n"
          ]
        },
        {
          "output_type": "stream",
          "name": "stderr",
          "text": [
            "\r[*********************100%***********************]  1 of 1 completed\n"
          ]
        },
        {
          "output_type": "stream",
          "name": "stdout",
          "text": [
            "\n",
            "Daily Return Stats for CDNS:\n",
            "count    3772.000000\n",
            "mean        0.001218\n",
            "std         0.019224\n",
            "min        -0.125981\n",
            "25%        -0.008517\n",
            "50%         0.001066\n",
            "75%         0.010721\n",
            "max         0.153657\n",
            "Name: Daily Return, dtype: float64\n",
            "\n",
            "============================================================\n",
            "\n",
            "Processing CZR...\n"
          ]
        },
        {
          "output_type": "stream",
          "name": "stderr",
          "text": [
            "\r[*********************100%***********************]  1 of 1 completed\n"
          ]
        },
        {
          "output_type": "stream",
          "name": "stdout",
          "text": [
            "\n",
            "Daily Return Stats for CZR:\n",
            "count    2585.000000\n",
            "mean        0.001478\n",
            "std         0.037204\n",
            "min        -0.375050\n",
            "25%        -0.015168\n",
            "50%         0.000902\n",
            "75%         0.017821\n",
            "max         0.441571\n",
            "Name: Daily Return, dtype: float64\n",
            "\n",
            "============================================================\n",
            "\n",
            "Processing CPT...\n"
          ]
        },
        {
          "output_type": "stream",
          "name": "stderr",
          "text": [
            "\r[*********************100%***********************]  1 of 1 completed\n"
          ]
        },
        {
          "output_type": "stream",
          "name": "stdout",
          "text": [
            "\n",
            "Daily Return Stats for CPT:\n",
            "count    3772.000000\n",
            "mean        0.000537\n",
            "std         0.015144\n",
            "min        -0.178910\n",
            "25%        -0.007107\n",
            "50%         0.000961\n",
            "75%         0.008067\n",
            "max         0.111049\n",
            "Name: Daily Return, dtype: float64\n",
            "\n",
            "============================================================\n",
            "\n",
            "Processing CPB...\n"
          ]
        },
        {
          "output_type": "stream",
          "name": "stderr",
          "text": [
            "\r[*********************100%***********************]  1 of 1 completed\n"
          ]
        },
        {
          "output_type": "stream",
          "name": "stdout",
          "text": [
            "\n",
            "Daily Return Stats for CPB:\n",
            "count    3772.000000\n",
            "mean        0.000267\n",
            "std         0.013684\n",
            "min        -0.123662\n",
            "25%        -0.006251\n",
            "50%         0.000593\n",
            "75%         0.007186\n",
            "max         0.101086\n",
            "Name: Daily Return, dtype: float64\n",
            "\n",
            "============================================================\n",
            "\n",
            "Processing COF...\n"
          ]
        },
        {
          "output_type": "stream",
          "name": "stderr",
          "text": [
            "\r[*********************100%***********************]  1 of 1 completed\n"
          ]
        },
        {
          "output_type": "stream",
          "name": "stdout",
          "text": [
            "\n",
            "Daily Return Stats for COF:\n",
            "count    3772.000000\n",
            "mean        0.000694\n",
            "std         0.021420\n",
            "min        -0.238742\n",
            "25%        -0.009498\n",
            "50%         0.000398\n",
            "75%         0.010868\n",
            "max         0.187544\n",
            "Name: Daily Return, dtype: float64\n",
            "\n",
            "============================================================\n",
            "\n",
            "Processing CAH...\n"
          ]
        },
        {
          "output_type": "stream",
          "name": "stderr",
          "text": [
            "\r[*********************100%***********************]  1 of 1 completed\n"
          ]
        },
        {
          "output_type": "stream",
          "name": "stdout",
          "text": [
            "\n",
            "Daily Return Stats for CAH:\n",
            "count    3772.000000\n",
            "mean        0.000585\n",
            "std         0.016599\n",
            "min        -0.214231\n",
            "25%        -0.007120\n",
            "50%         0.000743\n",
            "75%         0.009078\n",
            "max         0.123378\n",
            "Name: Daily Return, dtype: float64\n",
            "\n",
            "============================================================\n",
            "\n",
            "Processing KMX...\n"
          ]
        },
        {
          "output_type": "stream",
          "name": "stderr",
          "text": [
            "\r[*********************100%***********************]  1 of 1 completed\n"
          ]
        },
        {
          "output_type": "stream",
          "name": "stdout",
          "text": [
            "\n",
            "Daily Return Stats for KMX:\n",
            "count    3772.000000\n",
            "mean        0.000584\n",
            "std         0.022634\n",
            "min        -0.246008\n",
            "25%        -0.010666\n",
            "50%         0.000501\n",
            "75%         0.011704\n",
            "max         0.180713\n",
            "Name: Daily Return, dtype: float64\n",
            "\n",
            "============================================================\n",
            "\n",
            "Processing CCL...\n"
          ]
        },
        {
          "output_type": "stream",
          "name": "stderr",
          "text": [
            "\r[*********************100%***********************]  1 of 1 completed\n"
          ]
        },
        {
          "output_type": "stream",
          "name": "stdout",
          "text": [
            "\n",
            "Daily Return Stats for CCL:\n",
            "count    3772.000000\n",
            "mean        0.000477\n",
            "std         0.030274\n",
            "min        -0.331815\n",
            "25%        -0.010825\n",
            "50%         0.000498\n",
            "75%         0.011607\n",
            "max         0.392909\n",
            "Name: Daily Return, dtype: float64\n",
            "\n",
            "============================================================\n",
            "\n",
            "Processing CARR...\n"
          ]
        },
        {
          "output_type": "stream",
          "name": "stderr",
          "text": [
            "\r[*********************100%***********************]  1 of 1 completed\n"
          ]
        },
        {
          "output_type": "stream",
          "name": "stdout",
          "text": [
            "\n",
            "Daily Return Stats for CARR:\n",
            "count    1203.000000\n",
            "mean        0.001779\n",
            "std         0.023926\n",
            "min        -0.127536\n",
            "25%        -0.010257\n",
            "50%         0.001338\n",
            "75%         0.013231\n",
            "max         0.274096\n",
            "Name: Daily Return, dtype: float64\n",
            "\n",
            "============================================================\n",
            "\n",
            "Processing CAT...\n"
          ]
        },
        {
          "output_type": "stream",
          "name": "stderr",
          "text": [
            "\r[*********************100%***********************]  1 of 1 completed\n"
          ]
        },
        {
          "output_type": "stream",
          "name": "stdout",
          "text": [
            "\n",
            "Daily Return Stats for CAT:\n",
            "count    3772.000000\n",
            "mean        0.000753\n",
            "std         0.018298\n",
            "min        -0.142822\n",
            "25%        -0.008499\n",
            "50%         0.000590\n",
            "75%         0.010271\n",
            "max         0.103321\n",
            "Name: Daily Return, dtype: float64\n",
            "\n",
            "============================================================\n",
            "\n",
            "Processing CBOE...\n"
          ]
        },
        {
          "output_type": "stream",
          "name": "stderr",
          "text": [
            "\r[*********************100%***********************]  1 of 1 completed\n"
          ]
        },
        {
          "output_type": "stream",
          "name": "stdout",
          "text": [
            "\n",
            "Daily Return Stats for CBOE:\n",
            "count    3660.000000\n",
            "mean        0.000708\n",
            "std         0.015594\n",
            "min        -0.143325\n",
            "25%        -0.007417\n",
            "50%         0.000948\n",
            "75%         0.008772\n",
            "max         0.135250\n",
            "Name: Daily Return, dtype: float64\n",
            "\n",
            "============================================================\n",
            "\n",
            "Processing CBRE...\n"
          ]
        },
        {
          "output_type": "stream",
          "name": "stderr",
          "text": [
            "\r[*********************100%***********************]  1 of 1 completed\n"
          ]
        },
        {
          "output_type": "stream",
          "name": "stdout",
          "text": [
            "\n",
            "Daily Return Stats for CBRE:\n",
            "count    3772.000000\n",
            "mean        0.000827\n",
            "std         0.021572\n",
            "min        -0.172057\n",
            "25%        -0.009466\n",
            "50%         0.000820\n",
            "75%         0.010980\n",
            "max         0.168033\n",
            "Name: Daily Return, dtype: float64\n",
            "\n",
            "============================================================\n",
            "\n",
            "Processing CDW...\n"
          ]
        },
        {
          "output_type": "stream",
          "name": "stderr",
          "text": [
            "\r[*********************100%***********************]  1 of 1 completed\n"
          ]
        },
        {
          "output_type": "stream",
          "name": "stdout",
          "text": [
            "\n",
            "Daily Return Stats for CDW:\n",
            "count    2896.000000\n",
            "mean        0.000974\n",
            "std         0.017711\n",
            "min        -0.141461\n",
            "25%        -0.007231\n",
            "50%         0.001300\n",
            "75%         0.009665\n",
            "max         0.121480\n",
            "Name: Daily Return, dtype: float64\n",
            "\n",
            "============================================================\n",
            "\n",
            "Processing COR...\n"
          ]
        },
        {
          "output_type": "stream",
          "name": "stderr",
          "text": [
            "\r[*********************100%***********************]  1 of 1 completed\n"
          ]
        },
        {
          "output_type": "stream",
          "name": "stdout",
          "text": [
            "\n",
            "Daily Return Stats for COR:\n",
            "count    3772.000000\n",
            "mean        0.000740\n",
            "std         0.015298\n",
            "min        -0.130315\n",
            "25%        -0.006583\n",
            "50%         0.000998\n",
            "75%         0.008744\n",
            "max         0.118152\n",
            "Name: Daily Return, dtype: float64\n",
            "\n",
            "============================================================\n",
            "\n",
            "Processing CNC...\n"
          ]
        },
        {
          "output_type": "stream",
          "name": "stderr",
          "text": [
            "\r[*********************100%***********************]  1 of 1 completed\n"
          ]
        },
        {
          "output_type": "stream",
          "name": "stdout",
          "text": [
            "\n",
            "Daily Return Stats for CNC:\n",
            "count    3772.000000\n",
            "mean        0.000896\n",
            "std         0.022623\n",
            "min        -0.222442\n",
            "25%        -0.009937\n",
            "50%         0.000806\n",
            "75%         0.012033\n",
            "max         0.201521\n",
            "Name: Daily Return, dtype: float64\n",
            "\n",
            "============================================================\n",
            "\n",
            "Processing CNP...\n"
          ]
        },
        {
          "output_type": "stream",
          "name": "stderr",
          "text": [
            "\r[*********************100%***********************]  1 of 1 completed\n"
          ]
        },
        {
          "output_type": "stream",
          "name": "stdout",
          "text": [
            "\n",
            "Daily Return Stats for CNP:\n",
            "count    3772.000000\n",
            "mean        0.000478\n",
            "std         0.015348\n",
            "min        -0.197428\n",
            "25%        -0.006474\n",
            "50%         0.000834\n",
            "75%         0.007930\n",
            "max         0.173878\n",
            "Name: Daily Return, dtype: float64\n",
            "\n",
            "============================================================\n",
            "\n",
            "Processing CF...\n"
          ]
        },
        {
          "output_type": "stream",
          "name": "stderr",
          "text": [
            "\r[*********************100%***********************]  1 of 1 completed\n"
          ]
        },
        {
          "output_type": "stream",
          "name": "stdout",
          "text": [
            "\n",
            "Daily Return Stats for CF:\n",
            "count    3772.000000\n",
            "mean        0.000796\n",
            "std         0.024672\n",
            "min        -0.153909\n",
            "25%        -0.012315\n",
            "50%         0.000599\n",
            "75%         0.013773\n",
            "max         0.162432\n",
            "Name: Daily Return, dtype: float64\n",
            "\n",
            "============================================================\n",
            "\n",
            "Processing CRL...\n"
          ]
        },
        {
          "output_type": "stream",
          "name": "stderr",
          "text": [
            "\r[*********************100%***********************]  1 of 1 completed\n"
          ]
        },
        {
          "output_type": "stream",
          "name": "stdout",
          "text": [
            "\n",
            "Daily Return Stats for CRL:\n",
            "count    3772.000000\n",
            "mean        0.000654\n",
            "std         0.020120\n",
            "min        -0.188242\n",
            "25%        -0.008844\n",
            "50%         0.000966\n",
            "75%         0.010696\n",
            "max         0.173049\n",
            "Name: Daily Return, dtype: float64\n",
            "\n",
            "============================================================\n",
            "\n",
            "Processing SCHW...\n"
          ]
        },
        {
          "output_type": "stream",
          "name": "stderr",
          "text": [
            "\r[*********************100%***********************]  1 of 1 completed\n"
          ]
        },
        {
          "output_type": "stream",
          "name": "stdout",
          "text": [
            "\n",
            "Daily Return Stats for SCHW:\n",
            "count    3772.000000\n",
            "mean        0.000613\n",
            "std         0.020625\n",
            "min        -0.127690\n",
            "25%        -0.009868\n",
            "50%         0.000528\n",
            "75%         0.011216\n",
            "max         0.191347\n",
            "Name: Daily Return, dtype: float64\n",
            "\n",
            "============================================================\n",
            "\n",
            "Processing CHTR...\n"
          ]
        },
        {
          "output_type": "stream",
          "name": "stderr",
          "text": [
            "\r[*********************100%***********************]  1 of 1 completed\n"
          ]
        },
        {
          "output_type": "stream",
          "name": "stdout",
          "text": [
            "\n",
            "Daily Return Stats for CHTR:\n",
            "count    3771.000000\n",
            "mean        0.000784\n",
            "std         0.018853\n",
            "min        -0.165115\n",
            "25%        -0.008318\n",
            "50%         0.000230\n",
            "75%         0.009760\n",
            "max         0.166196\n",
            "Name: Daily Return, dtype: float64\n",
            "\n",
            "============================================================\n",
            "\n",
            "Processing CVX...\n"
          ]
        },
        {
          "output_type": "stream",
          "name": "stderr",
          "text": [
            "\r[*********************100%***********************]  1 of 1 completed\n"
          ]
        },
        {
          "output_type": "stream",
          "name": "stdout",
          "text": [
            "\n",
            "Daily Return Stats for CVX:\n",
            "count    3772.000000\n",
            "mean        0.000458\n",
            "std         0.016869\n",
            "min        -0.221248\n",
            "25%        -0.007323\n",
            "50%         0.000693\n",
            "75%         0.008253\n",
            "max         0.227407\n",
            "Name: Daily Return, dtype: float64\n",
            "\n",
            "============================================================\n",
            "\n",
            "Processing CMG...\n"
          ]
        },
        {
          "output_type": "stream",
          "name": "stderr",
          "text": [
            "\r[*********************100%***********************]  1 of 1 completed\n"
          ]
        },
        {
          "output_type": "stream",
          "name": "stdout",
          "text": [
            "\n",
            "Daily Return Stats for CMG:\n",
            "count    3772.000000\n",
            "mean        0.001172\n",
            "std         0.021738\n",
            "min        -0.215124\n",
            "25%        -0.008780\n",
            "50%         0.000977\n",
            "75%         0.010814\n",
            "max         0.244404\n",
            "Name: Daily Return, dtype: float64\n",
            "\n",
            "============================================================\n",
            "\n",
            "Processing CB...\n"
          ]
        },
        {
          "output_type": "stream",
          "name": "stderr",
          "text": [
            "\r[*********************100%***********************]  1 of 1 completed\n"
          ]
        },
        {
          "output_type": "stream",
          "name": "stdout",
          "text": [
            "\n",
            "Daily Return Stats for CB:\n",
            "count    3772.000000\n",
            "mean        0.000638\n",
            "std         0.013907\n",
            "min        -0.167733\n",
            "25%        -0.005985\n",
            "50%         0.000769\n",
            "75%         0.007186\n",
            "max         0.088748\n",
            "Name: Daily Return, dtype: float64\n",
            "\n",
            "============================================================\n",
            "\n",
            "Processing CHD...\n"
          ]
        },
        {
          "output_type": "stream",
          "name": "stderr",
          "text": [
            "\r[*********************100%***********************]  1 of 1 completed\n"
          ]
        },
        {
          "output_type": "stream",
          "name": "stdout",
          "text": [
            "\n",
            "Daily Return Stats for CHD:\n",
            "count    3772.000000\n",
            "mean        0.000644\n",
            "std         0.012469\n",
            "min        -0.085646\n",
            "25%        -0.005536\n",
            "50%         0.000915\n",
            "75%         0.007133\n",
            "max         0.136687\n",
            "Name: Daily Return, dtype: float64\n",
            "\n",
            "============================================================\n",
            "\n",
            "Processing CI...\n"
          ]
        },
        {
          "output_type": "stream",
          "name": "stderr",
          "text": [
            "\r[*********************100%***********************]  1 of 1 completed\n"
          ]
        },
        {
          "output_type": "stream",
          "name": "stdout",
          "text": [
            "\n",
            "Daily Return Stats for CI:\n",
            "count    3772.000000\n",
            "mean        0.000720\n",
            "std         0.018083\n",
            "min        -0.162228\n",
            "25%        -0.008192\n",
            "50%         0.000797\n",
            "75%         0.009726\n",
            "max         0.166809\n",
            "Name: Daily Return, dtype: float64\n",
            "\n",
            "============================================================\n",
            "\n",
            "Processing CINF...\n"
          ]
        },
        {
          "output_type": "stream",
          "name": "stderr",
          "text": [
            "\r[*********************100%***********************]  1 of 1 completed\n"
          ]
        },
        {
          "output_type": "stream",
          "name": "stdout",
          "text": [
            "\n",
            "Daily Return Stats for CINF:\n",
            "count    3772.000000\n",
            "mean        0.000713\n",
            "std         0.016160\n",
            "min        -0.139080\n",
            "25%        -0.006726\n",
            "50%         0.000980\n",
            "75%         0.008135\n",
            "max         0.168314\n",
            "Name: Daily Return, dtype: float64\n",
            "\n",
            "============================================================\n",
            "\n",
            "Processing CTAS...\n"
          ]
        },
        {
          "output_type": "stream",
          "name": "stderr",
          "text": [
            "\r[*********************100%***********************]  1 of 1 completed\n"
          ]
        },
        {
          "output_type": "stream",
          "name": "stdout",
          "text": [
            "\n",
            "Daily Return Stats for CTAS:\n",
            "count    3772.000000\n",
            "mean        0.001038\n",
            "std         0.015600\n",
            "min        -0.168610\n",
            "25%        -0.005918\n",
            "50%         0.001374\n",
            "75%         0.008014\n",
            "max         0.146588\n",
            "Name: Daily Return, dtype: float64\n",
            "\n",
            "============================================================\n",
            "\n",
            "Processing CSCO...\n"
          ]
        },
        {
          "output_type": "stream",
          "name": "stderr",
          "text": [
            "\r[*********************100%***********************]  1 of 1 completed\n"
          ]
        },
        {
          "output_type": "stream",
          "name": "stdout",
          "text": [
            "\n",
            "Daily Return Stats for CSCO:\n",
            "count    3772.000000\n",
            "mean        0.000473\n",
            "std         0.016292\n",
            "min        -0.162107\n",
            "25%        -0.006526\n",
            "50%         0.000485\n",
            "75%         0.007965\n",
            "max         0.159504\n",
            "Name: Daily Return, dtype: float64\n",
            "\n",
            "============================================================\n",
            "\n",
            "Processing C...\n"
          ]
        },
        {
          "output_type": "stream",
          "name": "stderr",
          "text": [
            "\r[*********************100%***********************]  1 of 1 completed\n"
          ]
        },
        {
          "output_type": "stream",
          "name": "stdout",
          "text": [
            "\n",
            "Daily Return Stats for C:\n",
            "count    3772.000000\n",
            "mean        0.000494\n",
            "std         0.021370\n",
            "min        -0.192986\n",
            "25%        -0.009491\n",
            "50%         0.000310\n",
            "75%         0.010222\n",
            "max         0.179843\n",
            "Name: Daily Return, dtype: float64\n",
            "\n",
            "============================================================\n",
            "\n",
            "Processing CFG...\n"
          ]
        },
        {
          "output_type": "stream",
          "name": "stderr",
          "text": [
            "\r[*********************100%***********************]  1 of 1 completed\n"
          ]
        },
        {
          "output_type": "stream",
          "name": "stdout",
          "text": [
            "\n",
            "Daily Return Stats for CFG:\n",
            "count    2583.000000\n",
            "mean        0.000662\n",
            "std         0.023594\n",
            "min        -0.217667\n",
            "25%        -0.010743\n",
            "50%         0.000955\n",
            "75%         0.012045\n",
            "max         0.169960\n",
            "Name: Daily Return, dtype: float64\n",
            "\n",
            "============================================================\n",
            "\n",
            "Processing CLX...\n"
          ]
        },
        {
          "output_type": "stream",
          "name": "stderr",
          "text": [
            "\r[*********************100%***********************]  1 of 1 completed\n"
          ]
        },
        {
          "output_type": "stream",
          "name": "stdout",
          "text": [
            "\n",
            "Daily Return Stats for CLX:\n",
            "count    3772.000000\n",
            "mean        0.000460\n",
            "std         0.013227\n",
            "min        -0.144732\n",
            "25%        -0.005652\n",
            "50%         0.000807\n",
            "75%         0.006679\n",
            "max         0.132749\n",
            "Name: Daily Return, dtype: float64\n",
            "\n",
            "============================================================\n",
            "\n",
            "Processing CME...\n"
          ]
        },
        {
          "output_type": "stream",
          "name": "stderr",
          "text": [
            "\r[*********************100%***********************]  1 of 1 completed\n"
          ]
        },
        {
          "output_type": "stream",
          "name": "stdout",
          "text": [
            "\n",
            "Daily Return Stats for CME:\n",
            "count    3772.000000\n",
            "mean        0.000607\n",
            "std         0.015561\n",
            "min        -0.183891\n",
            "25%        -0.006829\n",
            "50%         0.000757\n",
            "75%         0.007952\n",
            "max         0.118403\n",
            "Name: Daily Return, dtype: float64\n",
            "\n",
            "============================================================\n",
            "\n",
            "Processing CMS...\n"
          ]
        },
        {
          "output_type": "stream",
          "name": "stderr",
          "text": [
            "\r[*********************100%***********************]  1 of 1 completed\n"
          ]
        },
        {
          "output_type": "stream",
          "name": "stdout",
          "text": [
            "\n",
            "Daily Return Stats for CMS:\n",
            "count    3772.000000\n",
            "mean        0.000590\n",
            "std         0.012367\n",
            "min        -0.122854\n",
            "25%        -0.005476\n",
            "50%         0.001030\n",
            "75%         0.007380\n",
            "max         0.138191\n",
            "Name: Daily Return, dtype: float64\n",
            "\n",
            "============================================================\n",
            "\n",
            "Processing KO...\n"
          ]
        },
        {
          "output_type": "stream",
          "name": "stderr",
          "text": [
            "\r[*********************100%***********************]  1 of 1 completed\n"
          ]
        },
        {
          "output_type": "stream",
          "name": "stdout",
          "text": [
            "\n",
            "Daily Return Stats for KO:\n",
            "count    3772.000000\n",
            "mean        0.000387\n",
            "std         0.010726\n",
            "min        -0.096725\n",
            "25%        -0.004610\n",
            "50%         0.000557\n",
            "75%         0.005735\n",
            "max         0.064796\n",
            "Name: Daily Return, dtype: float64\n",
            "\n",
            "============================================================\n",
            "\n",
            "Processing CTSH...\n"
          ]
        },
        {
          "output_type": "stream",
          "name": "stderr",
          "text": [
            "\r[*********************100%***********************]  1 of 1 completed\n"
          ]
        },
        {
          "output_type": "stream",
          "name": "stdout",
          "text": [
            "\n",
            "Daily Return Stats for CTSH:\n",
            "count    3772.000000\n",
            "mean        0.000512\n",
            "std         0.018305\n",
            "min        -0.191789\n",
            "25%        -0.007869\n",
            "50%         0.000537\n",
            "75%         0.009009\n",
            "max         0.149610\n",
            "Name: Daily Return, dtype: float64\n",
            "\n",
            "============================================================\n",
            "\n",
            "Processing COIN...\n"
          ]
        },
        {
          "output_type": "stream",
          "name": "stderr",
          "text": [
            "\r[*********************100%***********************]  1 of 1 completed\n"
          ]
        },
        {
          "output_type": "stream",
          "name": "stdout",
          "text": [
            "\n",
            "Daily Return Stats for COIN:\n",
            "count    934.000000\n",
            "mean       0.001299\n",
            "std        0.056328\n",
            "min       -0.264009\n",
            "25%       -0.031965\n",
            "50%       -0.003568\n",
            "75%        0.032737\n",
            "max        0.311147\n",
            "Name: Daily Return, dtype: float64\n",
            "\n",
            "============================================================\n",
            "\n",
            "Processing CL...\n"
          ]
        },
        {
          "output_type": "stream",
          "name": "stderr",
          "text": [
            "\r[*********************100%***********************]  1 of 1 completed\n"
          ]
        },
        {
          "output_type": "stream",
          "name": "stdout",
          "text": [
            "\n",
            "Daily Return Stats for CL:\n",
            "count    3772.000000\n",
            "mean        0.000365\n",
            "std         0.011263\n",
            "min        -0.097829\n",
            "25%        -0.005123\n",
            "50%         0.000369\n",
            "75%         0.006185\n",
            "max         0.126083\n",
            "Name: Daily Return, dtype: float64\n",
            "\n",
            "============================================================\n",
            "\n",
            "Processing CMCSA...\n"
          ]
        },
        {
          "output_type": "stream",
          "name": "stderr",
          "text": [
            "\r[*********************100%***********************]  1 of 1 completed\n"
          ]
        },
        {
          "output_type": "stream",
          "name": "stdout",
          "text": [
            "\n",
            "Daily Return Stats for CMCSA:\n",
            "count    3772.000000\n",
            "mean        0.000593\n",
            "std         0.015395\n",
            "min        -0.095018\n",
            "25%        -0.007526\n",
            "50%         0.000660\n",
            "75%         0.008884\n",
            "max         0.125644\n",
            "Name: Daily Return, dtype: float64\n",
            "\n",
            "============================================================\n",
            "\n",
            "Processing CAG...\n"
          ]
        },
        {
          "output_type": "stream",
          "name": "stderr",
          "text": [
            "\r[*********************100%***********************]  1 of 1 completed\n"
          ]
        },
        {
          "output_type": "stream",
          "name": "stdout",
          "text": [
            "\n",
            "Daily Return Stats for CAG:\n",
            "count    3772.000000\n",
            "mean        0.000346\n",
            "std         0.014511\n",
            "min        -0.165349\n",
            "25%        -0.006277\n",
            "50%         0.000399\n",
            "75%         0.007332\n",
            "max         0.158692\n",
            "Name: Daily Return, dtype: float64\n",
            "\n",
            "============================================================\n",
            "\n",
            "Processing COP...\n"
          ]
        },
        {
          "output_type": "stream",
          "name": "stderr",
          "text": [
            "\r[*********************100%***********************]  1 of 1 completed\n"
          ]
        },
        {
          "output_type": "stream",
          "name": "stdout",
          "text": [
            "\n",
            "Daily Return Stats for COP:\n",
            "count    3772.000000\n",
            "mean        0.000599\n",
            "std         0.021242\n",
            "min        -0.248401\n",
            "25%        -0.009663\n",
            "50%         0.000184\n",
            "75%         0.010782\n",
            "max         0.252138\n",
            "Name: Daily Return, dtype: float64\n",
            "\n",
            "============================================================\n",
            "\n",
            "Processing ED...\n"
          ]
        },
        {
          "output_type": "stream",
          "name": "stderr",
          "text": [
            "\r[*********************100%***********************]  1 of 1 completed\n"
          ]
        },
        {
          "output_type": "stream",
          "name": "stdout",
          "text": [
            "\n",
            "Daily Return Stats for ED:\n",
            "count    3772.000000\n",
            "mean        0.000406\n",
            "std         0.011856\n",
            "min        -0.131345\n",
            "25%        -0.005341\n",
            "50%         0.000868\n",
            "75%         0.006507\n",
            "max         0.180138\n",
            "Name: Daily Return, dtype: float64\n",
            "\n",
            "============================================================\n",
            "\n",
            "Processing STZ...\n"
          ]
        },
        {
          "output_type": "stream",
          "name": "stderr",
          "text": [
            "\r[*********************100%***********************]  1 of 1 completed\n"
          ]
        },
        {
          "output_type": "stream",
          "name": "stdout",
          "text": [
            "\n",
            "Daily Return Stats for STZ:\n",
            "count    3772.000000\n",
            "mean        0.000884\n",
            "std         0.017919\n",
            "min        -0.173857\n",
            "25%        -0.006985\n",
            "50%         0.000558\n",
            "75%         0.008623\n",
            "max         0.372334\n",
            "Name: Daily Return, dtype: float64\n",
            "\n",
            "============================================================\n",
            "\n",
            "Processing CEG...\n"
          ]
        },
        {
          "output_type": "stream",
          "name": "stderr",
          "text": [
            "\r[*********************100%***********************]  1 of 1 completed\n"
          ]
        },
        {
          "output_type": "stream",
          "name": "stdout",
          "text": [
            "\n",
            "Daily Return Stats for CEG:\n",
            "count    740.000000\n",
            "mean       0.002688\n",
            "std        0.027562\n",
            "min       -0.124564\n",
            "25%       -0.010987\n",
            "50%        0.001736\n",
            "75%        0.014351\n",
            "max        0.222926\n",
            "Name: Daily Return, dtype: float64\n",
            "\n",
            "============================================================\n",
            "\n",
            "Processing COO...\n"
          ]
        },
        {
          "output_type": "stream",
          "name": "stderr",
          "text": [
            "\r[*********************100%***********************]  1 of 1 completed\n"
          ]
        },
        {
          "output_type": "stream",
          "name": "stdout",
          "text": [
            "\n",
            "Daily Return Stats for COO:\n",
            "count    3772.000000\n",
            "mean        0.000744\n",
            "std         0.016735\n",
            "min        -0.135355\n",
            "25%        -0.007668\n",
            "50%         0.000544\n",
            "75%         0.008733\n",
            "max         0.165922\n",
            "Name: Daily Return, dtype: float64\n",
            "\n",
            "============================================================\n",
            "\n",
            "Processing CPRT...\n"
          ]
        },
        {
          "output_type": "stream",
          "name": "stderr",
          "text": [
            "\r[*********************100%***********************]  1 of 1 completed\n"
          ]
        },
        {
          "output_type": "stream",
          "name": "stdout",
          "text": [
            "\n",
            "Daily Return Stats for CPRT:\n",
            "count    3772.000000\n",
            "mean        0.000987\n",
            "std         0.015999\n",
            "min        -0.140591\n",
            "25%        -0.006692\n",
            "50%         0.001041\n",
            "75%         0.008971\n",
            "max         0.173528\n",
            "Name: Daily Return, dtype: float64\n",
            "\n",
            "============================================================\n",
            "\n",
            "Processing GLW...\n"
          ]
        },
        {
          "output_type": "stream",
          "name": "stderr",
          "text": [
            "\r[*********************100%***********************]  1 of 1 completed\n"
          ]
        },
        {
          "output_type": "stream",
          "name": "stdout",
          "text": [
            "\n",
            "Daily Return Stats for GLW:\n",
            "count    3772.000000\n",
            "mean        0.000508\n",
            "std         0.018746\n",
            "min        -0.164035\n",
            "25%        -0.008463\n",
            "50%         0.000614\n",
            "75%         0.009507\n",
            "max         0.141368\n",
            "Name: Daily Return, dtype: float64\n",
            "\n",
            "============================================================\n",
            "\n",
            "Processing CPAY...\n"
          ]
        },
        {
          "output_type": "stream",
          "name": "stderr",
          "text": [
            "\r[*********************100%***********************]  1 of 1 completed\n"
          ]
        },
        {
          "output_type": "stream",
          "name": "stdout",
          "text": [
            "\n",
            "Daily Return Stats for CPAY:\n",
            "count    3532.000000\n",
            "mean        0.000897\n",
            "std         0.019204\n",
            "min        -0.119643\n",
            "25%        -0.008700\n",
            "50%         0.000843\n",
            "75%         0.010110\n",
            "max         0.159450\n",
            "Name: Daily Return, dtype: float64\n",
            "\n",
            "============================================================\n",
            "\n",
            "Processing CTVA...\n"
          ]
        },
        {
          "output_type": "stream",
          "name": "stderr",
          "text": [
            "\r[*********************100%***********************]  1 of 1 completed\n"
          ]
        },
        {
          "output_type": "stream",
          "name": "stdout",
          "text": [
            "\n",
            "Daily Return Stats for CTVA:\n",
            "count    1409.000000\n",
            "mean        0.000760\n",
            "std         0.021643\n",
            "min        -0.164384\n",
            "25%        -0.009556\n",
            "50%         0.000466\n",
            "75%         0.010856\n",
            "max         0.188654\n",
            "Name: Daily Return, dtype: float64\n",
            "\n",
            "============================================================\n",
            "\n",
            "Processing CSGP...\n"
          ]
        },
        {
          "output_type": "stream",
          "name": "stderr",
          "text": [
            "\r[*********************100%***********************]  1 of 1 completed\n"
          ]
        },
        {
          "output_type": "stream",
          "name": "stdout",
          "text": [
            "\n",
            "Daily Return Stats for CSGP:\n",
            "count    3772.000000\n",
            "mean        0.000939\n",
            "std         0.019414\n",
            "min        -0.149984\n",
            "25%        -0.008926\n",
            "50%         0.000686\n",
            "75%         0.010476\n",
            "max         0.172053\n",
            "Name: Daily Return, dtype: float64\n",
            "\n",
            "============================================================\n",
            "\n",
            "Processing COST...\n"
          ]
        },
        {
          "output_type": "stream",
          "name": "stderr",
          "text": [
            "\r[*********************100%***********************]  1 of 1 completed\n"
          ]
        },
        {
          "output_type": "stream",
          "name": "stdout",
          "text": [
            "\n",
            "Daily Return Stats for COST:\n",
            "count    3772.000000\n",
            "mean        0.000898\n",
            "std         0.012728\n",
            "min        -0.124513\n",
            "25%        -0.005443\n",
            "50%         0.000977\n",
            "75%         0.007464\n",
            "max         0.099594\n",
            "Name: Daily Return, dtype: float64\n",
            "\n",
            "============================================================\n",
            "\n",
            "Processing CTRA...\n"
          ]
        },
        {
          "output_type": "stream",
          "name": "stderr",
          "text": [
            "\r[*********************100%***********************]  1 of 1 completed\n"
          ]
        },
        {
          "output_type": "stream",
          "name": "stdout",
          "text": [
            "\n",
            "Daily Return Stats for CTRA:\n",
            "count    3772.000000\n",
            "mean        0.000570\n",
            "std         0.023748\n",
            "min        -0.120698\n",
            "25%        -0.012363\n",
            "50%         0.000000\n",
            "75%         0.013066\n",
            "max         0.158438\n",
            "Name: Daily Return, dtype: float64\n",
            "\n",
            "============================================================\n",
            "\n",
            "Processing CRWD...\n"
          ]
        },
        {
          "output_type": "stream",
          "name": "stderr",
          "text": [
            "\r[*********************100%***********************]  1 of 1 completed\n"
          ]
        },
        {
          "output_type": "stream",
          "name": "stdout",
          "text": [
            "\n",
            "Daily Return Stats for CRWD:\n",
            "count    1397.000000\n",
            "mean        0.001946\n",
            "std         0.036387\n",
            "min        -0.165360\n",
            "25%        -0.018855\n",
            "50%         0.002241\n",
            "75%         0.020795\n",
            "max         0.174173\n",
            "Name: Daily Return, dtype: float64\n",
            "\n",
            "============================================================\n",
            "\n",
            "Processing CCI...\n"
          ]
        },
        {
          "output_type": "stream",
          "name": "stderr",
          "text": [
            "\r[*********************100%***********************]  1 of 1 completed\n"
          ]
        },
        {
          "output_type": "stream",
          "name": "stdout",
          "text": [
            "\n",
            "Daily Return Stats for CCI:\n",
            "count    3772.000000\n",
            "mean        0.000442\n",
            "std         0.014872\n",
            "min        -0.124250\n",
            "25%        -0.007295\n",
            "50%         0.000562\n",
            "75%         0.008094\n",
            "max         0.113395\n",
            "Name: Daily Return, dtype: float64\n",
            "\n",
            "============================================================\n",
            "\n",
            "Processing CSX...\n"
          ]
        },
        {
          "output_type": "stream",
          "name": "stderr",
          "text": [
            "\r[*********************100%***********************]  1 of 1 completed\n"
          ]
        },
        {
          "output_type": "stream",
          "name": "stdout",
          "text": [
            "\n",
            "Daily Return Stats for CSX:\n",
            "count    3772.000000\n",
            "mean        0.000693\n",
            "std         0.017453\n",
            "min        -0.155506\n",
            "25%        -0.008113\n",
            "50%         0.000718\n",
            "75%         0.009696\n",
            "max         0.234002\n",
            "Name: Daily Return, dtype: float64\n",
            "\n",
            "============================================================\n",
            "\n",
            "Processing CMI...\n"
          ]
        },
        {
          "output_type": "stream",
          "name": "stderr",
          "text": [
            "\r[*********************100%***********************]  1 of 1 completed\n"
          ]
        },
        {
          "output_type": "stream",
          "name": "stdout",
          "text": [
            "\n",
            "Daily Return Stats for CMI:\n",
            "count    3772.000000\n",
            "mean        0.000796\n",
            "std         0.018437\n",
            "min        -0.117788\n",
            "25%        -0.008601\n",
            "50%         0.000708\n",
            "75%         0.009924\n",
            "max         0.211464\n",
            "Name: Daily Return, dtype: float64\n",
            "\n",
            "============================================================\n",
            "\n",
            "Processing CVS...\n"
          ]
        },
        {
          "output_type": "stream",
          "name": "stderr",
          "text": [
            "\r[*********************100%***********************]  1 of 1 completed\n"
          ]
        },
        {
          "output_type": "stream",
          "name": "stdout",
          "text": [
            "\n",
            "Daily Return Stats for CVS:\n",
            "count    3772.000000\n",
            "mean        0.000292\n",
            "std         0.015767\n",
            "min        -0.168365\n",
            "25%        -0.007493\n",
            "50%         0.000665\n",
            "75%         0.008546\n",
            "max         0.113300\n",
            "Name: Daily Return, dtype: float64\n",
            "\n",
            "============================================================\n",
            "\n",
            "Processing DHR...\n"
          ]
        },
        {
          "output_type": "stream",
          "name": "stderr",
          "text": [
            "\r[*********************100%***********************]  1 of 1 completed\n"
          ]
        },
        {
          "output_type": "stream",
          "name": "stdout",
          "text": [
            "\n",
            "Daily Return Stats for DHR:\n",
            "count    3772.000000\n",
            "mean        0.000858\n",
            "std         0.017489\n",
            "min        -0.097249\n",
            "25%        -0.006510\n",
            "50%         0.000716\n",
            "75%         0.008003\n",
            "max         0.612184\n",
            "Name: Daily Return, dtype: float64\n",
            "\n",
            "============================================================\n",
            "\n",
            "Processing DRI...\n"
          ]
        },
        {
          "output_type": "stream",
          "name": "stderr",
          "text": [
            "\r[*********************100%***********************]  1 of 1 completed\n"
          ]
        },
        {
          "output_type": "stream",
          "name": "stdout",
          "text": [
            "\n",
            "Daily Return Stats for DRI:\n",
            "count    3772.000000\n",
            "mean        0.000808\n",
            "std         0.020412\n",
            "min        -0.246632\n",
            "25%        -0.007611\n",
            "50%         0.000614\n",
            "75%         0.009278\n",
            "max         0.313429\n",
            "Name: Daily Return, dtype: float64\n",
            "\n",
            "============================================================\n",
            "\n",
            "Processing DVA...\n"
          ]
        },
        {
          "output_type": "stream",
          "name": "stderr",
          "text": [
            "\r[*********************100%***********************]  1 of 1 completed\n"
          ]
        },
        {
          "output_type": "stream",
          "name": "stdout",
          "text": [
            "\n",
            "Daily Return Stats for DVA:\n",
            "count    3772.000000\n",
            "mean        0.000596\n",
            "std         0.018233\n",
            "min        -0.270904\n",
            "25%        -0.007404\n",
            "50%         0.000819\n",
            "75%         0.008650\n",
            "max         0.135729\n",
            "Name: Daily Return, dtype: float64\n",
            "\n",
            "============================================================\n",
            "\n",
            "Processing DAY...\n"
          ]
        },
        {
          "output_type": "stream",
          "name": "stderr",
          "text": [
            "\r[*********************100%***********************]  1 of 1 completed\n"
          ]
        },
        {
          "output_type": "stream",
          "name": "stdout",
          "text": [
            "\n",
            "Daily Return Stats for DAY:\n",
            "count    1680.000000\n",
            "mean        0.000901\n",
            "std         0.028220\n",
            "min        -0.141444\n",
            "25%        -0.013828\n",
            "50%         0.001682\n",
            "75%         0.016149\n",
            "max         0.139409\n",
            "Name: Daily Return, dtype: float64\n",
            "\n",
            "============================================================\n",
            "\n",
            "Processing DECK...\n"
          ]
        },
        {
          "output_type": "stream",
          "name": "stderr",
          "text": [
            "\r[*********************100%***********************]  1 of 1 completed\n"
          ]
        },
        {
          "output_type": "stream",
          "name": "stdout",
          "text": [
            "\n",
            "Daily Return Stats for DECK:\n",
            "count    3772.000000\n",
            "mean        0.001310\n",
            "std         0.026845\n",
            "min        -0.253815\n",
            "25%        -0.012105\n",
            "50%         0.001526\n",
            "75%         0.014892\n",
            "max         0.204647\n",
            "Name: Daily Return, dtype: float64\n",
            "\n",
            "============================================================\n",
            "\n",
            "Processing DE...\n"
          ]
        },
        {
          "output_type": "stream",
          "name": "stderr",
          "text": [
            "\r[*********************100%***********************]  1 of 1 completed\n"
          ]
        },
        {
          "output_type": "stream",
          "name": "stdout",
          "text": [
            "\n",
            "Daily Return Stats for DE:\n",
            "count    3772.000000\n",
            "mean        0.000770\n",
            "std         0.017701\n",
            "min        -0.140722\n",
            "25%        -0.007956\n",
            "50%         0.000722\n",
            "75%         0.009525\n",
            "max         0.134910\n",
            "Name: Daily Return, dtype: float64\n",
            "\n",
            "============================================================\n",
            "\n",
            "Processing DELL...\n"
          ]
        },
        {
          "output_type": "stream",
          "name": "stderr",
          "text": [
            "\r[*********************100%***********************]  1 of 1 completed\n"
          ]
        },
        {
          "output_type": "stream",
          "name": "stdout",
          "text": [
            "\n",
            "Daily Return Stats for DELL:\n",
            "count    2105.000000\n",
            "mean        0.001411\n",
            "std         0.024874\n",
            "min        -0.216393\n",
            "25%        -0.008878\n",
            "50%         0.001358\n",
            "75%         0.012093\n",
            "max         0.316184\n",
            "Name: Daily Return, dtype: float64\n",
            "\n",
            "============================================================\n",
            "\n",
            "Processing DAL...\n"
          ]
        },
        {
          "output_type": "stream",
          "name": "stderr",
          "text": [
            "\r[*********************100%***********************]  1 of 1 completed\n"
          ]
        },
        {
          "output_type": "stream",
          "name": "stdout",
          "text": [
            "\n",
            "Daily Return Stats for DAL:\n",
            "count    3772.000000\n",
            "mean        0.000807\n",
            "std         0.025384\n",
            "min        -0.259924\n",
            "25%        -0.012238\n",
            "50%         0.000729\n",
            "75%         0.013393\n",
            "max         0.210171\n",
            "Name: Daily Return, dtype: float64\n",
            "\n",
            "============================================================\n",
            "\n",
            "Processing DVN...\n"
          ]
        },
        {
          "output_type": "stream",
          "name": "stderr",
          "text": [
            "\r[*********************100%***********************]  1 of 1 completed\n"
          ]
        },
        {
          "output_type": "stream",
          "name": "stdout",
          "text": [
            "\n",
            "Daily Return Stats for DVN:\n",
            "count    3772.000000\n",
            "mean        0.000286\n",
            "std         0.028368\n",
            "min        -0.373972\n",
            "25%        -0.013288\n",
            "50%         0.000000\n",
            "75%         0.013725\n",
            "max         0.210721\n",
            "Name: Daily Return, dtype: float64\n",
            "\n",
            "============================================================\n",
            "\n",
            "Processing DXCM...\n"
          ]
        },
        {
          "output_type": "stream",
          "name": "stderr",
          "text": [
            "\r[*********************100%***********************]  1 of 1 completed\n"
          ]
        },
        {
          "output_type": "stream",
          "name": "stdout",
          "text": [
            "\n",
            "Daily Return Stats for DXCM:\n",
            "count    3772.000000\n",
            "mean        0.001413\n",
            "std         0.030036\n",
            "min        -0.406583\n",
            "25%        -0.013022\n",
            "50%         0.001060\n",
            "75%         0.015150\n",
            "max         0.306475\n",
            "Name: Daily Return, dtype: float64\n",
            "\n",
            "============================================================\n",
            "\n",
            "Processing FANG...\n"
          ]
        },
        {
          "output_type": "stream",
          "name": "stderr",
          "text": [
            "\r[*********************100%***********************]  1 of 1 completed\n"
          ]
        },
        {
          "output_type": "stream",
          "name": "stdout",
          "text": [
            "\n",
            "Daily Return Stats for FANG:\n",
            "count    3071.000000\n",
            "mean        0.001268\n",
            "std         0.030274\n",
            "min        -0.446458\n",
            "25%        -0.014157\n",
            "50%         0.001648\n",
            "75%         0.015169\n",
            "max         0.309620\n",
            "Name: Daily Return, dtype: float64\n",
            "\n",
            "============================================================\n",
            "\n",
            "Processing DLR...\n"
          ]
        },
        {
          "output_type": "stream",
          "name": "stderr",
          "text": [
            "\r[*********************100%***********************]  1 of 1 completed\n"
          ]
        },
        {
          "output_type": "stream",
          "name": "stdout",
          "text": [
            "\n",
            "Daily Return Stats for DLR:\n",
            "count    3772.000000\n",
            "mean        0.000637\n",
            "std         0.016912\n",
            "min        -0.152680\n",
            "25%        -0.007802\n",
            "50%         0.001251\n",
            "75%         0.009854\n",
            "max         0.118447\n",
            "Name: Daily Return, dtype: float64\n",
            "\n",
            "============================================================\n",
            "\n",
            "Processing DG...\n"
          ]
        },
        {
          "output_type": "stream",
          "name": "stderr",
          "text": [
            "\r[*********************100%***********************]  1 of 1 completed\n"
          ]
        },
        {
          "output_type": "stream",
          "name": "stdout",
          "text": [
            "\n",
            "Daily Return Stats for DG:\n",
            "count    3772.000000\n",
            "mean        0.000510\n",
            "std         0.017869\n",
            "min        -0.321463\n",
            "25%        -0.007434\n",
            "50%         0.000430\n",
            "75%         0.009028\n",
            "max         0.137146\n",
            "Name: Daily Return, dtype: float64\n",
            "\n",
            "============================================================\n",
            "\n",
            "Processing DLTR...\n"
          ]
        },
        {
          "output_type": "stream",
          "name": "stderr",
          "text": [
            "\r[*********************100%***********************]  1 of 1 completed\n"
          ]
        },
        {
          "output_type": "stream",
          "name": "stdout",
          "text": [
            "\n",
            "Daily Return Stats for DLTR:\n",
            "count    3772.000000\n",
            "mean        0.000605\n",
            "std         0.019736\n",
            "min        -0.221555\n",
            "25%        -0.008138\n",
            "50%         0.000449\n",
            "75%         0.009738\n",
            "max         0.218654\n",
            "Name: Daily Return, dtype: float64\n",
            "\n",
            "============================================================\n",
            "\n",
            "Processing D...\n"
          ]
        },
        {
          "output_type": "stream",
          "name": "stderr",
          "text": [
            "\r[*********************100%***********************]  1 of 1 completed\n"
          ]
        },
        {
          "output_type": "stream",
          "name": "stdout",
          "text": [
            "\n",
            "Daily Return Stats for D:\n",
            "count    3772.000000\n",
            "mean        0.000337\n",
            "std         0.013101\n",
            "min        -0.123132\n",
            "25%        -0.005860\n",
            "50%         0.000513\n",
            "75%         0.007268\n",
            "max         0.172324\n",
            "Name: Daily Return, dtype: float64\n",
            "\n",
            "============================================================\n",
            "\n",
            "Processing DPZ...\n"
          ]
        },
        {
          "output_type": "stream",
          "name": "stderr",
          "text": [
            "\r[*********************100%***********************]  1 of 1 completed\n"
          ]
        },
        {
          "output_type": "stream",
          "name": "stdout",
          "text": [
            "\n",
            "Daily Return Stats for DPZ:\n",
            "count    3772.000000\n",
            "mean        0.001261\n",
            "std         0.018863\n",
            "min        -0.135715\n",
            "25%        -0.007477\n",
            "50%         0.001094\n",
            "75%         0.009975\n",
            "max         0.256008\n",
            "Name: Daily Return, dtype: float64\n",
            "\n",
            "============================================================\n",
            "\n",
            "Processing DASH...\n"
          ]
        },
        {
          "output_type": "stream",
          "name": "stderr",
          "text": [
            "\r[*********************100%***********************]  1 of 1 completed\n"
          ]
        },
        {
          "output_type": "stream",
          "name": "stdout",
          "text": [
            "\n",
            "Daily Return Stats for DASH:\n",
            "count    1019.000000\n",
            "mean        0.000618\n",
            "std         0.038220\n",
            "min        -0.135457\n",
            "25%        -0.018327\n",
            "50%         0.000179\n",
            "75%         0.018165\n",
            "max         0.221491\n",
            "Name: Daily Return, dtype: float64\n",
            "\n",
            "============================================================\n",
            "\n",
            "Processing DOV...\n"
          ]
        },
        {
          "output_type": "stream",
          "name": "stderr",
          "text": [
            "\r[*********************100%***********************]  1 of 1 completed\n"
          ]
        },
        {
          "output_type": "stream",
          "name": "stdout",
          "text": [
            "\n",
            "Daily Return Stats for DOV:\n",
            "count    3772.000000\n",
            "mean        0.000715\n",
            "std         0.016753\n",
            "min        -0.163085\n",
            "25%        -0.007783\n",
            "50%         0.000748\n",
            "75%         0.009254\n",
            "max         0.143338\n",
            "Name: Daily Return, dtype: float64\n",
            "\n",
            "============================================================\n",
            "\n",
            "Processing DOW...\n"
          ]
        },
        {
          "output_type": "stream",
          "name": "stderr",
          "text": [
            "\r[*********************100%***********************]  1 of 1 completed\n"
          ]
        },
        {
          "output_type": "stream",
          "name": "stdout",
          "text": [
            "\n",
            "Daily Return Stats for DOW:\n",
            "count    1455.000000\n",
            "mean        0.000304\n",
            "std         0.022454\n",
            "min        -0.216577\n",
            "25%        -0.010625\n",
            "50%         0.000184\n",
            "75%         0.011097\n",
            "max         0.209091\n",
            "Name: Daily Return, dtype: float64\n",
            "\n",
            "============================================================\n",
            "\n",
            "Processing DHI...\n"
          ]
        },
        {
          "output_type": "stream",
          "name": "stderr",
          "text": [
            "\r[*********************100%***********************]  1 of 1 completed\n"
          ]
        },
        {
          "output_type": "stream",
          "name": "stdout",
          "text": [
            "\n",
            "Daily Return Stats for DHI:\n",
            "count    3772.000000\n",
            "mean        0.000970\n",
            "std         0.022653\n",
            "min        -0.202290\n",
            "25%        -0.011305\n",
            "50%         0.000703\n",
            "75%         0.012629\n",
            "max         0.146546\n",
            "Name: Daily Return, dtype: float64\n",
            "\n",
            "============================================================\n",
            "\n",
            "Processing DTE...\n"
          ]
        },
        {
          "output_type": "stream",
          "name": "stderr",
          "text": [
            "\r[*********************100%***********************]  1 of 1 completed\n"
          ]
        },
        {
          "output_type": "stream",
          "name": "stdout",
          "text": [
            "\n",
            "Daily Return Stats for DTE:\n",
            "count    3772.000000\n",
            "mean        0.000541\n",
            "std         0.012915\n",
            "min        -0.139050\n",
            "25%        -0.005453\n",
            "50%         0.001030\n",
            "75%         0.007059\n",
            "max         0.126416\n",
            "Name: Daily Return, dtype: float64\n",
            "\n",
            "============================================================\n",
            "\n",
            "Processing DUK...\n"
          ]
        },
        {
          "output_type": "stream",
          "name": "stderr",
          "text": [
            "\r[*********************100%***********************]  1 of 1 completed\n"
          ]
        },
        {
          "output_type": "stream",
          "name": "stdout",
          "text": [
            "\n",
            "Daily Return Stats for DUK:\n",
            "count    3772.000000\n",
            "mean        0.000443\n",
            "std         0.011741\n",
            "min        -0.115021\n",
            "25%        -0.005267\n",
            "50%         0.000618\n",
            "75%         0.006595\n",
            "max         0.123009\n",
            "Name: Daily Return, dtype: float64\n",
            "\n",
            "============================================================\n",
            "\n",
            "Processing DD...\n"
          ]
        },
        {
          "output_type": "stream",
          "name": "stderr",
          "text": [
            "\r[*********************100%***********************]  1 of 1 completed\n"
          ]
        },
        {
          "output_type": "stream",
          "name": "stdout",
          "text": [
            "\n",
            "Daily Return Stats for DD:\n",
            "count    3772.000000\n",
            "mean        0.000454\n",
            "std         0.019517\n",
            "min        -0.140447\n",
            "25%        -0.009150\n",
            "50%         0.000327\n",
            "75%         0.010257\n",
            "max         0.178154\n",
            "Name: Daily Return, dtype: float64\n",
            "\n",
            "============================================================\n",
            "\n",
            "Processing EMN...\n"
          ]
        },
        {
          "output_type": "stream",
          "name": "stderr",
          "text": [
            "\r[*********************100%***********************]  1 of 1 completed\n"
          ]
        },
        {
          "output_type": "stream",
          "name": "stdout",
          "text": [
            "\n",
            "Daily Return Stats for EMN:\n",
            "count    3772.000000\n",
            "mean        0.000573\n",
            "std         0.018901\n",
            "min        -0.136040\n",
            "25%        -0.009356\n",
            "50%         0.000516\n",
            "75%         0.010259\n",
            "max         0.121902\n",
            "Name: Daily Return, dtype: float64\n",
            "\n",
            "============================================================\n",
            "\n",
            "Processing ETN...\n"
          ]
        },
        {
          "output_type": "stream",
          "name": "stderr",
          "text": [
            "\r[*********************100%***********************]  1 of 1 completed\n"
          ]
        },
        {
          "output_type": "stream",
          "name": "stdout",
          "text": [
            "\n",
            "Daily Return Stats for ETN:\n",
            "count    3772.000000\n",
            "mean        0.000880\n",
            "std         0.017739\n",
            "min        -0.119682\n",
            "25%        -0.007867\n",
            "50%         0.000751\n",
            "75%         0.009852\n",
            "max         0.232647\n",
            "Name: Daily Return, dtype: float64\n",
            "\n",
            "============================================================\n",
            "\n",
            "Processing EBAY...\n"
          ]
        },
        {
          "output_type": "stream",
          "name": "stderr",
          "text": [
            "\r[*********************100%***********************]  1 of 1 completed\n"
          ]
        },
        {
          "output_type": "stream",
          "name": "stdout",
          "text": [
            "\n",
            "Daily Return Stats for EBAY:\n",
            "count    3772.000000\n",
            "mean        0.000687\n",
            "std         0.018838\n",
            "min        -0.124527\n",
            "25%        -0.008945\n",
            "50%         0.000591\n",
            "75%         0.010434\n",
            "max         0.139199\n",
            "Name: Daily Return, dtype: float64\n",
            "\n",
            "============================================================\n",
            "\n",
            "Processing ECL...\n"
          ]
        },
        {
          "output_type": "stream",
          "name": "stderr",
          "text": [
            "\r[*********************100%***********************]  1 of 1 completed\n"
          ]
        },
        {
          "output_type": "stream",
          "name": "stdout",
          "text": [
            "\n",
            "Daily Return Stats for ECL:\n",
            "count    3772.000000\n",
            "mean        0.000590\n",
            "std         0.014729\n",
            "min        -0.117424\n",
            "25%        -0.006014\n",
            "50%         0.000875\n",
            "75%         0.007495\n",
            "max         0.221610\n",
            "Name: Daily Return, dtype: float64\n",
            "\n",
            "============================================================\n",
            "\n",
            "Processing EIX...\n"
          ]
        },
        {
          "output_type": "stream",
          "name": "stderr",
          "text": [
            "\r[*********************100%***********************]  1 of 1 completed\n"
          ]
        },
        {
          "output_type": "stream",
          "name": "stdout",
          "text": [
            "\n",
            "Daily Return Stats for EIX:\n",
            "count    3772.000000\n",
            "mean        0.000471\n",
            "std         0.014923\n",
            "min        -0.133333\n",
            "25%        -0.006537\n",
            "50%         0.000739\n",
            "75%         0.008067\n",
            "max         0.153846\n",
            "Name: Daily Return, dtype: float64\n",
            "\n",
            "============================================================\n",
            "\n",
            "Processing EW...\n"
          ]
        },
        {
          "output_type": "stream",
          "name": "stderr",
          "text": [
            "\r[*********************100%***********************]  1 of 1 completed\n"
          ]
        },
        {
          "output_type": "stream",
          "name": "stdout",
          "text": [
            "\n",
            "Daily Return Stats for EW:\n",
            "count    3772.000000\n",
            "mean        0.000835\n",
            "std         0.020670\n",
            "min        -0.313398\n",
            "25%        -0.008449\n",
            "50%         0.000924\n",
            "75%         0.010439\n",
            "max         0.175921\n",
            "Name: Daily Return, dtype: float64\n",
            "\n",
            "============================================================\n",
            "\n",
            "Processing EA...\n"
          ]
        },
        {
          "output_type": "stream",
          "name": "stderr",
          "text": [
            "\r[*********************100%***********************]  1 of 1 completed\n"
          ]
        },
        {
          "output_type": "stream",
          "name": "stdout",
          "text": [
            "\n",
            "Daily Return Stats for EA:\n",
            "count    3772.000000\n",
            "mean        0.000757\n",
            "std         0.019956\n",
            "min        -0.133052\n",
            "25%        -0.009078\n",
            "50%         0.000635\n",
            "75%         0.010595\n",
            "max         0.210339\n",
            "Name: Daily Return, dtype: float64\n",
            "\n",
            "============================================================\n",
            "\n",
            "Processing ELV...\n"
          ]
        },
        {
          "output_type": "stream",
          "name": "stderr",
          "text": [
            "\r[*********************100%***********************]  1 of 1 completed\n"
          ]
        },
        {
          "output_type": "stream",
          "name": "stdout",
          "text": [
            "\n",
            "Daily Return Stats for ELV:\n",
            "count    3772.000000\n",
            "mean        0.000693\n",
            "std         0.017663\n",
            "min        -0.171266\n",
            "25%        -0.007950\n",
            "50%         0.000573\n",
            "75%         0.009625\n",
            "max         0.156175\n",
            "Name: Daily Return, dtype: float64\n",
            "\n",
            "============================================================\n",
            "\n",
            "Processing EMR...\n"
          ]
        },
        {
          "output_type": "stream",
          "name": "stderr",
          "text": [
            "\r[*********************100%***********************]  1 of 1 completed\n"
          ]
        },
        {
          "output_type": "stream",
          "name": "stdout",
          "text": [
            "\n",
            "Daily Return Stats for EMR:\n",
            "count    3772.000000\n",
            "mean        0.000532\n",
            "std         0.016773\n",
            "min        -0.189572\n",
            "25%        -0.007352\n",
            "50%         0.000618\n",
            "75%         0.008731\n",
            "max         0.163340\n",
            "Name: Daily Return, dtype: float64\n",
            "\n",
            "============================================================\n",
            "\n",
            "Processing ENPH...\n"
          ]
        },
        {
          "output_type": "stream",
          "name": "stderr",
          "text": [
            "\r[*********************100%***********************]  1 of 1 completed\n"
          ]
        },
        {
          "output_type": "stream",
          "name": "stdout",
          "text": [
            "\n",
            "Daily Return Stats for ENPH:\n",
            "count    3207.000000\n",
            "mean        0.001972\n",
            "std         0.050538\n",
            "min        -0.373656\n",
            "25%        -0.024461\n",
            "50%         0.000000\n",
            "75%         0.025696\n",
            "max         0.424446\n",
            "Name: Daily Return, dtype: float64\n",
            "\n",
            "============================================================\n",
            "\n",
            "Processing ETR...\n"
          ]
        },
        {
          "output_type": "stream",
          "name": "stderr",
          "text": [
            "\r[*********************100%***********************]  1 of 1 completed\n"
          ]
        },
        {
          "output_type": "stream",
          "name": "stdout",
          "text": [
            "\n",
            "Daily Return Stats for ETR:\n",
            "count    3772.000000\n",
            "mean        0.000345\n",
            "std         0.013804\n",
            "min        -0.157291\n",
            "25%        -0.006108\n",
            "50%         0.000471\n",
            "75%         0.007509\n",
            "max         0.151637\n",
            "Name: Daily Return, dtype: float64\n",
            "\n",
            "============================================================\n",
            "\n",
            "Processing EOG...\n"
          ]
        },
        {
          "output_type": "stream",
          "name": "stderr",
          "text": [
            "\r[*********************100%***********************]  1 of 1 completed\n"
          ]
        },
        {
          "output_type": "stream",
          "name": "stdout",
          "text": [
            "\n",
            "Daily Return Stats for EOG:\n",
            "count    3772.000000\n",
            "mean        0.000600\n",
            "std         0.023797\n",
            "min        -0.320072\n",
            "25%        -0.011348\n",
            "50%         0.000326\n",
            "75%         0.012104\n",
            "max         0.165702\n",
            "Name: Daily Return, dtype: float64\n",
            "\n",
            "============================================================\n",
            "\n",
            "Processing EPAM...\n"
          ]
        },
        {
          "output_type": "stream",
          "name": "stderr",
          "text": [
            "\r[*********************100%***********************]  1 of 1 completed\n"
          ]
        },
        {
          "output_type": "stream",
          "name": "stdout",
          "text": [
            "\n",
            "Daily Return Stats for EPAM:\n",
            "count    3243.000000\n",
            "mean        0.001268\n",
            "std         0.027617\n",
            "min        -0.456763\n",
            "25%        -0.010112\n",
            "50%         0.001254\n",
            "75%         0.012419\n",
            "max         0.251866\n",
            "Name: Daily Return, dtype: float64\n",
            "\n",
            "============================================================\n",
            "\n",
            "Processing EQT...\n"
          ]
        },
        {
          "output_type": "stream",
          "name": "stderr",
          "text": [
            "\r[*********************100%***********************]  1 of 1 completed\n"
          ]
        },
        {
          "output_type": "stream",
          "name": "stdout",
          "text": [
            "\n",
            "Daily Return Stats for EQT:\n",
            "count    3772.000000\n",
            "mean        0.000580\n",
            "std         0.027520\n",
            "min        -0.186577\n",
            "25%        -0.013236\n",
            "50%        -0.000131\n",
            "75%         0.014267\n",
            "max         0.373199\n",
            "Name: Daily Return, dtype: float64\n",
            "\n",
            "============================================================\n",
            "\n",
            "Processing EFX...\n"
          ]
        },
        {
          "output_type": "stream",
          "name": "stderr",
          "text": [
            "\r[*********************100%***********************]  1 of 1 completed\n"
          ]
        },
        {
          "output_type": "stream",
          "name": "stdout",
          "text": [
            "\n",
            "Daily Return Stats for EFX:\n",
            "count    3772.000000\n",
            "mean        0.000742\n",
            "std         0.016848\n",
            "min        -0.147798\n",
            "25%        -0.006931\n",
            "50%         0.000929\n",
            "75%         0.008976\n",
            "max         0.149406\n",
            "Name: Daily Return, dtype: float64\n",
            "\n",
            "============================================================\n",
            "\n",
            "Processing EQIX...\n"
          ]
        },
        {
          "output_type": "stream",
          "name": "stderr",
          "text": [
            "\r[*********************100%***********************]  1 of 1 completed\n"
          ]
        },
        {
          "output_type": "stream",
          "name": "stdout",
          "text": [
            "\n",
            "Daily Return Stats for EQIX:\n",
            "count    3772.000000\n",
            "mean        0.000814\n",
            "std         0.018397\n",
            "min        -0.330669\n",
            "25%        -0.008158\n",
            "50%         0.000905\n",
            "75%         0.009794\n",
            "max         0.132535\n",
            "Name: Daily Return, dtype: float64\n",
            "\n",
            "============================================================\n",
            "\n",
            "Processing EQR...\n"
          ]
        },
        {
          "output_type": "stream",
          "name": "stderr",
          "text": [
            "\r[*********************100%***********************]  1 of 1 completed\n"
          ]
        },
        {
          "output_type": "stream",
          "name": "stdout",
          "text": [
            "\n",
            "Daily Return Stats for EQR:\n",
            "count    3772.000000\n",
            "mean        0.000491\n",
            "std         0.015364\n",
            "min        -0.169135\n",
            "25%        -0.007092\n",
            "50%         0.000775\n",
            "75%         0.008141\n",
            "max         0.150621\n",
            "Name: Daily Return, dtype: float64\n",
            "\n",
            "============================================================\n",
            "\n",
            "Processing ERIE...\n"
          ]
        },
        {
          "output_type": "stream",
          "name": "stderr",
          "text": [
            "\r[*********************100%***********************]  1 of 1 completed\n"
          ]
        },
        {
          "output_type": "stream",
          "name": "stdout",
          "text": [
            "\n",
            "Daily Return Stats for ERIE:\n",
            "count    3772.000000\n",
            "mean        0.000861\n",
            "std         0.015835\n",
            "min        -0.149707\n",
            "25%        -0.006569\n",
            "50%         0.000942\n",
            "75%         0.008167\n",
            "max         0.180194\n",
            "Name: Daily Return, dtype: float64\n",
            "\n",
            "============================================================\n",
            "\n",
            "Processing ESS...\n"
          ]
        },
        {
          "output_type": "stream",
          "name": "stderr",
          "text": [
            "\r[*********************100%***********************]  1 of 1 completed\n"
          ]
        },
        {
          "output_type": "stream",
          "name": "stdout",
          "text": [
            "\n",
            "Daily Return Stats for ESS:\n",
            "count    3772.000000\n",
            "mean        0.000569\n",
            "std         0.015378\n",
            "min        -0.188808\n",
            "25%        -0.007230\n",
            "50%         0.000948\n",
            "75%         0.008271\n",
            "max         0.120135\n",
            "Name: Daily Return, dtype: float64\n",
            "\n",
            "============================================================\n",
            "\n",
            "Processing EL...\n"
          ]
        },
        {
          "output_type": "stream",
          "name": "stderr",
          "text": [
            "\r[*********************100%***********************]  1 of 1 completed\n"
          ]
        },
        {
          "output_type": "stream",
          "name": "stdout",
          "text": [
            "\n",
            "Daily Return Stats for EL:\n",
            "count    3772.000000\n",
            "mean        0.000529\n",
            "std         0.019239\n",
            "min        -0.208950\n",
            "25%        -0.007843\n",
            "50%         0.000514\n",
            "75%         0.009339\n",
            "max         0.179411\n",
            "Name: Daily Return, dtype: float64\n",
            "\n",
            "============================================================\n",
            "\n",
            "Processing EG...\n"
          ]
        },
        {
          "output_type": "stream",
          "name": "stderr",
          "text": [
            "\r[*********************100%***********************]  1 of 1 completed\n"
          ]
        },
        {
          "output_type": "stream",
          "name": "stdout",
          "text": [
            "\n",
            "Daily Return Stats for EG:\n",
            "count    3772.000000\n",
            "mean        0.000583\n",
            "std         0.015310\n",
            "min        -0.143038\n",
            "25%        -0.006920\n",
            "50%         0.000644\n",
            "75%         0.008146\n",
            "max         0.117257\n",
            "Name: Daily Return, dtype: float64\n",
            "\n",
            "============================================================\n",
            "\n",
            "Processing EVRG...\n"
          ]
        },
        {
          "output_type": "stream",
          "name": "stderr",
          "text": [
            "\r[*********************100%***********************]  1 of 1 completed\n"
          ]
        },
        {
          "output_type": "stream",
          "name": "stdout",
          "text": [
            "\n",
            "Daily Return Stats for EVRG:\n",
            "count    3772.000000\n",
            "mean        0.000518\n",
            "std         0.013195\n",
            "min        -0.160603\n",
            "25%        -0.005648\n",
            "50%         0.000791\n",
            "75%         0.007043\n",
            "max         0.160484\n",
            "Name: Daily Return, dtype: float64\n",
            "\n",
            "============================================================\n",
            "\n",
            "Processing ES...\n"
          ]
        },
        {
          "output_type": "stream",
          "name": "stderr",
          "text": [
            "\r[*********************100%***********************]  1 of 1 completed\n"
          ]
        },
        {
          "output_type": "stream",
          "name": "stdout",
          "text": [
            "\n",
            "Daily Return Stats for ES:\n",
            "count    3772.000000\n",
            "mean        0.000436\n",
            "std         0.013484\n",
            "min        -0.128205\n",
            "25%        -0.006107\n",
            "50%         0.000830\n",
            "75%         0.007798\n",
            "max         0.147999\n",
            "Name: Daily Return, dtype: float64\n",
            "\n",
            "============================================================\n",
            "\n",
            "Processing EXC...\n"
          ]
        },
        {
          "output_type": "stream",
          "name": "stderr",
          "text": [
            "\r[*********************100%***********************]  1 of 1 completed\n"
          ]
        },
        {
          "output_type": "stream",
          "name": "stdout",
          "text": [
            "\n",
            "Daily Return Stats for EXC:\n",
            "count    3772.000000\n",
            "mean        0.000281\n",
            "std         0.014316\n",
            "min        -0.160891\n",
            "25%        -0.006757\n",
            "50%         0.000678\n",
            "75%         0.007613\n",
            "max         0.179941\n",
            "Name: Daily Return, dtype: float64\n",
            "\n",
            "============================================================\n",
            "\n",
            "Processing EXE...\n"
          ]
        },
        {
          "output_type": "stream",
          "name": "stderr",
          "text": [
            "\r[*********************100%***********************]  1 of 1 completed\n"
          ]
        },
        {
          "output_type": "stream",
          "name": "stdout",
          "text": [
            "\n",
            "Daily Return Stats for EXE:\n",
            "count    977.000000\n",
            "mean       0.001275\n",
            "std        0.022616\n",
            "min       -0.090714\n",
            "25%       -0.010654\n",
            "50%        0.000482\n",
            "75%        0.013462\n",
            "max        0.097721\n",
            "Name: Daily Return, dtype: float64\n",
            "\n",
            "============================================================\n",
            "\n",
            "Processing EXPE...\n"
          ]
        },
        {
          "output_type": "stream",
          "name": "stderr",
          "text": [
            "\r[*********************100%***********************]  1 of 1 completed\n"
          ]
        },
        {
          "output_type": "stream",
          "name": "stdout",
          "text": [
            "\n",
            "Daily Return Stats for EXPE:\n",
            "count    3772.000000\n",
            "mean        0.000813\n",
            "std         0.026614\n",
            "min        -0.335557\n",
            "25%        -0.010801\n",
            "50%         0.000635\n",
            "75%         0.011885\n",
            "max         0.245667\n",
            "Name: Daily Return, dtype: float64\n",
            "\n",
            "============================================================\n",
            "\n",
            "Processing EXPD...\n"
          ]
        },
        {
          "output_type": "stream",
          "name": "stderr",
          "text": [
            "\r[*********************100%***********************]  1 of 1 completed\n"
          ]
        },
        {
          "output_type": "stream",
          "name": "stdout",
          "text": [
            "\n",
            "Daily Return Stats for EXPD:\n",
            "count    3772.000000\n",
            "mean        0.000473\n",
            "std         0.015286\n",
            "min        -0.105599\n",
            "25%        -0.006972\n",
            "50%         0.000543\n",
            "75%         0.008433\n",
            "max         0.129431\n",
            "Name: Daily Return, dtype: float64\n",
            "\n",
            "============================================================\n",
            "\n",
            "Processing EXR...\n"
          ]
        },
        {
          "output_type": "stream",
          "name": "stderr",
          "text": [
            "\r[*********************100%***********************]  1 of 1 completed\n"
          ]
        },
        {
          "output_type": "stream",
          "name": "stdout",
          "text": [
            "\n",
            "Daily Return Stats for EXR:\n",
            "count    3772.000000\n",
            "mean        0.000937\n",
            "std         0.016416\n",
            "min        -0.154690\n",
            "25%        -0.007397\n",
            "50%         0.001043\n",
            "75%         0.009474\n",
            "max         0.105690\n",
            "Name: Daily Return, dtype: float64\n",
            "\n",
            "============================================================\n",
            "\n",
            "Processing XOM...\n"
          ]
        },
        {
          "output_type": "stream",
          "name": "stderr",
          "text": [
            "\r[*********************100%***********************]  1 of 1 completed\n"
          ]
        },
        {
          "output_type": "stream",
          "name": "stdout",
          "text": [
            "\n",
            "Daily Return Stats for XOM:\n",
            "count    3772.000000\n",
            "mean        0.000386\n",
            "std         0.015722\n",
            "min        -0.122248\n",
            "25%        -0.007267\n",
            "50%         0.000128\n",
            "75%         0.007989\n",
            "max         0.126868\n",
            "Name: Daily Return, dtype: float64\n",
            "\n",
            "============================================================\n",
            "\n",
            "Processing FFIV...\n"
          ]
        },
        {
          "output_type": "stream",
          "name": "stderr",
          "text": [
            "\r[*********************100%***********************]  1 of 1 completed\n"
          ]
        },
        {
          "output_type": "stream",
          "name": "stdout",
          "text": [
            "\n",
            "Daily Return Stats for FFIV:\n",
            "count    3772.000000\n",
            "mean        0.000638\n",
            "std         0.021347\n",
            "min        -0.213503\n",
            "25%        -0.009225\n",
            "50%         0.000817\n",
            "75%         0.011066\n",
            "max         0.146674\n",
            "Name: Daily Return, dtype: float64\n",
            "\n",
            "============================================================\n",
            "\n",
            "Processing FDS...\n"
          ]
        },
        {
          "output_type": "stream",
          "name": "stderr",
          "text": [
            "\r[*********************100%***********************]  1 of 1 completed\n"
          ]
        },
        {
          "output_type": "stream",
          "name": "stdout",
          "text": [
            "\n",
            "Daily Return Stats for FDS:\n",
            "count    3772.000000\n",
            "mean        0.000689\n",
            "std         0.015510\n",
            "min        -0.123075\n",
            "25%        -0.006601\n",
            "50%         0.001455\n",
            "75%         0.008542\n",
            "max         0.151240\n",
            "Name: Daily Return, dtype: float64\n",
            "\n",
            "============================================================\n",
            "\n",
            "Processing FICO...\n"
          ]
        },
        {
          "output_type": "stream",
          "name": "stderr",
          "text": [
            "\r[*********************100%***********************]  1 of 1 completed\n"
          ]
        },
        {
          "output_type": "stream",
          "name": "stdout",
          "text": [
            "\n",
            "Daily Return Stats for FICO:\n",
            "count    3772.000000\n",
            "mean        0.001432\n",
            "std         0.021436\n",
            "min        -0.207116\n",
            "25%        -0.008417\n",
            "50%         0.001178\n",
            "75%         0.011037\n",
            "max         0.310995\n",
            "Name: Daily Return, dtype: float64\n",
            "\n",
            "============================================================\n",
            "\n",
            "Processing FAST...\n"
          ]
        },
        {
          "output_type": "stream",
          "name": "stderr",
          "text": [
            "\r[*********************100%***********************]  1 of 1 completed\n"
          ]
        },
        {
          "output_type": "stream",
          "name": "stdout",
          "text": [
            "\n",
            "Daily Return Stats for FAST:\n",
            "count    3772.000000\n",
            "mean        0.000816\n",
            "std         0.016828\n",
            "min        -0.110217\n",
            "25%        -0.007297\n",
            "50%         0.000847\n",
            "75%         0.009193\n",
            "max         0.171502\n",
            "Name: Daily Return, dtype: float64\n",
            "\n",
            "============================================================\n",
            "\n",
            "Processing FRT...\n"
          ]
        },
        {
          "output_type": "stream",
          "name": "stderr",
          "text": [
            "\r[*********************100%***********************]  1 of 1 completed\n"
          ]
        },
        {
          "output_type": "stream",
          "name": "stdout",
          "text": [
            "\n",
            "Daily Return Stats for FRT:\n",
            "count    3772.000000\n",
            "mean        0.000402\n",
            "std         0.016570\n",
            "min        -0.213542\n",
            "25%        -0.006959\n",
            "50%         0.000592\n",
            "75%         0.007922\n",
            "max         0.329030\n",
            "Name: Daily Return, dtype: float64\n",
            "\n",
            "============================================================\n",
            "\n",
            "Processing FDX...\n"
          ]
        },
        {
          "output_type": "stream",
          "name": "stderr",
          "text": [
            "\r[*********************100%***********************]  1 of 1 completed\n"
          ]
        },
        {
          "output_type": "stream",
          "name": "stdout",
          "text": [
            "\n",
            "Daily Return Stats for FDX:\n",
            "count    3772.000000\n",
            "mean        0.000543\n",
            "std         0.018788\n",
            "min        -0.214038\n",
            "25%        -0.008380\n",
            "50%         0.000564\n",
            "75%         0.009574\n",
            "max         0.155277\n",
            "Name: Daily Return, dtype: float64\n",
            "\n",
            "============================================================\n",
            "\n",
            "Processing FIS...\n"
          ]
        },
        {
          "output_type": "stream",
          "name": "stderr",
          "text": [
            "\r[*********************100%***********************]  1 of 1 completed\n"
          ]
        },
        {
          "output_type": "stream",
          "name": "stdout",
          "text": [
            "\n",
            "Daily Return Stats for FIS:\n",
            "count    3772.000000\n",
            "mean        0.000533\n",
            "std         0.016866\n",
            "min        -0.280483\n",
            "25%        -0.007000\n",
            "50%         0.000943\n",
            "75%         0.008341\n",
            "max         0.163104\n",
            "Name: Daily Return, dtype: float64\n",
            "\n",
            "============================================================\n",
            "\n",
            "Processing FITB...\n"
          ]
        },
        {
          "output_type": "stream",
          "name": "stderr",
          "text": [
            "\r[*********************100%***********************]  1 of 1 completed\n"
          ]
        },
        {
          "output_type": "stream",
          "name": "stdout",
          "text": [
            "\n",
            "Daily Return Stats for FITB:\n",
            "count    3772.000000\n",
            "mean        0.000739\n",
            "std         0.021979\n",
            "min        -0.217811\n",
            "25%        -0.009756\n",
            "50%         0.000917\n",
            "75%         0.010929\n",
            "max         0.185033\n",
            "Name: Daily Return, dtype: float64\n",
            "\n",
            "============================================================\n",
            "\n",
            "Processing FSLR...\n"
          ]
        },
        {
          "output_type": "stream",
          "name": "stderr",
          "text": [
            "\r[*********************100%***********************]  1 of 1 completed\n"
          ]
        },
        {
          "output_type": "stream",
          "name": "stdout",
          "text": [
            "\n",
            "Daily Return Stats for FSLR:\n",
            "count    3772.000000\n",
            "mean        0.000631\n",
            "std         0.033665\n",
            "min        -0.253322\n",
            "25%        -0.016220\n",
            "50%         0.000095\n",
            "75%         0.016051\n",
            "max         0.455251\n",
            "Name: Daily Return, dtype: float64\n",
            "\n",
            "============================================================\n",
            "\n",
            "Processing FE...\n"
          ]
        },
        {
          "output_type": "stream",
          "name": "stderr",
          "text": [
            "\r[*********************100%***********************]  1 of 1 completed\n"
          ]
        },
        {
          "output_type": "stream",
          "name": "stdout",
          "text": [
            "\n",
            "Daily Return Stats for FE:\n",
            "count    3772.000000\n",
            "mean        0.000251\n",
            "std         0.014882\n",
            "min        -0.209051\n",
            "25%        -0.006718\n",
            "50%         0.000687\n",
            "75%         0.007617\n",
            "max         0.169388\n",
            "Name: Daily Return, dtype: float64\n",
            "\n",
            "============================================================\n",
            "\n",
            "Processing FI...\n"
          ]
        },
        {
          "output_type": "stream",
          "name": "stderr",
          "text": [
            "\r[*********************100%***********************]  1 of 1 completed\n"
          ]
        },
        {
          "output_type": "stream",
          "name": "stdout",
          "text": [
            "\n",
            "Daily Return Stats for FI:\n",
            "count    3772.000000\n",
            "mean        0.000855\n",
            "std         0.014702\n",
            "min        -0.166699\n",
            "25%        -0.006076\n",
            "50%         0.001160\n",
            "75%         0.008284\n",
            "max         0.125325\n",
            "Name: Daily Return, dtype: float64\n",
            "\n",
            "============================================================\n",
            "\n",
            "Processing F...\n"
          ]
        },
        {
          "output_type": "stream",
          "name": "stderr",
          "text": [
            "\r[*********************100%***********************]  1 of 1 completed\n"
          ]
        },
        {
          "output_type": "stream",
          "name": "stdout",
          "text": [
            "\n",
            "Daily Return Stats for F:\n",
            "count    3772.000000\n",
            "mean        0.000379\n",
            "std         0.021553\n",
            "min        -0.183614\n",
            "25%        -0.010063\n",
            "50%         0.000000\n",
            "75%         0.010738\n",
            "max         0.234414\n",
            "Name: Daily Return, dtype: float64\n",
            "\n",
            "============================================================\n",
            "\n",
            "Processing FTNT...\n"
          ]
        },
        {
          "output_type": "stream",
          "name": "stderr",
          "text": [
            "\r[*********************100%***********************]  1 of 1 completed\n"
          ]
        },
        {
          "output_type": "stream",
          "name": "stdout",
          "text": [
            "\n",
            "Daily Return Stats for FTNT:\n",
            "count    3772.000000\n",
            "mean        0.001392\n",
            "std         0.026023\n",
            "min        -0.250660\n",
            "25%        -0.010418\n",
            "50%         0.001713\n",
            "75%         0.013855\n",
            "max         0.253001\n",
            "Name: Daily Return, dtype: float64\n",
            "\n",
            "============================================================\n",
            "\n",
            "Processing FTV...\n"
          ]
        },
        {
          "output_type": "stream",
          "name": "stderr",
          "text": [
            "\r[*********************100%***********************]  1 of 1 completed\n"
          ]
        },
        {
          "output_type": "stream",
          "name": "stdout",
          "text": [
            "\n",
            "Daily Return Stats for FTV:\n",
            "count    2136.000000\n",
            "mean        0.000440\n",
            "std         0.016556\n",
            "min        -0.144322\n",
            "25%        -0.007206\n",
            "50%         0.000462\n",
            "75%         0.008404\n",
            "max         0.188289\n",
            "Name: Daily Return, dtype: float64\n",
            "\n",
            "============================================================\n",
            "\n",
            "Processing FOXA...\n"
          ]
        },
        {
          "output_type": "stream",
          "name": "stderr",
          "text": [
            "\r[*********************100%***********************]  1 of 1 completed\n"
          ]
        },
        {
          "output_type": "stream",
          "name": "stdout",
          "text": [
            "\n",
            "Daily Return Stats for FOXA:\n",
            "count    1461.000000\n",
            "mean        0.000440\n",
            "std         0.020543\n",
            "min        -0.111376\n",
            "25%        -0.009847\n",
            "50%         0.000312\n",
            "75%         0.010304\n",
            "max         0.123767\n",
            "Name: Daily Return, dtype: float64\n",
            "\n",
            "============================================================\n",
            "\n",
            "Processing FOX...\n"
          ]
        },
        {
          "output_type": "stream",
          "name": "stderr",
          "text": [
            "\r[*********************100%***********************]  1 of 1 completed\n"
          ]
        },
        {
          "output_type": "stream",
          "name": "stdout",
          "text": [
            "\n",
            "Daily Return Stats for FOX:\n",
            "count    1460.000000\n",
            "mean        0.000370\n",
            "std         0.019897\n",
            "min        -0.104065\n",
            "25%        -0.009721\n",
            "50%         0.000317\n",
            "75%         0.010362\n",
            "max         0.132469\n",
            "Name: Daily Return, dtype: float64\n",
            "\n",
            "============================================================\n",
            "\n",
            "Processing BEN...\n"
          ]
        },
        {
          "output_type": "stream",
          "name": "stderr",
          "text": [
            "\r[*********************100%***********************]  1 of 1 completed\n"
          ]
        },
        {
          "output_type": "stream",
          "name": "stdout",
          "text": [
            "\n",
            "Daily Return Stats for BEN:\n",
            "count    3772.000000\n",
            "mean        0.000176\n",
            "std         0.019382\n",
            "min        -0.136165\n",
            "25%        -0.009589\n",
            "50%         0.000468\n",
            "75%         0.010567\n",
            "max         0.135135\n",
            "Name: Daily Return, dtype: float64\n",
            "\n",
            "============================================================\n",
            "\n",
            "Processing FCX...\n"
          ]
        },
        {
          "output_type": "stream",
          "name": "stderr",
          "text": [
            "\r[*********************100%***********************]  1 of 1 completed\n"
          ]
        },
        {
          "output_type": "stream",
          "name": "stdout",
          "text": [
            "\n",
            "Daily Return Stats for FCX:\n",
            "count    3772.000000\n",
            "mean        0.000543\n",
            "std         0.031156\n",
            "min        -0.203327\n",
            "25%        -0.014849\n",
            "50%         0.000000\n",
            "75%         0.015939\n",
            "max         0.296846\n",
            "Name: Daily Return, dtype: float64\n",
            "\n",
            "============================================================\n",
            "\n",
            "Processing GRMN...\n"
          ]
        },
        {
          "output_type": "stream",
          "name": "stderr",
          "text": [
            "\r[*********************100%***********************]  1 of 1 completed\n"
          ]
        },
        {
          "output_type": "stream",
          "name": "stdout",
          "text": [
            "\n",
            "Daily Return Stats for GRMN:\n",
            "count    3772.000000\n",
            "mean        0.000783\n",
            "std         0.017503\n",
            "min        -0.126623\n",
            "25%        -0.007628\n",
            "50%         0.000690\n",
            "75%         0.008942\n",
            "max         0.232453\n",
            "Name: Daily Return, dtype: float64\n",
            "\n",
            "============================================================\n",
            "\n",
            "Processing IT...\n"
          ]
        },
        {
          "output_type": "stream",
          "name": "stderr",
          "text": [
            "\r[*********************100%***********************]  1 of 1 completed\n"
          ]
        },
        {
          "output_type": "stream",
          "name": "stdout",
          "text": [
            "\n",
            "Daily Return Stats for IT:\n",
            "count    3772.000000\n",
            "mean        0.001018\n",
            "std         0.017553\n",
            "min        -0.190183\n",
            "25%        -0.007139\n",
            "50%         0.001269\n",
            "75%         0.009527\n",
            "max         0.163991\n",
            "Name: Daily Return, dtype: float64\n",
            "\n",
            "============================================================\n",
            "\n",
            "Processing GE...\n"
          ]
        },
        {
          "output_type": "stream",
          "name": "stderr",
          "text": [
            "\r[*********************100%***********************]  1 of 1 completed\n"
          ]
        },
        {
          "output_type": "stream",
          "name": "stdout",
          "text": [
            "\n",
            "Daily Return Stats for GE:\n",
            "count    3772.000000\n",
            "mean        0.000497\n",
            "std         0.019789\n",
            "min        -0.151592\n",
            "25%        -0.008467\n",
            "50%         0.000278\n",
            "75%         0.009276\n",
            "max         0.147300\n",
            "Name: Daily Return, dtype: float64\n",
            "\n",
            "============================================================\n",
            "\n",
            "Processing GEHC...\n"
          ]
        },
        {
          "output_type": "stream",
          "name": "stderr",
          "text": [
            "\r[*********************100%***********************]  1 of 1 completed\n"
          ]
        },
        {
          "output_type": "stream",
          "name": "stdout",
          "text": [
            "\n",
            "Daily Return Stats for GEHC:\n",
            "count    511.000000\n",
            "mean       0.000707\n",
            "std        0.018612\n",
            "min       -0.142793\n",
            "25%       -0.008561\n",
            "50%       -0.000526\n",
            "75%        0.009420\n",
            "max        0.116469\n",
            "Name: Daily Return, dtype: float64\n",
            "\n",
            "============================================================\n",
            "\n",
            "Processing GEV...\n"
          ]
        },
        {
          "output_type": "stream",
          "name": "stderr",
          "text": [
            "\r[*********************100%***********************]  1 of 1 completed\n"
          ]
        },
        {
          "output_type": "stream",
          "name": "stdout",
          "text": [
            "\n",
            "Daily Return Stats for GEV:\n",
            "count    189.000000\n",
            "mean       0.004930\n",
            "std        0.030220\n",
            "min       -0.092536\n",
            "25%       -0.013310\n",
            "50%        0.004132\n",
            "75%        0.020491\n",
            "max        0.097482\n",
            "Name: Daily Return, dtype: float64\n",
            "\n",
            "============================================================\n",
            "\n",
            "Processing GEN...\n"
          ]
        },
        {
          "output_type": "stream",
          "name": "stderr",
          "text": [
            "\r[*********************100%***********************]  1 of 1 completed\n"
          ]
        },
        {
          "output_type": "stream",
          "name": "stdout",
          "text": [
            "\n",
            "Daily Return Stats for GEN:\n",
            "count    3772.000000\n",
            "mean        0.000568\n",
            "std         0.019554\n",
            "min        -0.331049\n",
            "25%        -0.007864\n",
            "50%         0.000564\n",
            "75%         0.009344\n",
            "max         0.153392\n",
            "Name: Daily Return, dtype: float64\n",
            "\n",
            "============================================================\n",
            "\n",
            "Processing GNRC...\n"
          ]
        },
        {
          "output_type": "stream",
          "name": "stderr",
          "text": [
            "\r[*********************100%***********************]  1 of 1 completed\n"
          ]
        },
        {
          "output_type": "stream",
          "name": "stdout",
          "text": [
            "\n",
            "Daily Return Stats for GNRC:\n",
            "count    3745.000000\n",
            "mean        0.001142\n",
            "std         0.027064\n",
            "min        -0.253418\n",
            "25%        -0.011147\n",
            "50%         0.000763\n",
            "75%         0.012793\n",
            "max         0.253906\n",
            "Name: Daily Return, dtype: float64\n",
            "\n",
            "============================================================\n",
            "\n",
            "Processing GD...\n"
          ]
        },
        {
          "output_type": "stream",
          "name": "stderr",
          "text": [
            "\r[*********************100%***********************]  1 of 1 completed\n"
          ]
        },
        {
          "output_type": "stream",
          "name": "stdout",
          "text": [
            "\n",
            "Daily Return Stats for GD:\n",
            "count    3772.000000\n",
            "mean        0.000544\n",
            "std         0.013859\n",
            "min        -0.109263\n",
            "25%        -0.006566\n",
            "50%         0.000851\n",
            "75%         0.007775\n",
            "max         0.091475\n",
            "Name: Daily Return, dtype: float64\n",
            "\n",
            "============================================================\n",
            "\n",
            "Processing GIS...\n"
          ]
        },
        {
          "output_type": "stream",
          "name": "stderr",
          "text": [
            "\r[*********************100%***********************]  1 of 1 completed\n"
          ]
        },
        {
          "output_type": "stream",
          "name": "stdout",
          "text": [
            "\n",
            "Daily Return Stats for GIS:\n",
            "count    3772.000000\n",
            "mean        0.000357\n",
            "std         0.012012\n",
            "min        -0.114109\n",
            "25%        -0.005662\n",
            "50%         0.000811\n",
            "75%         0.006646\n",
            "max         0.117834\n",
            "Name: Daily Return, dtype: float64\n",
            "\n",
            "============================================================\n",
            "\n",
            "Processing GM...\n"
          ]
        },
        {
          "output_type": "stream",
          "name": "stderr",
          "text": [
            "\r[*********************100%***********************]  1 of 1 completed\n"
          ]
        },
        {
          "output_type": "stream",
          "name": "stdout",
          "text": [
            "\n",
            "Daily Return Stats for GM:\n",
            "count    3550.000000\n",
            "mean        0.000440\n",
            "std         0.021587\n",
            "min        -0.173228\n",
            "25%        -0.010336\n",
            "50%         0.000635\n",
            "75%         0.011093\n",
            "max         0.199432\n",
            "Name: Daily Return, dtype: float64\n",
            "\n",
            "============================================================\n",
            "\n",
            "Processing GPC...\n"
          ]
        },
        {
          "output_type": "stream",
          "name": "stderr",
          "text": [
            "\r[*********************100%***********************]  1 of 1 completed\n"
          ]
        },
        {
          "output_type": "stream",
          "name": "stdout",
          "text": [
            "\n",
            "Daily Return Stats for GPC:\n",
            "count    3772.000000\n",
            "mean        0.000536\n",
            "std         0.015714\n",
            "min        -0.209684\n",
            "25%        -0.006565\n",
            "50%         0.000947\n",
            "75%         0.008242\n",
            "max         0.209186\n",
            "Name: Daily Return, dtype: float64\n",
            "\n",
            "============================================================\n",
            "\n",
            "Processing GILD...\n"
          ]
        },
        {
          "output_type": "stream",
          "name": "stderr",
          "text": [
            "\r[*********************100%***********************]  1 of 1 completed\n"
          ]
        },
        {
          "output_type": "stream",
          "name": "stdout",
          "text": [
            "\n",
            "Daily Return Stats for GILD:\n",
            "count    3772.000000\n",
            "mean        0.000622\n",
            "std         0.017286\n",
            "min        -0.143384\n",
            "25%        -0.008368\n",
            "50%         0.000602\n",
            "75%         0.009224\n",
            "max         0.137210\n",
            "Name: Daily Return, dtype: float64\n",
            "\n",
            "============================================================\n",
            "\n",
            "Processing GPN...\n"
          ]
        },
        {
          "output_type": "stream",
          "name": "stderr",
          "text": [
            "\r[*********************100%***********************]  1 of 1 completed\n"
          ]
        },
        {
          "output_type": "stream",
          "name": "stdout",
          "text": [
            "\n",
            "Daily Return Stats for GPN:\n",
            "count    3772.000000\n",
            "mean        0.000575\n",
            "std         0.019038\n",
            "min        -0.191687\n",
            "25%        -0.008189\n",
            "50%         0.001045\n",
            "75%         0.009599\n",
            "max         0.216766\n",
            "Name: Daily Return, dtype: float64\n",
            "\n",
            "============================================================\n",
            "\n",
            "Processing GL...\n"
          ]
        },
        {
          "output_type": "stream",
          "name": "stderr",
          "text": [
            "\r[*********************100%***********************]  1 of 1 completed\n"
          ]
        },
        {
          "output_type": "stream",
          "name": "stdout",
          "text": [
            "\n",
            "Daily Return Stats for GL:\n",
            "count    3772.000000\n",
            "mean        0.000675\n",
            "std         0.018077\n",
            "min        -0.531402\n",
            "25%        -0.005988\n",
            "50%         0.001141\n",
            "75%         0.007947\n",
            "max         0.201749\n",
            "Name: Daily Return, dtype: float64\n",
            "\n",
            "============================================================\n",
            "\n",
            "Processing GDDY...\n"
          ]
        },
        {
          "output_type": "stream",
          "name": "stderr",
          "text": [
            "\r[*********************100%***********************]  1 of 1 completed\n"
          ]
        },
        {
          "output_type": "stream",
          "name": "stdout",
          "text": [
            "\n",
            "Daily Return Stats for GDDY:\n",
            "count    2454.000000\n",
            "mean        0.001192\n",
            "std         0.022731\n",
            "min        -0.191629\n",
            "25%        -0.009083\n",
            "50%         0.001608\n",
            "75%         0.011670\n",
            "max         0.307500\n",
            "Name: Daily Return, dtype: float64\n",
            "\n",
            "============================================================\n",
            "\n",
            "Processing GS...\n"
          ]
        },
        {
          "output_type": "stream",
          "name": "stderr",
          "text": [
            "\r[*********************100%***********************]  1 of 1 completed\n"
          ]
        },
        {
          "output_type": "stream",
          "name": "stdout",
          "text": [
            "\n",
            "Daily Return Stats for GS:\n",
            "count    3772.000000\n",
            "mean        0.000549\n",
            "std         0.018025\n",
            "min        -0.127910\n",
            "25%        -0.008524\n",
            "50%         0.000534\n",
            "75%         0.009844\n",
            "max         0.175803\n",
            "Name: Daily Return, dtype: float64\n",
            "\n",
            "============================================================\n",
            "\n",
            "Processing HAL...\n"
          ]
        },
        {
          "output_type": "stream",
          "name": "stderr",
          "text": [
            "\r[*********************100%***********************]  1 of 1 completed\n"
          ]
        },
        {
          "output_type": "stream",
          "name": "stdout",
          "text": [
            "\n",
            "Daily Return Stats for HAL:\n",
            "count    3772.000000\n",
            "mean        0.000391\n",
            "std         0.026834\n",
            "min        -0.376434\n",
            "25%        -0.012519\n",
            "50%         0.000000\n",
            "75%         0.013738\n",
            "max         0.265268\n",
            "Name: Daily Return, dtype: float64\n",
            "\n",
            "============================================================\n",
            "\n",
            "Processing HIG...\n"
          ]
        },
        {
          "output_type": "stream",
          "name": "stderr",
          "text": [
            "\r[*********************100%***********************]  1 of 1 completed\n"
          ]
        },
        {
          "output_type": "stream",
          "name": "stdout",
          "text": [
            "\n",
            "Daily Return Stats for HIG:\n",
            "count    3772.000000\n",
            "mean        0.000684\n",
            "std         0.020074\n",
            "min        -0.212135\n",
            "25%        -0.007970\n",
            "50%         0.001230\n",
            "75%         0.009402\n",
            "max         0.276952\n",
            "Name: Daily Return, dtype: float64\n",
            "\n",
            "============================================================\n",
            "\n",
            "Processing HAS...\n"
          ]
        },
        {
          "output_type": "stream",
          "name": "stderr",
          "text": [
            "\r[*********************100%***********************]  1 of 1 completed\n"
          ]
        },
        {
          "output_type": "stream",
          "name": "stdout",
          "text": [
            "\n",
            "Daily Return Stats for HAS:\n",
            "count    3772.000000\n",
            "mean        0.000447\n",
            "std         0.018900\n",
            "min        -0.187023\n",
            "25%        -0.008165\n",
            "50%         0.000497\n",
            "75%         0.009069\n",
            "max         0.216696\n",
            "Name: Daily Return, dtype: float64\n",
            "\n",
            "============================================================\n",
            "\n",
            "Processing HCA...\n"
          ]
        },
        {
          "output_type": "stream",
          "name": "stderr",
          "text": [
            "\r[*********************100%***********************]  1 of 1 completed\n"
          ]
        },
        {
          "output_type": "stream",
          "name": "stdout",
          "text": [
            "\n",
            "Daily Return Stats for HCA:\n",
            "count    3474.000000\n",
            "mean        0.000958\n",
            "std         0.021072\n",
            "min        -0.218230\n",
            "25%        -0.009007\n",
            "50%         0.000766\n",
            "75%         0.010730\n",
            "max         0.225598\n",
            "Name: Daily Return, dtype: float64\n",
            "\n",
            "============================================================\n",
            "\n",
            "Processing DOC...\n"
          ]
        },
        {
          "output_type": "stream",
          "name": "stderr",
          "text": [
            "\r[*********************100%***********************]  1 of 1 completed\n"
          ]
        },
        {
          "output_type": "stream",
          "name": "stdout",
          "text": [
            "\n",
            "Daily Return Stats for DOC:\n",
            "count    3772.000000\n",
            "mean        0.000276\n",
            "std         0.017459\n",
            "min        -0.228344\n",
            "25%        -0.007703\n",
            "50%         0.000949\n",
            "75%         0.009053\n",
            "max         0.148885\n",
            "Name: Daily Return, dtype: float64\n",
            "\n",
            "============================================================\n",
            "\n",
            "Processing HSIC...\n"
          ]
        },
        {
          "output_type": "stream",
          "name": "stderr",
          "text": [
            "\r[*********************100%***********************]  1 of 1 completed\n"
          ]
        },
        {
          "output_type": "stream",
          "name": "stdout",
          "text": [
            "\n",
            "Daily Return Stats for HSIC:\n",
            "count    3772.000000\n",
            "mean        0.000434\n",
            "std         0.015287\n",
            "min        -0.097888\n",
            "25%        -0.007154\n",
            "50%         0.000572\n",
            "75%         0.008572\n",
            "max         0.102643\n",
            "Name: Daily Return, dtype: float64\n",
            "\n",
            "============================================================\n",
            "\n",
            "Processing HSY...\n"
          ]
        },
        {
          "output_type": "stream",
          "name": "stderr",
          "text": [
            "\r[*********************100%***********************]  1 of 1 completed\n"
          ]
        },
        {
          "output_type": "stream",
          "name": "stdout",
          "text": [
            "\n",
            "Daily Return Stats for HSY:\n",
            "count    3772.000000\n",
            "mean        0.000584\n",
            "std         0.012903\n",
            "min        -0.165277\n",
            "25%        -0.005597\n",
            "50%         0.000604\n",
            "75%         0.007044\n",
            "max         0.168314\n",
            "Name: Daily Return, dtype: float64\n",
            "\n",
            "============================================================\n",
            "\n",
            "Processing HES...\n"
          ]
        },
        {
          "output_type": "stream",
          "name": "stderr",
          "text": [
            "\r[*********************100%***********************]  1 of 1 completed\n"
          ]
        },
        {
          "output_type": "stream",
          "name": "stdout",
          "text": [
            "\n",
            "Daily Return Stats for HES:\n",
            "count    3772.000000\n",
            "mean        0.000571\n",
            "std         0.025288\n",
            "min        -0.336685\n",
            "25%        -0.012633\n",
            "50%         0.000862\n",
            "75%         0.013124\n",
            "max         0.203153\n",
            "Name: Daily Return, dtype: float64\n",
            "\n",
            "============================================================\n",
            "\n",
            "Processing HPE...\n"
          ]
        },
        {
          "output_type": "stream",
          "name": "stderr",
          "text": [
            "\r[*********************100%***********************]  1 of 1 completed\n"
          ]
        },
        {
          "output_type": "stream",
          "name": "stdout",
          "text": [
            "\n",
            "Daily Return Stats for HPE:\n",
            "count    2314.000000\n",
            "mean        0.000701\n",
            "std         0.022166\n",
            "min        -0.153144\n",
            "25%        -0.010242\n",
            "50%         0.001255\n",
            "75%         0.011712\n",
            "max         0.141762\n",
            "Name: Daily Return, dtype: float64\n",
            "\n",
            "============================================================\n",
            "\n",
            "Processing HLT...\n"
          ]
        },
        {
          "output_type": "stream",
          "name": "stderr",
          "text": [
            "\r[*********************100%***********************]  1 of 1 completed\n"
          ]
        },
        {
          "output_type": "stream",
          "name": "stdout",
          "text": [
            "\n",
            "Daily Return Stats for HLT:\n",
            "count    2779.000000\n",
            "mean        0.000801\n",
            "std         0.017908\n",
            "min        -0.125714\n",
            "25%        -0.008544\n",
            "50%         0.000851\n",
            "75%         0.009957\n",
            "max         0.140508\n",
            "Name: Daily Return, dtype: float64\n",
            "\n",
            "============================================================\n",
            "\n",
            "Processing HOLX...\n"
          ]
        },
        {
          "output_type": "stream",
          "name": "stderr",
          "text": [
            "\r[*********************100%***********************]  1 of 1 completed\n"
          ]
        },
        {
          "output_type": "stream",
          "name": "stdout",
          "text": [
            "\n",
            "Daily Return Stats for HOLX:\n",
            "count    3772.000000\n",
            "mean        0.000571\n",
            "std         0.017418\n",
            "min        -0.205274\n",
            "25%        -0.007893\n",
            "50%         0.000714\n",
            "75%         0.008937\n",
            "max         0.099199\n",
            "Name: Daily Return, dtype: float64\n",
            "\n",
            "============================================================\n",
            "\n",
            "Processing HD...\n"
          ]
        },
        {
          "output_type": "stream",
          "name": "stderr",
          "text": [
            "\r[*********************100%***********************]  1 of 1 completed\n"
          ]
        },
        {
          "output_type": "stream",
          "name": "stdout",
          "text": [
            "\n",
            "Daily Return Stats for HD:\n",
            "count    3772.000000\n",
            "mean        0.000894\n",
            "std         0.014626\n",
            "min        -0.197939\n",
            "25%        -0.005905\n",
            "50%         0.000940\n",
            "75%         0.008302\n",
            "max         0.137508\n",
            "Name: Daily Return, dtype: float64\n",
            "\n",
            "============================================================\n",
            "\n",
            "Processing HON...\n"
          ]
        },
        {
          "output_type": "stream",
          "name": "stderr",
          "text": [
            "\r[*********************100%***********************]  1 of 1 completed\n"
          ]
        },
        {
          "output_type": "stream",
          "name": "stdout",
          "text": [
            "\n",
            "Daily Return Stats for HON:\n",
            "count    3772.000000\n",
            "mean        0.000661\n",
            "std         0.014392\n",
            "min        -0.120868\n",
            "25%        -0.006024\n",
            "50%         0.000717\n",
            "75%         0.007547\n",
            "max         0.150684\n",
            "Name: Daily Return, dtype: float64\n",
            "\n",
            "============================================================\n",
            "\n",
            "Processing HRL...\n"
          ]
        },
        {
          "output_type": "stream",
          "name": "stderr",
          "text": [
            "\r[*********************100%***********************]  1 of 1 completed\n"
          ]
        },
        {
          "output_type": "stream",
          "name": "stdout",
          "text": [
            "\n",
            "Daily Return Stats for HRL:\n",
            "count    3772.000000\n",
            "mean        0.000482\n",
            "std         0.013116\n",
            "min        -0.098261\n",
            "25%        -0.006065\n",
            "50%         0.000927\n",
            "75%         0.007427\n",
            "max         0.145637\n",
            "Name: Daily Return, dtype: float64\n",
            "\n",
            "============================================================\n",
            "\n",
            "Processing HST...\n"
          ]
        },
        {
          "output_type": "stream",
          "name": "stderr",
          "text": [
            "\r[*********************100%***********************]  1 of 1 completed\n"
          ]
        },
        {
          "output_type": "stream",
          "name": "stdout",
          "text": [
            "\n",
            "Daily Return Stats for HST:\n",
            "count    3772.000000\n",
            "mean        0.000445\n",
            "std         0.020838\n",
            "min        -0.156880\n",
            "25%        -0.009667\n",
            "50%         0.000599\n",
            "75%         0.010599\n",
            "max         0.300286\n",
            "Name: Daily Return, dtype: float64\n",
            "\n",
            "============================================================\n",
            "\n",
            "Processing HWM...\n"
          ]
        },
        {
          "output_type": "stream",
          "name": "stderr",
          "text": [
            "\r[*********************100%***********************]  1 of 1 completed\n"
          ]
        },
        {
          "output_type": "stream",
          "name": "stdout",
          "text": [
            "\n",
            "Daily Return Stats for HWM:\n",
            "count    2052.000000\n",
            "mean        0.001205\n",
            "std         0.025808\n",
            "min        -0.206328\n",
            "25%        -0.009336\n",
            "50%         0.001679\n",
            "75%         0.012255\n",
            "max         0.263553\n",
            "Name: Daily Return, dtype: float64\n",
            "\n",
            "============================================================\n",
            "\n",
            "Processing HPQ...\n"
          ]
        },
        {
          "output_type": "stream",
          "name": "stderr",
          "text": [
            "\r[*********************100%***********************]  1 of 1 completed\n"
          ]
        },
        {
          "output_type": "stream",
          "name": "stdout",
          "text": [
            "\n",
            "Daily Return Stats for HPQ:\n",
            "count    3772.000000\n",
            "mean        0.000422\n",
            "std         0.021404\n",
            "min        -0.200271\n",
            "25%        -0.008981\n",
            "50%         0.000870\n",
            "75%         0.010582\n",
            "max         0.170984\n",
            "Name: Daily Return, dtype: float64\n",
            "\n",
            "============================================================\n",
            "\n",
            "Processing HUBB...\n"
          ]
        },
        {
          "output_type": "stream",
          "name": "stderr",
          "text": [
            "\r[*********************100%***********************]  1 of 1 completed\n"
          ]
        },
        {
          "output_type": "stream",
          "name": "stdout",
          "text": [
            "\n",
            "Daily Return Stats for HUBB:\n",
            "count    3772.000000\n",
            "mean        0.000802\n",
            "std         0.016620\n",
            "min        -0.126409\n",
            "25%        -0.007374\n",
            "50%         0.000809\n",
            "75%         0.009201\n",
            "max         0.137354\n",
            "Name: Daily Return, dtype: float64\n",
            "\n",
            "============================================================\n",
            "\n",
            "Processing HUM...\n"
          ]
        },
        {
          "output_type": "stream",
          "name": "stderr",
          "text": [
            "\r[*********************100%***********************]  1 of 1 completed\n"
          ]
        },
        {
          "output_type": "stream",
          "name": "stdout",
          "text": [
            "\n",
            "Daily Return Stats for HUM:\n",
            "count    3772.000000\n",
            "mean        0.000669\n",
            "std         0.019146\n",
            "min        -0.193713\n",
            "25%        -0.007614\n",
            "50%         0.000742\n",
            "75%         0.009204\n",
            "max         0.203128\n",
            "Name: Daily Return, dtype: float64\n",
            "\n",
            "============================================================\n",
            "\n",
            "Processing HBAN...\n"
          ]
        },
        {
          "output_type": "stream",
          "name": "stderr",
          "text": [
            "\r[*********************100%***********************]  1 of 1 completed\n"
          ]
        },
        {
          "output_type": "stream",
          "name": "stdout",
          "text": [
            "\n",
            "Daily Return Stats for HBAN:\n",
            "count    3772.000000\n",
            "mean        0.000753\n",
            "std         0.021334\n",
            "min        -0.168287\n",
            "25%        -0.009775\n",
            "50%         0.000723\n",
            "75%         0.011162\n",
            "max         0.177340\n",
            "Name: Daily Return, dtype: float64\n",
            "\n",
            "============================================================\n",
            "\n",
            "Processing HII...\n"
          ]
        },
        {
          "output_type": "stream",
          "name": "stderr",
          "text": [
            "\r[*********************100%***********************]  1 of 1 completed\n"
          ]
        },
        {
          "output_type": "stream",
          "name": "stdout",
          "text": [
            "\n",
            "Daily Return Stats for HII:\n",
            "count    3466.000000\n",
            "mean        0.000678\n",
            "std         0.017402\n",
            "min        -0.261607\n",
            "25%        -0.007500\n",
            "50%         0.000870\n",
            "75%         0.009350\n",
            "max         0.114147\n",
            "Name: Daily Return, dtype: float64\n",
            "\n",
            "============================================================\n",
            "\n",
            "Processing IBM...\n"
          ]
        },
        {
          "output_type": "stream",
          "name": "stderr",
          "text": [
            "\r[*********************100%***********************]  1 of 1 completed\n"
          ]
        },
        {
          "output_type": "stream",
          "name": "stdout",
          "text": [
            "\n",
            "Daily Return Stats for IBM:\n",
            "count    3772.000000\n",
            "mean        0.000385\n",
            "std         0.013984\n",
            "min        -0.128508\n",
            "25%        -0.006126\n",
            "50%         0.000556\n",
            "75%         0.007129\n",
            "max         0.113010\n",
            "Name: Daily Return, dtype: float64\n",
            "\n",
            "============================================================\n",
            "\n",
            "Processing IEX...\n"
          ]
        },
        {
          "output_type": "stream",
          "name": "stderr",
          "text": [
            "\r[*********************100%***********************]  1 of 1 completed\n"
          ]
        },
        {
          "output_type": "stream",
          "name": "stdout",
          "text": [
            "\n",
            "Daily Return Stats for IEX:\n",
            "count    3772.000000\n",
            "mean        0.000667\n",
            "std         0.014839\n",
            "min        -0.115782\n",
            "25%        -0.006821\n",
            "50%         0.000884\n",
            "75%         0.008489\n",
            "max         0.088678\n",
            "Name: Daily Return, dtype: float64\n",
            "\n",
            "============================================================\n",
            "\n",
            "Processing IDXX...\n"
          ]
        },
        {
          "output_type": "stream",
          "name": "stderr",
          "text": [
            "\r[*********************100%***********************]  1 of 1 completed\n"
          ]
        },
        {
          "output_type": "stream",
          "name": "stdout",
          "text": [
            "\n",
            "Daily Return Stats for IDXX:\n",
            "count    3772.000000\n",
            "mean        0.000890\n",
            "std         0.018260\n",
            "min        -0.170744\n",
            "25%        -0.007979\n",
            "50%         0.001327\n",
            "75%         0.010144\n",
            "max         0.132492\n",
            "Name: Daily Return, dtype: float64\n",
            "\n",
            "============================================================\n",
            "\n",
            "Processing ITW...\n"
          ]
        },
        {
          "output_type": "stream",
          "name": "stderr",
          "text": [
            "\r[*********************100%***********************]  1 of 1 completed\n"
          ]
        },
        {
          "output_type": "stream",
          "name": "stdout",
          "text": [
            "\n",
            "Daily Return Stats for ITW:\n",
            "count    3772.000000\n",
            "mean        0.000638\n",
            "std         0.014507\n",
            "min        -0.115130\n",
            "25%        -0.006181\n",
            "50%         0.000961\n",
            "75%         0.007588\n",
            "max         0.166060\n",
            "Name: Daily Return, dtype: float64\n",
            "\n",
            "============================================================\n",
            "\n",
            "Processing INCY...\n"
          ]
        },
        {
          "output_type": "stream",
          "name": "stderr",
          "text": [
            "\r[*********************100%***********************]  1 of 1 completed\n"
          ]
        },
        {
          "output_type": "stream",
          "name": "stdout",
          "text": [
            "\n",
            "Daily Return Stats for INCY:\n",
            "count    3772.000000\n",
            "mean        0.000863\n",
            "std         0.026107\n",
            "min        -0.229325\n",
            "25%        -0.013457\n",
            "50%         0.000000\n",
            "75%         0.014090\n",
            "max         0.334815\n",
            "Name: Daily Return, dtype: float64\n",
            "\n",
            "============================================================\n",
            "\n",
            "Processing IR...\n"
          ]
        },
        {
          "output_type": "stream",
          "name": "stderr",
          "text": [
            "\r[*********************100%***********************]  1 of 1 completed\n"
          ]
        },
        {
          "output_type": "stream",
          "name": "stdout",
          "text": [
            "\n",
            "Daily Return Stats for IR:\n",
            "count    1920.000000\n",
            "mean        0.000995\n",
            "std         0.021626\n",
            "min        -0.160489\n",
            "25%        -0.009780\n",
            "50%         0.000949\n",
            "75%         0.012429\n",
            "max         0.160428\n",
            "Name: Daily Return, dtype: float64\n",
            "\n",
            "============================================================\n",
            "\n",
            "Processing PODD...\n"
          ]
        },
        {
          "output_type": "stream",
          "name": "stderr",
          "text": [
            "\r[*********************100%***********************]  1 of 1 completed\n"
          ]
        },
        {
          "output_type": "stream",
          "name": "stdout",
          "text": [
            "\n",
            "Daily Return Stats for PODD:\n",
            "count    3772.000000\n",
            "mean        0.001090\n",
            "std         0.025802\n",
            "min        -0.172468\n",
            "25%        -0.011754\n",
            "50%         0.001065\n",
            "75%         0.014163\n",
            "max         0.225769\n",
            "Name: Daily Return, dtype: float64\n",
            "\n",
            "============================================================\n",
            "\n",
            "Processing INTC...\n"
          ]
        },
        {
          "output_type": "stream",
          "name": "stderr",
          "text": [
            "\r[*********************100%***********************]  1 of 1 completed\n"
          ]
        },
        {
          "output_type": "stream",
          "name": "stdout",
          "text": [
            "\n",
            "Daily Return Stats for INTC:\n",
            "count    3772.000000\n",
            "mean        0.000309\n",
            "std         0.020228\n",
            "min        -0.260585\n",
            "25%        -0.009240\n",
            "50%         0.000553\n",
            "75%         0.010214\n",
            "max         0.195213\n",
            "Name: Daily Return, dtype: float64\n",
            "\n",
            "============================================================\n",
            "\n",
            "Processing ICE...\n"
          ]
        },
        {
          "output_type": "stream",
          "name": "stderr",
          "text": [
            "\r[*********************100%***********************]  1 of 1 completed\n"
          ]
        },
        {
          "output_type": "stream",
          "name": "stdout",
          "text": [
            "\n",
            "Daily Return Stats for ICE:\n",
            "count    3772.000000\n",
            "mean        0.000650\n",
            "std         0.014844\n",
            "min        -0.122854\n",
            "25%        -0.007050\n",
            "50%         0.000655\n",
            "75%         0.008338\n",
            "max         0.101870\n",
            "Name: Daily Return, dtype: float64\n",
            "\n",
            "============================================================\n",
            "\n",
            "Processing IFF...\n"
          ]
        },
        {
          "output_type": "stream",
          "name": "stderr",
          "text": [
            "\r[*********************100%***********************]  1 of 1 completed\n"
          ]
        },
        {
          "output_type": "stream",
          "name": "stdout",
          "text": [
            "\n",
            "Daily Return Stats for IFF:\n",
            "count    3772.000000\n",
            "mean        0.000417\n",
            "std         0.016816\n",
            "min        -0.193677\n",
            "25%        -0.006973\n",
            "50%         0.000494\n",
            "75%         0.008348\n",
            "max         0.158124\n",
            "Name: Daily Return, dtype: float64\n",
            "\n",
            "============================================================\n",
            "\n",
            "Processing IP...\n"
          ]
        },
        {
          "output_type": "stream",
          "name": "stderr",
          "text": [
            "\r[*********************100%***********************]  1 of 1 completed\n"
          ]
        },
        {
          "output_type": "stream",
          "name": "stdout",
          "text": [
            "\n",
            "Daily Return Stats for IP:\n",
            "count    3772.000000\n",
            "mean        0.000531\n",
            "std         0.019093\n",
            "min        -0.112147\n",
            "25%        -0.009049\n",
            "50%         0.000450\n",
            "75%         0.010625\n",
            "max         0.168414\n",
            "Name: Daily Return, dtype: float64\n",
            "\n",
            "============================================================\n",
            "\n",
            "Processing IPG...\n"
          ]
        },
        {
          "output_type": "stream",
          "name": "stderr",
          "text": [
            "\r[*********************100%***********************]  1 of 1 completed\n"
          ]
        },
        {
          "output_type": "stream",
          "name": "stdout",
          "text": [
            "\n",
            "Daily Return Stats for IPG:\n",
            "count    3772.000000\n",
            "mean        0.000673\n",
            "std         0.020390\n",
            "min        -0.162810\n",
            "25%        -0.009204\n",
            "50%         0.000628\n",
            "75%         0.010458\n",
            "max         0.146739\n",
            "Name: Daily Return, dtype: float64\n",
            "\n",
            "============================================================\n",
            "\n",
            "Processing INTU...\n"
          ]
        },
        {
          "output_type": "stream",
          "name": "stderr",
          "text": [
            "\r[*********************100%***********************]  1 of 1 completed\n"
          ]
        },
        {
          "output_type": "stream",
          "name": "stdout",
          "text": [
            "\n",
            "Daily Return Stats for INTU:\n",
            "count    3772.000000\n",
            "mean        0.001000\n",
            "std         0.018345\n",
            "min        -0.144766\n",
            "25%        -0.007321\n",
            "50%         0.001017\n",
            "75%         0.009696\n",
            "max         0.200801\n",
            "Name: Daily Return, dtype: float64\n",
            "\n",
            "============================================================\n",
            "\n",
            "Processing ISRG...\n"
          ]
        },
        {
          "output_type": "stream",
          "name": "stderr",
          "text": [
            "\r[*********************100%***********************]  1 of 1 completed\n"
          ]
        },
        {
          "output_type": "stream",
          "name": "stdout",
          "text": [
            "\n",
            "Daily Return Stats for ISRG:\n",
            "count    3772.000000\n",
            "mean        0.000924\n",
            "std         0.020003\n",
            "min        -0.161534\n",
            "25%        -0.008407\n",
            "50%         0.001131\n",
            "75%         0.010235\n",
            "max         0.177147\n",
            "Name: Daily Return, dtype: float64\n",
            "\n",
            "============================================================\n",
            "\n",
            "Processing IVZ...\n"
          ]
        },
        {
          "output_type": "stream",
          "name": "stderr",
          "text": [
            "\r[*********************100%***********************]  1 of 1 completed\n"
          ]
        },
        {
          "output_type": "stream",
          "name": "stdout",
          "text": [
            "\n",
            "Daily Return Stats for IVZ:\n",
            "count    3772.000000\n",
            "mean        0.000338\n",
            "std         0.022945\n",
            "min        -0.211329\n",
            "25%        -0.010740\n",
            "50%         0.000582\n",
            "75%         0.011907\n",
            "max         0.178504\n",
            "Name: Daily Return, dtype: float64\n",
            "\n",
            "============================================================\n",
            "\n",
            "Processing INVH...\n"
          ]
        },
        {
          "output_type": "stream",
          "name": "stderr",
          "text": [
            "\r[*********************100%***********************]  1 of 1 completed\n"
          ]
        },
        {
          "output_type": "stream",
          "name": "stdout",
          "text": [
            "\n",
            "Daily Return Stats for INVH:\n",
            "count    1990.000000\n",
            "mean        0.000466\n",
            "std         0.016485\n",
            "min        -0.235490\n",
            "25%        -0.007212\n",
            "50%         0.000618\n",
            "75%         0.008423\n",
            "max         0.124613\n",
            "Name: Daily Return, dtype: float64\n",
            "\n",
            "============================================================\n",
            "\n",
            "Processing IQV...\n"
          ]
        },
        {
          "output_type": "stream",
          "name": "stderr",
          "text": [
            "\r[*********************100%***********************]  1 of 1 completed\n"
          ]
        },
        {
          "output_type": "stream",
          "name": "stdout",
          "text": [
            "\n",
            "Daily Return Stats for IQV:\n",
            "count    2930.000000\n",
            "mean        0.000683\n",
            "std         0.017661\n",
            "min        -0.165382\n",
            "25%        -0.007995\n",
            "50%         0.000888\n",
            "75%         0.009676\n",
            "max         0.153691\n",
            "Name: Daily Return, dtype: float64\n",
            "\n",
            "============================================================\n",
            "\n",
            "Processing IRM...\n"
          ]
        },
        {
          "output_type": "stream",
          "name": "stderr",
          "text": [
            "\r[*********************100%***********************]  1 of 1 completed\n"
          ]
        },
        {
          "output_type": "stream",
          "name": "stdout",
          "text": [
            "\n",
            "Daily Return Stats for IRM:\n",
            "count    3772.000000\n",
            "mean        0.000814\n",
            "std         0.017745\n",
            "min        -0.158430\n",
            "25%        -0.007602\n",
            "50%         0.000951\n",
            "75%         0.009483\n",
            "max         0.200537\n",
            "Name: Daily Return, dtype: float64\n",
            "\n",
            "============================================================\n",
            "\n",
            "Processing JBHT...\n"
          ]
        },
        {
          "output_type": "stream",
          "name": "stderr",
          "text": [
            "\r[*********************100%***********************]  1 of 1 completed\n"
          ]
        },
        {
          "output_type": "stream",
          "name": "stdout",
          "text": [
            "\n",
            "Daily Return Stats for JBHT:\n",
            "count    3772.000000\n",
            "mean        0.000609\n",
            "std         0.016439\n",
            "min        -0.142337\n",
            "25%        -0.008319\n",
            "50%         0.000325\n",
            "75%         0.009421\n",
            "max         0.131467\n",
            "Name: Daily Return, dtype: float64\n",
            "\n",
            "============================================================\n",
            "\n",
            "Processing JBL...\n"
          ]
        },
        {
          "output_type": "stream",
          "name": "stderr",
          "text": [
            "\r[*********************100%***********************]  1 of 1 completed\n"
          ]
        },
        {
          "output_type": "stream",
          "name": "stdout",
          "text": [
            "\n",
            "Daily Return Stats for JBL:\n",
            "count    3772.000000\n",
            "mean        0.000868\n",
            "std         0.023027\n",
            "min        -0.205375\n",
            "25%        -0.009934\n",
            "50%         0.001136\n",
            "75%         0.012138\n",
            "max         0.187963\n",
            "Name: Daily Return, dtype: float64\n",
            "\n",
            "============================================================\n",
            "\n",
            "Processing JKHY...\n"
          ]
        },
        {
          "output_type": "stream",
          "name": "stderr",
          "text": [
            "\r[*********************100%***********************]  1 of 1 completed\n"
          ]
        },
        {
          "output_type": "stream",
          "name": "stdout",
          "text": [
            "\n",
            "Daily Return Stats for JKHY:\n",
            "count    3772.000000\n",
            "mean        0.000675\n",
            "std         0.013756\n",
            "min        -0.128750\n",
            "25%        -0.005938\n",
            "50%         0.000936\n",
            "75%         0.007732\n",
            "max         0.097369\n",
            "Name: Daily Return, dtype: float64\n",
            "\n",
            "============================================================\n",
            "\n",
            "Processing J...\n"
          ]
        },
        {
          "output_type": "stream",
          "name": "stderr",
          "text": [
            "\r[*********************100%***********************]  1 of 1 completed\n"
          ]
        },
        {
          "output_type": "stream",
          "name": "stdout",
          "text": [
            "\n",
            "Daily Return Stats for J:\n",
            "count    3772.000000\n",
            "mean        0.000547\n",
            "std         0.017585\n",
            "min        -0.121034\n",
            "25%        -0.008692\n",
            "50%         0.000521\n",
            "75%         0.009602\n",
            "max         0.102841\n",
            "Name: Daily Return, dtype: float64\n",
            "\n",
            "============================================================\n",
            "\n",
            "Processing JNJ...\n"
          ]
        },
        {
          "output_type": "stream",
          "name": "stderr",
          "text": [
            "\r[*********************100%***********************]  1 of 1 completed\n"
          ]
        },
        {
          "output_type": "stream",
          "name": "stdout",
          "text": [
            "\n",
            "Daily Return Stats for JNJ:\n",
            "count    3772.000000\n",
            "mean        0.000383\n",
            "std         0.010524\n",
            "min        -0.100379\n",
            "25%        -0.004474\n",
            "50%         0.000310\n",
            "75%         0.005695\n",
            "max         0.079977\n",
            "Name: Daily Return, dtype: float64\n",
            "\n",
            "============================================================\n",
            "\n",
            "Processing JCI...\n"
          ]
        },
        {
          "output_type": "stream",
          "name": "stderr",
          "text": [
            "\r[*********************100%***********************]  1 of 1 completed\n"
          ]
        },
        {
          "output_type": "stream",
          "name": "stdout",
          "text": [
            "\n",
            "Daily Return Stats for JCI:\n",
            "count    3772.000000\n",
            "mean        0.000629\n",
            "std         0.015967\n",
            "min        -0.133201\n",
            "25%        -0.007339\n",
            "50%         0.000756\n",
            "75%         0.008997\n",
            "max         0.116378\n",
            "Name: Daily Return, dtype: float64\n",
            "\n",
            "============================================================\n",
            "\n",
            "Processing JPM...\n"
          ]
        },
        {
          "output_type": "stream",
          "name": "stderr",
          "text": [
            "\r[*********************100%***********************]  1 of 1 completed\n"
          ]
        },
        {
          "output_type": "stream",
          "name": "stdout",
          "text": [
            "\n",
            "Daily Return Stats for JPM:\n",
            "count    3772.000000\n",
            "mean        0.000711\n",
            "std         0.017494\n",
            "min        -0.149649\n",
            "25%        -0.007627\n",
            "50%         0.000579\n",
            "75%         0.009073\n",
            "max         0.180125\n",
            "Name: Daily Return, dtype: float64\n",
            "\n",
            "============================================================\n",
            "\n",
            "Processing JNPR...\n"
          ]
        },
        {
          "output_type": "stream",
          "name": "stderr",
          "text": [
            "\r[*********************100%***********************]  1 of 1 completed\n"
          ]
        },
        {
          "output_type": "stream",
          "name": "stdout",
          "text": [
            "\n",
            "Daily Return Stats for JNPR:\n",
            "count    3772.000000\n",
            "mean        0.000345\n",
            "std         0.019608\n",
            "min        -0.208854\n",
            "25%        -0.008365\n",
            "50%         0.000514\n",
            "75%         0.009193\n",
            "max         0.218068\n",
            "Name: Daily Return, dtype: float64\n",
            "\n",
            "============================================================\n",
            "\n",
            "Processing K...\n"
          ]
        },
        {
          "output_type": "stream",
          "name": "stderr",
          "text": [
            "\r[*********************100%***********************]  1 of 1 completed\n"
          ]
        },
        {
          "output_type": "stream",
          "name": "stdout",
          "text": [
            "\n",
            "Daily Return Stats for K:\n",
            "count    3772.000000\n",
            "mean        0.000338\n",
            "std         0.012509\n",
            "min        -0.109194\n",
            "25%        -0.005321\n",
            "50%         0.000500\n",
            "75%         0.006099\n",
            "max         0.162274\n",
            "Name: Daily Return, dtype: float64\n",
            "\n",
            "============================================================\n",
            "\n",
            "Processing KVUE...\n"
          ]
        },
        {
          "output_type": "stream",
          "name": "stderr",
          "text": [
            "\r[*********************100%***********************]  1 of 1 completed\n"
          ]
        },
        {
          "output_type": "stream",
          "name": "stdout",
          "text": [
            "\n",
            "Daily Return Stats for KVUE:\n",
            "count    416.000000\n",
            "mean      -0.000299\n",
            "std        0.016642\n",
            "min       -0.062109\n",
            "25%       -0.008687\n",
            "50%       -0.001002\n",
            "75%        0.007499\n",
            "max        0.146784\n",
            "Name: Daily Return, dtype: float64\n",
            "\n",
            "============================================================\n",
            "\n",
            "Processing KDP...\n"
          ]
        },
        {
          "output_type": "stream",
          "name": "stderr",
          "text": [
            "\r[*********************100%***********************]  1 of 1 completed\n"
          ]
        },
        {
          "output_type": "stream",
          "name": "stdout",
          "text": [
            "\n",
            "Daily Return Stats for KDP:\n",
            "count    3772.000000\n",
            "mean        0.000701\n",
            "std         0.013832\n",
            "min        -0.164891\n",
            "25%        -0.006216\n",
            "50%         0.000761\n",
            "75%         0.007164\n",
            "max         0.223941\n",
            "Name: Daily Return, dtype: float64\n",
            "\n",
            "============================================================\n",
            "\n",
            "Processing KEY...\n"
          ]
        },
        {
          "output_type": "stream",
          "name": "stderr",
          "text": [
            "\r[*********************100%***********************]  1 of 1 completed\n"
          ]
        },
        {
          "output_type": "stream",
          "name": "stdout",
          "text": [
            "\n",
            "Daily Return Stats for KEY:\n",
            "count    3772.000000\n",
            "mean        0.000682\n",
            "std         0.023486\n",
            "min        -0.273308\n",
            "25%        -0.010541\n",
            "50%         0.000780\n",
            "75%         0.011814\n",
            "max         0.185648\n",
            "Name: Daily Return, dtype: float64\n",
            "\n",
            "============================================================\n",
            "\n",
            "Processing KEYS...\n"
          ]
        },
        {
          "output_type": "stream",
          "name": "stderr",
          "text": [
            "\r[*********************100%***********************]  1 of 1 completed\n"
          ]
        },
        {
          "output_type": "stream",
          "name": "stdout",
          "text": [
            "\n",
            "Daily Return Stats for KEYS:\n",
            "count    2565.000000\n",
            "mean        0.000864\n",
            "std         0.019248\n",
            "min        -0.137821\n",
            "25%        -0.008677\n",
            "50%         0.000822\n",
            "75%         0.010622\n",
            "max         0.151982\n",
            "Name: Daily Return, dtype: float64\n",
            "\n",
            "============================================================\n",
            "\n",
            "Processing KMB...\n"
          ]
        },
        {
          "output_type": "stream",
          "name": "stderr",
          "text": [
            "\r[*********************100%***********************]  1 of 1 completed\n"
          ]
        },
        {
          "output_type": "stream",
          "name": "stdout",
          "text": [
            "\n",
            "Daily Return Stats for KMB:\n",
            "count    3772.000000\n",
            "mean        0.000403\n",
            "std         0.011496\n",
            "min        -0.088328\n",
            "25%        -0.005120\n",
            "50%         0.000584\n",
            "75%         0.006409\n",
            "max         0.097049\n",
            "Name: Daily Return, dtype: float64\n",
            "\n",
            "============================================================\n",
            "\n",
            "Processing KIM...\n"
          ]
        },
        {
          "output_type": "stream",
          "name": "stderr",
          "text": [
            "\r[*********************100%***********************]  1 of 1 completed\n"
          ]
        },
        {
          "output_type": "stream",
          "name": "stdout",
          "text": [
            "\n",
            "Daily Return Stats for KIM:\n",
            "count    3772.000000\n",
            "mean        0.000517\n",
            "std         0.019819\n",
            "min        -0.198185\n",
            "25%        -0.008685\n",
            "50%         0.001052\n",
            "75%         0.009782\n",
            "max         0.322612\n",
            "Name: Daily Return, dtype: float64\n",
            "\n",
            "============================================================\n",
            "\n",
            "Processing KMI...\n"
          ]
        },
        {
          "output_type": "stream",
          "name": "stderr",
          "text": [
            "\r[*********************100%***********************]  1 of 1 completed\n"
          ]
        },
        {
          "output_type": "stream",
          "name": "stdout",
          "text": [
            "\n",
            "Daily Return Stats for KMI:\n",
            "count    3492.000000\n",
            "mean        0.000323\n",
            "std         0.018249\n",
            "min        -0.210443\n",
            "25%        -0.008018\n",
            "50%         0.000000\n",
            "75%         0.008733\n",
            "max         0.167725\n",
            "Name: Daily Return, dtype: float64\n",
            "\n",
            "============================================================\n",
            "\n",
            "Processing KKR...\n"
          ]
        },
        {
          "output_type": "stream",
          "name": "stderr",
          "text": [
            "\r[*********************100%***********************]  1 of 1 completed\n"
          ]
        },
        {
          "output_type": "stream",
          "name": "stdout",
          "text": [
            "\n",
            "Daily Return Stats for KKR:\n",
            "count    3639.000000\n",
            "mean        0.001123\n",
            "std         0.021724\n",
            "min        -0.138638\n",
            "25%        -0.009948\n",
            "50%         0.000999\n",
            "75%         0.012203\n",
            "max         0.180541\n",
            "Name: Daily Return, dtype: float64\n",
            "\n",
            "============================================================\n",
            "\n",
            "Processing KLAC...\n"
          ]
        },
        {
          "output_type": "stream",
          "name": "stderr",
          "text": [
            "\r[*********************100%***********************]  1 of 1 completed\n"
          ]
        },
        {
          "output_type": "stream",
          "name": "stdout",
          "text": [
            "\n",
            "Daily Return Stats for KLAC:\n",
            "count    3772.000000\n",
            "mean        0.001159\n",
            "std         0.022662\n",
            "min        -0.146966\n",
            "25%        -0.009341\n",
            "50%         0.001266\n",
            "75%         0.012097\n",
            "max         0.187895\n",
            "Name: Daily Return, dtype: float64\n",
            "\n",
            "============================================================\n",
            "\n",
            "Processing KHC...\n"
          ]
        },
        {
          "output_type": "stream",
          "name": "stderr",
          "text": [
            "\r[*********************100%***********************]  1 of 1 completed\n"
          ]
        },
        {
          "output_type": "stream",
          "name": "stdout",
          "text": [
            "\n",
            "Daily Return Stats for KHC:\n",
            "count    2388.000000\n",
            "mean       -0.000050\n",
            "std         0.016997\n",
            "min        -0.274595\n",
            "25%        -0.007251\n",
            "50%         0.000235\n",
            "75%         0.007585\n",
            "max         0.194915\n",
            "Name: Daily Return, dtype: float64\n",
            "\n",
            "============================================================\n",
            "\n",
            "Processing KR...\n"
          ]
        },
        {
          "output_type": "stream",
          "name": "stderr",
          "text": [
            "\r[*********************100%***********************]  1 of 1 completed\n"
          ]
        },
        {
          "output_type": "stream",
          "name": "stdout",
          "text": [
            "\n",
            "Daily Return Stats for KR:\n",
            "count    3772.000000\n",
            "mean        0.000683\n",
            "std         0.016327\n",
            "min        -0.188904\n",
            "25%        -0.007366\n",
            "50%         0.000887\n",
            "75%         0.009091\n",
            "max         0.116062\n",
            "Name: Daily Return, dtype: float64\n",
            "\n",
            "============================================================\n",
            "\n",
            "Processing LHX...\n"
          ]
        },
        {
          "output_type": "stream",
          "name": "stderr",
          "text": [
            "\r[*********************100%***********************]  1 of 1 completed\n"
          ]
        },
        {
          "output_type": "stream",
          "name": "stdout",
          "text": [
            "\n",
            "Daily Return Stats for LHX:\n",
            "count    3772.000000\n",
            "mean        0.000602\n",
            "std         0.015889\n",
            "min        -0.142994\n",
            "25%        -0.007160\n",
            "50%         0.000843\n",
            "75%         0.008600\n",
            "max         0.118680\n",
            "Name: Daily Return, dtype: float64\n",
            "\n",
            "============================================================\n",
            "\n",
            "Processing LH...\n"
          ]
        },
        {
          "output_type": "stream",
          "name": "stderr",
          "text": [
            "\r[*********************100%***********************]  1 of 1 completed\n"
          ]
        },
        {
          "output_type": "stream",
          "name": "stdout",
          "text": [
            "\n",
            "Daily Return Stats for LH:\n",
            "count    3772.000000\n",
            "mean        0.000459\n",
            "std         0.015299\n",
            "min        -0.192756\n",
            "25%        -0.006562\n",
            "50%         0.000621\n",
            "75%         0.007891\n",
            "max         0.128930\n",
            "Name: Daily Return, dtype: float64\n",
            "\n",
            "============================================================\n",
            "\n",
            "Processing LRCX...\n"
          ]
        },
        {
          "output_type": "stream",
          "name": "stderr",
          "text": [
            "\r[*********************100%***********************]  1 of 1 completed\n"
          ]
        },
        {
          "output_type": "stream",
          "name": "stdout",
          "text": [
            "\n",
            "Daily Return Stats for LRCX:\n",
            "count    3772.000000\n",
            "mean        0.001087\n",
            "std         0.024292\n",
            "min        -0.184277\n",
            "25%        -0.011502\n",
            "50%         0.000839\n",
            "75%         0.013564\n",
            "max         0.203130\n",
            "Name: Daily Return, dtype: float64\n",
            "\n",
            "============================================================\n",
            "\n",
            "Processing LW...\n"
          ]
        },
        {
          "output_type": "stream",
          "name": "stderr",
          "text": [
            "\r[*********************100%***********************]  1 of 1 completed\n"
          ]
        },
        {
          "output_type": "stream",
          "name": "stdout",
          "text": [
            "\n",
            "Daily Return Stats for LW:\n",
            "count    2045.000000\n",
            "mean        0.000673\n",
            "std         0.021766\n",
            "min        -0.282371\n",
            "25%        -0.007683\n",
            "50%         0.000845\n",
            "75%         0.009814\n",
            "max         0.153637\n",
            "Name: Daily Return, dtype: float64\n",
            "\n",
            "============================================================\n",
            "\n",
            "Processing LVS...\n"
          ]
        },
        {
          "output_type": "stream",
          "name": "stderr",
          "text": [
            "\r[*********************100%***********************]  1 of 1 completed\n"
          ]
        },
        {
          "output_type": "stream",
          "name": "stdout",
          "text": [
            "\n",
            "Daily Return Stats for LVS:\n",
            "count    3772.000000\n",
            "mean        0.000709\n",
            "std         0.024486\n",
            "min        -0.175883\n",
            "25%        -0.011676\n",
            "50%         0.000284\n",
            "75%         0.012546\n",
            "max         0.150631\n",
            "Name: Daily Return, dtype: float64\n",
            "\n",
            "============================================================\n",
            "\n",
            "Processing LDOS...\n"
          ]
        },
        {
          "output_type": "stream",
          "name": "stderr",
          "text": [
            "\r[*********************100%***********************]  1 of 1 completed\n"
          ]
        },
        {
          "output_type": "stream",
          "name": "stdout",
          "text": [
            "\n",
            "Daily Return Stats for LDOS:\n",
            "count    3772.000000\n",
            "mean        0.000619\n",
            "std         0.017001\n",
            "min        -0.184052\n",
            "25%        -0.006888\n",
            "50%         0.001024\n",
            "75%         0.008599\n",
            "max         0.150069\n",
            "Name: Daily Return, dtype: float64\n",
            "\n",
            "============================================================\n",
            "\n",
            "Processing LEN...\n"
          ]
        },
        {
          "output_type": "stream",
          "name": "stderr",
          "text": [
            "\r[*********************100%***********************]  1 of 1 completed\n"
          ]
        },
        {
          "output_type": "stream",
          "name": "stdout",
          "text": [
            "\n",
            "Daily Return Stats for LEN:\n",
            "count    3772.000000\n",
            "mean        0.000918\n",
            "std         0.023519\n",
            "min        -0.196147\n",
            "25%        -0.011188\n",
            "50%         0.000257\n",
            "75%         0.012722\n",
            "max         0.212947\n",
            "Name: Daily Return, dtype: float64\n",
            "\n",
            "============================================================\n",
            "\n",
            "Processing LII...\n"
          ]
        },
        {
          "output_type": "stream",
          "name": "stderr",
          "text": [
            "\r[*********************100%***********************]  1 of 1 completed\n"
          ]
        },
        {
          "output_type": "stream",
          "name": "stdout",
          "text": [
            "\n",
            "Daily Return Stats for LII:\n",
            "count    3772.000000\n",
            "mean        0.000929\n",
            "std         0.017517\n",
            "min        -0.110421\n",
            "25%        -0.008292\n",
            "50%         0.001232\n",
            "75%         0.009903\n",
            "max         0.114055\n",
            "Name: Daily Return, dtype: float64\n",
            "\n",
            "============================================================\n",
            "\n",
            "Processing LLY...\n"
          ]
        },
        {
          "output_type": "stream",
          "name": "stderr",
          "text": [
            "\r[*********************100%***********************]  1 of 1 completed\n"
          ]
        },
        {
          "output_type": "stream",
          "name": "stdout",
          "text": [
            "\n",
            "Daily Return Stats for LLY:\n",
            "count    3772.000000\n",
            "mean        0.001047\n",
            "std         0.015679\n",
            "min        -0.105145\n",
            "25%        -0.006518\n",
            "50%         0.000974\n",
            "75%         0.008017\n",
            "max         0.156798\n",
            "Name: Daily Return, dtype: float64\n",
            "\n",
            "============================================================\n",
            "\n",
            "Processing LIN...\n"
          ]
        },
        {
          "output_type": "stream",
          "name": "stderr",
          "text": [
            "\r[*********************100%***********************]  1 of 1 completed\n"
          ]
        },
        {
          "output_type": "stream",
          "name": "stdout",
          "text": [
            "\n",
            "Daily Return Stats for LIN:\n",
            "count    3772.000000\n",
            "mean        0.000601\n",
            "std         0.013456\n",
            "min        -0.102833\n",
            "25%        -0.006217\n",
            "50%         0.000525\n",
            "75%         0.007403\n",
            "max         0.116947\n",
            "Name: Daily Return, dtype: float64\n",
            "\n",
            "============================================================\n",
            "\n",
            "Processing LYV...\n"
          ]
        },
        {
          "output_type": "stream",
          "name": "stderr",
          "text": [
            "\r[*********************100%***********************]  1 of 1 completed\n"
          ]
        },
        {
          "output_type": "stream",
          "name": "stdout",
          "text": [
            "\n",
            "Daily Return Stats for LYV:\n",
            "count    3772.000000\n",
            "mean        0.000990\n",
            "std         0.023843\n",
            "min        -0.165806\n",
            "25%        -0.009899\n",
            "50%         0.000903\n",
            "75%         0.011581\n",
            "max         0.183702\n",
            "Name: Daily Return, dtype: float64\n",
            "\n",
            "============================================================\n",
            "\n",
            "Processing LKQ...\n"
          ]
        },
        {
          "output_type": "stream",
          "name": "stderr",
          "text": [
            "\r[*********************100%***********************]  1 of 1 completed\n"
          ]
        },
        {
          "output_type": "stream",
          "name": "stdout",
          "text": [
            "\n",
            "Daily Return Stats for LKQ:\n",
            "count    3772.000000\n",
            "mean        0.000564\n",
            "std         0.019875\n",
            "min        -0.192484\n",
            "25%        -0.008853\n",
            "50%         0.000736\n",
            "75%         0.009966\n",
            "max         0.220144\n",
            "Name: Daily Return, dtype: float64\n",
            "\n",
            "============================================================\n",
            "\n",
            "Processing LMT...\n"
          ]
        },
        {
          "output_type": "stream",
          "name": "stderr",
          "text": [
            "\r[*********************100%***********************]  1 of 1 completed\n"
          ]
        },
        {
          "output_type": "stream",
          "name": "stdout",
          "text": [
            "\n",
            "Daily Return Stats for LMT:\n",
            "count    3772.000000\n",
            "mean        0.000698\n",
            "std         0.013144\n",
            "min        -0.127616\n",
            "25%        -0.005528\n",
            "50%         0.000785\n",
            "75%         0.007264\n",
            "max         0.107279\n",
            "Name: Daily Return, dtype: float64\n",
            "\n",
            "============================================================\n",
            "\n",
            "Processing L...\n"
          ]
        },
        {
          "output_type": "stream",
          "name": "stderr",
          "text": [
            "\r[*********************100%***********************]  1 of 1 completed\n"
          ]
        },
        {
          "output_type": "stream",
          "name": "stdout",
          "text": [
            "\n",
            "Daily Return Stats for L:\n",
            "count    3772.000000\n",
            "mean        0.000349\n",
            "std         0.014799\n",
            "min        -0.164611\n",
            "25%        -0.006208\n",
            "50%         0.000505\n",
            "75%         0.007063\n",
            "max         0.134499\n",
            "Name: Daily Return, dtype: float64\n",
            "\n",
            "============================================================\n",
            "\n",
            "Processing LOW...\n"
          ]
        },
        {
          "output_type": "stream",
          "name": "stderr",
          "text": [
            "\r[*********************100%***********************]  1 of 1 completed\n"
          ]
        },
        {
          "output_type": "stream",
          "name": "stdout",
          "text": [
            "\n",
            "Daily Return Stats for LOW:\n",
            "count    3772.000000\n",
            "mean        0.000851\n",
            "std         0.017316\n",
            "min        -0.247694\n",
            "25%        -0.007770\n",
            "50%         0.000867\n",
            "75%         0.009547\n",
            "max         0.140118\n",
            "Name: Daily Return, dtype: float64\n",
            "\n",
            "============================================================\n",
            "\n",
            "Processing LULU...\n"
          ]
        },
        {
          "output_type": "stream",
          "name": "stderr",
          "text": [
            "\r[*********************100%***********************]  1 of 1 completed\n"
          ]
        },
        {
          "output_type": "stream",
          "name": "stdout",
          "text": [
            "\n",
            "Daily Return Stats for LULU:\n",
            "count    3772.000000\n",
            "mean        0.001185\n",
            "std         0.025723\n",
            "min        -0.234389\n",
            "25%        -0.010786\n",
            "50%         0.000729\n",
            "75%         0.013188\n",
            "max         0.163160\n",
            "Name: Daily Return, dtype: float64\n",
            "\n",
            "============================================================\n",
            "\n",
            "Processing LYB...\n"
          ]
        },
        {
          "output_type": "stream",
          "name": "stderr",
          "text": [
            "\r[*********************100%***********************]  1 of 1 completed\n"
          ]
        },
        {
          "output_type": "stream",
          "name": "stdout",
          "text": [
            "\n",
            "Daily Return Stats for LYB:\n",
            "count    3693.000000\n",
            "mean        0.000787\n",
            "std         0.022010\n",
            "min        -0.254910\n",
            "25%        -0.009785\n",
            "50%         0.000711\n",
            "75%         0.011508\n",
            "max         0.195415\n",
            "Name: Daily Return, dtype: float64\n",
            "\n",
            "============================================================\n",
            "\n",
            "Processing MTB...\n"
          ]
        },
        {
          "output_type": "stream",
          "name": "stderr",
          "text": [
            "\r[*********************100%***********************]  1 of 1 completed\n"
          ]
        },
        {
          "output_type": "stream",
          "name": "stdout",
          "text": [
            "\n",
            "Daily Return Stats for MTB:\n",
            "count    3772.000000\n",
            "mean        0.000568\n",
            "std         0.019041\n",
            "min        -0.138889\n",
            "25%        -0.008028\n",
            "50%         0.000724\n",
            "75%         0.009424\n",
            "max         0.250959\n",
            "Name: Daily Return, dtype: float64\n",
            "\n",
            "============================================================\n",
            "\n",
            "Processing MPC...\n"
          ]
        },
        {
          "output_type": "stream",
          "name": "stderr",
          "text": [
            "\r[*********************100%***********************]  1 of 1 completed\n"
          ]
        },
        {
          "output_type": "stream",
          "name": "stdout",
          "text": [
            "\n",
            "Daily Return Stats for MPC:\n",
            "count    3400.000000\n",
            "mean        0.001014\n",
            "std         0.024950\n",
            "min        -0.270089\n",
            "25%        -0.011491\n",
            "50%         0.001566\n",
            "75%         0.013519\n",
            "max         0.206285\n",
            "Name: Daily Return, dtype: float64\n",
            "\n",
            "============================================================\n",
            "\n",
            "Processing MKTX...\n"
          ]
        },
        {
          "output_type": "stream",
          "name": "stderr",
          "text": [
            "\r[*********************100%***********************]  1 of 1 completed\n"
          ]
        },
        {
          "output_type": "stream",
          "name": "stdout",
          "text": [
            "\n",
            "Daily Return Stats for MKTX:\n",
            "count    3772.000000\n",
            "mean        0.000992\n",
            "std         0.020870\n",
            "min        -0.177961\n",
            "25%        -0.009210\n",
            "50%         0.000744\n",
            "75%         0.011486\n",
            "max         0.161424\n",
            "Name: Daily Return, dtype: float64\n",
            "\n",
            "============================================================\n",
            "\n",
            "Processing MAR...\n"
          ]
        },
        {
          "output_type": "stream",
          "name": "stderr",
          "text": [
            "\r[*********************100%***********************]  1 of 1 completed\n"
          ]
        },
        {
          "output_type": "stream",
          "name": "stdout",
          "text": [
            "\n",
            "Daily Return Stats for MAR:\n",
            "count    3772.000000\n",
            "mean        0.000859\n",
            "std         0.019375\n",
            "min        -0.151914\n",
            "25%        -0.008019\n",
            "50%         0.000808\n",
            "75%         0.010428\n",
            "max         0.194821\n",
            "Name: Daily Return, dtype: float64\n",
            "\n",
            "============================================================\n",
            "\n",
            "Processing MMC...\n"
          ]
        },
        {
          "output_type": "stream",
          "name": "stderr",
          "text": [
            "\r[*********************100%***********************]  1 of 1 completed\n"
          ]
        },
        {
          "output_type": "stream",
          "name": "stdout",
          "text": [
            "\n",
            "Daily Return Stats for MMC:\n",
            "count    3772.000000\n",
            "mean        0.000763\n",
            "std         0.012443\n",
            "min        -0.120675\n",
            "25%        -0.005077\n",
            "50%         0.001019\n",
            "75%         0.006985\n",
            "max         0.133525\n",
            "Name: Daily Return, dtype: float64\n",
            "\n",
            "============================================================\n",
            "\n",
            "Processing MLM...\n"
          ]
        },
        {
          "output_type": "stream",
          "name": "stderr",
          "text": [
            "\r[*********************100%***********************]  1 of 1 completed\n"
          ]
        },
        {
          "output_type": "stream",
          "name": "stdout",
          "text": [
            "\n",
            "Daily Return Stats for MLM:\n",
            "count    3772.000000\n",
            "mean        0.000691\n",
            "std         0.019282\n",
            "min        -0.135486\n",
            "25%        -0.009074\n",
            "50%         0.000696\n",
            "75%         0.010488\n",
            "max         0.151729\n",
            "Name: Daily Return, dtype: float64\n",
            "\n",
            "============================================================\n",
            "\n",
            "Processing MAS...\n"
          ]
        },
        {
          "output_type": "stream",
          "name": "stderr",
          "text": [
            "\r[*********************100%***********************]  1 of 1 completed\n"
          ]
        },
        {
          "output_type": "stream",
          "name": "stdout",
          "text": [
            "\n",
            "Daily Return Stats for MAS:\n",
            "count    3772.000000\n",
            "mean        0.000741\n",
            "std         0.020479\n",
            "min        -0.132222\n",
            "25%        -0.009552\n",
            "50%         0.000851\n",
            "75%         0.011302\n",
            "max         0.148565\n",
            "Name: Daily Return, dtype: float64\n",
            "\n",
            "============================================================\n",
            "\n",
            "Processing MA...\n"
          ]
        },
        {
          "output_type": "stream",
          "name": "stderr",
          "text": [
            "\r[*********************100%***********************]  1 of 1 completed\n"
          ]
        },
        {
          "output_type": "stream",
          "name": "stdout",
          "text": [
            "\n",
            "Daily Return Stats for MA:\n",
            "count    3772.000000\n",
            "mean        0.000969\n",
            "std         0.017207\n",
            "min        -0.127255\n",
            "25%        -0.007087\n",
            "50%         0.001439\n",
            "75%         0.008886\n",
            "max         0.166109\n",
            "Name: Daily Return, dtype: float64\n",
            "\n",
            "============================================================\n",
            "\n",
            "Processing MTCH...\n"
          ]
        },
        {
          "output_type": "stream",
          "name": "stderr",
          "text": [
            "\r[*********************100%***********************]  1 of 1 completed\n"
          ]
        },
        {
          "output_type": "stream",
          "name": "stdout",
          "text": [
            "\n",
            "Daily Return Stats for MTCH:\n",
            "count    3772.000000\n",
            "mean        0.000804\n",
            "std         0.025835\n",
            "min        -0.220925\n",
            "25%        -0.011463\n",
            "50%         0.000149\n",
            "75%         0.012995\n",
            "max         0.241645\n",
            "Name: Daily Return, dtype: float64\n",
            "\n",
            "============================================================\n",
            "\n",
            "Processing MKC...\n"
          ]
        },
        {
          "output_type": "stream",
          "name": "stderr",
          "text": [
            "\r[*********************100%***********************]  1 of 1 completed\n"
          ]
        },
        {
          "output_type": "stream",
          "name": "stdout",
          "text": [
            "\n",
            "Daily Return Stats for MKC:\n",
            "count    3772.000000\n",
            "mean        0.000541\n",
            "std         0.013069\n",
            "min        -0.109196\n",
            "25%        -0.005483\n",
            "50%         0.000818\n",
            "75%         0.007264\n",
            "max         0.152281\n",
            "Name: Daily Return, dtype: float64\n",
            "\n",
            "============================================================\n",
            "\n",
            "Processing MCD...\n"
          ]
        },
        {
          "output_type": "stream",
          "name": "stderr",
          "text": [
            "\r[*********************100%***********************]  1 of 1 completed\n"
          ]
        },
        {
          "output_type": "stream",
          "name": "stdout",
          "text": [
            "\n",
            "Daily Return Stats for MCD:\n",
            "count    3772.000000\n",
            "mean        0.000584\n",
            "std         0.011709\n",
            "min        -0.158754\n",
            "25%        -0.004845\n",
            "50%         0.000746\n",
            "75%         0.006016\n",
            "max         0.181254\n",
            "Name: Daily Return, dtype: float64\n",
            "\n",
            "============================================================\n",
            "\n",
            "Processing MCK...\n"
          ]
        },
        {
          "output_type": "stream",
          "name": "stderr",
          "text": [
            "\r[*********************100%***********************]  1 of 1 completed\n"
          ]
        },
        {
          "output_type": "stream",
          "name": "stdout",
          "text": [
            "\n",
            "Daily Return Stats for MCK:\n",
            "count    3772.000000\n",
            "mean        0.000754\n",
            "std         0.016597\n",
            "min        -0.226729\n",
            "25%        -0.007177\n",
            "50%         0.000938\n",
            "75%         0.008811\n",
            "max         0.149984\n",
            "Name: Daily Return, dtype: float64\n",
            "\n",
            "============================================================\n",
            "\n",
            "Processing MDT...\n"
          ]
        },
        {
          "output_type": "stream",
          "name": "stderr",
          "text": [
            "\r[*********************100%***********************]  1 of 1 completed\n"
          ]
        },
        {
          "output_type": "stream",
          "name": "stdout",
          "text": [
            "\n",
            "Daily Return Stats for MDT:\n",
            "count    3772.000000\n",
            "mean        0.000353\n",
            "std         0.014067\n",
            "min        -0.128237\n",
            "25%        -0.006495\n",
            "50%         0.000647\n",
            "75%         0.007822\n",
            "max         0.101893\n",
            "Name: Daily Return, dtype: float64\n",
            "\n",
            "============================================================\n",
            "\n",
            "Processing MRK...\n"
          ]
        },
        {
          "output_type": "stream",
          "name": "stderr",
          "text": [
            "\r[*********************100%***********************]  1 of 1 completed\n"
          ]
        },
        {
          "output_type": "stream",
          "name": "stdout",
          "text": [
            "\n",
            "Daily Return Stats for MRK:\n",
            "count    3772.000000\n",
            "mean        0.000490\n",
            "std         0.013075\n",
            "min        -0.098631\n",
            "25%        -0.006189\n",
            "50%         0.000310\n",
            "75%         0.007430\n",
            "max         0.104080\n",
            "Name: Daily Return, dtype: float64\n",
            "\n",
            "============================================================\n",
            "\n",
            "Processing META...\n"
          ]
        },
        {
          "output_type": "stream",
          "name": "stderr",
          "text": [
            "\r[*********************100%***********************]  1 of 1 completed\n"
          ]
        },
        {
          "output_type": "stream",
          "name": "stdout",
          "text": [
            "\n",
            "Daily Return Stats for META:\n",
            "count    3173.000000\n",
            "mean        0.001180\n",
            "std         0.025107\n",
            "min        -0.263901\n",
            "25%        -0.009832\n",
            "50%         0.000996\n",
            "75%         0.012787\n",
            "max         0.296115\n",
            "Name: Daily Return, dtype: float64\n",
            "\n",
            "============================================================\n",
            "\n",
            "Processing MET...\n"
          ]
        },
        {
          "output_type": "stream",
          "name": "stderr",
          "text": [
            "\r[*********************100%***********************]  1 of 1 completed\n"
          ]
        },
        {
          "output_type": "stream",
          "name": "stdout",
          "text": [
            "\n",
            "Daily Return Stats for MET:\n",
            "count    3772.000000\n",
            "mean        0.000554\n",
            "std         0.019442\n",
            "min        -0.166411\n",
            "25%        -0.008502\n",
            "50%         0.000642\n",
            "75%         0.010265\n",
            "max         0.173396\n",
            "Name: Daily Return, dtype: float64\n",
            "\n",
            "============================================================\n",
            "\n",
            "Processing MTD...\n"
          ]
        },
        {
          "output_type": "stream",
          "name": "stderr",
          "text": [
            "\r[*********************100%***********************]  1 of 1 completed\n"
          ]
        },
        {
          "output_type": "stream",
          "name": "stdout",
          "text": [
            "\n",
            "Daily Return Stats for MTD:\n",
            "count    3772.000000\n",
            "mean        0.000798\n",
            "std         0.017278\n",
            "min        -0.105776\n",
            "25%        -0.007983\n",
            "50%         0.001111\n",
            "75%         0.010130\n",
            "max         0.170355\n",
            "Name: Daily Return, dtype: float64\n",
            "\n",
            "============================================================\n",
            "\n",
            "Processing MGM...\n"
          ]
        },
        {
          "output_type": "stream",
          "name": "stderr",
          "text": [
            "\r[*********************100%***********************]  1 of 1 completed\n"
          ]
        },
        {
          "output_type": "stream",
          "name": "stdout",
          "text": [
            "\n",
            "Daily Return Stats for MGM:\n",
            "count    3772.000000\n",
            "mean        0.000752\n",
            "std         0.028277\n",
            "min        -0.336140\n",
            "25%        -0.012826\n",
            "50%         0.000825\n",
            "75%         0.014104\n",
            "max         0.331148\n",
            "Name: Daily Return, dtype: float64\n",
            "\n",
            "============================================================\n",
            "\n",
            "Processing MCHP...\n"
          ]
        },
        {
          "output_type": "stream",
          "name": "stderr",
          "text": [
            "\r[*********************100%***********************]  1 of 1 completed\n"
          ]
        },
        {
          "output_type": "stream",
          "name": "stdout",
          "text": [
            "\n",
            "Daily Return Stats for MCHP:\n",
            "count    3772.000000\n",
            "mean        0.000690\n",
            "std         0.021192\n",
            "min        -0.202944\n",
            "25%        -0.010076\n",
            "50%         0.000787\n",
            "75%         0.011513\n",
            "max         0.155854\n",
            "Name: Daily Return, dtype: float64\n",
            "\n",
            "============================================================\n",
            "\n",
            "Processing MU...\n"
          ]
        },
        {
          "output_type": "stream",
          "name": "stderr",
          "text": [
            "\r[*********************100%***********************]  1 of 1 completed\n"
          ]
        },
        {
          "output_type": "stream",
          "name": "stdout",
          "text": [
            "\n",
            "Daily Return Stats for MU:\n",
            "count    3772.000000\n",
            "mean        0.000996\n",
            "std         0.029774\n",
            "min        -0.198186\n",
            "25%        -0.014821\n",
            "50%         0.000752\n",
            "75%         0.017296\n",
            "max         0.234432\n",
            "Name: Daily Return, dtype: float64\n",
            "\n",
            "============================================================\n",
            "\n",
            "Processing MSFT...\n"
          ]
        },
        {
          "output_type": "stream",
          "name": "stderr",
          "text": [
            "\r[*********************100%***********************]  1 of 1 completed\n"
          ]
        },
        {
          "output_type": "stream",
          "name": "stdout",
          "text": [
            "\n",
            "Daily Return Stats for MSFT:\n",
            "count    3772.000000\n",
            "mean        0.000900\n",
            "std         0.016111\n",
            "min        -0.147390\n",
            "25%        -0.007081\n",
            "50%         0.000696\n",
            "75%         0.009238\n",
            "max         0.142169\n",
            "Name: Daily Return, dtype: float64\n",
            "\n",
            "============================================================\n",
            "\n",
            "Processing MAA...\n"
          ]
        },
        {
          "output_type": "stream",
          "name": "stderr",
          "text": [
            "\r[*********************100%***********************]  1 of 1 completed\n"
          ]
        },
        {
          "output_type": "stream",
          "name": "stdout",
          "text": [
            "\n",
            "Daily Return Stats for MAA:\n",
            "count    3772.000000\n",
            "mean        0.000562\n",
            "std         0.014615\n",
            "min        -0.167064\n",
            "25%        -0.006430\n",
            "50%         0.000661\n",
            "75%         0.007974\n",
            "max         0.116543\n",
            "Name: Daily Return, dtype: float64\n",
            "\n",
            "============================================================\n",
            "\n",
            "Processing MRNA...\n"
          ]
        },
        {
          "output_type": "stream",
          "name": "stderr",
          "text": [
            "\r[*********************100%***********************]  1 of 1 completed\n"
          ]
        },
        {
          "output_type": "stream",
          "name": "stdout",
          "text": [
            "\n",
            "Daily Return Stats for MRNA:\n",
            "count    1524.000000\n",
            "mean        0.001523\n",
            "std         0.045730\n",
            "min        -0.210116\n",
            "25%        -0.023320\n",
            "50%        -0.001897\n",
            "75%         0.024171\n",
            "max         0.278107\n",
            "Name: Daily Return, dtype: float64\n",
            "\n",
            "============================================================\n",
            "\n",
            "Processing MHK...\n"
          ]
        },
        {
          "output_type": "stream",
          "name": "stderr",
          "text": [
            "\r[*********************100%***********************]  1 of 1 completed\n"
          ]
        },
        {
          "output_type": "stream",
          "name": "stdout",
          "text": [
            "\n",
            "Daily Return Stats for MHK:\n",
            "count    3772.000000\n",
            "mean        0.000521\n",
            "std         0.023684\n",
            "min        -0.242460\n",
            "25%        -0.010070\n",
            "50%         0.000412\n",
            "75%         0.011296\n",
            "max         0.220433\n",
            "Name: Daily Return, dtype: float64\n",
            "\n",
            "============================================================\n",
            "\n",
            "Processing MOH...\n"
          ]
        },
        {
          "output_type": "stream",
          "name": "stderr",
          "text": [
            "\r[*********************100%***********************]  1 of 1 completed\n"
          ]
        },
        {
          "output_type": "stream",
          "name": "stdout",
          "text": [
            "\n",
            "Daily Return Stats for MOH:\n",
            "count    3772.000000\n",
            "mean        0.001085\n",
            "std         0.024945\n",
            "min        -0.310171\n",
            "25%        -0.010564\n",
            "50%         0.000818\n",
            "75%         0.012652\n",
            "max         0.263928\n",
            "Name: Daily Return, dtype: float64\n",
            "\n",
            "============================================================\n",
            "\n",
            "Processing TAP...\n"
          ]
        },
        {
          "output_type": "stream",
          "name": "stderr",
          "text": [
            "\r[*********************100%***********************]  1 of 1 completed\n"
          ]
        },
        {
          "output_type": "stream",
          "name": "stdout",
          "text": [
            "\n",
            "Daily Return Stats for TAP:\n",
            "count    3772.000000\n",
            "mean        0.000290\n",
            "std         0.016535\n",
            "min        -0.154018\n",
            "25%        -0.007773\n",
            "50%         0.000276\n",
            "75%         0.008492\n",
            "max         0.142346\n",
            "Name: Daily Return, dtype: float64\n",
            "\n",
            "============================================================\n",
            "\n",
            "Processing MDLZ...\n"
          ]
        },
        {
          "output_type": "stream",
          "name": "stderr",
          "text": [
            "\r[*********************100%***********************]  1 of 1 completed\n"
          ]
        },
        {
          "output_type": "stream",
          "name": "stdout",
          "text": [
            "\n",
            "Daily Return Stats for MDLZ:\n",
            "count    3772.000000\n",
            "mean        0.000483\n",
            "std         0.012568\n",
            "min        -0.114297\n",
            "25%        -0.005809\n",
            "50%         0.000541\n",
            "75%         0.006825\n",
            "max         0.112807\n",
            "Name: Daily Return, dtype: float64\n",
            "\n",
            "============================================================\n",
            "\n",
            "Processing MPWR...\n"
          ]
        },
        {
          "output_type": "stream",
          "name": "stderr",
          "text": [
            "\r[*********************100%***********************]  1 of 1 completed\n"
          ]
        },
        {
          "output_type": "stream",
          "name": "stdout",
          "text": [
            "\n",
            "Daily Return Stats for MPWR:\n",
            "count    3772.000000\n",
            "mean        0.001229\n",
            "std         0.025899\n",
            "min        -0.202802\n",
            "25%        -0.011807\n",
            "50%         0.001413\n",
            "75%         0.014229\n",
            "max         0.174608\n",
            "Name: Daily Return, dtype: float64\n",
            "\n",
            "============================================================\n",
            "\n",
            "Processing MNST...\n"
          ]
        },
        {
          "output_type": "stream",
          "name": "stderr",
          "text": [
            "\r[*********************100%***********************]  1 of 1 completed\n"
          ]
        },
        {
          "output_type": "stream",
          "name": "stdout",
          "text": [
            "\n",
            "Daily Return Stats for MNST:\n",
            "count    3772.000000\n",
            "mean        0.000923\n",
            "std         0.019464\n",
            "min        -0.144390\n",
            "25%        -0.007894\n",
            "50%         0.000669\n",
            "75%         0.009294\n",
            "max         0.304815\n",
            "Name: Daily Return, dtype: float64\n",
            "\n",
            "============================================================\n",
            "\n",
            "Processing MCO...\n"
          ]
        },
        {
          "output_type": "stream",
          "name": "stderr",
          "text": [
            "\r[*********************100%***********************]  1 of 1 completed\n"
          ]
        },
        {
          "output_type": "stream",
          "name": "stdout",
          "text": [
            "\n",
            "Daily Return Stats for MCO:\n",
            "count    3772.000000\n",
            "mean        0.000967\n",
            "std         0.017988\n",
            "min        -0.137266\n",
            "25%        -0.006952\n",
            "50%         0.001350\n",
            "75%         0.009494\n",
            "max         0.185717\n",
            "Name: Daily Return, dtype: float64\n",
            "\n",
            "============================================================\n",
            "\n",
            "Processing MS...\n"
          ]
        },
        {
          "output_type": "stream",
          "name": "stderr",
          "text": [
            "\r[*********************100%***********************]  1 of 1 completed\n"
          ]
        },
        {
          "output_type": "stream",
          "name": "stdout",
          "text": [
            "\n",
            "Daily Return Stats for MS:\n",
            "count    3772.000000\n",
            "mean        0.000684\n",
            "std         0.021373\n",
            "min        -0.156000\n",
            "25%        -0.009569\n",
            "50%         0.000479\n",
            "75%         0.011469\n",
            "max         0.197700\n",
            "Name: Daily Return, dtype: float64\n",
            "\n",
            "============================================================\n",
            "\n",
            "Processing MOS...\n"
          ]
        },
        {
          "output_type": "stream",
          "name": "stderr",
          "text": [
            "\r[*********************100%***********************]  1 of 1 completed\n"
          ]
        },
        {
          "output_type": "stream",
          "name": "stdout",
          "text": [
            "\n",
            "Daily Return Stats for MOS:\n",
            "count    3772.000000\n",
            "mean        0.000154\n",
            "std         0.025926\n",
            "min        -0.275078\n",
            "25%        -0.012524\n",
            "50%         0.000000\n",
            "75%         0.012998\n",
            "max         0.172611\n",
            "Name: Daily Return, dtype: float64\n",
            "\n",
            "============================================================\n",
            "\n",
            "Processing MSI...\n"
          ]
        },
        {
          "output_type": "stream",
          "name": "stderr",
          "text": [
            "\r[*********************100%***********************]  1 of 1 completed\n"
          ]
        },
        {
          "output_type": "stream",
          "name": "stdout",
          "text": [
            "\n",
            "Daily Return Stats for MSI:\n",
            "count    3772.000000\n",
            "mean        0.000891\n",
            "std         0.015563\n",
            "min        -0.124324\n",
            "25%        -0.006324\n",
            "50%         0.000954\n",
            "75%         0.008112\n",
            "max         0.141207\n",
            "Name: Daily Return, dtype: float64\n",
            "\n",
            "============================================================\n",
            "\n",
            "Processing MSCI...\n"
          ]
        },
        {
          "output_type": "stream",
          "name": "stderr",
          "text": [
            "\r[*********************100%***********************]  1 of 1 completed\n"
          ]
        },
        {
          "output_type": "stream",
          "name": "stdout",
          "text": [
            "\n",
            "Daily Return Stats for MSCI:\n",
            "count    3772.000000\n",
            "mean        0.000991\n",
            "std         0.019054\n",
            "min        -0.268286\n",
            "25%        -0.008116\n",
            "50%         0.001166\n",
            "75%         0.010554\n",
            "max         0.180350\n",
            "Name: Daily Return, dtype: float64\n",
            "\n",
            "============================================================\n",
            "\n",
            "Processing NDAQ...\n"
          ]
        },
        {
          "output_type": "stream",
          "name": "stderr",
          "text": [
            "\r[*********************100%***********************]  1 of 1 completed\n"
          ]
        },
        {
          "output_type": "stream",
          "name": "stdout",
          "text": [
            "\n",
            "Daily Return Stats for NDAQ:\n",
            "count    3772.000000\n",
            "mean        0.000827\n",
            "std         0.015832\n",
            "min        -0.128085\n",
            "25%        -0.006727\n",
            "50%         0.000983\n",
            "75%         0.008852\n",
            "max         0.139034\n",
            "Name: Daily Return, dtype: float64\n",
            "\n",
            "============================================================\n",
            "\n",
            "Processing NTAP...\n"
          ]
        },
        {
          "output_type": "stream",
          "name": "stderr",
          "text": [
            "\r[*********************100%***********************]  1 of 1 completed\n"
          ]
        },
        {
          "output_type": "stream",
          "name": "stdout",
          "text": [
            "\n",
            "Daily Return Stats for NTAP:\n",
            "count    3772.000000\n",
            "mean        0.000624\n",
            "std         0.021220\n",
            "min        -0.202218\n",
            "25%        -0.009634\n",
            "50%         0.000799\n",
            "75%         0.010701\n",
            "max         0.181665\n",
            "Name: Daily Return, dtype: float64\n",
            "\n",
            "============================================================\n",
            "\n",
            "Processing NFLX...\n"
          ]
        },
        {
          "output_type": "stream",
          "name": "stderr",
          "text": [
            "\r[*********************100%***********************]  1 of 1 completed\n"
          ]
        },
        {
          "output_type": "stream",
          "name": "stdout",
          "text": [
            "\n",
            "Daily Return Stats for NFLX:\n",
            "count    3772.000000\n",
            "mean        0.001763\n",
            "std         0.031491\n",
            "min        -0.351166\n",
            "25%        -0.012316\n",
            "50%         0.000467\n",
            "75%         0.015242\n",
            "max         0.422235\n",
            "Name: Daily Return, dtype: float64\n",
            "\n",
            "============================================================\n",
            "\n",
            "Processing NEM...\n"
          ]
        },
        {
          "output_type": "stream",
          "name": "stderr",
          "text": [
            "\r[*********************100%***********************]  1 of 1 completed\n"
          ]
        },
        {
          "output_type": "stream",
          "name": "stdout",
          "text": [
            "\n",
            "Daily Return Stats for NEM:\n",
            "count    3772.000000\n",
            "mean        0.000264\n",
            "std         0.022233\n",
            "min        -0.147038\n",
            "25%        -0.011324\n",
            "50%         0.000000\n",
            "75%         0.011961\n",
            "max         0.140183\n",
            "Name: Daily Return, dtype: float64\n",
            "\n",
            "============================================================\n",
            "\n",
            "Processing NWSA...\n"
          ]
        },
        {
          "output_type": "stream",
          "name": "stderr",
          "text": [
            "\r[*********************100%***********************]  1 of 1 completed\n"
          ]
        },
        {
          "output_type": "stream",
          "name": "stdout",
          "text": [
            "\n",
            "Daily Return Stats for NWSA:\n",
            "count    2902.000000\n",
            "mean        0.000400\n",
            "std         0.018280\n",
            "min        -0.134993\n",
            "25%        -0.008792\n",
            "50%         0.000399\n",
            "75%         0.009562\n",
            "max         0.135575\n",
            "Name: Daily Return, dtype: float64\n",
            "\n",
            "============================================================\n",
            "\n",
            "Processing NWS...\n"
          ]
        },
        {
          "output_type": "stream",
          "name": "stderr",
          "text": [
            "\r[*********************100%***********************]  1 of 1 completed\n"
          ]
        },
        {
          "output_type": "stream",
          "name": "stdout",
          "text": [
            "\n",
            "Daily Return Stats for NWS:\n",
            "count    2902.000000\n",
            "mean        0.000438\n",
            "std         0.018193\n",
            "min        -0.145522\n",
            "25%        -0.008814\n",
            "50%         0.000000\n",
            "75%         0.009259\n",
            "max         0.132930\n",
            "Name: Daily Return, dtype: float64\n",
            "\n",
            "============================================================\n",
            "\n",
            "Processing NEE...\n"
          ]
        },
        {
          "output_type": "stream",
          "name": "stderr",
          "text": [
            "\r[*********************100%***********************]  1 of 1 completed\n"
          ]
        },
        {
          "output_type": "stream",
          "name": "stdout",
          "text": [
            "\n",
            "Daily Return Stats for NEE:\n",
            "count    3772.000000\n",
            "mean        0.000658\n",
            "std         0.013822\n",
            "min        -0.134171\n",
            "25%        -0.006019\n",
            "50%         0.001073\n",
            "75%         0.007498\n",
            "max         0.136904\n",
            "Name: Daily Return, dtype: float64\n",
            "\n",
            "============================================================\n",
            "\n",
            "Processing NKE...\n"
          ]
        },
        {
          "output_type": "stream",
          "name": "stderr",
          "text": [
            "\r[*********************100%***********************]  1 of 1 completed\n"
          ]
        },
        {
          "output_type": "stream",
          "name": "stdout",
          "text": [
            "\n",
            "Daily Return Stats for NKE:\n",
            "count    3772.000000\n",
            "mean        0.000607\n",
            "std         0.017573\n",
            "min        -0.199809\n",
            "25%        -0.007631\n",
            "50%         0.000510\n",
            "75%         0.009258\n",
            "max         0.155315\n",
            "Name: Daily Return, dtype: float64\n",
            "\n",
            "============================================================\n",
            "\n",
            "Processing NI...\n"
          ]
        },
        {
          "output_type": "stream",
          "name": "stderr",
          "text": [
            "\r[*********************100%***********************]  1 of 1 completed\n"
          ]
        },
        {
          "output_type": "stream",
          "name": "stdout",
          "text": [
            "\n",
            "Daily Return Stats for NI:\n",
            "count    3772.000000\n",
            "mean        0.000710\n",
            "std         0.013806\n",
            "min        -0.168388\n",
            "25%        -0.006042\n",
            "50%         0.001032\n",
            "75%         0.008011\n",
            "max         0.173352\n",
            "Name: Daily Return, dtype: float64\n",
            "\n",
            "============================================================\n",
            "\n",
            "Processing NDSN...\n"
          ]
        },
        {
          "output_type": "stream",
          "name": "stderr",
          "text": [
            "\r[*********************100%***********************]  1 of 1 completed\n"
          ]
        },
        {
          "output_type": "stream",
          "name": "stdout",
          "text": [
            "\n",
            "Daily Return Stats for NDSN:\n",
            "count    3772.000000\n",
            "mean        0.000714\n",
            "std         0.018580\n",
            "min        -0.183091\n",
            "25%        -0.007609\n",
            "50%         0.000635\n",
            "75%         0.009245\n",
            "max         0.196964\n",
            "Name: Daily Return, dtype: float64\n",
            "\n",
            "============================================================\n",
            "\n",
            "Processing NSC...\n"
          ]
        },
        {
          "output_type": "stream",
          "name": "stderr",
          "text": [
            "\r[*********************100%***********************]  1 of 1 completed\n"
          ]
        },
        {
          "output_type": "stream",
          "name": "stdout",
          "text": [
            "\n",
            "Daily Return Stats for NSC:\n",
            "count    3772.000000\n",
            "mean        0.000633\n",
            "std         0.017084\n",
            "min        -0.139044\n",
            "25%        -0.008053\n",
            "50%         0.000992\n",
            "75%         0.009175\n",
            "max         0.179593\n",
            "Name: Daily Return, dtype: float64\n",
            "\n",
            "============================================================\n",
            "\n",
            "Processing NTRS...\n"
          ]
        },
        {
          "output_type": "stream",
          "name": "stderr",
          "text": [
            "\r[*********************100%***********************]  1 of 1 completed\n"
          ]
        },
        {
          "output_type": "stream",
          "name": "stdout",
          "text": [
            "\n",
            "Daily Return Stats for NTRS:\n",
            "count    3772.000000\n",
            "mean        0.000435\n",
            "std         0.017670\n",
            "min        -0.181854\n",
            "25%        -0.007887\n",
            "50%         0.000729\n",
            "75%         0.009117\n",
            "max         0.206377\n",
            "Name: Daily Return, dtype: float64\n",
            "\n",
            "============================================================\n",
            "\n",
            "Processing NOC...\n"
          ]
        },
        {
          "output_type": "stream",
          "name": "stderr",
          "text": [
            "\r[*********************100%***********************]  1 of 1 completed\n"
          ]
        },
        {
          "output_type": "stream",
          "name": "stdout",
          "text": [
            "\n",
            "Daily Return Stats for NOC:\n",
            "count    3772.000000\n",
            "mean        0.000771\n",
            "std         0.014415\n",
            "min        -0.101463\n",
            "25%        -0.006164\n",
            "50%         0.000998\n",
            "75%         0.008000\n",
            "max         0.130012\n",
            "Name: Daily Return, dtype: float64\n",
            "\n",
            "============================================================\n",
            "\n",
            "Processing NCLH...\n"
          ]
        },
        {
          "output_type": "stream",
          "name": "stderr",
          "text": [
            "\r[*********************100%***********************]  1 of 1 completed\n"
          ]
        },
        {
          "output_type": "stream",
          "name": "stdout",
          "text": [
            "\n",
            "Daily Return Stats for NCLH:\n",
            "count    3006.000000\n",
            "mean        0.000633\n",
            "std         0.035100\n",
            "min        -0.357951\n",
            "25%        -0.013119\n",
            "50%         0.000240\n",
            "75%         0.013736\n",
            "max         0.421923\n",
            "Name: Daily Return, dtype: float64\n",
            "\n",
            "============================================================\n",
            "\n",
            "Processing NRG...\n"
          ]
        },
        {
          "output_type": "stream",
          "name": "stderr",
          "text": [
            "\r[*********************100%***********************]  1 of 1 completed\n"
          ]
        },
        {
          "output_type": "stream",
          "name": "stdout",
          "text": [
            "\n",
            "Daily Return Stats for NRG:\n",
            "count    3772.000000\n",
            "mean        0.000679\n",
            "std         0.022244\n",
            "min        -0.179580\n",
            "25%        -0.010332\n",
            "50%         0.000952\n",
            "75%         0.011725\n",
            "max         0.293865\n",
            "Name: Daily Return, dtype: float64\n",
            "\n",
            "============================================================\n",
            "\n",
            "Processing NUE...\n"
          ]
        },
        {
          "output_type": "stream",
          "name": "stderr",
          "text": [
            "\r[*********************100%***********************]  1 of 1 completed\n"
          ]
        },
        {
          "output_type": "stream",
          "name": "stdout",
          "text": [
            "\n",
            "Daily Return Stats for NUE:\n",
            "count    3772.000000\n",
            "mean        0.000550\n",
            "std         0.020308\n",
            "min        -0.145090\n",
            "25%        -0.010298\n",
            "50%         0.000233\n",
            "75%         0.011218\n",
            "max         0.159947\n",
            "Name: Daily Return, dtype: float64\n",
            "\n",
            "============================================================\n",
            "\n",
            "Processing NVDA...\n"
          ]
        },
        {
          "output_type": "stream",
          "name": "stderr",
          "text": [
            "\r[*********************100%***********************]  1 of 1 completed\n"
          ]
        },
        {
          "output_type": "stream",
          "name": "stdout",
          "text": [
            "\n",
            "Daily Return Stats for NVDA:\n",
            "count    3772.000000\n",
            "mean        0.001940\n",
            "std         0.028624\n",
            "min        -0.187559\n",
            "25%        -0.012410\n",
            "50%         0.001668\n",
            "75%         0.015877\n",
            "max         0.298068\n",
            "Name: Daily Return, dtype: float64\n",
            "\n",
            "============================================================\n",
            "\n",
            "Processing NVR...\n"
          ]
        },
        {
          "output_type": "stream",
          "name": "stderr",
          "text": [
            "\r[*********************100%***********************]  1 of 1 completed\n"
          ]
        },
        {
          "output_type": "stream",
          "name": "stdout",
          "text": [
            "\n",
            "Daily Return Stats for NVR:\n",
            "count    3772.000000\n",
            "mean        0.000811\n",
            "std         0.018130\n",
            "min        -0.205490\n",
            "25%        -0.007953\n",
            "50%         0.000643\n",
            "75%         0.009582\n",
            "max         0.210800\n",
            "Name: Daily Return, dtype: float64\n",
            "\n",
            "============================================================\n",
            "\n",
            "Processing NXPI...\n"
          ]
        },
        {
          "output_type": "stream",
          "name": "stderr",
          "text": [
            "\r[*********************100%***********************]  1 of 1 completed\n"
          ]
        },
        {
          "output_type": "stream",
          "name": "stdout",
          "text": [
            "\n",
            "Daily Return Stats for NXPI:\n",
            "count    3623.000000\n",
            "mean        0.001124\n",
            "std         0.026603\n",
            "min        -0.197097\n",
            "25%        -0.012404\n",
            "50%         0.000707\n",
            "75%         0.013743\n",
            "max         0.183892\n",
            "Name: Daily Return, dtype: float64\n",
            "\n",
            "============================================================\n",
            "\n",
            "Processing ORLY...\n"
          ]
        },
        {
          "output_type": "stream",
          "name": "stderr",
          "text": [
            "\r[*********************100%***********************]  1 of 1 completed\n"
          ]
        },
        {
          "output_type": "stream",
          "name": "stdout",
          "text": [
            "\n",
            "Daily Return Stats for ORLY:\n",
            "count    3772.000000\n",
            "mean        0.001035\n",
            "std         0.015902\n",
            "min        -0.188921\n",
            "25%        -0.006745\n",
            "50%         0.001136\n",
            "75%         0.008575\n",
            "max         0.130584\n",
            "Name: Daily Return, dtype: float64\n",
            "\n",
            "============================================================\n",
            "\n",
            "Processing OXY...\n"
          ]
        },
        {
          "output_type": "stream",
          "name": "stderr",
          "text": [
            "\r[*********************100%***********************]  1 of 1 completed\n"
          ]
        },
        {
          "output_type": "stream",
          "name": "stdout",
          "text": [
            "\n",
            "Daily Return Stats for OXY:\n",
            "count    3772.000000\n",
            "mean        0.000350\n",
            "std         0.026519\n",
            "min        -0.520138\n",
            "25%        -0.010441\n",
            "50%         0.000132\n",
            "75%         0.010287\n",
            "max         0.336978\n",
            "Name: Daily Return, dtype: float64\n",
            "\n",
            "============================================================\n",
            "\n",
            "Processing ODFL...\n"
          ]
        },
        {
          "output_type": "stream",
          "name": "stderr",
          "text": [
            "\r[*********************100%***********************]  1 of 1 completed\n"
          ]
        },
        {
          "output_type": "stream",
          "name": "stdout",
          "text": [
            "\n",
            "Daily Return Stats for ODFL:\n",
            "count    3772.000000\n",
            "mean        0.001177\n",
            "std         0.019195\n",
            "min        -0.129729\n",
            "25%        -0.008823\n",
            "50%         0.001328\n",
            "75%         0.011464\n",
            "max         0.129403\n",
            "Name: Daily Return, dtype: float64\n",
            "\n",
            "============================================================\n",
            "\n",
            "Processing OMC...\n"
          ]
        },
        {
          "output_type": "stream",
          "name": "stderr",
          "text": [
            "\r[*********************100%***********************]  1 of 1 completed\n"
          ]
        },
        {
          "output_type": "stream",
          "name": "stdout",
          "text": [
            "\n",
            "Daily Return Stats for OMC:\n",
            "count    3772.000000\n",
            "mean        0.000449\n",
            "std         0.015811\n",
            "min        -0.103554\n",
            "25%        -0.007170\n",
            "50%         0.000744\n",
            "75%         0.008421\n",
            "max         0.147436\n",
            "Name: Daily Return, dtype: float64\n",
            "\n",
            "============================================================\n",
            "\n",
            "Processing ON...\n"
          ]
        },
        {
          "output_type": "stream",
          "name": "stderr",
          "text": [
            "\r[*********************100%***********************]  1 of 1 completed\n"
          ]
        },
        {
          "output_type": "stream",
          "name": "stdout",
          "text": [
            "\n",
            "Daily Return Stats for ON:\n",
            "count    3772.000000\n",
            "mean        0.000919\n",
            "std         0.028127\n",
            "min        -0.268398\n",
            "25%        -0.014003\n",
            "50%         0.001291\n",
            "75%         0.015726\n",
            "max         0.243787\n",
            "Name: Daily Return, dtype: float64\n",
            "\n",
            "============================================================\n",
            "\n",
            "Processing OKE...\n"
          ]
        },
        {
          "output_type": "stream",
          "name": "stderr",
          "text": [
            "\r[*********************100%***********************]  1 of 1 completed\n"
          ]
        },
        {
          "output_type": "stream",
          "name": "stdout",
          "text": [
            "\n",
            "Daily Return Stats for OKE:\n",
            "count    3772.000000\n",
            "mean        0.000924\n",
            "std         0.023504\n",
            "min        -0.377553\n",
            "25%        -0.007995\n",
            "50%         0.001140\n",
            "75%         0.010157\n",
            "max         0.333116\n",
            "Name: Daily Return, dtype: float64\n",
            "\n",
            "============================================================\n",
            "\n",
            "Processing ORCL...\n"
          ]
        },
        {
          "output_type": "stream",
          "name": "stderr",
          "text": [
            "\r[*********************100%***********************]  1 of 1 completed\n"
          ]
        },
        {
          "output_type": "stream",
          "name": "stdout",
          "text": [
            "\n",
            "Daily Return Stats for ORCL:\n",
            "count    3772.000000\n",
            "mean        0.000702\n",
            "std         0.016909\n",
            "min        -0.134954\n",
            "25%        -0.006888\n",
            "50%         0.000876\n",
            "75%         0.008818\n",
            "max         0.204271\n",
            "Name: Daily Return, dtype: float64\n",
            "\n",
            "============================================================\n",
            "\n",
            "Processing OTIS...\n"
          ]
        },
        {
          "output_type": "stream",
          "name": "stderr",
          "text": [
            "\r[*********************100%***********************]  1 of 1 completed\n"
          ]
        },
        {
          "output_type": "stream",
          "name": "stdout",
          "text": [
            "\n",
            "Daily Return Stats for OTIS:\n",
            "count    1203.000000\n",
            "mean        0.000782\n",
            "std         0.016214\n",
            "min        -0.111111\n",
            "25%        -0.007614\n",
            "50%         0.001015\n",
            "75%         0.008240\n",
            "max         0.114539\n",
            "Name: Daily Return, dtype: float64\n",
            "\n",
            "============================================================\n",
            "\n",
            "Processing PCAR...\n"
          ]
        },
        {
          "output_type": "stream",
          "name": "stderr",
          "text": [
            "\r[*********************100%***********************]  1 of 1 completed\n"
          ]
        },
        {
          "output_type": "stream",
          "name": "stdout",
          "text": [
            "\n",
            "Daily Return Stats for PCAR:\n",
            "count    3772.000000\n",
            "mean        0.000663\n",
            "std         0.016694\n",
            "min        -0.109664\n",
            "25%        -0.008127\n",
            "50%         0.000564\n",
            "75%         0.009211\n",
            "max         0.142056\n",
            "Name: Daily Return, dtype: float64\n",
            "\n",
            "============================================================\n",
            "\n",
            "Processing PKG...\n"
          ]
        },
        {
          "output_type": "stream",
          "name": "stderr",
          "text": [
            "\r[*********************100%***********************]  1 of 1 completed\n"
          ]
        },
        {
          "output_type": "stream",
          "name": "stdout",
          "text": [
            "\n",
            "Daily Return Stats for PKG:\n",
            "count    3772.000000\n",
            "mean        0.000867\n",
            "std         0.017269\n",
            "min        -0.129553\n",
            "25%        -0.007814\n",
            "50%         0.000971\n",
            "75%         0.009625\n",
            "max         0.157713\n",
            "Name: Daily Return, dtype: float64\n",
            "\n",
            "============================================================\n",
            "\n",
            "Processing PLTR...\n"
          ]
        },
        {
          "output_type": "stream",
          "name": "stderr",
          "text": [
            "\r[*********************100%***********************]  1 of 1 completed\n"
          ]
        },
        {
          "output_type": "stream",
          "name": "stdout",
          "text": [
            "\n",
            "Daily Return Stats for PLTR:\n",
            "count    1068.000000\n",
            "mean        0.002953\n",
            "std         0.045159\n",
            "min        -0.213080\n",
            "25%        -0.021327\n",
            "50%         0.000000\n",
            "75%         0.022549\n",
            "max         0.308014\n",
            "Name: Daily Return, dtype: float64\n",
            "\n",
            "============================================================\n",
            "\n",
            "Processing PANW...\n"
          ]
        },
        {
          "output_type": "stream",
          "name": "stderr",
          "text": [
            "\r[*********************100%***********************]  1 of 1 completed\n"
          ]
        },
        {
          "output_type": "stream",
          "name": "stdout",
          "text": [
            "\n",
            "Daily Return Stats for PANW:\n",
            "count    3130.000000\n",
            "mean        0.001282\n",
            "std         0.024784\n",
            "min        -0.284411\n",
            "25%        -0.010543\n",
            "50%         0.001431\n",
            "75%         0.013419\n",
            "max         0.186005\n",
            "Name: Daily Return, dtype: float64\n",
            "\n",
            "============================================================\n",
            "\n",
            "Processing PARA...\n"
          ]
        },
        {
          "output_type": "stream",
          "name": "stderr",
          "text": [
            "\r[*********************100%***********************]  1 of 1 completed\n"
          ]
        },
        {
          "output_type": "stream",
          "name": "stdout",
          "text": [
            "\n",
            "Daily Return Stats for PARA:\n",
            "count    3772.000000\n",
            "mean        0.000335\n",
            "std         0.026319\n",
            "min        -0.283530\n",
            "25%        -0.012094\n",
            "50%         0.000386\n",
            "75%         0.012231\n",
            "max         0.307624\n",
            "Name: Daily Return, dtype: float64\n",
            "\n",
            "============================================================\n",
            "\n",
            "Processing PH...\n"
          ]
        },
        {
          "output_type": "stream",
          "name": "stderr",
          "text": [
            "\r[*********************100%***********************]  1 of 1 completed\n"
          ]
        },
        {
          "output_type": "stream",
          "name": "stdout",
          "text": [
            "\n",
            "Daily Return Stats for PH:\n",
            "count    3772.000000\n",
            "mean        0.000900\n",
            "std         0.018914\n",
            "min        -0.166883\n",
            "25%        -0.008288\n",
            "50%         0.000804\n",
            "75%         0.010183\n",
            "max         0.184194\n",
            "Name: Daily Return, dtype: float64\n",
            "\n",
            "============================================================\n",
            "\n",
            "Processing PAYX...\n"
          ]
        },
        {
          "output_type": "stream",
          "name": "stderr",
          "text": [
            "\r[*********************100%***********************]  1 of 1 completed\n"
          ]
        },
        {
          "output_type": "stream",
          "name": "stdout",
          "text": [
            "\n",
            "Daily Return Stats for PAYX:\n",
            "count    3772.000000\n",
            "mean        0.000632\n",
            "std         0.014000\n",
            "min        -0.194802\n",
            "25%        -0.005706\n",
            "50%         0.000888\n",
            "75%         0.007574\n",
            "max         0.181981\n",
            "Name: Daily Return, dtype: float64\n",
            "\n",
            "============================================================\n",
            "\n",
            "Processing PAYC...\n"
          ]
        },
        {
          "output_type": "stream",
          "name": "stderr",
          "text": [
            "\r[*********************100%***********************]  1 of 1 completed\n"
          ]
        },
        {
          "output_type": "stream",
          "name": "stdout",
          "text": [
            "\n",
            "Daily Return Stats for PAYC:\n",
            "count    2695.000000\n",
            "mean        0.001405\n",
            "std         0.029338\n",
            "min        -0.384863\n",
            "25%        -0.011909\n",
            "50%         0.002405\n",
            "75%         0.015378\n",
            "max         0.213527\n",
            "Name: Daily Return, dtype: float64\n",
            "\n",
            "============================================================\n",
            "\n",
            "Processing PYPL...\n"
          ]
        },
        {
          "output_type": "stream",
          "name": "stderr",
          "text": [
            "\r[*********************100%***********************]  1 of 1 completed\n"
          ]
        },
        {
          "output_type": "stream",
          "name": "stdout",
          "text": [
            "\n",
            "Daily Return Stats for PYPL:\n",
            "count    2388.000000\n",
            "mean        0.000643\n",
            "std         0.023959\n",
            "min        -0.245904\n",
            "25%        -0.011293\n",
            "50%         0.001062\n",
            "75%         0.012698\n",
            "max         0.141098\n",
            "Name: Daily Return, dtype: float64\n",
            "\n",
            "============================================================\n",
            "\n",
            "Processing PNR...\n"
          ]
        },
        {
          "output_type": "stream",
          "name": "stderr",
          "text": [
            "\r[*********************100%***********************]  1 of 1 completed\n"
          ]
        },
        {
          "output_type": "stream",
          "name": "stdout",
          "text": [
            "\n",
            "Daily Return Stats for PNR:\n",
            "count    3772.000000\n",
            "mean        0.000632\n",
            "std         0.017937\n",
            "min        -0.157617\n",
            "25%        -0.008699\n",
            "50%         0.000808\n",
            "75%         0.010155\n",
            "max         0.182057\n",
            "Name: Daily Return, dtype: float64\n",
            "\n",
            "============================================================\n",
            "\n",
            "Processing PEP...\n"
          ]
        },
        {
          "output_type": "stream",
          "name": "stderr",
          "text": [
            "\r[*********************100%***********************]  1 of 1 completed\n"
          ]
        },
        {
          "output_type": "stream",
          "name": "stdout",
          "text": [
            "\n",
            "Daily Return Stats for PEP:\n",
            "count    3772.000000\n",
            "mean        0.000416\n",
            "std         0.010839\n",
            "min        -0.114283\n",
            "25%        -0.004772\n",
            "50%         0.000456\n",
            "75%         0.005798\n",
            "max         0.129366\n",
            "Name: Daily Return, dtype: float64\n",
            "\n",
            "============================================================\n",
            "\n",
            "Processing PFE...\n"
          ]
        },
        {
          "output_type": "stream",
          "name": "stderr",
          "text": [
            "\r[*********************100%***********************]  1 of 1 completed\n"
          ]
        },
        {
          "output_type": "stream",
          "name": "stdout",
          "text": [
            "\n",
            "Daily Return Stats for PFE:\n",
            "count    3772.000000\n",
            "mean        0.000351\n",
            "std         0.013722\n",
            "min        -0.077346\n",
            "25%        -0.006608\n",
            "50%         0.000000\n",
            "75%         0.007128\n",
            "max         0.108552\n",
            "Name: Daily Return, dtype: float64\n",
            "\n",
            "============================================================\n",
            "\n",
            "Processing PCG...\n"
          ]
        },
        {
          "output_type": "stream",
          "name": "stderr",
          "text": [
            "\r[*********************100%***********************]  1 of 1 completed\n"
          ]
        },
        {
          "output_type": "stream",
          "name": "stdout",
          "text": [
            "\n",
            "Daily Return Stats for PCG:\n",
            "count    3772.000000\n",
            "mean        0.000353\n",
            "std         0.030897\n",
            "min        -0.523593\n",
            "25%        -0.007861\n",
            "50%         0.000729\n",
            "75%         0.008391\n",
            "max         0.745932\n",
            "Name: Daily Return, dtype: float64\n",
            "\n",
            "============================================================\n",
            "\n",
            "Processing PM...\n"
          ]
        },
        {
          "output_type": "stream",
          "name": "stderr",
          "text": [
            "\r[*********************100%***********************]  1 of 1 completed\n"
          ]
        },
        {
          "output_type": "stream",
          "name": "stdout",
          "text": [
            "\n",
            "Daily Return Stats for PM:\n",
            "count    3772.000000\n",
            "mean        0.000516\n",
            "std         0.013446\n",
            "min        -0.155757\n",
            "25%        -0.006203\n",
            "50%         0.000680\n",
            "75%         0.007467\n",
            "max         0.104657\n",
            "Name: Daily Return, dtype: float64\n",
            "\n",
            "============================================================\n",
            "\n",
            "Processing PSX...\n"
          ]
        },
        {
          "output_type": "stream",
          "name": "stderr",
          "text": [
            "\r[*********************100%***********************]  1 of 1 completed\n"
          ]
        },
        {
          "output_type": "stream",
          "name": "stdout",
          "text": [
            "\n",
            "Daily Return Stats for PSX:\n",
            "count    3199.000000\n",
            "mean        0.000725\n",
            "std         0.021026\n",
            "min        -0.158658\n",
            "25%        -0.009285\n",
            "50%         0.000864\n",
            "75%         0.010931\n",
            "max         0.221722\n",
            "Name: Daily Return, dtype: float64\n",
            "\n",
            "============================================================\n",
            "\n",
            "Processing PNW...\n"
          ]
        },
        {
          "output_type": "stream",
          "name": "stderr",
          "text": [
            "\r[*********************100%***********************]  1 of 1 completed\n"
          ]
        },
        {
          "output_type": "stream",
          "name": "stdout",
          "text": [
            "\n",
            "Daily Return Stats for PNW:\n",
            "count    3772.000000\n",
            "mean        0.000471\n",
            "std         0.013168\n",
            "min        -0.165012\n",
            "25%        -0.006004\n",
            "50%         0.000668\n",
            "75%         0.007540\n",
            "max         0.129232\n",
            "Name: Daily Return, dtype: float64\n",
            "\n",
            "============================================================\n",
            "\n",
            "Processing PNC...\n"
          ]
        },
        {
          "output_type": "stream",
          "name": "stderr",
          "text": [
            "\r[*********************100%***********************]  1 of 1 completed\n"
          ]
        },
        {
          "output_type": "stream",
          "name": "stdout",
          "text": [
            "\n",
            "Daily Return Stats for PNC:\n",
            "count    3772.000000\n",
            "mean        0.000606\n",
            "std         0.017800\n",
            "min        -0.159002\n",
            "25%        -0.007765\n",
            "50%         0.000639\n",
            "75%         0.009494\n",
            "max         0.129434\n",
            "Name: Daily Return, dtype: float64\n",
            "\n",
            "============================================================\n",
            "\n",
            "Processing POOL...\n"
          ]
        },
        {
          "output_type": "stream",
          "name": "stderr",
          "text": [
            "\r[*********************100%***********************]  1 of 1 completed\n"
          ]
        },
        {
          "output_type": "stream",
          "name": "stdout",
          "text": [
            "\n",
            "Daily Return Stats for POOL:\n",
            "count    3772.000000\n",
            "mean        0.000982\n",
            "std         0.018331\n",
            "min        -0.167896\n",
            "25%        -0.007955\n",
            "50%         0.000815\n",
            "75%         0.010234\n",
            "max         0.129527\n",
            "Name: Daily Return, dtype: float64\n",
            "\n",
            "============================================================\n",
            "\n",
            "Processing PPG...\n"
          ]
        },
        {
          "output_type": "stream",
          "name": "stderr",
          "text": [
            "\r[*********************100%***********************]  1 of 1 completed\n"
          ]
        },
        {
          "output_type": "stream",
          "name": "stdout",
          "text": [
            "\n",
            "Daily Return Stats for PPG:\n",
            "count    3772.000000\n",
            "mean        0.000565\n",
            "std         0.015987\n",
            "min        -0.124960\n",
            "25%        -0.007351\n",
            "50%         0.000878\n",
            "75%         0.008781\n",
            "max         0.131724\n",
            "Name: Daily Return, dtype: float64\n",
            "\n",
            "============================================================\n",
            "\n",
            "Processing PPL...\n"
          ]
        },
        {
          "output_type": "stream",
          "name": "stderr",
          "text": [
            "\r[*********************100%***********************]  1 of 1 completed\n"
          ]
        },
        {
          "output_type": "stream",
          "name": "stdout",
          "text": [
            "\n",
            "Daily Return Stats for PPL:\n",
            "count    3772.000000\n",
            "mean        0.000293\n",
            "std         0.013238\n",
            "min        -0.137126\n",
            "25%        -0.006074\n",
            "50%         0.000645\n",
            "75%         0.007241\n",
            "max         0.142550\n",
            "Name: Daily Return, dtype: float64\n",
            "\n",
            "============================================================\n",
            "\n",
            "Processing PFG...\n"
          ]
        },
        {
          "output_type": "stream",
          "name": "stderr",
          "text": [
            "\r[*********************100%***********************]  1 of 1 completed\n"
          ]
        },
        {
          "output_type": "stream",
          "name": "stdout",
          "text": [
            "\n",
            "Daily Return Stats for PFG:\n",
            "count    3772.000000\n",
            "mean        0.000632\n",
            "std         0.020123\n",
            "min        -0.175527\n",
            "25%        -0.008582\n",
            "50%         0.000907\n",
            "75%         0.010724\n",
            "max         0.225580\n",
            "Name: Daily Return, dtype: float64\n",
            "\n",
            "============================================================\n",
            "\n",
            "Processing PG...\n"
          ]
        },
        {
          "output_type": "stream",
          "name": "stderr",
          "text": [
            "\r[*********************100%***********************]  1 of 1 completed\n"
          ]
        },
        {
          "output_type": "stream",
          "name": "stdout",
          "text": [
            "\n",
            "Daily Return Stats for PG:\n",
            "count    3772.000000\n",
            "mean        0.000441\n",
            "std         0.010767\n",
            "min        -0.087373\n",
            "25%        -0.004716\n",
            "50%         0.000553\n",
            "75%         0.005853\n",
            "max         0.120090\n",
            "Name: Daily Return, dtype: float64\n",
            "\n",
            "============================================================\n",
            "\n",
            "Processing PGR...\n"
          ]
        },
        {
          "output_type": "stream",
          "name": "stderr",
          "text": [
            "\r[*********************100%***********************]  1 of 1 completed\n"
          ]
        },
        {
          "output_type": "stream",
          "name": "stdout",
          "text": [
            "\n",
            "Daily Return Stats for PGR:\n",
            "count    3772.000000\n",
            "mean        0.000911\n",
            "std         0.014173\n",
            "min        -0.131179\n",
            "25%        -0.006400\n",
            "50%         0.000834\n",
            "75%         0.008189\n",
            "max         0.121373\n",
            "Name: Daily Return, dtype: float64\n",
            "\n",
            "============================================================\n",
            "\n",
            "Processing PLD...\n"
          ]
        },
        {
          "output_type": "stream",
          "name": "stderr",
          "text": [
            "\r[*********************100%***********************]  1 of 1 completed\n"
          ]
        },
        {
          "output_type": "stream",
          "name": "stdout",
          "text": [
            "\n",
            "Daily Return Stats for PLD:\n",
            "count    3772.000000\n",
            "mean        0.000648\n",
            "std         0.017170\n",
            "min        -0.172706\n",
            "25%        -0.007624\n",
            "50%         0.001123\n",
            "75%         0.009536\n",
            "max         0.118103\n",
            "Name: Daily Return, dtype: float64\n",
            "\n",
            "============================================================\n",
            "\n",
            "Processing PRU...\n"
          ]
        },
        {
          "output_type": "stream",
          "name": "stderr",
          "text": [
            "\r[*********************100%***********************]  1 of 1 completed\n"
          ]
        },
        {
          "output_type": "stream",
          "name": "stdout",
          "text": [
            "\n",
            "Daily Return Stats for PRU:\n",
            "count    3772.000000\n",
            "mean        0.000567\n",
            "std         0.019937\n",
            "min        -0.201139\n",
            "25%        -0.008560\n",
            "50%         0.000762\n",
            "75%         0.010941\n",
            "max         0.210352\n",
            "Name: Daily Return, dtype: float64\n",
            "\n",
            "============================================================\n",
            "\n",
            "Processing PEG...\n"
          ]
        },
        {
          "output_type": "stream",
          "name": "stderr",
          "text": [
            "\r[*********************100%***********************]  1 of 1 completed\n"
          ]
        },
        {
          "output_type": "stream",
          "name": "stdout",
          "text": [
            "\n",
            "Daily Return Stats for PEG:\n",
            "count    3772.000000\n",
            "mean        0.000481\n",
            "std         0.013111\n",
            "min        -0.111885\n",
            "25%        -0.006415\n",
            "50%         0.000856\n",
            "75%         0.007923\n",
            "max         0.106348\n",
            "Name: Daily Return, dtype: float64\n",
            "\n",
            "============================================================\n",
            "\n",
            "Processing PTC...\n"
          ]
        },
        {
          "output_type": "stream",
          "name": "stderr",
          "text": [
            "\r[*********************100%***********************]  1 of 1 completed\n"
          ]
        },
        {
          "output_type": "stream",
          "name": "stdout",
          "text": [
            "\n",
            "Daily Return Stats for PTC:\n",
            "count    3772.000000\n",
            "mean        0.000851\n",
            "std         0.020671\n",
            "min        -0.211029\n",
            "25%        -0.008737\n",
            "50%         0.001003\n",
            "75%         0.011113\n",
            "max         0.188688\n",
            "Name: Daily Return, dtype: float64\n",
            "\n",
            "============================================================\n",
            "\n",
            "Processing PSA...\n"
          ]
        },
        {
          "output_type": "stream",
          "name": "stderr",
          "text": [
            "\r[*********************100%***********************]  1 of 1 completed\n"
          ]
        },
        {
          "output_type": "stream",
          "name": "stdout",
          "text": [
            "\n",
            "Daily Return Stats for PSA:\n",
            "count    3772.000000\n",
            "mean        0.000591\n",
            "std         0.014055\n",
            "min        -0.115312\n",
            "25%        -0.006785\n",
            "50%         0.000879\n",
            "75%         0.008110\n",
            "max         0.104831\n",
            "Name: Daily Return, dtype: float64\n",
            "\n",
            "============================================================\n",
            "\n",
            "Processing PHM...\n"
          ]
        },
        {
          "output_type": "stream",
          "name": "stderr",
          "text": [
            "\r[*********************100%***********************]  1 of 1 completed\n"
          ]
        },
        {
          "output_type": "stream",
          "name": "stdout",
          "text": [
            "\n",
            "Daily Return Stats for PHM:\n",
            "count    3772.000000\n",
            "mean        0.000973\n",
            "std         0.024761\n",
            "min        -0.211268\n",
            "25%        -0.011611\n",
            "50%         0.000954\n",
            "75%         0.013325\n",
            "max         0.244645\n",
            "Name: Daily Return, dtype: float64\n",
            "\n",
            "============================================================\n",
            "\n",
            "Processing PWR...\n"
          ]
        },
        {
          "output_type": "stream",
          "name": "stderr",
          "text": [
            "\r[*********************100%***********************]  1 of 1 completed\n"
          ]
        },
        {
          "output_type": "stream",
          "name": "stdout",
          "text": [
            "\n",
            "Daily Return Stats for PWR:\n",
            "count    3772.000000\n",
            "mean        0.000935\n",
            "std         0.020441\n",
            "min        -0.285006\n",
            "25%        -0.008686\n",
            "50%         0.001051\n",
            "75%         0.011263\n",
            "max         0.159664\n",
            "Name: Daily Return, dtype: float64\n",
            "\n",
            "============================================================\n",
            "\n",
            "Processing QCOM...\n"
          ]
        },
        {
          "output_type": "stream",
          "name": "stderr",
          "text": [
            "\r[*********************100%***********************]  1 of 1 completed\n"
          ]
        },
        {
          "output_type": "stream",
          "name": "stdout",
          "text": [
            "\n",
            "Daily Return Stats for QCOM:\n",
            "count    3772.000000\n",
            "mean        0.000639\n",
            "std         0.021053\n",
            "min        -0.152506\n",
            "25%        -0.008994\n",
            "50%         0.000613\n",
            "75%         0.010232\n",
            "max         0.232074\n",
            "Name: Daily Return, dtype: float64\n",
            "\n",
            "============================================================\n",
            "\n",
            "Processing DGX...\n"
          ]
        },
        {
          "output_type": "stream",
          "name": "stderr",
          "text": [
            "\r[*********************100%***********************]  1 of 1 completed\n"
          ]
        },
        {
          "output_type": "stream",
          "name": "stdout",
          "text": [
            "\n",
            "Daily Return Stats for DGX:\n",
            "count    3772.000000\n",
            "mean        0.000415\n",
            "std         0.014400\n",
            "min        -0.107264\n",
            "25%        -0.006284\n",
            "50%         0.000531\n",
            "75%         0.007394\n",
            "max         0.125917\n",
            "Name: Daily Return, dtype: float64\n",
            "\n",
            "============================================================\n",
            "\n",
            "Processing RL...\n"
          ]
        },
        {
          "output_type": "stream",
          "name": "stderr",
          "text": [
            "\r[*********************100%***********************]  1 of 1 completed\n"
          ]
        },
        {
          "output_type": "stream",
          "name": "stdout",
          "text": [
            "\n",
            "Daily Return Stats for RL:\n",
            "count    3772.000000\n",
            "mean        0.000593\n",
            "std         0.022342\n",
            "min        -0.221617\n",
            "25%        -0.010050\n",
            "50%         0.000700\n",
            "75%         0.011326\n",
            "max         0.198006\n",
            "Name: Daily Return, dtype: float64\n",
            "\n",
            "============================================================\n",
            "\n",
            "Processing RJF...\n"
          ]
        },
        {
          "output_type": "stream",
          "name": "stderr",
          "text": [
            "\r[*********************100%***********************]  1 of 1 completed\n"
          ]
        },
        {
          "output_type": "stream",
          "name": "stdout",
          "text": [
            "\n",
            "Daily Return Stats for RJF:\n",
            "count    3772.000000\n",
            "mean        0.000841\n",
            "std         0.019167\n",
            "min        -0.115897\n",
            "25%        -0.008501\n",
            "50%         0.001014\n",
            "75%         0.010753\n",
            "max         0.189443\n",
            "Name: Daily Return, dtype: float64\n",
            "\n",
            "============================================================\n",
            "\n",
            "Processing RTX...\n"
          ]
        },
        {
          "output_type": "stream",
          "name": "stderr",
          "text": [
            "\r[*********************100%***********************]  1 of 1 completed\n"
          ]
        },
        {
          "output_type": "stream",
          "name": "stdout",
          "text": [
            "\n",
            "Daily Return Stats for RTX:\n",
            "count    3772.000000\n",
            "mean        0.000466\n",
            "std         0.015627\n",
            "min        -0.144765\n",
            "25%        -0.006226\n",
            "50%         0.000509\n",
            "75%         0.007285\n",
            "max         0.157572\n",
            "Name: Daily Return, dtype: float64\n",
            "\n",
            "============================================================\n",
            "\n",
            "Processing O...\n"
          ]
        },
        {
          "output_type": "stream",
          "name": "stderr",
          "text": [
            "\r[*********************100%***********************]  1 of 1 completed\n"
          ]
        },
        {
          "output_type": "stream",
          "name": "stdout",
          "text": [
            "\n",
            "Daily Return Stats for O:\n",
            "count    3772.000000\n",
            "mean        0.000502\n",
            "std         0.015366\n",
            "min        -0.249304\n",
            "25%        -0.006568\n",
            "50%         0.001075\n",
            "75%         0.008043\n",
            "max         0.169128\n",
            "Name: Daily Return, dtype: float64\n",
            "\n",
            "============================================================\n",
            "\n",
            "Processing REG...\n"
          ]
        },
        {
          "output_type": "stream",
          "name": "stderr",
          "text": [
            "\r[*********************100%***********************]  1 of 1 completed\n"
          ]
        },
        {
          "output_type": "stream",
          "name": "stdout",
          "text": [
            "\n",
            "Daily Return Stats for REG:\n",
            "count    3772.000000\n",
            "mean        0.000508\n",
            "std         0.017764\n",
            "min        -0.207424\n",
            "25%        -0.007485\n",
            "50%         0.000704\n",
            "75%         0.008696\n",
            "max         0.349780\n",
            "Name: Daily Return, dtype: float64\n",
            "\n",
            "============================================================\n",
            "\n",
            "Processing REGN...\n"
          ]
        },
        {
          "output_type": "stream",
          "name": "stderr",
          "text": [
            "\r[*********************100%***********************]  1 of 1 completed\n"
          ]
        },
        {
          "output_type": "stream",
          "name": "stdout",
          "text": [
            "\n",
            "Daily Return Stats for REGN:\n",
            "count    3772.000000\n",
            "mean        0.001171\n",
            "std         0.023902\n",
            "min        -0.210029\n",
            "25%        -0.011919\n",
            "50%         0.000395\n",
            "75%         0.011981\n",
            "max         0.285961\n",
            "Name: Daily Return, dtype: float64\n",
            "\n",
            "============================================================\n",
            "\n",
            "Processing RF...\n"
          ]
        },
        {
          "output_type": "stream",
          "name": "stderr",
          "text": [
            "\r[*********************100%***********************]  1 of 1 completed\n"
          ]
        },
        {
          "output_type": "stream",
          "name": "stdout",
          "text": [
            "\n",
            "Daily Return Stats for RF:\n",
            "count    3772.000000\n",
            "mean        0.000769\n",
            "std         0.023457\n",
            "min        -0.193374\n",
            "25%        -0.010702\n",
            "50%         0.000974\n",
            "75%         0.012747\n",
            "max         0.166283\n",
            "Name: Daily Return, dtype: float64\n",
            "\n",
            "============================================================\n",
            "\n",
            "Processing RSG...\n"
          ]
        },
        {
          "output_type": "stream",
          "name": "stderr",
          "text": [
            "\r[*********************100%***********************]  1 of 1 completed\n"
          ]
        },
        {
          "output_type": "stream",
          "name": "stdout",
          "text": [
            "\n",
            "Daily Return Stats for RSG:\n",
            "count    3772.000000\n",
            "mean        0.000675\n",
            "std         0.011922\n",
            "min        -0.132627\n",
            "25%        -0.004821\n",
            "50%         0.000909\n",
            "75%         0.006855\n",
            "max         0.078931\n",
            "Name: Daily Return, dtype: float64\n",
            "\n",
            "============================================================\n",
            "\n",
            "Processing RMD...\n"
          ]
        },
        {
          "output_type": "stream",
          "name": "stderr",
          "text": [
            "\r[*********************100%***********************]  1 of 1 completed\n"
          ]
        },
        {
          "output_type": "stream",
          "name": "stdout",
          "text": [
            "\n",
            "Daily Return Stats for RMD:\n",
            "count    3772.000000\n",
            "mean        0.000803\n",
            "std         0.019035\n",
            "min        -0.193862\n",
            "25%        -0.007848\n",
            "50%         0.001295\n",
            "75%         0.009169\n",
            "max         0.188856\n",
            "Name: Daily Return, dtype: float64\n",
            "\n",
            "============================================================\n",
            "\n",
            "Processing RVTY...\n"
          ]
        },
        {
          "output_type": "stream",
          "name": "stderr",
          "text": [
            "\r[*********************100%***********************]  1 of 1 completed\n"
          ]
        },
        {
          "output_type": "stream",
          "name": "stdout",
          "text": [
            "\n",
            "Daily Return Stats for RVTY:\n",
            "count    3772.000000\n",
            "mean        0.000622\n",
            "std         0.017443\n",
            "min        -0.161337\n",
            "25%        -0.007891\n",
            "50%         0.000762\n",
            "75%         0.009709\n",
            "max         0.111721\n",
            "Name: Daily Return, dtype: float64\n",
            "\n",
            "============================================================\n",
            "\n",
            "Processing ROK...\n"
          ]
        },
        {
          "output_type": "stream",
          "name": "stderr",
          "text": [
            "\r[*********************100%***********************]  1 of 1 completed\n"
          ]
        },
        {
          "output_type": "stream",
          "name": "stdout",
          "text": [
            "\n",
            "Daily Return Stats for ROK:\n",
            "count    3772.000000\n",
            "mean        0.000739\n",
            "std         0.019063\n",
            "min        -0.175575\n",
            "25%        -0.008623\n",
            "50%         0.000708\n",
            "75%         0.010078\n",
            "max         0.175837\n",
            "Name: Daily Return, dtype: float64\n",
            "\n",
            "============================================================\n",
            "\n",
            "Processing ROL...\n"
          ]
        },
        {
          "output_type": "stream",
          "name": "stderr",
          "text": [
            "\r[*********************100%***********************]  1 of 1 completed\n"
          ]
        },
        {
          "output_type": "stream",
          "name": "stdout",
          "text": [
            "\n",
            "Daily Return Stats for ROL:\n",
            "count    3772.000000\n",
            "mean        0.000836\n",
            "std         0.015446\n",
            "min        -0.108060\n",
            "25%        -0.006518\n",
            "50%         0.000902\n",
            "75%         0.008904\n",
            "max         0.100445\n",
            "Name: Daily Return, dtype: float64\n",
            "\n",
            "============================================================\n",
            "\n",
            "Processing ROP...\n"
          ]
        },
        {
          "output_type": "stream",
          "name": "stderr",
          "text": [
            "\r[*********************100%***********************]  1 of 1 completed\n"
          ]
        },
        {
          "output_type": "stream",
          "name": "stdout",
          "text": [
            "\n",
            "Daily Return Stats for ROP:\n",
            "count    3772.000000\n",
            "mean        0.000733\n",
            "std         0.014225\n",
            "min        -0.101890\n",
            "25%        -0.006144\n",
            "50%         0.001081\n",
            "75%         0.007889\n",
            "max         0.112387\n",
            "Name: Daily Return, dtype: float64\n",
            "\n",
            "============================================================\n",
            "\n",
            "Processing ROST...\n"
          ]
        },
        {
          "output_type": "stream",
          "name": "stderr",
          "text": [
            "\r[*********************100%***********************]  1 of 1 completed\n"
          ]
        },
        {
          "output_type": "stream",
          "name": "stdout",
          "text": [
            "\n",
            "Daily Return Stats for ROST:\n",
            "count    3772.000000\n",
            "mean        0.000911\n",
            "std         0.018271\n",
            "min        -0.224703\n",
            "25%        -0.007611\n",
            "50%         0.000753\n",
            "75%         0.009321\n",
            "max         0.166288\n",
            "Name: Daily Return, dtype: float64\n",
            "\n",
            "============================================================\n",
            "\n",
            "Processing RCL...\n"
          ]
        },
        {
          "output_type": "stream",
          "name": "stderr",
          "text": [
            "\r[*********************100%***********************]  1 of 1 completed\n"
          ]
        },
        {
          "output_type": "stream",
          "name": "stdout",
          "text": [
            "\n",
            "Daily Return Stats for RCL:\n",
            "count    3772.000000\n",
            "mean        0.001091\n",
            "std         0.030289\n",
            "min        -0.317782\n",
            "25%        -0.011719\n",
            "50%         0.000428\n",
            "75%         0.013655\n",
            "max         0.287861\n",
            "Name: Daily Return, dtype: float64\n",
            "\n",
            "============================================================\n",
            "\n",
            "Processing SPGI...\n"
          ]
        },
        {
          "output_type": "stream",
          "name": "stderr",
          "text": [
            "\r[*********************100%***********************]  1 of 1 completed\n"
          ]
        },
        {
          "output_type": "stream",
          "name": "stdout",
          "text": [
            "\n",
            "Daily Return Stats for SPGI:\n",
            "count    3772.000000\n",
            "mean        0.000911\n",
            "std         0.015935\n",
            "min        -0.151893\n",
            "25%        -0.006572\n",
            "50%         0.001269\n",
            "75%         0.008470\n",
            "max         0.138558\n",
            "Name: Daily Return, dtype: float64\n",
            "\n",
            "============================================================\n",
            "\n",
            "Processing CRM...\n"
          ]
        },
        {
          "output_type": "stream",
          "name": "stderr",
          "text": [
            "\r[*********************100%***********************]  1 of 1 completed\n"
          ]
        },
        {
          "output_type": "stream",
          "name": "stdout",
          "text": [
            "\n",
            "Daily Return Stats for CRM:\n",
            "count    3772.000000\n",
            "mean        0.001026\n",
            "std         0.022830\n",
            "min        -0.197371\n",
            "25%        -0.009635\n",
            "50%         0.000860\n",
            "75%         0.011899\n",
            "max         0.260449\n",
            "Name: Daily Return, dtype: float64\n",
            "\n",
            "============================================================\n",
            "\n",
            "Processing SBAC...\n"
          ]
        },
        {
          "output_type": "stream",
          "name": "stderr",
          "text": [
            "\r[*********************100%***********************]  1 of 1 completed\n"
          ]
        },
        {
          "output_type": "stream",
          "name": "stdout",
          "text": [
            "\n",
            "Daily Return Stats for SBAC:\n",
            "count    3772.000000\n",
            "mean        0.000608\n",
            "std         0.015974\n",
            "min        -0.089326\n",
            "25%        -0.007182\n",
            "50%         0.000829\n",
            "75%         0.008619\n",
            "max         0.124292\n",
            "Name: Daily Return, dtype: float64\n",
            "\n",
            "============================================================\n",
            "\n",
            "Processing SLB...\n"
          ]
        },
        {
          "output_type": "stream",
          "name": "stderr",
          "text": [
            "\r[*********************100%***********************]  1 of 1 completed\n"
          ]
        },
        {
          "output_type": "stream",
          "name": "stdout",
          "text": [
            "\n",
            "Daily Return Stats for SLB:\n",
            "count    3772.000000\n",
            "mean        0.000204\n",
            "std         0.022883\n",
            "min        -0.274214\n",
            "25%        -0.010901\n",
            "50%        -0.000108\n",
            "75%         0.010996\n",
            "max         0.199080\n",
            "Name: Daily Return, dtype: float64\n",
            "\n",
            "============================================================\n",
            "\n",
            "Processing STX...\n"
          ]
        },
        {
          "output_type": "stream",
          "name": "stderr",
          "text": [
            "\r[*********************100%***********************]  1 of 1 completed\n"
          ]
        },
        {
          "output_type": "stream",
          "name": "stdout",
          "text": [
            "\n",
            "Daily Return Stats for STX:\n",
            "count    3772.000000\n",
            "mean        0.000903\n",
            "std         0.025690\n",
            "min        -0.201002\n",
            "25%        -0.011496\n",
            "50%         0.001460\n",
            "75%         0.013616\n",
            "max         0.278607\n",
            "Name: Daily Return, dtype: float64\n",
            "\n",
            "============================================================\n",
            "\n",
            "Processing SRE...\n"
          ]
        },
        {
          "output_type": "stream",
          "name": "stderr",
          "text": [
            "\r[*********************100%***********************]  1 of 1 completed\n"
          ]
        },
        {
          "output_type": "stream",
          "name": "stdout",
          "text": [
            "\n",
            "Daily Return Stats for SRE:\n",
            "count    3772.000000\n",
            "mean        0.000520\n",
            "std         0.013631\n",
            "min        -0.171156\n",
            "25%        -0.006118\n",
            "50%         0.000756\n",
            "75%         0.007447\n",
            "max         0.155378\n",
            "Name: Daily Return, dtype: float64\n",
            "\n",
            "============================================================\n",
            "\n",
            "Processing NOW...\n"
          ]
        },
        {
          "output_type": "stream",
          "name": "stderr",
          "text": [
            "\r[*********************100%***********************]  1 of 1 completed\n"
          ]
        },
        {
          "output_type": "stream",
          "name": "stdout",
          "text": [
            "\n",
            "Daily Return Stats for NOW:\n",
            "count    3144.000000\n",
            "mean        0.001527\n",
            "std         0.025577\n",
            "min        -0.156561\n",
            "25%        -0.011138\n",
            "50%         0.001916\n",
            "75%         0.014378\n",
            "max         0.153376\n",
            "Name: Daily Return, dtype: float64\n",
            "\n",
            "============================================================\n",
            "\n",
            "Processing SHW...\n"
          ]
        },
        {
          "output_type": "stream",
          "name": "stderr",
          "text": [
            "\r[*********************100%***********************]  1 of 1 completed\n"
          ]
        },
        {
          "output_type": "stream",
          "name": "stdout",
          "text": [
            "\n",
            "Daily Return Stats for SHW:\n",
            "count    3772.000000\n",
            "mean        0.000909\n",
            "std         0.015595\n",
            "min        -0.186770\n",
            "25%        -0.006945\n",
            "50%         0.000869\n",
            "75%         0.008590\n",
            "max         0.144492\n",
            "Name: Daily Return, dtype: float64\n",
            "\n",
            "============================================================\n",
            "\n",
            "Processing SPG...\n"
          ]
        },
        {
          "output_type": "stream",
          "name": "stderr",
          "text": [
            "\r[*********************100%***********************]  1 of 1 completed\n"
          ]
        },
        {
          "output_type": "stream",
          "name": "stdout",
          "text": [
            "\n",
            "Daily Return Stats for SPG:\n",
            "count    3772.000000\n",
            "mean        0.000603\n",
            "std         0.020548\n",
            "min        -0.267127\n",
            "25%        -0.007593\n",
            "50%         0.000983\n",
            "75%         0.009072\n",
            "max         0.278694\n",
            "Name: Daily Return, dtype: float64\n",
            "\n",
            "============================================================\n",
            "\n",
            "Processing SWKS...\n"
          ]
        },
        {
          "output_type": "stream",
          "name": "stderr",
          "text": [
            "\r[*********************100%***********************]  1 of 1 completed\n"
          ]
        },
        {
          "output_type": "stream",
          "name": "stdout",
          "text": [
            "\n",
            "Daily Return Stats for SWKS:\n",
            "count    3772.000000\n",
            "mean        0.000849\n",
            "std         0.025558\n",
            "min        -0.184871\n",
            "25%        -0.012546\n",
            "50%         0.001132\n",
            "75%         0.014426\n",
            "max         0.189594\n",
            "Name: Daily Return, dtype: float64\n",
            "\n",
            "============================================================\n",
            "\n",
            "Processing SJM...\n"
          ]
        },
        {
          "output_type": "stream",
          "name": "stderr",
          "text": [
            "\r[*********************100%***********************]  1 of 1 completed\n"
          ]
        },
        {
          "output_type": "stream",
          "name": "stdout",
          "text": [
            "\n",
            "Daily Return Stats for SJM:\n",
            "count    3772.000000\n",
            "mean        0.000349\n",
            "std         0.013364\n",
            "min        -0.104944\n",
            "25%        -0.006257\n",
            "50%         0.000633\n",
            "75%         0.007223\n",
            "max         0.103769\n",
            "Name: Daily Return, dtype: float64\n",
            "\n",
            "============================================================\n",
            "\n",
            "Processing SW...\n"
          ]
        },
        {
          "output_type": "stream",
          "name": "stderr",
          "text": [
            "\r[*********************100%***********************]  1 of 1 completed\n"
          ]
        },
        {
          "output_type": "stream",
          "name": "stdout",
          "text": [
            "\n",
            "Daily Return Stats for SW:\n",
            "count    122.000000\n",
            "mean       0.001596\n",
            "std        0.023435\n",
            "min       -0.043402\n",
            "25%       -0.013066\n",
            "50%        0.000250\n",
            "75%        0.012680\n",
            "max        0.119884\n",
            "Name: Daily Return, dtype: float64\n",
            "\n",
            "============================================================\n",
            "\n",
            "Processing SNA...\n"
          ]
        },
        {
          "output_type": "stream",
          "name": "stderr",
          "text": [
            "\r[*********************100%***********************]  1 of 1 completed\n"
          ]
        },
        {
          "output_type": "stream",
          "name": "stdout",
          "text": [
            "\n",
            "Daily Return Stats for SNA:\n",
            "count    3772.000000\n",
            "mean        0.000770\n",
            "std         0.016365\n",
            "min        -0.114956\n",
            "25%        -0.007240\n",
            "50%         0.000876\n",
            "75%         0.008673\n",
            "max         0.115308\n",
            "Name: Daily Return, dtype: float64\n",
            "\n",
            "============================================================\n",
            "\n",
            "Processing SOLV...\n"
          ]
        },
        {
          "output_type": "stream",
          "name": "stderr",
          "text": [
            "\r[*********************100%***********************]  1 of 1 completed\n"
          ]
        },
        {
          "output_type": "stream",
          "name": "stdout",
          "text": [
            "\n",
            "Daily Return Stats for SOLV:\n",
            "count    189.000000\n",
            "mean      -0.000046\n",
            "std        0.019743\n",
            "min       -0.047533\n",
            "25%       -0.011708\n",
            "50%       -0.001141\n",
            "75%        0.011429\n",
            "max        0.059153\n",
            "Name: Daily Return, dtype: float64\n",
            "\n",
            "============================================================\n",
            "\n",
            "Processing SO...\n"
          ]
        },
        {
          "output_type": "stream",
          "name": "stderr",
          "text": [
            "\r[*********************100%***********************]  1 of 1 completed\n"
          ]
        },
        {
          "output_type": "stream",
          "name": "stdout",
          "text": [
            "\n",
            "Daily Return Stats for SO:\n",
            "count    3772.000000\n",
            "mean        0.000491\n",
            "std         0.012125\n",
            "min        -0.117658\n",
            "25%        -0.005212\n",
            "50%         0.000586\n",
            "75%         0.006572\n",
            "max         0.187736\n",
            "Name: Daily Return, dtype: float64\n",
            "\n",
            "============================================================\n",
            "\n",
            "Processing LUV...\n"
          ]
        },
        {
          "output_type": "stream",
          "name": "stderr",
          "text": [
            "\r[*********************100%***********************]  1 of 1 completed\n"
          ]
        },
        {
          "output_type": "stream",
          "name": "stdout",
          "text": [
            "\n",
            "Daily Return Stats for LUV:\n",
            "count    3772.000000\n",
            "mean        0.000544\n",
            "std         0.020883\n",
            "min        -0.151094\n",
            "25%        -0.010040\n",
            "50%         0.000647\n",
            "75%         0.011168\n",
            "max         0.144441\n",
            "Name: Daily Return, dtype: float64\n",
            "\n",
            "============================================================\n",
            "\n",
            "Processing SWK...\n"
          ]
        },
        {
          "output_type": "stream",
          "name": "stderr",
          "text": [
            "\r[*********************100%***********************]  1 of 1 completed\n"
          ]
        },
        {
          "output_type": "stream",
          "name": "stdout",
          "text": [
            "\n",
            "Daily Return Stats for SWK:\n",
            "count    3772.000000\n",
            "mean        0.000408\n",
            "std         0.020127\n",
            "min        -0.205793\n",
            "25%        -0.008929\n",
            "50%         0.000458\n",
            "75%         0.009574\n",
            "max         0.253228\n",
            "Name: Daily Return, dtype: float64\n",
            "\n",
            "============================================================\n",
            "\n",
            "Processing SBUX...\n"
          ]
        },
        {
          "output_type": "stream",
          "name": "stderr",
          "text": [
            "\r[*********************100%***********************]  1 of 1 completed\n"
          ]
        },
        {
          "output_type": "stream",
          "name": "stdout",
          "text": [
            "\n",
            "Daily Return Stats for SBUX:\n",
            "count    3772.000000\n",
            "mean        0.000767\n",
            "std         0.017328\n",
            "min        -0.162042\n",
            "25%        -0.007365\n",
            "50%         0.000643\n",
            "75%         0.008738\n",
            "max         0.244970\n",
            "Name: Daily Return, dtype: float64\n",
            "\n",
            "============================================================\n",
            "\n",
            "Processing STT...\n"
          ]
        },
        {
          "output_type": "stream",
          "name": "stderr",
          "text": [
            "\r[*********************100%***********************]  1 of 1 completed\n"
          ]
        },
        {
          "output_type": "stream",
          "name": "stdout",
          "text": [
            "\n",
            "Daily Return Stats for STT:\n",
            "count    3772.000000\n",
            "mean        0.000496\n",
            "std         0.019731\n",
            "min        -0.189263\n",
            "25%        -0.008770\n",
            "50%         0.000615\n",
            "75%         0.010396\n",
            "max         0.223192\n",
            "Name: Daily Return, dtype: float64\n",
            "\n",
            "============================================================\n",
            "\n",
            "Processing STLD...\n"
          ]
        },
        {
          "output_type": "stream",
          "name": "stderr",
          "text": [
            "\r[*********************100%***********************]  1 of 1 completed\n"
          ]
        },
        {
          "output_type": "stream",
          "name": "stdout",
          "text": [
            "\n",
            "Daily Return Stats for STLD:\n",
            "count    3772.000000\n",
            "mean        0.000862\n",
            "std         0.023920\n",
            "min        -0.181693\n",
            "25%        -0.012598\n",
            "50%         0.000638\n",
            "75%         0.013170\n",
            "max         0.194194\n",
            "Name: Daily Return, dtype: float64\n",
            "\n",
            "============================================================\n",
            "\n",
            "Processing STE...\n"
          ]
        },
        {
          "output_type": "stream",
          "name": "stderr",
          "text": [
            "\r[*********************100%***********************]  1 of 1 completed\n"
          ]
        },
        {
          "output_type": "stream",
          "name": "stdout",
          "text": [
            "\n",
            "Daily Return Stats for STE:\n",
            "count    3772.000000\n",
            "mean        0.000703\n",
            "std         0.015643\n",
            "min        -0.115856\n",
            "25%        -0.007098\n",
            "50%         0.000633\n",
            "75%         0.008756\n",
            "max         0.132285\n",
            "Name: Daily Return, dtype: float64\n",
            "\n",
            "============================================================\n",
            "\n",
            "Processing SYK...\n"
          ]
        },
        {
          "output_type": "stream",
          "name": "stderr",
          "text": [
            "\r[*********************100%***********************]  1 of 1 completed\n"
          ]
        },
        {
          "output_type": "stream",
          "name": "stdout",
          "text": [
            "\n",
            "Daily Return Stats for SYK:\n",
            "count    3772.000000\n",
            "mean        0.000680\n",
            "std         0.015244\n",
            "min        -0.131059\n",
            "25%        -0.006474\n",
            "50%         0.000910\n",
            "75%         0.008135\n",
            "max         0.133913\n",
            "Name: Daily Return, dtype: float64\n",
            "\n",
            "============================================================\n",
            "\n",
            "Processing SMCI...\n"
          ]
        },
        {
          "output_type": "stream",
          "name": "stderr",
          "text": [
            "\r[*********************100%***********************]  1 of 1 completed\n"
          ]
        },
        {
          "output_type": "stream",
          "name": "stdout",
          "text": [
            "\n",
            "Daily Return Stats for SMCI:\n",
            "count    3772.000000\n",
            "mean        0.001582\n",
            "std         0.037669\n",
            "min        -0.411215\n",
            "25%        -0.014236\n",
            "50%         0.001330\n",
            "75%         0.015746\n",
            "max         0.359363\n",
            "Name: Daily Return, dtype: float64\n",
            "\n",
            "============================================================\n",
            "\n",
            "Processing SYF...\n"
          ]
        },
        {
          "output_type": "stream",
          "name": "stderr",
          "text": [
            "\r[*********************100%***********************]  1 of 1 completed\n"
          ]
        },
        {
          "output_type": "stream",
          "name": "stdout",
          "text": [
            "\n",
            "Daily Return Stats for SYF:\n",
            "count    2621.000000\n",
            "mean        0.000760\n",
            "std         0.023705\n",
            "min        -0.260257\n",
            "25%        -0.009676\n",
            "50%         0.000924\n",
            "75%         0.011740\n",
            "max         0.188138\n",
            "Name: Daily Return, dtype: float64\n",
            "\n",
            "============================================================\n",
            "\n",
            "Processing SNPS...\n"
          ]
        },
        {
          "output_type": "stream",
          "name": "stderr",
          "text": [
            "\r[*********************100%***********************]  1 of 1 completed\n"
          ]
        },
        {
          "output_type": "stream",
          "name": "stdout",
          "text": [
            "\n",
            "Daily Return Stats for SNPS:\n",
            "count    3772.000000\n",
            "mean        0.000959\n",
            "std         0.016899\n",
            "min        -0.131891\n",
            "25%        -0.006962\n",
            "50%         0.001196\n",
            "75%         0.008834\n",
            "max         0.112002\n",
            "Name: Daily Return, dtype: float64\n",
            "\n",
            "============================================================\n",
            "\n",
            "Processing SYY...\n"
          ]
        },
        {
          "output_type": "stream",
          "name": "stderr",
          "text": [
            "\r[*********************100%***********************]  1 of 1 completed\n"
          ]
        },
        {
          "output_type": "stream",
          "name": "stdout",
          "text": [
            "\n",
            "Daily Return Stats for SYY:\n",
            "count    3772.000000\n",
            "mean        0.000512\n",
            "std         0.016388\n",
            "min        -0.211061\n",
            "25%        -0.005854\n",
            "50%         0.000575\n",
            "75%         0.006780\n",
            "max         0.187900\n",
            "Name: Daily Return, dtype: float64\n",
            "\n",
            "============================================================\n",
            "\n",
            "Processing TMUS...\n"
          ]
        },
        {
          "output_type": "stream",
          "name": "stderr",
          "text": [
            "\r[*********************100%***********************]  1 of 1 completed\n"
          ]
        },
        {
          "output_type": "stream",
          "name": "stdout",
          "text": [
            "\n",
            "Daily Return Stats for TMUS:\n",
            "count    3772.000000\n",
            "mean        0.000995\n",
            "std         0.021955\n",
            "min        -0.365884\n",
            "25%        -0.008363\n",
            "50%         0.001092\n",
            "75%         0.010347\n",
            "max         0.367834\n",
            "Name: Daily Return, dtype: float64\n",
            "\n",
            "============================================================\n",
            "\n",
            "Processing TROW...\n"
          ]
        },
        {
          "output_type": "stream",
          "name": "stderr",
          "text": [
            "\r[*********************100%***********************]  1 of 1 completed\n"
          ]
        },
        {
          "output_type": "stream",
          "name": "stdout",
          "text": [
            "\n",
            "Daily Return Stats for TROW:\n",
            "count    3772.000000\n",
            "mean        0.000486\n",
            "std         0.018036\n",
            "min        -0.130686\n",
            "25%        -0.008217\n",
            "50%         0.000731\n",
            "75%         0.009312\n",
            "max         0.181658\n",
            "Name: Daily Return, dtype: float64\n",
            "\n",
            "============================================================\n",
            "\n",
            "Processing TTWO...\n"
          ]
        },
        {
          "output_type": "stream",
          "name": "stderr",
          "text": [
            "\r[*********************100%***********************]  1 of 1 completed\n"
          ]
        },
        {
          "output_type": "stream",
          "name": "stdout",
          "text": [
            "\n",
            "Daily Return Stats for TTWO:\n",
            "count    3772.000000\n",
            "mean        0.001006\n",
            "std         0.022066\n",
            "min        -0.137571\n",
            "25%        -0.010102\n",
            "50%         0.000738\n",
            "75%         0.012087\n",
            "max         0.182645\n",
            "Name: Daily Return, dtype: float64\n",
            "\n",
            "============================================================\n",
            "\n",
            "Processing TPR...\n"
          ]
        },
        {
          "output_type": "stream",
          "name": "stderr",
          "text": [
            "\r[*********************100%***********************]  1 of 1 completed\n"
          ]
        },
        {
          "output_type": "stream",
          "name": "stdout",
          "text": [
            "\n",
            "Daily Return Stats for TPR:\n",
            "count    3772.000000\n",
            "mean        0.000584\n",
            "std         0.025047\n",
            "min        -0.292668\n",
            "25%        -0.010783\n",
            "50%         0.000628\n",
            "75%         0.011806\n",
            "max         0.296786\n",
            "Name: Daily Return, dtype: float64\n",
            "\n",
            "============================================================\n",
            "\n",
            "Processing TRGP...\n"
          ]
        },
        {
          "output_type": "stream",
          "name": "stderr",
          "text": [
            "\r[*********************100%***********************]  1 of 1 completed\n"
          ]
        },
        {
          "output_type": "stream",
          "name": "stdout",
          "text": [
            "\n",
            "Daily Return Stats for TRGP:\n",
            "count    3538.000000\n",
            "mean        0.001210\n",
            "std         0.029835\n",
            "min        -0.529074\n",
            "25%        -0.010121\n",
            "50%         0.001462\n",
            "75%         0.013872\n",
            "max         0.350951\n",
            "Name: Daily Return, dtype: float64\n",
            "\n",
            "============================================================\n",
            "\n",
            "Processing TGT...\n"
          ]
        },
        {
          "output_type": "stream",
          "name": "stderr",
          "text": [
            "\r[*********************100%***********************]  1 of 1 completed\n"
          ]
        },
        {
          "output_type": "stream",
          "name": "stdout",
          "text": [
            "\n",
            "Daily Return Stats for TGT:\n",
            "count    3772.000000\n",
            "mean        0.000538\n",
            "std         0.017892\n",
            "min        -0.249303\n",
            "25%        -0.007328\n",
            "50%         0.000561\n",
            "75%         0.008624\n",
            "max         0.204256\n",
            "Name: Daily Return, dtype: float64\n",
            "\n",
            "============================================================\n",
            "\n",
            "Processing TEL...\n"
          ]
        },
        {
          "output_type": "stream",
          "name": "stderr",
          "text": [
            "\r[*********************100%***********************]  1 of 1 completed\n"
          ]
        },
        {
          "output_type": "stream",
          "name": "stdout",
          "text": [
            "\n",
            "Daily Return Stats for TEL:\n",
            "count    3772.000000\n",
            "mean        0.000679\n",
            "std         0.016651\n",
            "min        -0.158262\n",
            "25%        -0.007591\n",
            "50%         0.000850\n",
            "75%         0.009625\n",
            "max         0.118078\n",
            "Name: Daily Return, dtype: float64\n",
            "\n",
            "============================================================\n",
            "\n",
            "Processing TDY...\n"
          ]
        },
        {
          "output_type": "stream",
          "name": "stderr",
          "text": [
            "\r[*********************100%***********************]  1 of 1 completed\n"
          ]
        },
        {
          "output_type": "stream",
          "name": "stdout",
          "text": [
            "\n",
            "Daily Return Stats for TDY:\n",
            "count    3772.000000\n",
            "mean        0.000796\n",
            "std         0.016766\n",
            "min        -0.228870\n",
            "25%        -0.007343\n",
            "50%         0.001040\n",
            "75%         0.009158\n",
            "max         0.133191\n",
            "Name: Daily Return, dtype: float64\n",
            "\n",
            "============================================================\n",
            "\n",
            "Processing TER...\n"
          ]
        },
        {
          "output_type": "stream",
          "name": "stderr",
          "text": [
            "\r[*********************100%***********************]  1 of 1 completed\n"
          ]
        },
        {
          "output_type": "stream",
          "name": "stdout",
          "text": [
            "\n",
            "Daily Return Stats for TER:\n",
            "count    3772.000000\n",
            "mean        0.000964\n",
            "std         0.024244\n",
            "min        -0.224106\n",
            "25%        -0.011277\n",
            "50%         0.001167\n",
            "75%         0.013083\n",
            "max         0.204825\n",
            "Name: Daily Return, dtype: float64\n",
            "\n",
            "============================================================\n",
            "\n",
            "Processing TSLA...\n"
          ]
        },
        {
          "output_type": "stream",
          "name": "stderr",
          "text": [
            "\r[*********************100%***********************]  1 of 1 completed\n"
          ]
        },
        {
          "output_type": "stream",
          "name": "stdout",
          "text": [
            "\n",
            "Daily Return Stats for TSLA:\n",
            "count    3650.000000\n",
            "mean        0.002176\n",
            "std         0.036145\n",
            "min        -0.210628\n",
            "25%        -0.016133\n",
            "50%         0.001256\n",
            "75%         0.019416\n",
            "max         0.243951\n",
            "Name: Daily Return, dtype: float64\n",
            "\n",
            "============================================================\n",
            "\n",
            "Processing TXN...\n"
          ]
        },
        {
          "output_type": "stream",
          "name": "stderr",
          "text": [
            "\r[*********************100%***********************]  1 of 1 completed\n"
          ]
        },
        {
          "output_type": "stream",
          "name": "stdout",
          "text": [
            "\n",
            "Daily Return Stats for TXN:\n",
            "count    3772.000000\n",
            "mean        0.000771\n",
            "std         0.017011\n",
            "min        -0.118257\n",
            "25%        -0.008315\n",
            "50%         0.000846\n",
            "75%         0.010178\n",
            "max         0.135294\n",
            "Name: Daily Return, dtype: float64\n",
            "\n",
            "============================================================\n",
            "\n",
            "Processing TPL...\n"
          ]
        },
        {
          "output_type": "stream",
          "name": "stderr",
          "text": [
            "\r[*********************100%***********************]  1 of 1 completed\n"
          ]
        },
        {
          "output_type": "stream",
          "name": "stdout",
          "text": [
            "\n",
            "Daily Return Stats for TPL:\n",
            "count    3772.000000\n",
            "mean        0.001627\n",
            "std         0.025842\n",
            "min        -0.248858\n",
            "25%        -0.010543\n",
            "50%         0.001001\n",
            "75%         0.013820\n",
            "max         0.261400\n",
            "Name: Daily Return, dtype: float64\n",
            "\n",
            "============================================================\n",
            "\n",
            "Processing TXT...\n"
          ]
        },
        {
          "output_type": "stream",
          "name": "stderr",
          "text": [
            "\r[*********************100%***********************]  1 of 1 completed\n"
          ]
        },
        {
          "output_type": "stream",
          "name": "stdout",
          "text": [
            "\n",
            "Daily Return Stats for TXT:\n",
            "count    3772.000000\n",
            "mean        0.000611\n",
            "std         0.021628\n",
            "min        -0.170748\n",
            "25%        -0.009568\n",
            "50%         0.000384\n",
            "75%         0.010354\n",
            "max         0.162011\n",
            "Name: Daily Return, dtype: float64\n",
            "\n",
            "============================================================\n",
            "\n",
            "Processing TMO...\n"
          ]
        },
        {
          "output_type": "stream",
          "name": "stderr",
          "text": [
            "\r[*********************100%***********************]  1 of 1 completed\n"
          ]
        },
        {
          "output_type": "stream",
          "name": "stdout",
          "text": [
            "\n",
            "Daily Return Stats for TMO:\n",
            "count    3772.000000\n",
            "mean        0.000767\n",
            "std         0.015462\n",
            "min        -0.094528\n",
            "25%        -0.007178\n",
            "50%         0.000794\n",
            "75%         0.008738\n",
            "max         0.104700\n",
            "Name: Daily Return, dtype: float64\n",
            "\n",
            "============================================================\n",
            "\n",
            "Processing TJX...\n"
          ]
        },
        {
          "output_type": "stream",
          "name": "stderr",
          "text": [
            "\r[*********************100%***********************]  1 of 1 completed\n"
          ]
        },
        {
          "output_type": "stream",
          "name": "stdout",
          "text": [
            "\n",
            "Daily Return Stats for TJX:\n",
            "count    3772.000000\n",
            "mean        0.000865\n",
            "std         0.015661\n",
            "min        -0.203995\n",
            "25%        -0.006957\n",
            "50%         0.000716\n",
            "75%         0.008503\n",
            "max         0.129032\n",
            "Name: Daily Return, dtype: float64\n",
            "\n",
            "============================================================\n",
            "\n",
            "Processing TKO...\n"
          ]
        },
        {
          "output_type": "stream",
          "name": "stderr",
          "text": [
            "\r[*********************100%***********************]  1 of 1 completed\n"
          ]
        },
        {
          "output_type": "stream",
          "name": "stdout",
          "text": [
            "\n",
            "Daily Return Stats for TKO:\n",
            "count    3772.000000\n",
            "mean        0.001018\n",
            "std         0.024448\n",
            "min        -0.434521\n",
            "25%        -0.009749\n",
            "50%         0.000725\n",
            "75%         0.011663\n",
            "max         0.192748\n",
            "Name: Daily Return, dtype: float64\n",
            "\n",
            "============================================================\n",
            "\n",
            "Processing TSCO...\n"
          ]
        },
        {
          "output_type": "stream",
          "name": "stderr",
          "text": [
            "\r[*********************100%***********************]  1 of 1 completed\n"
          ]
        },
        {
          "output_type": "stream",
          "name": "stdout",
          "text": [
            "\n",
            "Daily Return Stats for TSCO:\n",
            "count    3772.000000\n",
            "mean        0.000985\n",
            "std         0.018218\n",
            "min        -0.169400\n",
            "25%        -0.008399\n",
            "50%         0.001087\n",
            "75%         0.010640\n",
            "max         0.171410\n",
            "Name: Daily Return, dtype: float64\n",
            "\n",
            "============================================================\n",
            "\n",
            "Processing TT...\n"
          ]
        },
        {
          "output_type": "stream",
          "name": "stderr",
          "text": [
            "\r[*********************100%***********************]  1 of 1 completed\n"
          ]
        },
        {
          "output_type": "stream",
          "name": "stdout",
          "text": [
            "\n",
            "Daily Return Stats for TT:\n",
            "count    3772.000000\n",
            "mean        0.000957\n",
            "std         0.017293\n",
            "min        -0.121089\n",
            "25%        -0.007517\n",
            "50%         0.001186\n",
            "75%         0.010097\n",
            "max         0.121854\n",
            "Name: Daily Return, dtype: float64\n",
            "\n",
            "============================================================\n",
            "\n",
            "Processing TDG...\n"
          ]
        },
        {
          "output_type": "stream",
          "name": "stderr",
          "text": [
            "\r[*********************100%***********************]  1 of 1 completed\n"
          ]
        },
        {
          "output_type": "stream",
          "name": "stdout",
          "text": [
            "\n",
            "Daily Return Stats for TDG:\n",
            "count    3772.000000\n",
            "mean        0.001258\n",
            "std         0.019369\n",
            "min        -0.219739\n",
            "25%        -0.007229\n",
            "50%         0.001363\n",
            "75%         0.009820\n",
            "max         0.244029\n",
            "Name: Daily Return, dtype: float64\n",
            "\n",
            "============================================================\n",
            "\n",
            "Processing TRV...\n"
          ]
        },
        {
          "output_type": "stream",
          "name": "stderr",
          "text": [
            "\r[*********************100%***********************]  1 of 1 completed\n"
          ]
        },
        {
          "output_type": "stream",
          "name": "stdout",
          "text": [
            "\n",
            "Daily Return Stats for TRV:\n",
            "count    3772.000000\n",
            "mean        0.000612\n",
            "std         0.014072\n",
            "min        -0.208004\n",
            "25%        -0.005775\n",
            "50%         0.001044\n",
            "75%         0.007406\n",
            "max         0.132903\n",
            "Name: Daily Return, dtype: float64\n",
            "\n",
            "============================================================\n",
            "\n",
            "Processing TRMB...\n"
          ]
        },
        {
          "output_type": "stream",
          "name": "stderr",
          "text": [
            "\r[*********************100%***********************]  1 of 1 completed\n"
          ]
        },
        {
          "output_type": "stream",
          "name": "stdout",
          "text": [
            "\n",
            "Daily Return Stats for TRMB:\n",
            "count    3772.000000\n",
            "mean        0.000682\n",
            "std         0.021502\n",
            "min        -0.185977\n",
            "25%        -0.009789\n",
            "50%         0.000517\n",
            "75%         0.010780\n",
            "max         0.213981\n",
            "Name: Daily Return, dtype: float64\n",
            "\n",
            "============================================================\n",
            "\n",
            "Processing TFC...\n"
          ]
        },
        {
          "output_type": "stream",
          "name": "stderr",
          "text": [
            "\r[*********************100%***********************]  1 of 1 completed\n"
          ]
        },
        {
          "output_type": "stream",
          "name": "stdout",
          "text": [
            "\n",
            "Daily Return Stats for TFC:\n",
            "count    3772.000000\n",
            "mean        0.000464\n",
            "std         0.019447\n",
            "min        -0.190955\n",
            "25%        -0.008563\n",
            "50%         0.000629\n",
            "75%         0.009883\n",
            "max         0.172441\n",
            "Name: Daily Return, dtype: float64\n",
            "\n",
            "============================================================\n",
            "\n",
            "Processing TYL...\n"
          ]
        },
        {
          "output_type": "stream",
          "name": "stderr",
          "text": [
            "\r[*********************100%***********************]  1 of 1 completed\n"
          ]
        },
        {
          "output_type": "stream",
          "name": "stdout",
          "text": [
            "\n",
            "Daily Return Stats for TYL:\n",
            "count    3772.000000\n",
            "mean        0.001051\n",
            "std         0.017999\n",
            "min        -0.153673\n",
            "25%        -0.007809\n",
            "50%         0.001022\n",
            "75%         0.010025\n",
            "max         0.130435\n",
            "Name: Daily Return, dtype: float64\n",
            "\n",
            "============================================================\n",
            "\n",
            "Processing TSN...\n"
          ]
        },
        {
          "output_type": "stream",
          "name": "stderr",
          "text": [
            "\r[*********************100%***********************]  1 of 1 completed\n"
          ]
        },
        {
          "output_type": "stream",
          "name": "stdout",
          "text": [
            "\n",
            "Daily Return Stats for TSN:\n",
            "count    3772.000000\n",
            "mean        0.000636\n",
            "std         0.017695\n",
            "min        -0.164113\n",
            "25%        -0.007613\n",
            "50%         0.001018\n",
            "75%         0.009474\n",
            "max         0.227026\n",
            "Name: Daily Return, dtype: float64\n",
            "\n",
            "============================================================\n",
            "\n",
            "Processing USB...\n"
          ]
        },
        {
          "output_type": "stream",
          "name": "stderr",
          "text": [
            "\r[*********************100%***********************]  1 of 1 completed\n"
          ]
        },
        {
          "output_type": "stream",
          "name": "stdout",
          "text": [
            "\n",
            "Daily Return Stats for USB:\n",
            "count    3772.000000\n",
            "mean        0.000465\n",
            "std         0.017496\n",
            "min        -0.144405\n",
            "25%        -0.007308\n",
            "50%         0.000538\n",
            "75%         0.008414\n",
            "max         0.173679\n",
            "Name: Daily Return, dtype: float64\n",
            "\n",
            "============================================================\n",
            "\n",
            "Processing UBER...\n"
          ]
        },
        {
          "output_type": "stream",
          "name": "stderr",
          "text": [
            "\r[*********************100%***********************]  1 of 1 completed\n"
          ]
        },
        {
          "output_type": "stream",
          "name": "stdout",
          "text": [
            "\n",
            "Daily Return Stats for UBER:\n",
            "count    1419.000000\n",
            "mean        0.000826\n",
            "std         0.033759\n",
            "min        -0.216288\n",
            "25%        -0.016765\n",
            "50%        -0.000368\n",
            "75%         0.018086\n",
            "max         0.382591\n",
            "Name: Daily Return, dtype: float64\n",
            "\n",
            "============================================================\n",
            "\n",
            "Processing UDR...\n"
          ]
        },
        {
          "output_type": "stream",
          "name": "stderr",
          "text": [
            "\r[*********************100%***********************]  1 of 1 completed\n"
          ]
        },
        {
          "output_type": "stream",
          "name": "stdout",
          "text": [
            "\n",
            "Daily Return Stats for UDR:\n",
            "count    3772.000000\n",
            "mean        0.000523\n",
            "std         0.015708\n",
            "min        -0.175549\n",
            "25%        -0.007251\n",
            "50%         0.001143\n",
            "75%         0.008476\n",
            "max         0.138127\n",
            "Name: Daily Return, dtype: float64\n",
            "\n",
            "============================================================\n",
            "\n",
            "Processing ULTA...\n"
          ]
        },
        {
          "output_type": "stream",
          "name": "stderr",
          "text": [
            "\r[*********************100%***********************]  1 of 1 completed\n"
          ]
        },
        {
          "output_type": "stream",
          "name": "stdout",
          "text": [
            "\n",
            "Daily Return Stats for ULTA:\n",
            "count    3772.000000\n",
            "mean        0.001133\n",
            "std         0.024326\n",
            "min        -0.295510\n",
            "25%        -0.009948\n",
            "50%         0.000628\n",
            "75%         0.011498\n",
            "max         0.239807\n",
            "Name: Daily Return, dtype: float64\n",
            "\n",
            "============================================================\n",
            "\n",
            "Processing UNP...\n"
          ]
        },
        {
          "output_type": "stream",
          "name": "stderr",
          "text": [
            "\r[*********************100%***********************]  1 of 1 completed\n"
          ]
        },
        {
          "output_type": "stream",
          "name": "stdout",
          "text": [
            "\n",
            "Daily Return Stats for UNP:\n",
            "count    3772.000000\n",
            "mean        0.000722\n",
            "std         0.015658\n",
            "min        -0.130344\n",
            "25%        -0.007433\n",
            "50%         0.000621\n",
            "75%         0.008925\n",
            "max         0.130042\n",
            "Name: Daily Return, dtype: float64\n",
            "\n",
            "============================================================\n",
            "\n",
            "Processing UAL...\n"
          ]
        },
        {
          "output_type": "stream",
          "name": "stderr",
          "text": [
            "\r[*********************100%***********************]  1 of 1 completed\n"
          ]
        },
        {
          "output_type": "stream",
          "name": "stdout",
          "text": [
            "\n",
            "Daily Return Stats for UAL:\n",
            "count    3772.000000\n",
            "mean        0.001002\n",
            "std         0.030344\n",
            "min        -0.302902\n",
            "25%        -0.013489\n",
            "50%         0.000348\n",
            "75%         0.014610\n",
            "max         0.257143\n",
            "Name: Daily Return, dtype: float64\n",
            "\n",
            "============================================================\n",
            "\n",
            "Processing UPS...\n"
          ]
        },
        {
          "output_type": "stream",
          "name": "stderr",
          "text": [
            "\r[*********************100%***********************]  1 of 1 completed\n"
          ]
        },
        {
          "output_type": "stream",
          "name": "stdout",
          "text": [
            "\n",
            "Daily Return Stats for UPS:\n",
            "count    3772.000000\n",
            "mean        0.000436\n",
            "std         0.014700\n",
            "min        -0.120540\n",
            "25%        -0.006268\n",
            "50%         0.000416\n",
            "75%         0.007313\n",
            "max         0.143758\n",
            "Name: Daily Return, dtype: float64\n",
            "\n",
            "============================================================\n",
            "\n",
            "Processing URI...\n"
          ]
        },
        {
          "output_type": "stream",
          "name": "stderr",
          "text": [
            "\r[*********************100%***********************]  1 of 1 completed\n"
          ]
        },
        {
          "output_type": "stream",
          "name": "stdout",
          "text": [
            "\n",
            "Daily Return Stats for URI:\n",
            "count    3772.000000\n",
            "mean        0.001538\n",
            "std         0.028388\n",
            "min        -0.183739\n",
            "25%        -0.013346\n",
            "50%         0.001438\n",
            "75%         0.016537\n",
            "max         0.221752\n",
            "Name: Daily Return, dtype: float64\n",
            "\n",
            "============================================================\n",
            "\n",
            "Processing UNH...\n"
          ]
        },
        {
          "output_type": "stream",
          "name": "stderr",
          "text": [
            "\r[*********************100%***********************]  1 of 1 completed\n"
          ]
        },
        {
          "output_type": "stream",
          "name": "stdout",
          "text": [
            "\n",
            "Daily Return Stats for UNH:\n",
            "count    3772.000000\n",
            "mean        0.000925\n",
            "std         0.016001\n",
            "min        -0.172769\n",
            "25%        -0.006893\n",
            "50%         0.000957\n",
            "75%         0.008602\n",
            "max         0.127989\n",
            "Name: Daily Return, dtype: float64\n",
            "\n",
            "============================================================\n",
            "\n",
            "Processing UHS...\n"
          ]
        },
        {
          "output_type": "stream",
          "name": "stderr",
          "text": [
            "\r[*********************100%***********************]  1 of 1 completed\n"
          ]
        },
        {
          "output_type": "stream",
          "name": "stdout",
          "text": [
            "\n",
            "Daily Return Stats for UHS:\n",
            "count    3772.000000\n",
            "mean        0.000693\n",
            "std         0.020522\n",
            "min        -0.222571\n",
            "25%        -0.008538\n",
            "50%         0.000673\n",
            "75%         0.010299\n",
            "max         0.253361\n",
            "Name: Daily Return, dtype: float64\n",
            "\n",
            "============================================================\n",
            "\n",
            "Processing VLO...\n"
          ]
        },
        {
          "output_type": "stream",
          "name": "stderr",
          "text": [
            "\r[*********************100%***********************]  1 of 1 completed\n"
          ]
        },
        {
          "output_type": "stream",
          "name": "stdout",
          "text": [
            "\n",
            "Daily Return Stats for VLO:\n",
            "count    3772.000000\n",
            "mean        0.000954\n",
            "std         0.024448\n",
            "min        -0.192209\n",
            "25%        -0.011467\n",
            "50%         0.000902\n",
            "75%         0.013489\n",
            "max         0.312025\n",
            "Name: Daily Return, dtype: float64\n",
            "\n",
            "============================================================\n",
            "\n",
            "Processing VTR...\n"
          ]
        },
        {
          "output_type": "stream",
          "name": "stderr",
          "text": [
            "\r[*********************100%***********************]  1 of 1 completed\n"
          ]
        },
        {
          "output_type": "stream",
          "name": "stdout",
          "text": [
            "\n",
            "Daily Return Stats for VTR:\n",
            "count    3772.000000\n",
            "mean        0.000428\n",
            "std         0.020125\n",
            "min        -0.285928\n",
            "25%        -0.007390\n",
            "50%         0.000974\n",
            "75%         0.008805\n",
            "max         0.217757\n",
            "Name: Daily Return, dtype: float64\n",
            "\n",
            "============================================================\n",
            "\n",
            "Processing VLTO...\n"
          ]
        },
        {
          "output_type": "stream",
          "name": "stderr",
          "text": [
            "\r[*********************100%***********************]  1 of 1 completed\n"
          ]
        },
        {
          "output_type": "stream",
          "name": "stdout",
          "text": [
            "\n",
            "Daily Return Stats for VLTO:\n",
            "count    311.000000\n",
            "mean       0.000990\n",
            "std        0.014611\n",
            "min       -0.046336\n",
            "25%       -0.007304\n",
            "50%        0.001524\n",
            "75%        0.008617\n",
            "max        0.052806\n",
            "Name: Daily Return, dtype: float64\n",
            "\n",
            "============================================================\n",
            "\n",
            "Processing VRSN...\n"
          ]
        },
        {
          "output_type": "stream",
          "name": "stderr",
          "text": [
            "\r[*********************100%***********************]  1 of 1 completed\n"
          ]
        },
        {
          "output_type": "stream",
          "name": "stdout",
          "text": [
            "\n",
            "Daily Return Stats for VRSN:\n",
            "count    3772.000000\n",
            "mean        0.000738\n",
            "std         0.016346\n",
            "min        -0.154721\n",
            "25%        -0.006760\n",
            "50%         0.000907\n",
            "75%         0.008576\n",
            "max         0.172017\n",
            "Name: Daily Return, dtype: float64\n",
            "\n",
            "============================================================\n",
            "\n",
            "Processing VRSK...\n"
          ]
        },
        {
          "output_type": "stream",
          "name": "stderr",
          "text": [
            "\r[*********************100%***********************]  1 of 1 completed\n"
          ]
        },
        {
          "output_type": "stream",
          "name": "stdout",
          "text": [
            "\n",
            "Daily Return Stats for VRSK:\n",
            "count    3772.000000\n",
            "mean        0.000695\n",
            "std         0.013799\n",
            "min        -0.106792\n",
            "25%        -0.005566\n",
            "50%         0.000881\n",
            "75%         0.007319\n",
            "max         0.132860\n",
            "Name: Daily Return, dtype: float64\n",
            "\n",
            "============================================================\n",
            "\n",
            "Processing VZ...\n"
          ]
        },
        {
          "output_type": "stream",
          "name": "stderr",
          "text": [
            "\r[*********************100%***********************]  1 of 1 completed\n"
          ]
        },
        {
          "output_type": "stream",
          "name": "stdout",
          "text": [
            "\n",
            "Daily Return Stats for VZ:\n",
            "count    3772.000000\n",
            "mean        0.000330\n",
            "std         0.011606\n",
            "min        -0.074978\n",
            "25%        -0.005827\n",
            "50%         0.000495\n",
            "75%         0.006452\n",
            "max         0.092705\n",
            "Name: Daily Return, dtype: float64\n",
            "\n",
            "============================================================\n",
            "\n",
            "Processing VRTX...\n"
          ]
        },
        {
          "output_type": "stream",
          "name": "stderr",
          "text": [
            "\r[*********************100%***********************]  1 of 1 completed\n"
          ]
        },
        {
          "output_type": "stream",
          "name": "stdout",
          "text": [
            "\n",
            "Daily Return Stats for VRTX:\n",
            "count    3772.000000\n",
            "mean        0.000927\n",
            "std         0.027322\n",
            "min        -0.206955\n",
            "25%        -0.011396\n",
            "50%         0.000407\n",
            "75%         0.011968\n",
            "max         0.619066\n",
            "Name: Daily Return, dtype: float64\n",
            "\n",
            "============================================================\n",
            "\n",
            "Processing VTRS...\n"
          ]
        },
        {
          "output_type": "stream",
          "name": "stderr",
          "text": [
            "\r[*********************100%***********************]  1 of 1 completed\n"
          ]
        },
        {
          "output_type": "stream",
          "name": "stdout",
          "text": [
            "\n",
            "Daily Return Stats for VTRS:\n",
            "count    3772.000000\n",
            "mean        0.000172\n",
            "std         0.021837\n",
            "min        -0.242779\n",
            "25%        -0.010889\n",
            "50%         0.000000\n",
            "75%         0.011022\n",
            "max         0.162004\n",
            "Name: Daily Return, dtype: float64\n",
            "\n",
            "============================================================\n",
            "\n",
            "Processing VICI...\n"
          ]
        },
        {
          "output_type": "stream",
          "name": "stderr",
          "text": [
            "\r[*********************100%***********************]  1 of 1 completed\n"
          ]
        },
        {
          "output_type": "stream",
          "name": "stdout",
          "text": [
            "\n",
            "Daily Return Stats for VICI:\n",
            "count    1759.000000\n",
            "mean        0.000617\n",
            "std         0.019649\n",
            "min        -0.286364\n",
            "25%        -0.007116\n",
            "50%         0.000868\n",
            "75%         0.008766\n",
            "max         0.176964\n",
            "Name: Daily Return, dtype: float64\n",
            "\n",
            "============================================================\n",
            "\n",
            "Processing V...\n"
          ]
        },
        {
          "output_type": "stream",
          "name": "stderr",
          "text": [
            "\r[*********************100%***********************]  1 of 1 completed\n"
          ]
        },
        {
          "output_type": "stream",
          "name": "stdout",
          "text": [
            "\n",
            "Daily Return Stats for V:\n",
            "count    3772.000000\n",
            "mean        0.000858\n",
            "std         0.015745\n",
            "min        -0.135472\n",
            "25%        -0.006979\n",
            "50%         0.001310\n",
            "75%         0.008672\n",
            "max         0.149973\n",
            "Name: Daily Return, dtype: float64\n",
            "\n",
            "============================================================\n",
            "\n",
            "Processing VST...\n"
          ]
        },
        {
          "output_type": "stream",
          "name": "stderr",
          "text": [
            "\r[*********************100%***********************]  1 of 1 completed\n"
          ]
        },
        {
          "output_type": "stream",
          "name": "stdout",
          "text": [
            "\n",
            "Daily Return Stats for VST:\n",
            "count    2071.000000\n",
            "mean        0.001493\n",
            "std         0.023668\n",
            "min        -0.242092\n",
            "25%        -0.009983\n",
            "50%         0.000889\n",
            "75%         0.012375\n",
            "max         0.166018\n",
            "Name: Daily Return, dtype: float64\n",
            "\n",
            "============================================================\n",
            "\n",
            "Processing VMC...\n"
          ]
        },
        {
          "output_type": "stream",
          "name": "stderr",
          "text": [
            "\r[*********************100%***********************]  1 of 1 completed\n"
          ]
        },
        {
          "output_type": "stream",
          "name": "stdout",
          "text": [
            "\n",
            "Daily Return Stats for VMC:\n",
            "count    3772.000000\n",
            "mean        0.000658\n",
            "std         0.020098\n",
            "min        -0.176148\n",
            "25%        -0.009778\n",
            "50%         0.000479\n",
            "75%         0.010460\n",
            "max         0.177653\n",
            "Name: Daily Return, dtype: float64\n",
            "\n",
            "============================================================\n",
            "\n",
            "Processing WRB...\n"
          ]
        },
        {
          "output_type": "stream",
          "name": "stderr",
          "text": [
            "\r[*********************100%***********************]  1 of 1 completed\n"
          ]
        },
        {
          "output_type": "stream",
          "name": "stdout",
          "text": [
            "\n",
            "Daily Return Stats for WRB:\n",
            "count    3772.000000\n",
            "mean        0.000730\n",
            "std         0.013813\n",
            "min        -0.154325\n",
            "25%        -0.005762\n",
            "50%         0.000924\n",
            "75%         0.007499\n",
            "max         0.119554\n",
            "Name: Daily Return, dtype: float64\n",
            "\n",
            "============================================================\n",
            "\n",
            "Processing GWW...\n"
          ]
        },
        {
          "output_type": "stream",
          "name": "stderr",
          "text": [
            "\r[*********************100%***********************]  1 of 1 completed\n"
          ]
        },
        {
          "output_type": "stream",
          "name": "stdout",
          "text": [
            "\n",
            "Daily Return Stats for GWW:\n",
            "count    3772.000000\n",
            "mean        0.000839\n",
            "std         0.016737\n",
            "min        -0.137170\n",
            "25%        -0.007390\n",
            "50%         0.000791\n",
            "75%         0.008678\n",
            "max         0.185313\n",
            "Name: Daily Return, dtype: float64\n",
            "\n",
            "============================================================\n",
            "\n",
            "Processing WAB...\n"
          ]
        },
        {
          "output_type": "stream",
          "name": "stderr",
          "text": [
            "\r[*********************100%***********************]  1 of 1 completed\n"
          ]
        },
        {
          "output_type": "stream",
          "name": "stdout",
          "text": [
            "\n",
            "Daily Return Stats for WAB:\n",
            "count    3772.000000\n",
            "mean        0.000783\n",
            "std         0.018866\n",
            "min        -0.182217\n",
            "25%        -0.008367\n",
            "50%         0.000754\n",
            "75%         0.010504\n",
            "max         0.122362\n",
            "Name: Daily Return, dtype: float64\n",
            "\n",
            "============================================================\n",
            "\n",
            "Processing WBA...\n"
          ]
        },
        {
          "output_type": "stream",
          "name": "stderr",
          "text": [
            "\r[*********************100%***********************]  1 of 1 completed\n"
          ]
        },
        {
          "output_type": "stream",
          "name": "stdout",
          "text": [
            "\n",
            "Daily Return Stats for WBA:\n",
            "count    3772.000000\n",
            "mean       -0.000047\n",
            "std         0.019465\n",
            "min        -0.221584\n",
            "25%        -0.008714\n",
            "50%         0.000000\n",
            "75%         0.009334\n",
            "max         0.177401\n",
            "Name: Daily Return, dtype: float64\n",
            "\n",
            "============================================================\n",
            "\n",
            "Processing WMT...\n"
          ]
        },
        {
          "output_type": "stream",
          "name": "stderr",
          "text": [
            "\r[*********************100%***********************]  1 of 1 completed\n"
          ]
        },
        {
          "output_type": "stream",
          "name": "stdout",
          "text": [
            "\n",
            "Daily Return Stats for WMT:\n",
            "count    3772.000000\n",
            "mean        0.000586\n",
            "std         0.012087\n",
            "min        -0.113758\n",
            "25%        -0.005147\n",
            "50%         0.000683\n",
            "75%         0.006374\n",
            "max         0.117085\n",
            "Name: Daily Return, dtype: float64\n",
            "\n",
            "============================================================\n",
            "\n",
            "Processing DIS...\n"
          ]
        },
        {
          "output_type": "stream",
          "name": "stderr",
          "text": [
            "\r[*********************100%***********************]  1 of 1 completed\n"
          ]
        },
        {
          "output_type": "stream",
          "name": "stdout",
          "text": [
            "\n",
            "Daily Return Stats for DIS:\n",
            "count    3772.000000\n",
            "mean        0.000503\n",
            "std         0.016429\n",
            "min        -0.131632\n",
            "25%        -0.006790\n",
            "50%         0.000442\n",
            "75%         0.008235\n",
            "max         0.144123\n",
            "Name: Daily Return, dtype: float64\n",
            "\n",
            "============================================================\n",
            "\n",
            "Processing WBD...\n"
          ]
        },
        {
          "output_type": "stream",
          "name": "stderr",
          "text": [
            "\r[*********************100%***********************]  1 of 1 completed\n"
          ]
        },
        {
          "output_type": "stream",
          "name": "stdout",
          "text": [
            "\n",
            "Daily Return Stats for WBD:\n",
            "count    3772.000000\n",
            "mean        0.000201\n",
            "std         0.024777\n",
            "min        -0.274459\n",
            "25%        -0.012133\n",
            "50%         0.000000\n",
            "75%         0.012278\n",
            "max         0.168740\n",
            "Name: Daily Return, dtype: float64\n",
            "\n",
            "============================================================\n",
            "\n",
            "Processing WM...\n"
          ]
        },
        {
          "output_type": "stream",
          "name": "stderr",
          "text": [
            "\r[*********************100%***********************]  1 of 1 completed\n"
          ]
        },
        {
          "output_type": "stream",
          "name": "stdout",
          "text": [
            "\n",
            "Daily Return Stats for WM:\n",
            "count    3772.000000\n",
            "mean        0.000644\n",
            "std         0.011767\n",
            "min        -0.111212\n",
            "25%        -0.004648\n",
            "50%         0.000866\n",
            "75%         0.006119\n",
            "max         0.090500\n",
            "Name: Daily Return, dtype: float64\n",
            "\n",
            "============================================================\n",
            "\n",
            "Processing WAT...\n"
          ]
        },
        {
          "output_type": "stream",
          "name": "stderr",
          "text": [
            "\r[*********************100%***********************]  1 of 1 completed\n"
          ]
        },
        {
          "output_type": "stream",
          "name": "stdout",
          "text": [
            "\n",
            "Daily Return Stats for WAT:\n",
            "count    3772.000000\n",
            "mean        0.000624\n",
            "std         0.017240\n",
            "min        -0.123133\n",
            "25%        -0.007347\n",
            "50%         0.000806\n",
            "75%         0.009129\n",
            "max         0.198384\n",
            "Name: Daily Return, dtype: float64\n",
            "\n",
            "============================================================\n",
            "\n",
            "Processing WEC...\n"
          ]
        },
        {
          "output_type": "stream",
          "name": "stderr",
          "text": [
            "\r[*********************100%***********************]  1 of 1 completed\n"
          ]
        },
        {
          "output_type": "stream",
          "name": "stdout",
          "text": [
            "\n",
            "Daily Return Stats for WEC:\n",
            "count    3772.000000\n",
            "mean        0.000564\n",
            "std         0.012627\n",
            "min        -0.180511\n",
            "25%        -0.005682\n",
            "50%         0.000929\n",
            "75%         0.007281\n",
            "max         0.131472\n",
            "Name: Daily Return, dtype: float64\n",
            "\n",
            "============================================================\n",
            "\n",
            "Processing WFC...\n"
          ]
        },
        {
          "output_type": "stream",
          "name": "stderr",
          "text": [
            "\r[*********************100%***********************]  1 of 1 completed\n"
          ]
        },
        {
          "output_type": "stream",
          "name": "stdout",
          "text": [
            "\n",
            "Daily Return Stats for WFC:\n",
            "count    3772.000000\n",
            "mean        0.000533\n",
            "std         0.018847\n",
            "min        -0.158676\n",
            "25%        -0.008342\n",
            "50%         0.000342\n",
            "75%         0.009183\n",
            "max         0.145346\n",
            "Name: Daily Return, dtype: float64\n",
            "\n",
            "============================================================\n",
            "\n",
            "Processing WELL...\n"
          ]
        },
        {
          "output_type": "stream",
          "name": "stderr",
          "text": [
            "\r[*********************100%***********************]  1 of 1 completed\n"
          ]
        },
        {
          "output_type": "stream",
          "name": "stdout",
          "text": [
            "\n",
            "Daily Return Stats for WELL:\n",
            "count    3772.000000\n",
            "mean        0.000621\n",
            "std         0.018155\n",
            "min        -0.243955\n",
            "25%        -0.007026\n",
            "50%         0.001332\n",
            "75%         0.008590\n",
            "max         0.231788\n",
            "Name: Daily Return, dtype: float64\n",
            "\n",
            "============================================================\n",
            "\n",
            "Processing WST...\n"
          ]
        },
        {
          "output_type": "stream",
          "name": "stderr",
          "text": [
            "\r[*********************100%***********************]  1 of 1 completed\n"
          ]
        },
        {
          "output_type": "stream",
          "name": "stdout",
          "text": [
            "\n",
            "Daily Return Stats for WST:\n",
            "count    3772.000000\n",
            "mean        0.000930\n",
            "std         0.017543\n",
            "min        -0.143960\n",
            "25%        -0.007707\n",
            "50%         0.000876\n",
            "75%         0.009486\n",
            "max         0.154343\n",
            "Name: Daily Return, dtype: float64\n",
            "\n",
            "============================================================\n",
            "\n",
            "Processing WDC...\n"
          ]
        },
        {
          "output_type": "stream",
          "name": "stderr",
          "text": [
            "\r[*********************100%***********************]  1 of 1 completed\n"
          ]
        },
        {
          "output_type": "stream",
          "name": "stdout",
          "text": [
            "\n",
            "Daily Return Stats for WDC:\n",
            "count    3772.000000\n",
            "mean        0.000470\n",
            "std         0.026931\n",
            "min        -0.204448\n",
            "25%        -0.013255\n",
            "50%         0.000389\n",
            "75%         0.014259\n",
            "max         0.209424\n",
            "Name: Daily Return, dtype: float64\n",
            "\n",
            "============================================================\n",
            "\n",
            "Processing WY...\n"
          ]
        },
        {
          "output_type": "stream",
          "name": "stderr",
          "text": [
            "\r[*********************100%***********************]  1 of 1 completed\n"
          ]
        },
        {
          "output_type": "stream",
          "name": "stdout",
          "text": [
            "\n",
            "Daily Return Stats for WY:\n",
            "count    3772.000000\n",
            "mean        0.000464\n",
            "std         0.019186\n",
            "min        -0.226733\n",
            "25%        -0.009103\n",
            "50%         0.000645\n",
            "75%         0.009950\n",
            "max         0.253155\n",
            "Name: Daily Return, dtype: float64\n",
            "\n",
            "============================================================\n",
            "\n",
            "Processing WSM...\n"
          ]
        },
        {
          "output_type": "stream",
          "name": "stderr",
          "text": [
            "\r[*********************100%***********************]  1 of 1 completed\n"
          ]
        },
        {
          "output_type": "stream",
          "name": "stdout",
          "text": [
            "\n",
            "Daily Return Stats for WSM:\n",
            "count    3772.000000\n",
            "mean        0.001170\n",
            "std         0.025133\n",
            "min        -0.216645\n",
            "25%        -0.011058\n",
            "50%         0.000730\n",
            "75%         0.012852\n",
            "max         0.275430\n",
            "Name: Daily Return, dtype: float64\n",
            "\n",
            "============================================================\n",
            "\n",
            "Processing WMB...\n"
          ]
        },
        {
          "output_type": "stream",
          "name": "stderr",
          "text": [
            "\r[*********************100%***********************]  1 of 1 completed\n"
          ]
        },
        {
          "output_type": "stream",
          "name": "stdout",
          "text": [
            "\n",
            "Daily Return Stats for WMB:\n",
            "count    3772.000000\n",
            "mean        0.000783\n",
            "std         0.023729\n",
            "min        -0.348131\n",
            "25%        -0.009216\n",
            "50%         0.000828\n",
            "75%         0.010547\n",
            "max         0.343865\n",
            "Name: Daily Return, dtype: float64\n",
            "\n",
            "============================================================\n",
            "\n",
            "Processing WTW...\n"
          ]
        },
        {
          "output_type": "stream",
          "name": "stderr",
          "text": [
            "\r[*********************100%***********************]  1 of 1 completed\n"
          ]
        },
        {
          "output_type": "stream",
          "name": "stdout",
          "text": [
            "\n",
            "Daily Return Stats for WTW:\n",
            "count    3772.000000\n",
            "mean        0.000573\n",
            "std         0.014072\n",
            "min        -0.107318\n",
            "25%        -0.005671\n",
            "50%         0.000707\n",
            "75%         0.007197\n",
            "max         0.151057\n",
            "Name: Daily Return, dtype: float64\n",
            "\n",
            "============================================================\n",
            "\n",
            "Processing WDAY...\n"
          ]
        },
        {
          "output_type": "stream",
          "name": "stderr",
          "text": [
            "\r[*********************100%***********************]  1 of 1 completed\n"
          ]
        },
        {
          "output_type": "stream",
          "name": "stdout",
          "text": [
            "\n",
            "Daily Return Stats for WDAY:\n",
            "count    3071.000000\n",
            "mean        0.000842\n",
            "std         0.024285\n",
            "min        -0.163479\n",
            "25%        -0.010960\n",
            "50%         0.001028\n",
            "75%         0.013386\n",
            "max         0.186766\n",
            "Name: Daily Return, dtype: float64\n",
            "\n",
            "============================================================\n",
            "\n",
            "Processing WYNN...\n"
          ]
        },
        {
          "output_type": "stream",
          "name": "stderr",
          "text": [
            "\r[*********************100%***********************]  1 of 1 completed\n"
          ]
        },
        {
          "output_type": "stream",
          "name": "stdout",
          "text": [
            "\n",
            "Daily Return Stats for WYNN:\n",
            "count    3772.000000\n",
            "mean        0.000604\n",
            "std         0.028647\n",
            "min        -0.244346\n",
            "25%        -0.013150\n",
            "50%        -0.000104\n",
            "75%         0.013470\n",
            "max         0.276883\n",
            "Name: Daily Return, dtype: float64\n",
            "\n",
            "============================================================\n",
            "\n",
            "Processing XEL...\n"
          ]
        },
        {
          "output_type": "stream",
          "name": "stderr",
          "text": [
            "\r[*********************100%***********************]  1 of 1 completed\n"
          ]
        },
        {
          "output_type": "stream",
          "name": "stdout",
          "text": [
            "\n",
            "Daily Return Stats for XEL:\n",
            "count    3772.000000\n",
            "mean        0.000519\n",
            "std         0.012242\n",
            "min        -0.126918\n",
            "25%        -0.005571\n",
            "50%         0.000633\n",
            "75%         0.007219\n",
            "max         0.112577\n",
            "Name: Daily Return, dtype: float64\n",
            "\n",
            "============================================================\n",
            "\n",
            "Processing XYL...\n"
          ]
        },
        {
          "output_type": "stream",
          "name": "stderr",
          "text": [
            "\r[*********************100%***********************]  1 of 1 completed\n"
          ]
        },
        {
          "output_type": "stream",
          "name": "stdout",
          "text": [
            "\n",
            "Daily Return Stats for XYL:\n",
            "count    3323.000000\n",
            "mean        0.000663\n",
            "std         0.016573\n",
            "min        -0.120273\n",
            "25%        -0.007628\n",
            "50%         0.000773\n",
            "75%         0.009352\n",
            "max         0.124438\n",
            "Name: Daily Return, dtype: float64\n",
            "\n",
            "============================================================\n",
            "\n",
            "Processing YUM...\n"
          ]
        },
        {
          "output_type": "stream",
          "name": "stderr",
          "text": [
            "\r[*********************100%***********************]  1 of 1 completed\n"
          ]
        },
        {
          "output_type": "stream",
          "name": "stdout",
          "text": [
            "\n",
            "Daily Return Stats for YUM:\n",
            "count    3772.000000\n",
            "mean        0.000630\n",
            "std         0.014888\n",
            "min        -0.188324\n",
            "25%        -0.006217\n",
            "50%         0.000808\n",
            "75%         0.007590\n",
            "max         0.232484\n",
            "Name: Daily Return, dtype: float64\n",
            "\n",
            "============================================================\n",
            "\n",
            "Processing ZBRA...\n"
          ]
        },
        {
          "output_type": "stream",
          "name": "stderr",
          "text": [
            "\r[*********************100%***********************]  1 of 1 completed\n"
          ]
        },
        {
          "output_type": "stream",
          "name": "stdout",
          "text": [
            "\n",
            "Daily Return Stats for ZBRA:\n",
            "count    3772.000000\n",
            "mean        0.000944\n",
            "std         0.022529\n",
            "min        -0.238459\n",
            "25%        -0.009580\n",
            "50%         0.001020\n",
            "75%         0.011284\n",
            "max         0.172142\n",
            "Name: Daily Return, dtype: float64\n",
            "\n",
            "============================================================\n",
            "\n",
            "Processing ZBH...\n"
          ]
        },
        {
          "output_type": "stream",
          "name": "stderr",
          "text": [
            "\r[*********************100%***********************]  1 of 1 completed\n"
          ]
        },
        {
          "output_type": "stream",
          "name": "stdout",
          "text": [
            "\n",
            "Daily Return Stats for ZBH:\n",
            "count    3772.000000\n",
            "mean        0.000317\n",
            "std         0.016162\n",
            "min        -0.139943\n",
            "25%        -0.007311\n",
            "50%         0.000182\n",
            "75%         0.008346\n",
            "max         0.155797\n",
            "Name: Daily Return, dtype: float64\n",
            "\n",
            "============================================================\n",
            "\n",
            "Processing ZTS...\n"
          ]
        },
        {
          "output_type": "stream",
          "name": "stderr",
          "text": [
            "\r[*********************100%***********************]  1 of 1 completed\n"
          ]
        },
        {
          "output_type": "stream",
          "name": "stdout",
          "text": [
            "\n",
            "Daily Return Stats for ZTS:\n",
            "count    2997.000000\n",
            "mean        0.000710\n",
            "std         0.016005\n",
            "min        -0.146956\n",
            "25%        -0.007185\n",
            "50%         0.000683\n",
            "75%         0.008827\n",
            "max         0.119793\n",
            "Name: Daily Return, dtype: float64\n",
            "\n",
            "============================================================\n",
            "\n"
          ]
        }
      ],
      "source": [
        "import yfinance as yf\n",
        "import pandas as pd\n",
        "import matplotlib.pyplot as plt\n",
        "\n",
        "# Step 1: Get the list of S&P 500 tickers\n",
        "def get_sp500_tickers():\n",
        "    table = pd.read_html('https://en.wikipedia.org/wiki/List_of_S%26P_500_companies')\n",
        "    df = table[0]\n",
        "    return df['Symbol'].tolist()\n",
        "\n",
        "tickers = get_sp500_tickers()\n",
        "\n",
        "start_date = '2010-01-01'\n",
        "end_date = '2024-12-31'\n",
        "\n",
        "# Step 2: Loop through each ticker\n",
        "for ticker in tickers:\n",
        "    try:\n",
        "        print(f\"Processing {ticker}...\")\n",
        "        data = yf.download(ticker, start=start_date, end=end_date)\n",
        "        if data.empty:\n",
        "            print(f\"No data for {ticker}, skipping.\\n\")\n",
        "            continue\n",
        "\n",
        "        # Calculate moving averages\n",
        "        data['MA20'] = data['Close'].rolling(window=20).mean()\n",
        "        data['MA50'] = data['Close'].rolling(window=50).mean()\n",
        "\n",
        "        # Plot the chart\n",
        "        plt.figure(figsize=(12, 6))\n",
        "        plt.plot(data['Close'], label='Close Price', alpha=0.7)\n",
        "        plt.plot(data['MA20'], label='20-day MA', linestyle='--')\n",
        "        plt.plot(data['MA50'], label='50-day MA', linestyle='--')\n",
        "        plt.title(f'{ticker} Stock Price with Moving Averages')\n",
        "        plt.xlabel('Date')\n",
        "        plt.ylabel('Price')\n",
        "        plt.legend()\n",
        "        plt.grid(True)\n",
        "        plt.tight_layout()\n",
        "        plt.savefig(f'{ticker}_moving_averages.png')  # Save the plot instead of showing it\n",
        "        plt.close()\n",
        "\n",
        "        # Calculate daily returns\n",
        "        data['Daily Return'] = data['Close'].pct_change()\n",
        "\n",
        "        # Print stats\n",
        "        print(f\"\\nDaily Return Stats for {ticker}:\")\n",
        "        print(data['Daily Return'].describe())\n",
        "        print(\"\\n\" + \"=\"*60 + \"\\n\")\n",
        "\n",
        "    except Exception as e:\n",
        "        print(f\"Error processing {ticker}: {e}\\n\")\n",
        ""
      ]
    }
  ]
}