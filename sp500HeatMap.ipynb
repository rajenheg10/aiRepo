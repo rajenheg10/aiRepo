{
  "nbformat": 4,
  "nbformat_minor": 0,
  "metadata": {
    "colab": {
      "provenance": [],
      "authorship_tag": "ABX9TyNR5gtzGCamudTIQUMSHIVM",
      "include_colab_link": true
    },
    "kernelspec": {
      "name": "python3",
      "display_name": "Python 3"
    },
    "language_info": {
      "name": "python"
    }
  },
  "cells": [
    {
      "cell_type": "markdown",
      "metadata": {
        "id": "view-in-github",
        "colab_type": "text"
      },
      "source": [
        "<a href=\"https://colab.research.google.com/github/rajenheg10/aiRepo/blob/main/sp500HeatMap.ipynb\" target=\"_parent\"><img src=\"https://colab.research.google.com/assets/colab-badge.svg\" alt=\"Open In Colab\"/></a>"
      ]
    },
    {
      "cell_type": "code",
      "execution_count": null,
      "metadata": {
        "colab": {
          "base_uri": "https://localhost:8080/",
          "height": 904
        },
        "id": "gM8cHJ9tztpH",
        "outputId": "3edbfba8-840c-428d-e80d-4ecfd3fc5f4b"
      },
      "outputs": [
        {
          "output_type": "stream",
          "name": "stderr",
          "text": [
            "[*********************100%***********************]  100 of 100 completed\n",
            "ERROR:yfinance:\n",
            "2 Failed downloads:\n",
            "ERROR:yfinance:['BF.B']: YFPricesMissingError('possibly delisted; no price data found  (period=1d)')\n",
            "ERROR:yfinance:['BRK.B']: YFPricesMissingError('possibly delisted; no price data found  (period=1d) (Yahoo error = \"No data found, symbol may be delisted\")')\n"
          ]
        },
        {
          "output_type": "display_data",
          "data": {
            "text/html": [
              "<html>\n",
              "<head><meta charset=\"utf-8\" /></head>\n",
              "<body>\n",
              "    <div>            <script src=\"https://cdnjs.cloudflare.com/ajax/libs/mathjax/2.7.5/MathJax.js?config=TeX-AMS-MML_SVG\"></script><script type=\"text/javascript\">if (window.MathJax && window.MathJax.Hub && window.MathJax.Hub.Config) {window.MathJax.Hub.Config({SVG: {font: \"STIX-Web\"}});}</script>                <script type=\"text/javascript\">window.PlotlyConfig = {MathJaxConfig: 'local'};</script>\n",
              "        <script charset=\"utf-8\" src=\"https://cdn.plot.ly/plotly-2.35.2.min.js\"></script>                <div id=\"2a7bd77c-0710-4d75-b61a-2bc38ea1a689\" class=\"plotly-graph-div\" style=\"height:800px; width:800px;\"></div>            <script type=\"text/javascript\">                                    window.PLOTLYENV=window.PLOTLYENV || {};                                    if (document.getElementById(\"2a7bd77c-0710-4d75-b61a-2bc38ea1a689\")) {                    Plotly.newPlot(                        \"2a7bd77c-0710-4d75-b61a-2bc38ea1a689\",                        [{\"colorbar\":{\"title\":{\"text\":\"Change %\"}},\"colorscale\":[[0.0,\"rgb(165,0,38)\"],[0.1,\"rgb(215,48,39)\"],[0.2,\"rgb(244,109,67)\"],[0.3,\"rgb(253,174,97)\"],[0.4,\"rgb(254,224,139)\"],[0.5,\"rgb(255,255,191)\"],[0.6,\"rgb(217,239,139)\"],[0.7,\"rgb(166,217,106)\"],[0.8,\"rgb(102,189,99)\"],[0.9,\"rgb(26,152,80)\"],[1.0,\"rgb(0,104,55)\"]],\"hoverinfo\":\"text\",\"showscale\":true,\"text\":[[\"MMM\\u003cbr\\u003eIndustrials\\u003cbr\\u003e-0.66%\",\"AOS\\u003cbr\\u003eIndustrials\\u003cbr\\u003e-5.89%\",\"ABT\\u003cbr\\u003eHealth Care\\u003cbr\\u003e-0.82%\",\"ABBV\\u003cbr\\u003eHealth Care\\u003cbr\\u003e-1.22%\",\"ACN\\u003cbr\\u003eInformation Technology\\u003cbr\\u003e0.39%\",\"ADBE\\u003cbr\\u003eInformation Technology\\u003cbr\\u003e-0.38%\",\"AMD\\u003cbr\\u003eInformation Technology\\u003cbr\\u003e-1.73%\",\"AES\\u003cbr\\u003eUtilities\\u003cbr\\u003e-3.00%\",\"AFL\\u003cbr\\u003eFinancials\\u003cbr\\u003e-1.11%\",\"A\\u003cbr\\u003eHealth Care\\u003cbr\\u003e0.05%\"],[\"APD\\u003cbr\\u003eMaterials\\u003cbr\\u003e-1.18%\",\"ABNB\\u003cbr\\u003eConsumer Discretionary\\u003cbr\\u003e-0.60%\",\"AKAM\\u003cbr\\u003eInformation Technology\\u003cbr\\u003e-1.71%\",\"ALB\\u003cbr\\u003eMaterials\\u003cbr\\u003e-0.94%\",\"ARE\\u003cbr\\u003eReal Estate\\u003cbr\\u003e-1.12%\",\"ALGN\\u003cbr\\u003eHealth Care\\u003cbr\\u003e0.49%\",\"ALLE\\u003cbr\\u003eIndustrials\\u003cbr\\u003e-0.76%\",\"LNT\\u003cbr\\u003eUtilities\\u003cbr\\u003e-1.48%\",\"ALL\\u003cbr\\u003eFinancials\\u003cbr\\u003e-0.78%\",\"GOOGL\\u003cbr\\u003eCommunication Services\\u003cbr\\u003e-0.44%\"],[\"GOOG\\u003cbr\\u003eCommunication Services\\u003cbr\\u003e-0.34%\",\"MO\\u003cbr\\u003eConsumer Staples\\u003cbr\\u003e-0.20%\",\"AMZN\\u003cbr\\u003eConsumer Discretionary\\u003cbr\\u003e-0.59%\",\"AMCR\\u003cbr\\u003eMaterials\\u003cbr\\u003e-1.53%\",\"AEE\\u003cbr\\u003eUtilities\\u003cbr\\u003e-1.09%\",\"AEP\\u003cbr\\u003eUtilities\\u003cbr\\u003e-0.99%\",\"AXP\\u003cbr\\u003eFinancials\\u003cbr\\u003e-0.04%\",\"AIG\\u003cbr\\u003eFinancials\\u003cbr\\u003e-0.30%\",\"AMT\\u003cbr\\u003eReal Estate\\u003cbr\\u003e-0.25%\",\"AWK\\u003cbr\\u003eUtilities\\u003cbr\\u003e-1.11%\"],[\"AMP\\u003cbr\\u003eFinancials\\u003cbr\\u003e-1.50%\",\"AME\\u003cbr\\u003eIndustrials\\u003cbr\\u003e-1.30%\",\"AMGN\\u003cbr\\u003eHealth Care\\u003cbr\\u003e-0.48%\",\"APH\\u003cbr\\u003eInformation Technology\\u003cbr\\u003e-0.08%\",\"ADI\\u003cbr\\u003eInformation Technology\\u003cbr\\u003e-0.73%\",\"ANSS\\u003cbr\\u003eInformation Technology\\u003cbr\\u003e-5.44%\",\"AON\\u003cbr\\u003eFinancials\\u003cbr\\u003e-0.61%\",\"APA\\u003cbr\\u003eEnergy\\u003cbr\\u003e-1.88%\",\"APO\\u003cbr\\u003eFinancials\\u003cbr\\u003e-1.73%\",\"AAPL\\u003cbr\\u003eInformation Technology\\u003cbr\\u003e-0.13%\"],[\"AMAT\\u003cbr\\u003eInformation Technology\\u003cbr\\u003e-0.17%\",\"APTV\\u003cbr\\u003eConsumer Discretionary\\u003cbr\\u003e-1.15%\",\"ACGL\\u003cbr\\u003eFinancials\\u003cbr\\u003e-1.56%\",\"ADM\\u003cbr\\u003eConsumer Staples\\u003cbr\\u003e-0.60%\",\"ANET\\u003cbr\\u003eInformation Technology\\u003cbr\\u003e-0.32%\",\"AJG\\u003cbr\\u003eFinancials\\u003cbr\\u003e-0.51%\",\"AIZ\\u003cbr\\u003eFinancials\\u003cbr\\u003e-1.08%\",\"T\\u003cbr\\u003eCommunication Services\\u003cbr\\u003e0.46%\",\"ATO\\u003cbr\\u003eUtilities\\u003cbr\\u003e-1.43%\",\"ADSK\\u003cbr\\u003eInformation Technology\\u003cbr\\u003e-0.40%\"],[\"ADP\\u003cbr\\u003eIndustrials\\u003cbr\\u003e-0.97%\",\"AZO\\u003cbr\\u003eConsumer Discretionary\\u003cbr\\u003e1.12%\",\"AVB\\u003cbr\\u003eReal Estate\\u003cbr\\u003e0.02%\",\"AVY\\u003cbr\\u003eMaterials\\u003cbr\\u003e-1.99%\",\"AXON\\u003cbr\\u003eIndustrials\\u003cbr\\u003e0.29%\",\"BKR\\u003cbr\\u003eEnergy\\u003cbr\\u003e-2.45%\",\"BALL\\u003cbr\\u003eMaterials\\u003cbr\\u003e-0.86%\",\"BAC\\u003cbr\\u003eFinancials\\u003cbr\\u003e-0.34%\",\"BAX\\u003cbr\\u003eHealth Care\\u003cbr\\u003e-1.13%\",\"BDX\\u003cbr\\u003eHealth Care\\u003cbr\\u003e-1.19%\"],[\"BRK.B\\u003cbr\\u003eFinancials\\u003cbr\\u003enan%\",\"BBY\\u003cbr\\u003eConsumer Discretionary\\u003cbr\\u003e-1.27%\",\"TECH\\u003cbr\\u003eHealth Care\\u003cbr\\u003e-1.52%\",\"BIIB\\u003cbr\\u003eHealth Care\\u003cbr\\u003e-0.46%\",\"BLK\\u003cbr\\u003eFinancials\\u003cbr\\u003e-1.09%\",\"BX\\u003cbr\\u003eFinancials\\u003cbr\\u003e-0.94%\",\"BK\\u003cbr\\u003eFinancials\\u003cbr\\u003e-1.40%\",\"BA\\u003cbr\\u003eIndustrials\\u003cbr\\u003e-0.22%\",\"BKNG\\u003cbr\\u003eConsumer Discretionary\\u003cbr\\u003e0.43%\",\"BSX\\u003cbr\\u003eHealth Care\\u003cbr\\u003e0.24%\"],[\"BMY\\u003cbr\\u003eHealth Care\\u003cbr\\u003e0.15%\",\"AVGO\\u003cbr\\u003eInformation Technology\\u003cbr\\u003e0.97%\",\"BR\\u003cbr\\u003eIndustrials\\u003cbr\\u003e0.45%\",\"BRO\\u003cbr\\u003eFinancials\\u003cbr\\u003e-0.51%\",\"BF.B\\u003cbr\\u003eConsumer Staples\\u003cbr\\u003enan%\",\"BLDR\\u003cbr\\u003eIndustrials\\u003cbr\\u003e-3.42%\",\"BG\\u003cbr\\u003eConsumer Staples\\u003cbr\\u003e0.09%\",\"BXP\\u003cbr\\u003eReal Estate\\u003cbr\\u003e0.91%\",\"CHRW\\u003cbr\\u003eIndustrials\\u003cbr\\u003e-1.98%\",\"CDNS\\u003cbr\\u003eInformation Technology\\u003cbr\\u003e-10.61%\"],[\"CZR\\u003cbr\\u003eConsumer Discretionary\\u003cbr\\u003e-2.28%\",\"CPT\\u003cbr\\u003eReal Estate\\u003cbr\\u003e0.16%\",\"CPB\\u003cbr\\u003eConsumer Staples\\u003cbr\\u003e-1.70%\",\"COF\\u003cbr\\u003eFinancials\\u003cbr\\u003e-0.91%\",\"CAH\\u003cbr\\u003eHealth Care\\u003cbr\\u003e-0.89%\",\"KMX\\u003cbr\\u003eConsumer Discretionary\\u003cbr\\u003e-0.19%\",\"CCL\\u003cbr\\u003eConsumer Discretionary\\u003cbr\\u003e-1.88%\",\"CARR\\u003cbr\\u003eIndustrials\\u003cbr\\u003e-1.92%\",\"CAT\\u003cbr\\u003eIndustrials\\u003cbr\\u003e-0.85%\",\"CBOE\\u003cbr\\u003eFinancials\\u003cbr\\u003e-2.57%\"],[\"CBRE\\u003cbr\\u003eReal Estate\\u003cbr\\u003e-0.35%\",\"CDW\\u003cbr\\u003eInformation Technology\\u003cbr\\u003e-1.19%\",\"COR\\u003cbr\\u003eHealth Care\\u003cbr\\u003e-0.83%\",\"CNC\\u003cbr\\u003eHealth Care\\u003cbr\\u003e-1.01%\",\"CNP\\u003cbr\\u003eUtilities\\u003cbr\\u003e-1.01%\",\"CF\\u003cbr\\u003eMaterials\\u003cbr\\u003e-0.07%\",\"CRL\\u003cbr\\u003eHealth Care\\u003cbr\\u003e-1.24%\",\"SCHW\\u003cbr\\u003eFinancials\\u003cbr\\u003e-0.44%\",\"CHTR\\u003cbr\\u003eCommunication Services\\u003cbr\\u003e-0.50%\",\"CVX\\u003cbr\\u003eEnergy\\u003cbr\\u003e-1.99%\"]],\"z\":[[-0.66,-5.89,-0.82,-1.22,0.39,-0.38,-1.73,-3.0,-1.11,0.05],[-1.18,-0.6,-1.71,-0.94,-1.12,0.49,-0.76,-1.48,-0.78,-0.44],[-0.34,-0.2,-0.59,-1.53,-1.09,-0.99,-0.04,-0.3,-0.25,-1.11],[-1.5,-1.3,-0.48,-0.08,-0.73,-5.44,-0.61,-1.88,-1.73,-0.13],[-0.17,-1.15,-1.56,-0.6,-0.32,-0.51,-1.08,0.46,-1.43,-0.4],[-0.97,1.12,0.02,-1.99,0.29,-2.45,-0.86,-0.34,-1.13,-1.19],[null,-1.27,-1.52,-0.46,-1.09,-0.94,-1.4,-0.22,0.43,0.24],[0.15,0.97,0.45,-0.51,null,-3.42,0.09,0.91,-1.98,-10.61],[-2.28,0.16,-1.7,-0.91,-0.89,-0.19,-1.88,-1.92,-0.85,-2.57],[-0.35,-1.19,-0.83,-1.01,-1.01,-0.07,-1.24,-0.44,-0.5,-1.99]],\"zmax\":5,\"zmin\":-5,\"type\":\"heatmap\"}],                        {\"template\":{\"data\":{\"histogram2dcontour\":[{\"type\":\"histogram2dcontour\",\"colorbar\":{\"outlinewidth\":0,\"ticks\":\"\"},\"colorscale\":[[0.0,\"#0d0887\"],[0.1111111111111111,\"#46039f\"],[0.2222222222222222,\"#7201a8\"],[0.3333333333333333,\"#9c179e\"],[0.4444444444444444,\"#bd3786\"],[0.5555555555555556,\"#d8576b\"],[0.6666666666666666,\"#ed7953\"],[0.7777777777777778,\"#fb9f3a\"],[0.8888888888888888,\"#fdca26\"],[1.0,\"#f0f921\"]]}],\"choropleth\":[{\"type\":\"choropleth\",\"colorbar\":{\"outlinewidth\":0,\"ticks\":\"\"}}],\"histogram2d\":[{\"type\":\"histogram2d\",\"colorbar\":{\"outlinewidth\":0,\"ticks\":\"\"},\"colorscale\":[[0.0,\"#0d0887\"],[0.1111111111111111,\"#46039f\"],[0.2222222222222222,\"#7201a8\"],[0.3333333333333333,\"#9c179e\"],[0.4444444444444444,\"#bd3786\"],[0.5555555555555556,\"#d8576b\"],[0.6666666666666666,\"#ed7953\"],[0.7777777777777778,\"#fb9f3a\"],[0.8888888888888888,\"#fdca26\"],[1.0,\"#f0f921\"]]}],\"heatmap\":[{\"type\":\"heatmap\",\"colorbar\":{\"outlinewidth\":0,\"ticks\":\"\"},\"colorscale\":[[0.0,\"#0d0887\"],[0.1111111111111111,\"#46039f\"],[0.2222222222222222,\"#7201a8\"],[0.3333333333333333,\"#9c179e\"],[0.4444444444444444,\"#bd3786\"],[0.5555555555555556,\"#d8576b\"],[0.6666666666666666,\"#ed7953\"],[0.7777777777777778,\"#fb9f3a\"],[0.8888888888888888,\"#fdca26\"],[1.0,\"#f0f921\"]]}],\"heatmapgl\":[{\"type\":\"heatmapgl\",\"colorbar\":{\"outlinewidth\":0,\"ticks\":\"\"},\"colorscale\":[[0.0,\"#0d0887\"],[0.1111111111111111,\"#46039f\"],[0.2222222222222222,\"#7201a8\"],[0.3333333333333333,\"#9c179e\"],[0.4444444444444444,\"#bd3786\"],[0.5555555555555556,\"#d8576b\"],[0.6666666666666666,\"#ed7953\"],[0.7777777777777778,\"#fb9f3a\"],[0.8888888888888888,\"#fdca26\"],[1.0,\"#f0f921\"]]}],\"contourcarpet\":[{\"type\":\"contourcarpet\",\"colorbar\":{\"outlinewidth\":0,\"ticks\":\"\"}}],\"contour\":[{\"type\":\"contour\",\"colorbar\":{\"outlinewidth\":0,\"ticks\":\"\"},\"colorscale\":[[0.0,\"#0d0887\"],[0.1111111111111111,\"#46039f\"],[0.2222222222222222,\"#7201a8\"],[0.3333333333333333,\"#9c179e\"],[0.4444444444444444,\"#bd3786\"],[0.5555555555555556,\"#d8576b\"],[0.6666666666666666,\"#ed7953\"],[0.7777777777777778,\"#fb9f3a\"],[0.8888888888888888,\"#fdca26\"],[1.0,\"#f0f921\"]]}],\"surface\":[{\"type\":\"surface\",\"colorbar\":{\"outlinewidth\":0,\"ticks\":\"\"},\"colorscale\":[[0.0,\"#0d0887\"],[0.1111111111111111,\"#46039f\"],[0.2222222222222222,\"#7201a8\"],[0.3333333333333333,\"#9c179e\"],[0.4444444444444444,\"#bd3786\"],[0.5555555555555556,\"#d8576b\"],[0.6666666666666666,\"#ed7953\"],[0.7777777777777778,\"#fb9f3a\"],[0.8888888888888888,\"#fdca26\"],[1.0,\"#f0f921\"]]}],\"mesh3d\":[{\"type\":\"mesh3d\",\"colorbar\":{\"outlinewidth\":0,\"ticks\":\"\"}}],\"scatter\":[{\"fillpattern\":{\"fillmode\":\"overlay\",\"size\":10,\"solidity\":0.2},\"type\":\"scatter\"}],\"parcoords\":[{\"type\":\"parcoords\",\"line\":{\"colorbar\":{\"outlinewidth\":0,\"ticks\":\"\"}}}],\"scatterpolargl\":[{\"type\":\"scatterpolargl\",\"marker\":{\"colorbar\":{\"outlinewidth\":0,\"ticks\":\"\"}}}],\"bar\":[{\"error_x\":{\"color\":\"#2a3f5f\"},\"error_y\":{\"color\":\"#2a3f5f\"},\"marker\":{\"line\":{\"color\":\"#E5ECF6\",\"width\":0.5},\"pattern\":{\"fillmode\":\"overlay\",\"size\":10,\"solidity\":0.2}},\"type\":\"bar\"}],\"scattergeo\":[{\"type\":\"scattergeo\",\"marker\":{\"colorbar\":{\"outlinewidth\":0,\"ticks\":\"\"}}}],\"scatterpolar\":[{\"type\":\"scatterpolar\",\"marker\":{\"colorbar\":{\"outlinewidth\":0,\"ticks\":\"\"}}}],\"histogram\":[{\"marker\":{\"pattern\":{\"fillmode\":\"overlay\",\"size\":10,\"solidity\":0.2}},\"type\":\"histogram\"}],\"scattergl\":[{\"type\":\"scattergl\",\"marker\":{\"colorbar\":{\"outlinewidth\":0,\"ticks\":\"\"}}}],\"scatter3d\":[{\"type\":\"scatter3d\",\"line\":{\"colorbar\":{\"outlinewidth\":0,\"ticks\":\"\"}},\"marker\":{\"colorbar\":{\"outlinewidth\":0,\"ticks\":\"\"}}}],\"scattermapbox\":[{\"type\":\"scattermapbox\",\"marker\":{\"colorbar\":{\"outlinewidth\":0,\"ticks\":\"\"}}}],\"scatterternary\":[{\"type\":\"scatterternary\",\"marker\":{\"colorbar\":{\"outlinewidth\":0,\"ticks\":\"\"}}}],\"scattercarpet\":[{\"type\":\"scattercarpet\",\"marker\":{\"colorbar\":{\"outlinewidth\":0,\"ticks\":\"\"}}}],\"carpet\":[{\"aaxis\":{\"endlinecolor\":\"#2a3f5f\",\"gridcolor\":\"white\",\"linecolor\":\"white\",\"minorgridcolor\":\"white\",\"startlinecolor\":\"#2a3f5f\"},\"baxis\":{\"endlinecolor\":\"#2a3f5f\",\"gridcolor\":\"white\",\"linecolor\":\"white\",\"minorgridcolor\":\"white\",\"startlinecolor\":\"#2a3f5f\"},\"type\":\"carpet\"}],\"table\":[{\"cells\":{\"fill\":{\"color\":\"#EBF0F8\"},\"line\":{\"color\":\"white\"}},\"header\":{\"fill\":{\"color\":\"#C8D4E3\"},\"line\":{\"color\":\"white\"}},\"type\":\"table\"}],\"barpolar\":[{\"marker\":{\"line\":{\"color\":\"#E5ECF6\",\"width\":0.5},\"pattern\":{\"fillmode\":\"overlay\",\"size\":10,\"solidity\":0.2}},\"type\":\"barpolar\"}],\"pie\":[{\"automargin\":true,\"type\":\"pie\"}]},\"layout\":{\"autotypenumbers\":\"strict\",\"colorway\":[\"#636efa\",\"#EF553B\",\"#00cc96\",\"#ab63fa\",\"#FFA15A\",\"#19d3f3\",\"#FF6692\",\"#B6E880\",\"#FF97FF\",\"#FECB52\"],\"font\":{\"color\":\"#2a3f5f\"},\"hovermode\":\"closest\",\"hoverlabel\":{\"align\":\"left\"},\"paper_bgcolor\":\"white\",\"plot_bgcolor\":\"#E5ECF6\",\"polar\":{\"bgcolor\":\"#E5ECF6\",\"angularaxis\":{\"gridcolor\":\"white\",\"linecolor\":\"white\",\"ticks\":\"\"},\"radialaxis\":{\"gridcolor\":\"white\",\"linecolor\":\"white\",\"ticks\":\"\"}},\"ternary\":{\"bgcolor\":\"#E5ECF6\",\"aaxis\":{\"gridcolor\":\"white\",\"linecolor\":\"white\",\"ticks\":\"\"},\"baxis\":{\"gridcolor\":\"white\",\"linecolor\":\"white\",\"ticks\":\"\"},\"caxis\":{\"gridcolor\":\"white\",\"linecolor\":\"white\",\"ticks\":\"\"}},\"coloraxis\":{\"colorbar\":{\"outlinewidth\":0,\"ticks\":\"\"}},\"colorscale\":{\"sequential\":[[0.0,\"#0d0887\"],[0.1111111111111111,\"#46039f\"],[0.2222222222222222,\"#7201a8\"],[0.3333333333333333,\"#9c179e\"],[0.4444444444444444,\"#bd3786\"],[0.5555555555555556,\"#d8576b\"],[0.6666666666666666,\"#ed7953\"],[0.7777777777777778,\"#fb9f3a\"],[0.8888888888888888,\"#fdca26\"],[1.0,\"#f0f921\"]],\"sequentialminus\":[[0.0,\"#0d0887\"],[0.1111111111111111,\"#46039f\"],[0.2222222222222222,\"#7201a8\"],[0.3333333333333333,\"#9c179e\"],[0.4444444444444444,\"#bd3786\"],[0.5555555555555556,\"#d8576b\"],[0.6666666666666666,\"#ed7953\"],[0.7777777777777778,\"#fb9f3a\"],[0.8888888888888888,\"#fdca26\"],[1.0,\"#f0f921\"]],\"diverging\":[[0,\"#8e0152\"],[0.1,\"#c51b7d\"],[0.2,\"#de77ae\"],[0.3,\"#f1b6da\"],[0.4,\"#fde0ef\"],[0.5,\"#f7f7f7\"],[0.6,\"#e6f5d0\"],[0.7,\"#b8e186\"],[0.8,\"#7fbc41\"],[0.9,\"#4d9221\"],[1,\"#276419\"]]},\"xaxis\":{\"gridcolor\":\"white\",\"linecolor\":\"white\",\"ticks\":\"\",\"title\":{\"standoff\":15},\"zerolinecolor\":\"white\",\"automargin\":true,\"zerolinewidth\":2},\"yaxis\":{\"gridcolor\":\"white\",\"linecolor\":\"white\",\"ticks\":\"\",\"title\":{\"standoff\":15},\"zerolinecolor\":\"white\",\"automargin\":true,\"zerolinewidth\":2},\"scene\":{\"xaxis\":{\"backgroundcolor\":\"#E5ECF6\",\"gridcolor\":\"white\",\"linecolor\":\"white\",\"showbackground\":true,\"ticks\":\"\",\"zerolinecolor\":\"white\",\"gridwidth\":2},\"yaxis\":{\"backgroundcolor\":\"#E5ECF6\",\"gridcolor\":\"white\",\"linecolor\":\"white\",\"showbackground\":true,\"ticks\":\"\",\"zerolinecolor\":\"white\",\"gridwidth\":2},\"zaxis\":{\"backgroundcolor\":\"#E5ECF6\",\"gridcolor\":\"white\",\"linecolor\":\"white\",\"showbackground\":true,\"ticks\":\"\",\"zerolinecolor\":\"white\",\"gridwidth\":2}},\"shapedefaults\":{\"line\":{\"color\":\"#2a3f5f\"}},\"annotationdefaults\":{\"arrowcolor\":\"#2a3f5f\",\"arrowhead\":0,\"arrowwidth\":1},\"geo\":{\"bgcolor\":\"white\",\"landcolor\":\"#E5ECF6\",\"subunitcolor\":\"white\",\"showland\":true,\"showlakes\":true,\"lakecolor\":\"white\"},\"title\":{\"x\":0.05},\"mapbox\":{\"style\":\"light\"}}},\"xaxis\":{\"showgrid\":false,\"showticklabels\":false},\"yaxis\":{\"showgrid\":false,\"showticklabels\":false},\"title\":{\"text\":\"S&P 500 Heatmap (Top 100 Tickers)\"},\"autosize\":false,\"width\":800,\"height\":800},                        {\"responsive\": true}                    ).then(function(){\n",
              "                            \n",
              "var gd = document.getElementById('2a7bd77c-0710-4d75-b61a-2bc38ea1a689');\n",
              "var x = new MutationObserver(function (mutations, observer) {{\n",
              "        var display = window.getComputedStyle(gd).display;\n",
              "        if (!display || display === 'none') {{\n",
              "            console.log([gd, 'removed!']);\n",
              "            Plotly.purge(gd);\n",
              "            observer.disconnect();\n",
              "        }}\n",
              "}});\n",
              "\n",
              "// Listen for the removal of the full notebook cells\n",
              "var notebookContainer = gd.closest('#notebook-container');\n",
              "if (notebookContainer) {{\n",
              "    x.observe(notebookContainer, {childList: true});\n",
              "}}\n",
              "\n",
              "// Listen for the clearing of the current output cell\n",
              "var outputEl = gd.closest('.output');\n",
              "if (outputEl) {{\n",
              "    x.observe(outputEl, {childList: true});\n",
              "}}\n",
              "\n",
              "                        })                };                            </script>        </div>\n",
              "</body>\n",
              "</html>"
            ]
          },
          "metadata": {}
        }
      ],
      "source": [
        "import yfinance as yf\n",
        "import plotly.graph_objects as go\n",
        "import pandas as pd\n",
        "import numpy as np\n",
        "\n",
        "\n",
        "url = 'https://en.wikipedia.org/wiki/List_of_S%26P_500_companies'\n",
        "table = pd.read_html(url, header=0)\n",
        "df = table[0]\n",
        "tickers = df['Symbol'].tolist()\n",
        "sectors = df.set_index('Symbol')['GICS Sector'].to_dict()\n",
        "\n",
        "# Limit to 100 for demo to avoid timeouts (use full list for real use)\n",
        "tickers_sample = tickers[:100]\n",
        "\n",
        "data = yf.download(tickers_sample, period=\"1d\", interval=\"1d\", group_by='ticker', threads=True)\n",
        "\n",
        "price_changes = {}\n",
        "for ticker in tickers_sample:\n",
        "    try:\n",
        "        open_price = data[ticker]['Open'].iloc[0]\n",
        "        close_price = data[ticker]['Close'].iloc[0]\n",
        "        change = ((close_price - open_price) / open_price) * 100\n",
        "        price_changes[ticker] = round(change, 2)\n",
        "    except Exception:\n",
        "        price_changes[ticker] = None\n",
        "\n",
        "tickers_ordered = list(price_changes.keys())\n",
        "values = [price_changes[t] for t in tickers_ordered]\n",
        "labels = [f\"{t}<br>{sectors.get(t, '')}<br>{v:.2f}%\" if v is not None else f\"{t}<br>--\"\n",
        "          for t, v in zip(tickers_ordered, values)]\n",
        "\n",
        "grid_size = int(np.ceil(np.sqrt(len(labels))))\n",
        "labels += [''] * (grid_size ** 2 - len(labels))\n",
        "values += [None] * (grid_size ** 2 - len(values))\n",
        "\n",
        "labels_grid = np.array(labels).reshape(grid_size, grid_size)\n",
        "values_grid = np.array(values).reshape(grid_size, grid_size)\n",
        "\n",
        "\n",
        "fig = go.Figure(data=go.Heatmap(\n",
        "    z=values_grid,\n",
        "    text=labels_grid,\n",
        "    hoverinfo=\"text\",\n",
        "    colorscale='RdYlGn',\n",
        "    zmin=-5,\n",
        "    zmax=5,\n",
        "    showscale=True,\n",
        "    colorbar=dict(title=\"Change %\")\n",
        "))\n",
        "\n",
        "fig.update_layout(\n",
        "    title='S&P 500 Heatmap (Top 100 Tickers)',\n",
        "    xaxis_showgrid=False,\n",
        "    yaxis_showgrid=False,\n",
        "    xaxis=dict(showticklabels=False),\n",
        "    yaxis=dict(showticklabels=False),\n",
        "    autosize=False,\n",
        "    width=800,\n",
        "    height=800,\n",
        ")\n",
        "\n",
        "fig.show()\n",
        "\n",
        "\n"
      ]
    }
  ]
}